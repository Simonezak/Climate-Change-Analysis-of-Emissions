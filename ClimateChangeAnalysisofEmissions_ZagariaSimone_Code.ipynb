{
 "cells": [
  {
   "cell_type": "markdown",
   "metadata": {},
   "source": [
    "# **Climate Change: Analysis of Emissions and Their Relationship to GDP**"
   ]
  },
  {
   "cell_type": "markdown",
   "metadata": {},
   "source": [
    "### **Zagaria Simone, Student ID: 2145389, Project for Big Data for Official Statistics aa 2024/2025**"
   ]
  },
  {
   "cell_type": "markdown",
   "metadata": {},
   "source": [
    "# **Introduction**"
   ]
  },
  {
   "cell_type": "markdown",
   "metadata": {},
   "source": [
    "In this project we aim to analyze the total emissions from various countries around the world between 2000 and 2020. Our goal is to predict future emissions, classify countries based on their emission levels and analyze the trends. Additionally, we will also compare the emissions to the GDP of each country to understand the correlation between the two variables.\n",
    "\n",
    "To achieve this, we will be working with two datasets. \n",
    "The first tracks the sources, types, and total emissions (CH4, N2O, CO2, etc.) per country from 2000 to 2020. All data are official figures from the United Nations's Food and Agriculture Organization (FAO) and are measured in kilotonnes.\n",
    "Meanwhile, the second dataset contains GDP values for each country from 1964 to 2017. The data in this case is taken from the World Bank Dataset. \n",
    "\n",
    "The object in this analysis understand the impact of economic activities on global warming, identify the countries with the highest consumption levels, predict future emissions and lastly, to hold countries accountable for their contributions to the environmental crisis "
   ]
  },
  {
   "cell_type": "markdown",
   "metadata": {},
   "source": [
    "# **Importing Libraries**"
   ]
  },
  {
   "cell_type": "markdown",
   "metadata": {},
   "source": [
    "Importing the libraries needed for the project"
   ]
  },
  {
   "cell_type": "code",
   "execution_count": 1,
   "metadata": {},
   "outputs": [],
   "source": [
    "import pandas as pd\n",
    "import numpy as np\n",
    "import matplotlib.pyplot as plt\n",
    "import seaborn as sns\n",
    "import plotly.express as px\n",
    "import matplotlib.ticker as ticker\n",
    "from sklearn.linear_model import LinearRegression\n",
    "from prophet import Prophet\n",
    "import folium\n",
    "from geopy.geocoders import Nominatim\n",
    "import scipy.stats as stats\n",
    "\n"
   ]
  },
  {
   "cell_type": "markdown",
   "metadata": {},
   "source": [
    "# **1. Preprocessing**"
   ]
  },
  {
   "cell_type": "markdown",
   "metadata": {},
   "source": [
    "Before diving into the analysis, we needed to preprocess the data to ensure its quality and consistency. This process involved handling missing values, normalizing  the data and selecting only the columns pertinent to the analysis."
   ]
  },
  {
   "cell_type": "code",
   "execution_count": 2,
   "metadata": {},
   "outputs": [],
   "source": [
    "# Let's first import the datasets\n",
    "\n",
    "\n",
    "df_emissions = pd.read_csv('TotalEmissionsPerCountry.csv')  # emission dataset import\n",
    "df_gdp = pd.read_csv('gdp_data.csv')  # GDP dataset import\n",
    "\n"
   ]
  },
  {
   "cell_type": "markdown",
   "metadata": {},
   "source": [
    "We observe that both datasets are currently in \"Wide\" format. Let's convert them to \"Long\" format to simplify the future analysis. \n",
    "Before doing so, we'll remove any unnecessary columns to reduce memory usage and improve efficiency.\n",
    "Furthermore, we notice that there is an \"unnamed column\" in the GDP dataset and we'll remove it"
   ]
  },
  {
   "cell_type": "code",
   "execution_count": 3,
   "metadata": {},
   "outputs": [
    {
     "name": "stdout",
     "output_type": "stream",
     "text": [
      "<class 'pandas.core.frame.DataFrame'>\n",
      "RangeIndex: 49260 entries, 0 to 49259\n",
      "Data columns (total 25 columns):\n",
      " #   Column   Non-Null Count  Dtype  \n",
      "---  ------   --------------  -----  \n",
      " 0   Area     49260 non-null  object \n",
      " 1   Item     49260 non-null  object \n",
      " 2   Element  49260 non-null  object \n",
      " 3   Unit     49260 non-null  object \n",
      " 4   2000     46930 non-null  float64\n",
      " 5   2001     45401 non-null  float64\n",
      " 6   2002     45495 non-null  float64\n",
      " 7   2003     45516 non-null  float64\n",
      " 8   2004     45521 non-null  float64\n",
      " 9   2005     45786 non-null  float64\n",
      " 10  2006     45593 non-null  float64\n",
      " 11  2007     45442 non-null  float64\n",
      " 12  2008     45423 non-null  float64\n",
      " 13  2009     45410 non-null  float64\n",
      " 14  2010     45838 non-null  float64\n",
      " 15  2011     45249 non-null  float64\n",
      " 16  2012     45504 non-null  float64\n",
      " 17  2013     45395 non-null  float64\n",
      " 18  2014     45270 non-null  float64\n",
      " 19  2015     45194 non-null  float64\n",
      " 20  2016     45170 non-null  float64\n",
      " 21  2017     45005 non-null  float64\n",
      " 22  2018     44958 non-null  float64\n",
      " 23  2019     44922 non-null  float64\n",
      " 24  2020     44610 non-null  float64\n",
      "dtypes: float64(21), object(4)\n",
      "memory usage: 9.4+ MB\n"
     ]
    }
   ],
   "source": [
    "df_emissions.info()"
   ]
  },
  {
   "cell_type": "code",
   "execution_count": 4,
   "metadata": {},
   "outputs": [
    {
     "name": "stdout",
     "output_type": "stream",
     "text": [
      "<class 'pandas.core.frame.DataFrame'>\n",
      "RangeIndex: 264 entries, 0 to 263\n",
      "Data columns (total 63 columns):\n",
      " #   Column          Non-Null Count  Dtype  \n",
      "---  ------          --------------  -----  \n",
      " 0   Country Name    264 non-null    object \n",
      " 1   Country Code    264 non-null    object \n",
      " 2   Indicator Name  264 non-null    object \n",
      " 3   Indicator Code  264 non-null    object \n",
      " 4   1960            124 non-null    float64\n",
      " 5   1961            124 non-null    float64\n",
      " 6   1962            125 non-null    float64\n",
      " 7   1963            125 non-null    float64\n",
      " 8   1964            125 non-null    float64\n",
      " 9   1965            136 non-null    float64\n",
      " 10  1966            137 non-null    float64\n",
      " 11  1967            141 non-null    float64\n",
      " 12  1968            145 non-null    float64\n",
      " 13  1969            145 non-null    float64\n",
      " 14  1970            153 non-null    float64\n",
      " 15  1971            155 non-null    float64\n",
      " 16  1972            155 non-null    float64\n",
      " 17  1973            155 non-null    float64\n",
      " 18  1974            156 non-null    float64\n",
      " 19  1975            160 non-null    float64\n",
      " 20  1976            161 non-null    float64\n",
      " 21  1977            165 non-null    float64\n",
      " 22  1978            164 non-null    float64\n",
      " 23  1979            165 non-null    float64\n",
      " 24  1980            177 non-null    float64\n",
      " 25  1981            181 non-null    float64\n",
      " 26  1982            187 non-null    float64\n",
      " 27  1983            188 non-null    float64\n",
      " 28  1984            190 non-null    float64\n",
      " 29  1985            192 non-null    float64\n",
      " 30  1986            194 non-null    float64\n",
      " 31  1987            198 non-null    float64\n",
      " 32  1988            200 non-null    float64\n",
      " 33  1989            204 non-null    float64\n",
      " 34  1990            220 non-null    float64\n",
      " 35  1991            214 non-null    float64\n",
      " 36  1992            217 non-null    float64\n",
      " 37  1993            222 non-null    float64\n",
      " 38  1994            227 non-null    float64\n",
      " 39  1995            236 non-null    float64\n",
      " 40  1996            237 non-null    float64\n",
      " 41  1997            236 non-null    float64\n",
      " 42  1998            238 non-null    float64\n",
      " 43  1999            239 non-null    float64\n",
      " 44  2000            245 non-null    float64\n",
      " 45  2001            245 non-null    float64\n",
      " 46  2002            249 non-null    float64\n",
      " 47  2003            249 non-null    float64\n",
      " 48  2004            250 non-null    float64\n",
      " 49  2005            250 non-null    float64\n",
      " 50  2006            251 non-null    float64\n",
      " 51  2007            251 non-null    float64\n",
      " 52  2008            249 non-null    float64\n",
      " 53  2009            249 non-null    float64\n",
      " 54  2010            249 non-null    float64\n",
      " 55  2011            250 non-null    float64\n",
      " 56  2012            247 non-null    float64\n",
      " 57  2013            248 non-null    float64\n",
      " 58  2014            247 non-null    float64\n",
      " 59  2015            246 non-null    float64\n",
      " 60  2016            241 non-null    float64\n",
      " 61  2017            234 non-null    float64\n",
      " 62  Unnamed: 62     0 non-null      float64\n",
      "dtypes: float64(59), object(4)\n",
      "memory usage: 130.1+ KB\n"
     ]
    }
   ],
   "source": [
    "df_gdp.info()"
   ]
  },
  {
   "cell_type": "markdown",
   "metadata": {},
   "source": [
    "We also notice that the only measure of emissions is Kilotonnes, so we can assume all the emissions are measured in **Kilotonnes** and drop this column to save memory usage and make the dataset more efficient."
   ]
  },
  {
   "cell_type": "code",
   "execution_count": 5,
   "metadata": {},
   "outputs": [
    {
     "name": "stdout",
     "output_type": "stream",
     "text": [
      "['kilotonnes']\n"
     ]
    }
   ],
   "source": [
    "print(df_emissions['Unit'].unique())"
   ]
  },
  {
   "cell_type": "code",
   "execution_count": null,
   "metadata": {},
   "outputs": [],
   "source": [
    "\n",
    "# We drop the columns 'Country Code', 'Indicator Name', 'Indicator Code' as they are not needed for our analyses \n",
    "# and we also remove the erroneous column 'Unnamed: 62'\n",
    "df_gdp = df_gdp.drop(columns=['Country Code', 'Indicator Name', 'Indicator Code','Unnamed: 62'])\n",
    "df_emissions = df_emissions.drop(columns=['Unit'])\n",
    "\n",
    "# We rename the 'Area' column in the emission dataset to match the GDP dataset to facilitate the join\n",
    "df_emissions.rename(columns={'Area': 'Country Name'}, inplace=True)\n",
    "\n",
    "# We transform both the dataset in 'Long' format to facilitate analyses and visualization\n",
    "df_emissions_long = pd.melt(df_emissions, id_vars=[\"Country Name\", \"Item\", \"Element\"], var_name=\"Year\", value_name=\"Emissions\")\n",
    "df_gdp_long = pd.melt(df_gdp, id_vars=[\"Country Name\"], var_name=\"Year\", value_name=\"GDP\")\n",
    "\n",
    "# Next, we sort by the year and the country and we apply temporal interpolation to fill\n",
    "# the NaN values in the 'Emissions' and 'GDP' columns\n",
    "\n",
    "df_gdp_long = df_gdp_long.sort_values(['Country Name', 'Year'])\n",
    "df_emissions_long = df_emissions_long.sort_values(['Country Name', 'Item', 'Element', 'Year'])\n",
    "\n",
    "df_emissions_long['Emissions'] = df_emissions_long.groupby(['Country Name', 'Item', 'Element'], group_keys=False)['Emissions'].apply(lambda group: group.interpolate(method='linear'))\n",
    "df_gdp_long['GDP'] = df_gdp_long.groupby(['Country Name'], group_keys=False)['GDP'].apply(lambda group: group.interpolate(method='linear'))\n",
    "\n",
    "# group_keys = False ensures that the index is not modified within the groupby operation, preserving the original \n",
    "# dataframe index and thus avoiding index conflict errors when inserting the interpolated series.\n",
    "\n",
    "# Next, we remove the negative emissions (data cleaning)\n",
    "df_emissions_long = df_emissions_long[df_emissions_long['Emissions'] >= 0]\n",
    "df_gdp_long = df_gdp_long[df_gdp_long['GDP'] >= 0]\n",
    "\n",
    "# Lastly, we convert in both datasets the column Year in numeric format to allow temporal analyses and temporal interpolarion\n",
    "df_emissions_long['Year'] = pd.to_datetime(df_emissions_long['Year'], format='%Y')\n",
    "df_gdp_long['Year'] = pd.to_datetime(df_gdp_long['Year'], format='%Y')\n"
   ]
  },
  {
   "cell_type": "markdown",
   "metadata": {},
   "source": [
    "We notice that there are no more NaN values in both datasets"
   ]
  },
  {
   "cell_type": "code",
   "execution_count": 7,
   "metadata": {},
   "outputs": [
    {
     "name": "stdout",
     "output_type": "stream",
     "text": [
      "Country Name    False\n",
      "Item            False\n",
      "Element         False\n",
      "Year            False\n",
      "Emissions       False\n",
      "dtype: bool\n"
     ]
    }
   ],
   "source": [
    "print(df_emissions_long.isna().any())"
   ]
  },
  {
   "cell_type": "code",
   "execution_count": 8,
   "metadata": {},
   "outputs": [
    {
     "name": "stdout",
     "output_type": "stream",
     "text": [
      "Country Name    False\n",
      "Year            False\n",
      "GDP             False\n",
      "dtype: bool\n"
     ]
    }
   ],
   "source": [
    "print(df_gdp_long.isna().any())"
   ]
  },
  {
   "cell_type": "code",
   "execution_count": 9,
   "metadata": {},
   "outputs": [
    {
     "name": "stdout",
     "output_type": "stream",
     "text": [
      "<class 'pandas.core.frame.DataFrame'>\n",
      "Index: 993570 entries, 206 to 1033285\n",
      "Data columns (total 5 columns):\n",
      " #   Column        Non-Null Count   Dtype         \n",
      "---  ------        --------------   -----         \n",
      " 0   Country Name  993570 non-null  object        \n",
      " 1   Item          993570 non-null  object        \n",
      " 2   Element       993570 non-null  object        \n",
      " 3   Year          993570 non-null  datetime64[ns]\n",
      " 4   Emissions     993570 non-null  float64       \n",
      "dtypes: datetime64[ns](1), float64(1), object(3)\n",
      "memory usage: 45.5+ MB\n"
     ]
    }
   ],
   "source": [
    "df_emissions_long.info()"
   ]
  },
  {
   "cell_type": "code",
   "execution_count": 10,
   "metadata": {},
   "outputs": [
    {
     "name": "stdout",
     "output_type": "stream",
     "text": [
      "<class 'pandas.core.frame.DataFrame'>\n",
      "Index: 11796 entries, 1 to 15311\n",
      "Data columns (total 3 columns):\n",
      " #   Column        Non-Null Count  Dtype         \n",
      "---  ------        --------------  -----         \n",
      " 0   Country Name  11796 non-null  object        \n",
      " 1   Year          11796 non-null  datetime64[ns]\n",
      " 2   GDP           11796 non-null  float64       \n",
      "dtypes: datetime64[ns](1), float64(1), object(1)\n",
      "memory usage: 368.6+ KB\n"
     ]
    }
   ],
   "source": [
    "df_gdp_long.info()"
   ]
  },
  {
   "cell_type": "markdown",
   "metadata": {},
   "source": [
    "Saving the cleaned version of the datasets as csv files"
   ]
  },
  {
   "cell_type": "code",
   "execution_count": 11,
   "metadata": {},
   "outputs": [],
   "source": [
    "df_emissions_long.to_csv('emissions_clean_interpolated.csv', index=False)\n",
    "df_gdp_long.to_csv('gdp_clean_interpolated.csv', index=False)"
   ]
  },
  {
   "cell_type": "markdown",
   "metadata": {},
   "source": [
    "# **2. Exploratory Data Analysis (EDA)**"
   ]
  },
  {
   "cell_type": "markdown",
   "metadata": {},
   "source": [
    "Let's explore the main focus of this project: the Emissions dataset, examining through an exploratory data analysis. This will include analyzing key distribution patterns and understanding temporal and regional trends.\n",
    "Let's first observe some general information about the contents of the dataset:\n"
   ]
  },
  {
   "cell_type": "code",
   "execution_count": null,
   "metadata": {},
   "outputs": [
    {
     "name": "stdout",
     "output_type": "stream",
     "text": [
      "Countries present in the dataset:\n",
      "227\n"
     ]
    }
   ],
   "source": [
    "# Checking the countries present in the dataset\n",
    "print(\"Countries present in the dataset:\")\n",
    "print(np.size(df_emissions_long['Country Name'].unique()))"
   ]
  },
  {
   "cell_type": "code",
   "execution_count": 14,
   "metadata": {},
   "outputs": [
    {
     "name": "stdout",
     "output_type": "stream",
     "text": [
      "Types of emissions present in the dataset:\n",
      "['Emissions (CH4)' 'Emissions (CO2)' 'Emissions (CO2eq) (AR5)'\n",
      " 'Emissions (CO2eq) from CH4 (AR5)' 'Emissions (CO2eq) from N2O (AR5)'\n",
      " 'Emissions (N2O)' 'Direct emissions (N2O)' 'Indirect emissions (N2O)'\n",
      " 'Emissions (CO2eq) from F-gases (AR5)']\n"
     ]
    }
   ],
   "source": [
    "# Checking the Elements present in the dataset\n",
    "print(\"Types of emissions present in the dataset:\")\n",
    "print(df_emissions_long['Element'].unique())"
   ]
  },
  {
   "cell_type": "code",
   "execution_count": 15,
   "metadata": {},
   "outputs": [
    {
     "name": "stdout",
     "output_type": "stream",
     "text": [
      "Descriptive statistics for emissions:\n",
      "          Emissions\n",
      "count  9.935700e+05\n",
      "mean   9.750640e+03\n",
      "std    1.386564e+05\n",
      "min    0.000000e+00\n",
      "25%    7.780000e-02\n",
      "50%    1.179880e+01\n",
      "75%    5.688490e+02\n",
      "max    1.409145e+07\n",
      "\n",
      "Summary statistics per Element:\n",
      "                                          count          mean            std  \\\n",
      "Element                                                                       \n",
      "Direct emissions (N2O)                 32403.0     14.034029      57.411986   \n",
      "Emissions (CH4)                       143470.0    311.602196    1714.613702   \n",
      "Emissions (CO2)                       105104.0  28040.970380  263944.619234   \n",
      "Emissions (CO2eq) (AR5)               198465.0  24286.545280  237693.666960   \n",
      "Emissions (CO2eq) from CH4 (AR5)      140551.0   8863.302413   48480.422249   \n",
      "Emissions (CO2eq) from F-gases (AR5)   14310.0   6863.774827   32727.755278   \n",
      "Emissions (CO2eq) from N2O (AR5)      163517.0   3237.810904   24990.481671   \n",
      "Emissions (N2O)                       166331.0     12.078793      93.527191   \n",
      "Indirect emissions (N2O)               29419.0      4.170127      16.809819   \n",
      "\n",
      "                                      min       25%        50%         75%  \\\n",
      "Element                                                                      \n",
      "Direct emissions (N2O)                0.0   0.19640    1.51160     7.84870   \n",
      "Emissions (CH4)                       0.0   0.02490    2.12920    78.59665   \n",
      "Emissions (CO2)                       0.0   2.58925  239.42780  4339.87055   \n",
      "Emissions (CO2eq) (AR5)               0.0   8.20550  323.85550  4451.13560   \n",
      "Emissions (CO2eq) from CH4 (AR5)      0.0   0.69890   60.48000  2291.26335   \n",
      "Emissions (CO2eq) from F-gases (AR5)  0.0  51.11430  379.85525  2027.51190   \n",
      "Emissions (CO2eq) from N2O (AR5)      0.0   0.43520   34.64690   791.11680   \n",
      "Emissions (N2O)                       0.0   0.00170    0.13110     2.93110   \n",
      "Indirect emissions (N2O)              0.0   0.04770    0.43150     2.37765   \n",
      "\n",
      "                                               max  \n",
      "Element                                             \n",
      "Direct emissions (N2O)                1.017245e+03  \n",
      "Emissions (CH4)                       6.186980e+04  \n",
      "Emissions (CO2)                       1.151534e+07  \n",
      "Emissions (CO2eq) (AR5)               1.409145e+07  \n",
      "Emissions (CO2eq) from CH4 (AR5)      1.732355e+06  \n",
      "Emissions (CO2eq) from F-gases (AR5)  4.235276e+05  \n",
      "Emissions (CO2eq) from N2O (AR5)      2.750435e+06  \n",
      "Emissions (N2O)                       1.037900e+04  \n",
      "Indirect emissions (N2O)              2.601288e+02  \n"
     ]
    }
   ],
   "source": [
    "# Descriptive statistics for emissions\n",
    "print(\"Descriptive statistics for emissions:\")\n",
    "print(df_emissions_long[['Emissions']].describe())\n",
    "\n",
    "# Statistical summary per Element\n",
    "summary_stats = df_emissions_long.groupby(\"Element\")[\"Emissions\"].describe()\n",
    "print(\"\\nSummary statistics per Element:\\n\", summary_stats)"
   ]
  },
  {
   "cell_type": "markdown",
   "metadata": {},
   "source": [
    "We begin with a heatmap showing the total emissions per country to provide an immediate visual understanding of the global situation."
   ]
  },
  {
   "cell_type": "markdown",
   "metadata": {},
   "source": [
    "We’ll use a logarithmic scale for our heatmap of country emissions. This approach helps will ensure that countries with extremely high emissions don’t dominate the visualization, allowing for clearer insights for countries with lower emissions. A logarithmic scale is commonly used in datasets with high variability, as it highlights smaller values more effectively, improving overall data interpretation by making smaller-emission countries more visible and distinct in the heatmap."
   ]
  },
  {
   "cell_type": "code",
   "execution_count": null,
   "metadata": {},
   "outputs": [
    {
     "data": {
      "application/vnd.plotly.v1+json": {
       "config": {
        "plotlyServerURL": "https://plot.ly"
       },
       "data": [
        {
         "coloraxis": "coloraxis",
         "geo": "geo",
         "hovertemplate": "<b>%{hovertext}</b><br><br>Country Name=%{location}<br>Log Emissions=%{z}<extra></extra>",
         "hovertext": [
          "Afghanistan",
          "Albania",
          "Algeria",
          "American Samoa",
          "Andorra",
          "Angola",
          "Anguilla",
          "Antigua and Barbuda",
          "Argentina",
          "Armenia",
          "Aruba",
          "Australia",
          "Australia and New Zealand",
          "Austria",
          "Azerbaijan",
          "Bahamas",
          "Bahrain",
          "Bangladesh",
          "Barbados",
          "Belarus",
          "Belgium",
          "Belize",
          "Benin",
          "Bermuda",
          "Bhutan",
          "Bolivia (Plurinational State of)",
          "Bosnia and Herzegovina",
          "Botswana",
          "Brazil",
          "British Virgin Islands",
          "Brunei Darussalam",
          "Bulgaria",
          "Burkina Faso",
          "Burundi",
          "C?e d'Ivoire",
          "Cabo Verde",
          "Cambodia",
          "Cameroon",
          "Canada",
          "Caribbean",
          "Cayman Islands",
          "Central African Republic",
          "Chad",
          "Channel Islands",
          "Chile",
          "China",
          "Colombia",
          "Comoros",
          "Congo",
          "Cook Islands",
          "Costa Rica",
          "Croatia",
          "Cuba",
          "Cyprus",
          "Czechia",
          "Democratic People's Republic of Korea",
          "Democratic Republic of the Congo",
          "Denmark",
          "Djibouti",
          "Dominica",
          "Dominican Republic",
          "Ecuador",
          "Egypt",
          "El Salvador",
          "Equatorial Guinea",
          "Eritrea",
          "Estonia",
          "Eswatini",
          "Ethiopia",
          "Falkland Islands (Malvinas)",
          "Faroe Islands",
          "Fiji",
          "Finland",
          "France",
          "French Guyana",
          "French Polynesia",
          "Gabon",
          "Gambia",
          "Georgia",
          "Germany",
          "Ghana",
          "Gibraltar",
          "Greece",
          "Greenland",
          "Grenada",
          "Guadeloupe",
          "Guam",
          "Guatemala",
          "Guinea",
          "Guinea-Bissau",
          "Guyana",
          "Haiti",
          "Holy See",
          "Honduras",
          "Hungary",
          "Iceland",
          "India",
          "Indonesia",
          "Iran (Islamic Republic of)",
          "Iraq",
          "Ireland",
          "Isle of Man",
          "Israel",
          "Italy",
          "Jamaica",
          "Japan",
          "Jordan",
          "Kazakhstan",
          "Kenya",
          "Kiribati",
          "Kuwait",
          "Kyrgyzstan",
          "Lao People's Democratic Republic",
          "Latvia",
          "Lebanon",
          "Lesotho",
          "Liberia",
          "Libya",
          "Liechtenstein",
          "Lithuania",
          "Luxembourg",
          "Madagascar",
          "Malawi",
          "Malaysia",
          "Maldives",
          "Mali",
          "Malta",
          "Marshall Islands",
          "Martinique",
          "Mauritania",
          "Mauritius",
          "Mayotte",
          "Melanesia",
          "Mexico",
          "Micronesia",
          "Micronesia (Federated States of)",
          "Monaco",
          "Mongolia",
          "Montserrat",
          "Morocco",
          "Mozambique",
          "Myanmar",
          "Namibia",
          "Nauru",
          "Nepal",
          "Netherlands",
          "Netherlands Antilles (former)",
          "New Caledonia",
          "New Zealand",
          "Nicaragua",
          "Niger",
          "Nigeria",
          "Niue",
          "Norfolk Island",
          "North Macedonia",
          "Northern Mariana Islands",
          "Norway",
          "Oman",
          "Pakistan",
          "Palau",
          "Palestine",
          "Panama",
          "Papua New Guinea",
          "Paraguay",
          "Peru",
          "Philippines",
          "Poland",
          "Polynesia",
          "Portugal",
          "Puerto Rico",
          "Qatar",
          "R?nion",
          "Republic of Korea",
          "Republic of Moldova",
          "Romania",
          "Russian Federation",
          "Rwanda",
          "Saint Helena",
          "Saint Kitts and Nevis",
          "Saint Lucia",
          "Saint Pierre and Miquelon",
          "Saint Vincent and the Grenadines",
          "Samoa",
          "San Marino",
          "Sao Tome and Principe",
          "Saudi Arabia",
          "Senegal",
          "Seychelles",
          "Sierra Leone",
          "Singapore",
          "Slovakia",
          "Slovenia",
          "Solomon Islands",
          "Somalia",
          "South Africa",
          "Spain",
          "Sri Lanka",
          "Suriname",
          "Sweden",
          "Switzerland",
          "Syrian Arab Republic",
          "T?kiye",
          "Tajikistan",
          "Thailand",
          "Timor-Leste",
          "Togo",
          "Tonga",
          "Trinidad and Tobago",
          "Tunisia",
          "Turkmenistan",
          "Turks and Caicos Islands",
          "Tuvalu",
          "Uganda",
          "Ukraine",
          "United Arab Emirates",
          "United Kingdom of Great Britain and Northern Ireland",
          "United Republic of Tanzania",
          "United States of America",
          "Uruguay",
          "Uzbekistan",
          "Vanuatu",
          "Venezuela (Bolivarian Republic of)",
          "Viet Nam",
          "Wallis and Futuna Islands",
          "Yemen",
          "Zambia",
          "Zimbabwe"
         ],
         "locationmode": "country names",
         "locations": [
          "Afghanistan",
          "Albania",
          "Algeria",
          "American Samoa",
          "Andorra",
          "Angola",
          "Anguilla",
          "Antigua and Barbuda",
          "Argentina",
          "Armenia",
          "Aruba",
          "Australia",
          "Australia and New Zealand",
          "Austria",
          "Azerbaijan",
          "Bahamas",
          "Bahrain",
          "Bangladesh",
          "Barbados",
          "Belarus",
          "Belgium",
          "Belize",
          "Benin",
          "Bermuda",
          "Bhutan",
          "Bolivia (Plurinational State of)",
          "Bosnia and Herzegovina",
          "Botswana",
          "Brazil",
          "British Virgin Islands",
          "Brunei Darussalam",
          "Bulgaria",
          "Burkina Faso",
          "Burundi",
          "C?e d'Ivoire",
          "Cabo Verde",
          "Cambodia",
          "Cameroon",
          "Canada",
          "Caribbean",
          "Cayman Islands",
          "Central African Republic",
          "Chad",
          "Channel Islands",
          "Chile",
          "China",
          "Colombia",
          "Comoros",
          "Congo",
          "Cook Islands",
          "Costa Rica",
          "Croatia",
          "Cuba",
          "Cyprus",
          "Czechia",
          "Democratic People's Republic of Korea",
          "Democratic Republic of the Congo",
          "Denmark",
          "Djibouti",
          "Dominica",
          "Dominican Republic",
          "Ecuador",
          "Egypt",
          "El Salvador",
          "Equatorial Guinea",
          "Eritrea",
          "Estonia",
          "Eswatini",
          "Ethiopia",
          "Falkland Islands (Malvinas)",
          "Faroe Islands",
          "Fiji",
          "Finland",
          "France",
          "French Guyana",
          "French Polynesia",
          "Gabon",
          "Gambia",
          "Georgia",
          "Germany",
          "Ghana",
          "Gibraltar",
          "Greece",
          "Greenland",
          "Grenada",
          "Guadeloupe",
          "Guam",
          "Guatemala",
          "Guinea",
          "Guinea-Bissau",
          "Guyana",
          "Haiti",
          "Holy See",
          "Honduras",
          "Hungary",
          "Iceland",
          "India",
          "Indonesia",
          "Iran (Islamic Republic of)",
          "Iraq",
          "Ireland",
          "Isle of Man",
          "Israel",
          "Italy",
          "Jamaica",
          "Japan",
          "Jordan",
          "Kazakhstan",
          "Kenya",
          "Kiribati",
          "Kuwait",
          "Kyrgyzstan",
          "Lao People's Democratic Republic",
          "Latvia",
          "Lebanon",
          "Lesotho",
          "Liberia",
          "Libya",
          "Liechtenstein",
          "Lithuania",
          "Luxembourg",
          "Madagascar",
          "Malawi",
          "Malaysia",
          "Maldives",
          "Mali",
          "Malta",
          "Marshall Islands",
          "Martinique",
          "Mauritania",
          "Mauritius",
          "Mayotte",
          "Melanesia",
          "Mexico",
          "Micronesia",
          "Micronesia (Federated States of)",
          "Monaco",
          "Mongolia",
          "Montserrat",
          "Morocco",
          "Mozambique",
          "Myanmar",
          "Namibia",
          "Nauru",
          "Nepal",
          "Netherlands",
          "Netherlands Antilles (former)",
          "New Caledonia",
          "New Zealand",
          "Nicaragua",
          "Niger",
          "Nigeria",
          "Niue",
          "Norfolk Island",
          "North Macedonia",
          "Northern Mariana Islands",
          "Norway",
          "Oman",
          "Pakistan",
          "Palau",
          "Palestine",
          "Panama",
          "Papua New Guinea",
          "Paraguay",
          "Peru",
          "Philippines",
          "Poland",
          "Polynesia",
          "Portugal",
          "Puerto Rico",
          "Qatar",
          "R?nion",
          "Republic of Korea",
          "Republic of Moldova",
          "Romania",
          "Russian Federation",
          "Rwanda",
          "Saint Helena",
          "Saint Kitts and Nevis",
          "Saint Lucia",
          "Saint Pierre and Miquelon",
          "Saint Vincent and the Grenadines",
          "Samoa",
          "San Marino",
          "Sao Tome and Principe",
          "Saudi Arabia",
          "Senegal",
          "Seychelles",
          "Sierra Leone",
          "Singapore",
          "Slovakia",
          "Slovenia",
          "Solomon Islands",
          "Somalia",
          "South Africa",
          "Spain",
          "Sri Lanka",
          "Suriname",
          "Sweden",
          "Switzerland",
          "Syrian Arab Republic",
          "T?kiye",
          "Tajikistan",
          "Thailand",
          "Timor-Leste",
          "Togo",
          "Tonga",
          "Trinidad and Tobago",
          "Tunisia",
          "Turkmenistan",
          "Turks and Caicos Islands",
          "Tuvalu",
          "Uganda",
          "Ukraine",
          "United Arab Emirates",
          "United Kingdom of Great Britain and Northern Ireland",
          "United Republic of Tanzania",
          "United States of America",
          "Uruguay",
          "Uzbekistan",
          "Vanuatu",
          "Venezuela (Bolivarian Republic of)",
          "Viet Nam",
          "Wallis and Futuna Islands",
          "Yemen",
          "Zambia",
          "Zimbabwe"
         ],
         "name": "",
         "type": "choropleth",
         "z": [
          15.922528975446658,
          14.667182366663367,
          17.369566878768662,
          7.4353610257001375,
          11.288612830544588,
          17.46782360887903,
          9.937184450938423,
          11.43696466338769,
          18.619230645636218,
          14.3982205087996,
          12.546181825803808,
          18.778664638995995,
          18.842344195839978,
          16.595521049090625,
          16.107027806487142,
          12.959791894643303,
          15.776978236118747,
          17.891148681200193,
          12.508967946809216,
          17.24380409673116,
          16.961767597785315,
          14.423905043908155,
          15.76013519887937,
          8.949806055132743,
          12.96479678364716,
          17.55588550016861,
          15.325866274193535,
          16.706531340223556,
          20.31677873100535,
          10.245878038150721,
          14.621569733076795,
          16.11365490313696,
          16.469786660476373,
          14.647057845783605,
          16.565418579947735,
          11.942645317786093,
          16.855947977787565,
          16.917165408521765,
          19.007137096310448,
          17.386425329309052,
          8.499109013939021,
          16.82234766417768,
          17.218873158314377,
          7.969525835808928,
          16.652006274428484,
          21.215423036764893,
          18.093697017044125,
          12.18826772499842,
          15.71295002971879,
          9.610776670121778,
          14.973263793555198,
          15.470058263942809,
          16.12771336634763,
          14.165937806596386,
          16.87797585216537,
          16.46009918673931,
          19.24856412387891,
          16.42449980250664,
          13.071157473513907,
          10.800806273556736,
          15.885797594359003,
          16.998699989628864,
          17.81289656330256,
          14.985088277262495,
          15.085850353934388,
          14.719893609946457,
          15.462158905314908,
          13.62828346610376,
          17.899348275417893,
          14.583445098092039,
          11.947935359687738,
          13.23390297217143,
          16.74123174051994,
          18.432229072889584,
          13.739681390665204,
          10.271648696287142,
          15.32035333575065,
          13.618889719134357,
          14.783976293522072,
          18.88611094782444,
          16.566308631470438,
          8.074575971522922,
          16.749443066641614,
          9.983937957089996,
          10.930089216412407,
          11.355781918649347,
          6.6556319664997385,
          16.230606269150364,
          16.24315796212603,
          14.254405204459594,
          15.38235308690509,
          15.091114492514,
          6.675945660544952,
          15.736451194278228,
          16.505216985180812,
          14.19149248768334,
          20.28946810169124,
          19.87438322717502,
          18.669008245503516,
          17.445393569216332,
          16.858003830814944,
          9.159481520046945,
          16.340987640629553,
          18.262925265885368,
          14.661993383550831,
          19.156780521858657,
          15.30552392489534,
          17.700217229751093,
          17.03838564200809,
          9.799479205619301,
          16.63825350712269,
          15.07437936667749,
          16.077805632621974,
          15.159552178148797,
          15.138933966234749,
          13.899824264936953,
          15.46845685280778,
          16.360472958003722,
          10.373874979996906,
          15.941163245467155,
          14.38114294143457,
          16.66498862734662,
          15.540290187019021,
          17.964152110980244,
          12.118921447129622,
          16.398941657886912,
          13.042177397651171,
          10.073655679685968,
          9.950303559815717,
          15.34431053334264,
          13.551411260607349,
          9.048136733945299,
          16.41174963948936,
          18.792544354429303,
          12.519633222490315,
          11.266437926917105,
          9.768557988639824,
          16.931563124732623,
          6.174235794442654,
          16.67896201558521,
          17.247255733044906,
          18.162984021865633,
          15.928258741330723,
          9.244953563709334,
          16.42571943837873,
          17.586630589966056,
          13.66389357220493,
          11.677287535489533,
          17.056473278091147,
          16.315576734025868,
          16.272480542441603,
          18.338653822375118,
          7.452937371933146,
          3.2153496150916423,
          14.590053175055074,
          11.517795416483258,
          16.56581523009099,
          16.349722555735383,
          18.506556533909624,
          10.93268211519367,
          11.69389245558685,
          15.400327239184042,
          16.381141489374585,
          17.37423854334874,
          17.684693086515978,
          17.66606279545887,
          18.19143926158574,
          12.360976147629907,
          16.496216585057,
          12.957583824032538,
          16.818764976656254,
          11.125150094755165,
          18.326407767402777,
          14.549260543144124,
          16.915121365557102,
          19.696065260554036,
          14.822628076621234,
          7.676666905413938,
          10.7066503055204,
          11.360037432667976,
          6.960618470436179,
          10.890447778912355,
          11.925879535333452,
          10.314165937869138,
          11.081902072273285,
          18.331159132929365,
          15.914420296723268,
          11.501798742444631,
          16.402759126320404,
          16.00569466236602,
          15.793334879010054,
          15.055137596959316,
          14.557850355698577,
          16.487242353834464,
          18.405166419283134,
          18.029924397037597,
          15.76464193797277,
          14.837065409832343,
          16.798864744699852,
          16.11977544780927,
          16.283341316590896,
          18.166954914318946,
          15.003964816185912,
          18.198744920508037,
          13.767862155773992,
          14.701832416676897,
          10.969062878594725,
          16.223442619642388,
          15.838404454286819,
          16.70730874419986,
          10.217672081748667,
          8.549209079344994,
          16.680871357872643,
          18.070666091625316,
          17.24576996050387,
          18.48239127832781,
          17.663832843032147,
          20.798808041677262,
          16.432419020487043,
          17.407890431278123,
          12.269347609966097,
          18.137831865213386,
          17.93225623569997,
          6.890223898451186,
          15.950125894896027,
          17.08588417876496,
          16.546659553406315
         ]
        }
       ],
       "layout": {
        "coloraxis": {
         "colorbar": {
          "title": {
           "text": "Log Emissions"
          }
         },
         "colorscale": [
          [
           0,
           "#000004"
          ],
          [
           0.1111111111111111,
           "#1b0c41"
          ],
          [
           0.2222222222222222,
           "#4a0c6b"
          ],
          [
           0.3333333333333333,
           "#781c6d"
          ],
          [
           0.4444444444444444,
           "#a52c60"
          ],
          [
           0.5555555555555556,
           "#cf4446"
          ],
          [
           0.6666666666666666,
           "#ed6925"
          ],
          [
           0.7777777777777778,
           "#fb9b06"
          ],
          [
           0.8888888888888888,
           "#f7d13d"
          ],
          [
           1,
           "#fcffa4"
          ]
         ]
        },
        "geo": {
         "center": {},
         "domain": {
          "x": [
           0,
           1
          ],
          "y": [
           0,
           1
          ]
         }
        },
        "height": 500,
        "legend": {
         "tracegroupgap": 0
        },
        "template": {
         "data": {
          "bar": [
           {
            "error_x": {
             "color": "#2a3f5f"
            },
            "error_y": {
             "color": "#2a3f5f"
            },
            "marker": {
             "line": {
              "color": "#E5ECF6",
              "width": 0.5
             },
             "pattern": {
              "fillmode": "overlay",
              "size": 10,
              "solidity": 0.2
             }
            },
            "type": "bar"
           }
          ],
          "barpolar": [
           {
            "marker": {
             "line": {
              "color": "#E5ECF6",
              "width": 0.5
             },
             "pattern": {
              "fillmode": "overlay",
              "size": 10,
              "solidity": 0.2
             }
            },
            "type": "barpolar"
           }
          ],
          "carpet": [
           {
            "aaxis": {
             "endlinecolor": "#2a3f5f",
             "gridcolor": "white",
             "linecolor": "white",
             "minorgridcolor": "white",
             "startlinecolor": "#2a3f5f"
            },
            "baxis": {
             "endlinecolor": "#2a3f5f",
             "gridcolor": "white",
             "linecolor": "white",
             "minorgridcolor": "white",
             "startlinecolor": "#2a3f5f"
            },
            "type": "carpet"
           }
          ],
          "choropleth": [
           {
            "colorbar": {
             "outlinewidth": 0,
             "ticks": ""
            },
            "type": "choropleth"
           }
          ],
          "contour": [
           {
            "colorbar": {
             "outlinewidth": 0,
             "ticks": ""
            },
            "colorscale": [
             [
              0,
              "#0d0887"
             ],
             [
              0.1111111111111111,
              "#46039f"
             ],
             [
              0.2222222222222222,
              "#7201a8"
             ],
             [
              0.3333333333333333,
              "#9c179e"
             ],
             [
              0.4444444444444444,
              "#bd3786"
             ],
             [
              0.5555555555555556,
              "#d8576b"
             ],
             [
              0.6666666666666666,
              "#ed7953"
             ],
             [
              0.7777777777777778,
              "#fb9f3a"
             ],
             [
              0.8888888888888888,
              "#fdca26"
             ],
             [
              1,
              "#f0f921"
             ]
            ],
            "type": "contour"
           }
          ],
          "contourcarpet": [
           {
            "colorbar": {
             "outlinewidth": 0,
             "ticks": ""
            },
            "type": "contourcarpet"
           }
          ],
          "heatmap": [
           {
            "colorbar": {
             "outlinewidth": 0,
             "ticks": ""
            },
            "colorscale": [
             [
              0,
              "#0d0887"
             ],
             [
              0.1111111111111111,
              "#46039f"
             ],
             [
              0.2222222222222222,
              "#7201a8"
             ],
             [
              0.3333333333333333,
              "#9c179e"
             ],
             [
              0.4444444444444444,
              "#bd3786"
             ],
             [
              0.5555555555555556,
              "#d8576b"
             ],
             [
              0.6666666666666666,
              "#ed7953"
             ],
             [
              0.7777777777777778,
              "#fb9f3a"
             ],
             [
              0.8888888888888888,
              "#fdca26"
             ],
             [
              1,
              "#f0f921"
             ]
            ],
            "type": "heatmap"
           }
          ],
          "heatmapgl": [
           {
            "colorbar": {
             "outlinewidth": 0,
             "ticks": ""
            },
            "colorscale": [
             [
              0,
              "#0d0887"
             ],
             [
              0.1111111111111111,
              "#46039f"
             ],
             [
              0.2222222222222222,
              "#7201a8"
             ],
             [
              0.3333333333333333,
              "#9c179e"
             ],
             [
              0.4444444444444444,
              "#bd3786"
             ],
             [
              0.5555555555555556,
              "#d8576b"
             ],
             [
              0.6666666666666666,
              "#ed7953"
             ],
             [
              0.7777777777777778,
              "#fb9f3a"
             ],
             [
              0.8888888888888888,
              "#fdca26"
             ],
             [
              1,
              "#f0f921"
             ]
            ],
            "type": "heatmapgl"
           }
          ],
          "histogram": [
           {
            "marker": {
             "pattern": {
              "fillmode": "overlay",
              "size": 10,
              "solidity": 0.2
             }
            },
            "type": "histogram"
           }
          ],
          "histogram2d": [
           {
            "colorbar": {
             "outlinewidth": 0,
             "ticks": ""
            },
            "colorscale": [
             [
              0,
              "#0d0887"
             ],
             [
              0.1111111111111111,
              "#46039f"
             ],
             [
              0.2222222222222222,
              "#7201a8"
             ],
             [
              0.3333333333333333,
              "#9c179e"
             ],
             [
              0.4444444444444444,
              "#bd3786"
             ],
             [
              0.5555555555555556,
              "#d8576b"
             ],
             [
              0.6666666666666666,
              "#ed7953"
             ],
             [
              0.7777777777777778,
              "#fb9f3a"
             ],
             [
              0.8888888888888888,
              "#fdca26"
             ],
             [
              1,
              "#f0f921"
             ]
            ],
            "type": "histogram2d"
           }
          ],
          "histogram2dcontour": [
           {
            "colorbar": {
             "outlinewidth": 0,
             "ticks": ""
            },
            "colorscale": [
             [
              0,
              "#0d0887"
             ],
             [
              0.1111111111111111,
              "#46039f"
             ],
             [
              0.2222222222222222,
              "#7201a8"
             ],
             [
              0.3333333333333333,
              "#9c179e"
             ],
             [
              0.4444444444444444,
              "#bd3786"
             ],
             [
              0.5555555555555556,
              "#d8576b"
             ],
             [
              0.6666666666666666,
              "#ed7953"
             ],
             [
              0.7777777777777778,
              "#fb9f3a"
             ],
             [
              0.8888888888888888,
              "#fdca26"
             ],
             [
              1,
              "#f0f921"
             ]
            ],
            "type": "histogram2dcontour"
           }
          ],
          "mesh3d": [
           {
            "colorbar": {
             "outlinewidth": 0,
             "ticks": ""
            },
            "type": "mesh3d"
           }
          ],
          "parcoords": [
           {
            "line": {
             "colorbar": {
              "outlinewidth": 0,
              "ticks": ""
             }
            },
            "type": "parcoords"
           }
          ],
          "pie": [
           {
            "automargin": true,
            "type": "pie"
           }
          ],
          "scatter": [
           {
            "fillpattern": {
             "fillmode": "overlay",
             "size": 10,
             "solidity": 0.2
            },
            "type": "scatter"
           }
          ],
          "scatter3d": [
           {
            "line": {
             "colorbar": {
              "outlinewidth": 0,
              "ticks": ""
             }
            },
            "marker": {
             "colorbar": {
              "outlinewidth": 0,
              "ticks": ""
             }
            },
            "type": "scatter3d"
           }
          ],
          "scattercarpet": [
           {
            "marker": {
             "colorbar": {
              "outlinewidth": 0,
              "ticks": ""
             }
            },
            "type": "scattercarpet"
           }
          ],
          "scattergeo": [
           {
            "marker": {
             "colorbar": {
              "outlinewidth": 0,
              "ticks": ""
             }
            },
            "type": "scattergeo"
           }
          ],
          "scattergl": [
           {
            "marker": {
             "colorbar": {
              "outlinewidth": 0,
              "ticks": ""
             }
            },
            "type": "scattergl"
           }
          ],
          "scattermapbox": [
           {
            "marker": {
             "colorbar": {
              "outlinewidth": 0,
              "ticks": ""
             }
            },
            "type": "scattermapbox"
           }
          ],
          "scatterpolar": [
           {
            "marker": {
             "colorbar": {
              "outlinewidth": 0,
              "ticks": ""
             }
            },
            "type": "scatterpolar"
           }
          ],
          "scatterpolargl": [
           {
            "marker": {
             "colorbar": {
              "outlinewidth": 0,
              "ticks": ""
             }
            },
            "type": "scatterpolargl"
           }
          ],
          "scatterternary": [
           {
            "marker": {
             "colorbar": {
              "outlinewidth": 0,
              "ticks": ""
             }
            },
            "type": "scatterternary"
           }
          ],
          "surface": [
           {
            "colorbar": {
             "outlinewidth": 0,
             "ticks": ""
            },
            "colorscale": [
             [
              0,
              "#0d0887"
             ],
             [
              0.1111111111111111,
              "#46039f"
             ],
             [
              0.2222222222222222,
              "#7201a8"
             ],
             [
              0.3333333333333333,
              "#9c179e"
             ],
             [
              0.4444444444444444,
              "#bd3786"
             ],
             [
              0.5555555555555556,
              "#d8576b"
             ],
             [
              0.6666666666666666,
              "#ed7953"
             ],
             [
              0.7777777777777778,
              "#fb9f3a"
             ],
             [
              0.8888888888888888,
              "#fdca26"
             ],
             [
              1,
              "#f0f921"
             ]
            ],
            "type": "surface"
           }
          ],
          "table": [
           {
            "cells": {
             "fill": {
              "color": "#EBF0F8"
             },
             "line": {
              "color": "white"
             }
            },
            "header": {
             "fill": {
              "color": "#C8D4E3"
             },
             "line": {
              "color": "white"
             }
            },
            "type": "table"
           }
          ]
         },
         "layout": {
          "annotationdefaults": {
           "arrowcolor": "#2a3f5f",
           "arrowhead": 0,
           "arrowwidth": 1
          },
          "autotypenumbers": "strict",
          "coloraxis": {
           "colorbar": {
            "outlinewidth": 0,
            "ticks": ""
           }
          },
          "colorscale": {
           "diverging": [
            [
             0,
             "#8e0152"
            ],
            [
             0.1,
             "#c51b7d"
            ],
            [
             0.2,
             "#de77ae"
            ],
            [
             0.3,
             "#f1b6da"
            ],
            [
             0.4,
             "#fde0ef"
            ],
            [
             0.5,
             "#f7f7f7"
            ],
            [
             0.6,
             "#e6f5d0"
            ],
            [
             0.7,
             "#b8e186"
            ],
            [
             0.8,
             "#7fbc41"
            ],
            [
             0.9,
             "#4d9221"
            ],
            [
             1,
             "#276419"
            ]
           ],
           "sequential": [
            [
             0,
             "#0d0887"
            ],
            [
             0.1111111111111111,
             "#46039f"
            ],
            [
             0.2222222222222222,
             "#7201a8"
            ],
            [
             0.3333333333333333,
             "#9c179e"
            ],
            [
             0.4444444444444444,
             "#bd3786"
            ],
            [
             0.5555555555555556,
             "#d8576b"
            ],
            [
             0.6666666666666666,
             "#ed7953"
            ],
            [
             0.7777777777777778,
             "#fb9f3a"
            ],
            [
             0.8888888888888888,
             "#fdca26"
            ],
            [
             1,
             "#f0f921"
            ]
           ],
           "sequentialminus": [
            [
             0,
             "#0d0887"
            ],
            [
             0.1111111111111111,
             "#46039f"
            ],
            [
             0.2222222222222222,
             "#7201a8"
            ],
            [
             0.3333333333333333,
             "#9c179e"
            ],
            [
             0.4444444444444444,
             "#bd3786"
            ],
            [
             0.5555555555555556,
             "#d8576b"
            ],
            [
             0.6666666666666666,
             "#ed7953"
            ],
            [
             0.7777777777777778,
             "#fb9f3a"
            ],
            [
             0.8888888888888888,
             "#fdca26"
            ],
            [
             1,
             "#f0f921"
            ]
           ]
          },
          "colorway": [
           "#636efa",
           "#EF553B",
           "#00cc96",
           "#ab63fa",
           "#FFA15A",
           "#19d3f3",
           "#FF6692",
           "#B6E880",
           "#FF97FF",
           "#FECB52"
          ],
          "font": {
           "color": "#2a3f5f"
          },
          "geo": {
           "bgcolor": "white",
           "lakecolor": "white",
           "landcolor": "#E5ECF6",
           "showlakes": true,
           "showland": true,
           "subunitcolor": "white"
          },
          "hoverlabel": {
           "align": "left"
          },
          "hovermode": "closest",
          "mapbox": {
           "style": "light"
          },
          "paper_bgcolor": "white",
          "plot_bgcolor": "#E5ECF6",
          "polar": {
           "angularaxis": {
            "gridcolor": "white",
            "linecolor": "white",
            "ticks": ""
           },
           "bgcolor": "#E5ECF6",
           "radialaxis": {
            "gridcolor": "white",
            "linecolor": "white",
            "ticks": ""
           }
          },
          "scene": {
           "xaxis": {
            "backgroundcolor": "#E5ECF6",
            "gridcolor": "white",
            "gridwidth": 2,
            "linecolor": "white",
            "showbackground": true,
            "ticks": "",
            "zerolinecolor": "white"
           },
           "yaxis": {
            "backgroundcolor": "#E5ECF6",
            "gridcolor": "white",
            "gridwidth": 2,
            "linecolor": "white",
            "showbackground": true,
            "ticks": "",
            "zerolinecolor": "white"
           },
           "zaxis": {
            "backgroundcolor": "#E5ECF6",
            "gridcolor": "white",
            "gridwidth": 2,
            "linecolor": "white",
            "showbackground": true,
            "ticks": "",
            "zerolinecolor": "white"
           }
          },
          "shapedefaults": {
           "line": {
            "color": "#2a3f5f"
           }
          },
          "ternary": {
           "aaxis": {
            "gridcolor": "white",
            "linecolor": "white",
            "ticks": ""
           },
           "baxis": {
            "gridcolor": "white",
            "linecolor": "white",
            "ticks": ""
           },
           "bgcolor": "#E5ECF6",
           "caxis": {
            "gridcolor": "white",
            "linecolor": "white",
            "ticks": ""
           }
          },
          "title": {
           "x": 0.05
          },
          "xaxis": {
           "automargin": true,
           "gridcolor": "white",
           "linecolor": "white",
           "ticks": "",
           "title": {
            "standoff": 15
           },
           "zerolinecolor": "white",
           "zerolinewidth": 2
          },
          "yaxis": {
           "automargin": true,
           "gridcolor": "white",
           "linecolor": "white",
           "ticks": "",
           "title": {
            "standoff": 15
           },
           "zerolinecolor": "white",
           "zerolinewidth": 2
          }
         }
        },
        "title": {
         "text": "Emissions Heatmap per Country"
        },
        "width": 800
       }
      }
     },
     "metadata": {},
     "output_type": "display_data"
    }
   ],
   "source": [
    "\n",
    "df_total_emissions = df_emissions_long.groupby('Country Name')['Emissions'].sum().reset_index()\n",
    "\n",
    "df_total_emissions['Log Emissions'] = np.log1p(df_total_emissions['Emissions'])  # log1p is log(1 + x), so it will handle the emissions even if they are zero\n",
    "\n",
    "# Heatmap of the countries where the color represents the quantity of the emissions\n",
    "fig = px.choropleth(df_total_emissions, \n",
    "                    locations=\"Country Name\",\n",
    "                    locationmode='country names',\n",
    "                    color=\"Log Emissions\",\n",
    "                    hover_name=\"Country Name\",\n",
    "                    color_continuous_scale=\"Inferno\",\n",
    "                    title=\"Emissions Heatmap per Country\")\n",
    "\n",
    "fig.update_layout(\n",
    "    width=800,\n",
    "    height=500\n",
    ")\n",
    "\n",
    "fig.show()\n"
   ]
  },
  {
   "cell_type": "markdown",
   "metadata": {},
   "source": [
    "The map highlights that North America and East Asia are the regions with the highest emissions, while Africa has the lowest. This can indicate how economic development and industrialization strongly influence a country's emission levels"
   ]
  },
  {
   "cell_type": "markdown",
   "metadata": {},
   "source": [
    "Next, we have a chart that chart illustrates the trend of gas emissions by type from 2000 to 2020"
   ]
  },
  {
   "cell_type": "code",
   "execution_count": 17,
   "metadata": {},
   "outputs": [
    {
     "name": "stderr",
     "output_type": "stream",
     "text": [
      "c:\\Users\\nephr\\AppData\\Local\\Programs\\Python\\Python311\\Lib\\site-packages\\seaborn\\_base.py:948: FutureWarning:\n",
      "\n",
      "When grouping with a length-1 list-like, you will need to pass a length-1 tuple to get_group in a future version of pandas. Pass `(name,)` instead of `name` to silence this warning.\n",
      "\n",
      "c:\\Users\\nephr\\AppData\\Local\\Programs\\Python\\Python311\\Lib\\site-packages\\seaborn\\_base.py:948: FutureWarning:\n",
      "\n",
      "When grouping with a length-1 list-like, you will need to pass a length-1 tuple to get_group in a future version of pandas. Pass `(name,)` instead of `name` to silence this warning.\n",
      "\n",
      "c:\\Users\\nephr\\AppData\\Local\\Programs\\Python\\Python311\\Lib\\site-packages\\seaborn\\_base.py:948: FutureWarning:\n",
      "\n",
      "When grouping with a length-1 list-like, you will need to pass a length-1 tuple to get_group in a future version of pandas. Pass `(name,)` instead of `name` to silence this warning.\n",
      "\n",
      "c:\\Users\\nephr\\AppData\\Local\\Programs\\Python\\Python311\\Lib\\site-packages\\seaborn\\_base.py:948: FutureWarning:\n",
      "\n",
      "When grouping with a length-1 list-like, you will need to pass a length-1 tuple to get_group in a future version of pandas. Pass `(name,)` instead of `name` to silence this warning.\n",
      "\n",
      "c:\\Users\\nephr\\AppData\\Local\\Programs\\Python\\Python311\\Lib\\site-packages\\seaborn\\_base.py:948: FutureWarning:\n",
      "\n",
      "When grouping with a length-1 list-like, you will need to pass a length-1 tuple to get_group in a future version of pandas. Pass `(name,)` instead of `name` to silence this warning.\n",
      "\n",
      "c:\\Users\\nephr\\AppData\\Local\\Programs\\Python\\Python311\\Lib\\site-packages\\seaborn\\_base.py:948: FutureWarning:\n",
      "\n",
      "When grouping with a length-1 list-like, you will need to pass a length-1 tuple to get_group in a future version of pandas. Pass `(name,)` instead of `name` to silence this warning.\n",
      "\n",
      "c:\\Users\\nephr\\AppData\\Local\\Programs\\Python\\Python311\\Lib\\site-packages\\seaborn\\_base.py:948: FutureWarning:\n",
      "\n",
      "When grouping with a length-1 list-like, you will need to pass a length-1 tuple to get_group in a future version of pandas. Pass `(name,)` instead of `name` to silence this warning.\n",
      "\n",
      "c:\\Users\\nephr\\AppData\\Local\\Programs\\Python\\Python311\\Lib\\site-packages\\seaborn\\_base.py:948: FutureWarning:\n",
      "\n",
      "When grouping with a length-1 list-like, you will need to pass a length-1 tuple to get_group in a future version of pandas. Pass `(name,)` instead of `name` to silence this warning.\n",
      "\n",
      "c:\\Users\\nephr\\AppData\\Local\\Programs\\Python\\Python311\\Lib\\site-packages\\seaborn\\_base.py:948: FutureWarning:\n",
      "\n",
      "When grouping with a length-1 list-like, you will need to pass a length-1 tuple to get_group in a future version of pandas. Pass `(name,)` instead of `name` to silence this warning.\n",
      "\n"
     ]
    },
    {
     "data": {
      "image/png": "[encoded data removed]",
      "text/plain": [
       "<Figure size 1000x600 with 1 Axes>"
      ]
     },
     "metadata": {},
     "output_type": "display_data"
    }
   ],
   "source": [
    "# Visualization of emissions over time for each type of emission\n",
    "plt.figure(figsize=(10, 6))\n",
    "sns.lineplot(data=df_emissions_long, x=\"Year\", y=\"Emissions\", hue=\"Element\", marker=\"o\",errorbar=None)\n",
    "\n",
    "plt.title(\"Emissions Over Time per Element\")\n",
    "plt.xlabel(\"Year\")\n",
    "plt.ylabel(\"Emissions (kilotonnes)\")\n",
    "plt.legend(title=\"Emission Type\", loc='center left', bbox_to_anchor=(0.01, 0.55))\n",
    "plt.grid(True, linestyle='--', color='lightblue', alpha=0.7) \n",
    "plt.show()"
   ]
  },
  {
   "cell_type": "markdown",
   "metadata": {},
   "source": [
    "We can see how CO2  emissions dominate, showing a steady increase over time, rising by approximately 20% over the last 2 decades. Minor contributors, such as methane (CH₄), nitrous oxide (N₂O) and indirect emissions, tend to remain relatively stable."
   ]
  },
  {
   "cell_type": "markdown",
   "metadata": {},
   "source": [
    "Next, to better observe how the emissions are composed and how much each type contribute to the total quantity of the emissions, we construct a pie graph containing the various types of emissions in the database."
   ]
  },
  {
   "cell_type": "code",
   "execution_count": 18,
   "metadata": {},
   "outputs": [
    {
     "data": {
      "application/vnd.plotly.v1+json": {
       "config": {
        "plotlyServerURL": "https://plot.ly"
       },
       "data": [
        {
         "domain": {
          "x": [
           0,
           1
          ],
          "y": [
           0,
           1
          ]
         },
         "hole": 0.3,
         "hovertemplate": "Element=%{label}<br>Emissions=%{value}<extra></extra>",
         "labels": [
          "Emissions (CO2)",
          "Emissions (CO2eq) (AR5)",
          "Emissions (CO2eq) from CH4 (AR5)",
          "Emissions (CO2eq) from N2O (AR5)",
          "Others"
         ],
         "legendgroup": "",
         "name": "",
         "showlegend": true,
         "type": "pie",
         "values": [
          2947218150.82975,
          4820029208.98515,
          1245746017.404,
          529437125.5995,
          145512688.17874998
         ]
        }
       ],
       "layout": {
        "height": 600,
        "legend": {
         "tracegroupgap": 0
        },
        "piecolorway": [
         "#5c01a6",
         "#9c179e",
         "#cc4778",
         "#ed7953",
         "#fdb42f"
        ],
        "template": {
         "data": {
          "bar": [
           {
            "error_x": {
             "color": "#2a3f5f"
            },
            "error_y": {
             "color": "#2a3f5f"
            },
            "marker": {
             "line": {
              "color": "#E5ECF6",
              "width": 0.5
             },
             "pattern": {
              "fillmode": "overlay",
              "size": 10,
              "solidity": 0.2
             }
            },
            "type": "bar"
           }
          ],
          "barpolar": [
           {
            "marker": {
             "line": {
              "color": "#E5ECF6",
              "width": 0.5
             },
             "pattern": {
              "fillmode": "overlay",
              "size": 10,
              "solidity": 0.2
             }
            },
            "type": "barpolar"
           }
          ],
          "carpet": [
           {
            "aaxis": {
             "endlinecolor": "#2a3f5f",
             "gridcolor": "white",
             "linecolor": "white",
             "minorgridcolor": "white",
             "startlinecolor": "#2a3f5f"
            },
            "baxis": {
             "endlinecolor": "#2a3f5f",
             "gridcolor": "white",
             "linecolor": "white",
             "minorgridcolor": "white",
             "startlinecolor": "#2a3f5f"
            },
            "type": "carpet"
           }
          ],
          "choropleth": [
           {
            "colorbar": {
             "outlinewidth": 0,
             "ticks": ""
            },
            "type": "choropleth"
           }
          ],
          "contour": [
           {
            "colorbar": {
             "outlinewidth": 0,
             "ticks": ""
            },
            "colorscale": [
             [
              0,
              "#0d0887"
             ],
             [
              0.1111111111111111,
              "#46039f"
             ],
             [
              0.2222222222222222,
              "#7201a8"
             ],
             [
              0.3333333333333333,
              "#9c179e"
             ],
             [
              0.4444444444444444,
              "#bd3786"
             ],
             [
              0.5555555555555556,
              "#d8576b"
             ],
             [
              0.6666666666666666,
              "#ed7953"
             ],
             [
              0.7777777777777778,
              "#fb9f3a"
             ],
             [
              0.8888888888888888,
              "#fdca26"
             ],
             [
              1,
              "#f0f921"
             ]
            ],
            "type": "contour"
           }
          ],
          "contourcarpet": [
           {
            "colorbar": {
             "outlinewidth": 0,
             "ticks": ""
            },
            "type": "contourcarpet"
           }
          ],
          "heatmap": [
           {
            "colorbar": {
             "outlinewidth": 0,
             "ticks": ""
            },
            "colorscale": [
             [
              0,
              "#0d0887"
             ],
             [
              0.1111111111111111,
              "#46039f"
             ],
             [
              0.2222222222222222,
              "#7201a8"
             ],
             [
              0.3333333333333333,
              "#9c179e"
             ],
             [
              0.4444444444444444,
              "#bd3786"
             ],
             [
              0.5555555555555556,
              "#d8576b"
             ],
             [
              0.6666666666666666,
              "#ed7953"
             ],
             [
              0.7777777777777778,
              "#fb9f3a"
             ],
             [
              0.8888888888888888,
              "#fdca26"
             ],
             [
              1,
              "#f0f921"
             ]
            ],
            "type": "heatmap"
           }
          ],
          "heatmapgl": [
           {
            "colorbar": {
             "outlinewidth": 0,
             "ticks": ""
            },
            "colorscale": [
             [
              0,
              "#0d0887"
             ],
             [
              0.1111111111111111,
              "#46039f"
             ],
             [
              0.2222222222222222,
              "#7201a8"
             ],
             [
              0.3333333333333333,
              "#9c179e"
             ],
             [
              0.4444444444444444,
              "#bd3786"
             ],
             [
              0.5555555555555556,
              "#d8576b"
             ],
             [
              0.6666666666666666,
              "#ed7953"
             ],
             [
              0.7777777777777778,
              "#fb9f3a"
             ],
             [
              0.8888888888888888,
              "#fdca26"
             ],
             [
              1,
              "#f0f921"
             ]
            ],
            "type": "heatmapgl"
           }
          ],
          "histogram": [
           {
            "marker": {
             "pattern": {
              "fillmode": "overlay",
              "size": 10,
              "solidity": 0.2
             }
            },
            "type": "histogram"
           }
          ],
          "histogram2d": [
           {
            "colorbar": {
             "outlinewidth": 0,
             "ticks": ""
            },
            "colorscale": [
             [
              0,
              "#0d0887"
             ],
             [
              0.1111111111111111,
              "#46039f"
             ],
             [
              0.2222222222222222,
              "#7201a8"
             ],
             [
              0.3333333333333333,
              "#9c179e"
             ],
             [
              0.4444444444444444,
              "#bd3786"
             ],
             [
              0.5555555555555556,
              "#d8576b"
             ],
             [
              0.6666666666666666,
              "#ed7953"
             ],
             [
              0.7777777777777778,
              "#fb9f3a"
             ],
             [
              0.8888888888888888,
              "#fdca26"
             ],
             [
              1,
              "#f0f921"
             ]
            ],
            "type": "histogram2d"
           }
          ],
          "histogram2dcontour": [
           {
            "colorbar": {
             "outlinewidth": 0,
             "ticks": ""
            },
            "colorscale": [
             [
              0,
              "#0d0887"
             ],
             [
              0.1111111111111111,
              "#46039f"
             ],
             [
              0.2222222222222222,
              "#7201a8"
             ],
             [
              0.3333333333333333,
              "#9c179e"
             ],
             [
              0.4444444444444444,
              "#bd3786"
             ],
             [
              0.5555555555555556,
              "#d8576b"
             ],
             [
              0.6666666666666666,
              "#ed7953"
             ],
             [
              0.7777777777777778,
              "#fb9f3a"
             ],
             [
              0.8888888888888888,
              "#fdca26"
             ],
             [
              1,
              "#f0f921"
             ]
            ],
            "type": "histogram2dcontour"
           }
          ],
          "mesh3d": [
           {
            "colorbar": {
             "outlinewidth": 0,
             "ticks": ""
            },
            "type": "mesh3d"
           }
          ],
          "parcoords": [
           {
            "line": {
             "colorbar": {
              "outlinewidth": 0,
              "ticks": ""
             }
            },
            "type": "parcoords"
           }
          ],
          "pie": [
           {
            "automargin": true,
            "type": "pie"
           }
          ],
          "scatter": [
           {
            "fillpattern": {
             "fillmode": "overlay",
             "size": 10,
             "solidity": 0.2
            },
            "type": "scatter"
           }
          ],
          "scatter3d": [
           {
            "line": {
             "colorbar": {
              "outlinewidth": 0,
              "ticks": ""
             }
            },
            "marker": {
             "colorbar": {
              "outlinewidth": 0,
              "ticks": ""
             }
            },
            "type": "scatter3d"
           }
          ],
          "scattercarpet": [
           {
            "marker": {
             "colorbar": {
              "outlinewidth": 0,
              "ticks": ""
             }
            },
            "type": "scattercarpet"
           }
          ],
          "scattergeo": [
           {
            "marker": {
             "colorbar": {
              "outlinewidth": 0,
              "ticks": ""
             }
            },
            "type": "scattergeo"
           }
          ],
          "scattergl": [
           {
            "marker": {
             "colorbar": {
              "outlinewidth": 0,
              "ticks": ""
             }
            },
            "type": "scattergl"
           }
          ],
          "scattermapbox": [
           {
            "marker": {
             "colorbar": {
              "outlinewidth": 0,
              "ticks": ""
             }
            },
            "type": "scattermapbox"
           }
          ],
          "scatterpolar": [
           {
            "marker": {
             "colorbar": {
              "outlinewidth": 0,
              "ticks": ""
             }
            },
            "type": "scatterpolar"
           }
          ],
          "scatterpolargl": [
           {
            "marker": {
             "colorbar": {
              "outlinewidth": 0,
              "ticks": ""
             }
            },
            "type": "scatterpolargl"
           }
          ],
          "scatterternary": [
           {
            "marker": {
             "colorbar": {
              "outlinewidth": 0,
              "ticks": ""
             }
            },
            "type": "scatterternary"
           }
          ],
          "surface": [
           {
            "colorbar": {
             "outlinewidth": 0,
             "ticks": ""
            },
            "colorscale": [
             [
              0,
              "#0d0887"
             ],
             [
              0.1111111111111111,
              "#46039f"
             ],
             [
              0.2222222222222222,
              "#7201a8"
             ],
             [
              0.3333333333333333,
              "#9c179e"
             ],
             [
              0.4444444444444444,
              "#bd3786"
             ],
             [
              0.5555555555555556,
              "#d8576b"
             ],
             [
              0.6666666666666666,
              "#ed7953"
             ],
             [
              0.7777777777777778,
              "#fb9f3a"
             ],
             [
              0.8888888888888888,
              "#fdca26"
             ],
             [
              1,
              "#f0f921"
             ]
            ],
            "type": "surface"
           }
          ],
          "table": [
           {
            "cells": {
             "fill": {
              "color": "#EBF0F8"
             },
             "line": {
              "color": "white"
             }
            },
            "header": {
             "fill": {
              "color": "#C8D4E3"
             },
             "line": {
              "color": "white"
             }
            },
            "type": "table"
           }
          ]
         },
         "layout": {
          "annotationdefaults": {
           "arrowcolor": "#2a3f5f",
           "arrowhead": 0,
           "arrowwidth": 1
          },
          "autotypenumbers": "strict",
          "coloraxis": {
           "colorbar": {
            "outlinewidth": 0,
            "ticks": ""
           }
          },
          "colorscale": {
           "diverging": [
            [
             0,
             "#8e0152"
            ],
            [
             0.1,
             "#c51b7d"
            ],
            [
             0.2,
             "#de77ae"
            ],
            [
             0.3,
             "#f1b6da"
            ],
            [
             0.4,
             "#fde0ef"
            ],
            [
             0.5,
             "#f7f7f7"
            ],
            [
             0.6,
             "#e6f5d0"
            ],
            [
             0.7,
             "#b8e186"
            ],
            [
             0.8,
             "#7fbc41"
            ],
            [
             0.9,
             "#4d9221"
            ],
            [
             1,
             "#276419"
            ]
           ],
           "sequential": [
            [
             0,
             "#0d0887"
            ],
            [
             0.1111111111111111,
             "#46039f"
            ],
            [
             0.2222222222222222,
             "#7201a8"
            ],
            [
             0.3333333333333333,
             "#9c179e"
            ],
            [
             0.4444444444444444,
             "#bd3786"
            ],
            [
             0.5555555555555556,
             "#d8576b"
            ],
            [
             0.6666666666666666,
             "#ed7953"
            ],
            [
             0.7777777777777778,
             "#fb9f3a"
            ],
            [
             0.8888888888888888,
             "#fdca26"
            ],
            [
             1,
             "#f0f921"
            ]
           ],
           "sequentialminus": [
            [
             0,
             "#0d0887"
            ],
            [
             0.1111111111111111,
             "#46039f"
            ],
            [
             0.2222222222222222,
             "#7201a8"
            ],
            [
             0.3333333333333333,
             "#9c179e"
            ],
            [
             0.4444444444444444,
             "#bd3786"
            ],
            [
             0.5555555555555556,
             "#d8576b"
            ],
            [
             0.6666666666666666,
             "#ed7953"
            ],
            [
             0.7777777777777778,
             "#fb9f3a"
            ],
            [
             0.8888888888888888,
             "#fdca26"
            ],
            [
             1,
             "#f0f921"
            ]
           ]
          },
          "colorway": [
           "#636efa",
           "#EF553B",
           "#00cc96",
           "#ab63fa",
           "#FFA15A",
           "#19d3f3",
           "#FF6692",
           "#B6E880",
           "#FF97FF",
           "#FECB52"
          ],
          "font": {
           "color": "#2a3f5f"
          },
          "geo": {
           "bgcolor": "white",
           "lakecolor": "white",
           "landcolor": "#E5ECF6",
           "showlakes": true,
           "showland": true,
           "subunitcolor": "white"
          },
          "hoverlabel": {
           "align": "left"
          },
          "hovermode": "closest",
          "mapbox": {
           "style": "light"
          },
          "paper_bgcolor": "white",
          "plot_bgcolor": "#E5ECF6",
          "polar": {
           "angularaxis": {
            "gridcolor": "white",
            "linecolor": "white",
            "ticks": ""
           },
           "bgcolor": "#E5ECF6",
           "radialaxis": {
            "gridcolor": "white",
            "linecolor": "white",
            "ticks": ""
           }
          },
          "scene": {
           "xaxis": {
            "backgroundcolor": "#E5ECF6",
            "gridcolor": "white",
            "gridwidth": 2,
            "linecolor": "white",
            "showbackground": true,
            "ticks": "",
            "zerolinecolor": "white"
           },
           "yaxis": {
            "backgroundcolor": "#E5ECF6",
            "gridcolor": "white",
            "gridwidth": 2,
            "linecolor": "white",
            "showbackground": true,
            "ticks": "",
            "zerolinecolor": "white"
           },
           "zaxis": {
            "backgroundcolor": "#E5ECF6",
            "gridcolor": "white",
            "gridwidth": 2,
            "linecolor": "white",
            "showbackground": true,
            "ticks": "",
            "zerolinecolor": "white"
           }
          },
          "shapedefaults": {
           "line": {
            "color": "#2a3f5f"
           }
          },
          "ternary": {
           "aaxis": {
            "gridcolor": "white",
            "linecolor": "white",
            "ticks": ""
           },
           "baxis": {
            "gridcolor": "white",
            "linecolor": "white",
            "ticks": ""
           },
           "bgcolor": "#E5ECF6",
           "caxis": {
            "gridcolor": "white",
            "linecolor": "white",
            "ticks": ""
           }
          },
          "title": {
           "x": 0.05
          },
          "xaxis": {
           "automargin": true,
           "gridcolor": "white",
           "linecolor": "white",
           "ticks": "",
           "title": {
            "standoff": 15
           },
           "zerolinecolor": "white",
           "zerolinewidth": 2
          },
          "yaxis": {
           "automargin": true,
           "gridcolor": "white",
           "linecolor": "white",
           "ticks": "",
           "title": {
            "standoff": 15
           },
           "zerolinecolor": "white",
           "zerolinewidth": 2
          }
         }
        },
        "title": {
         "text": "Distribution of CO2 Emissions by Type"
        },
        "width": 800
       }
      }
     },
     "metadata": {},
     "output_type": "display_data"
    }
   ],
   "source": [
    "# We create a new dataset grouping by the elements and we summing the emissions\n",
    "data_pie = df_emissions_long.groupby('Element')['Emissions'].sum().reset_index()\n",
    "\n",
    "# We calculate the total and the percentages of the various elements\n",
    "total_percentage_emissions = data_pie['Emissions'].sum()\n",
    "data_pie['Percentage'] = (data_pie['Emissions'] / total_percentage_emissions) * 100\n",
    "\n",
    "# We treat the emissions under 5% as a single element to keep the graph clear. To do this\n",
    "# we created a separated dataframe containing the sum of the other elements and their percentage over the total\n",
    "main_elements = data_pie[data_pie['Percentage'] >= 5]\n",
    "other_elements = data_pie[data_pie['Percentage'] < 5]\n",
    "others_total = other_elements['Emissions'].sum()\n",
    "\n",
    "others_row = pd.DataFrame({\n",
    "    'Element': ['Others'],\n",
    "    'Emissions': [others_total],\n",
    "    'Percentage': [(others_total / total_percentage_emissions) * 100]\n",
    "})\n",
    "data_pie_final = pd.concat([main_elements, others_row], ignore_index=True)\n",
    "\n",
    "palette = sns.color_palette(\"plasma\", len(data_pie_final)).as_hex()\n",
    "\n",
    "# Creating the interactive pie chart\n",
    "fig = px.pie(\n",
    "    data_pie_final, \n",
    "    values='Emissions', \n",
    "    names='Element', \n",
    "    title='Distribution of CO2 Emissions by Type',\n",
    "    color_discrete_sequence=palette,\n",
    "    hole=0.3\n",
    ")\n",
    "\n",
    "fig.update_layout(width=800, height=600)\n",
    "fig.show()\n",
    "\n"
   ]
  },
  {
   "cell_type": "markdown",
   "metadata": {},
   "source": [
    "We can observe how the main polluting gas is CO2, having a share of 80% among all polluting gasses, and it is followed by methane (12.9 %) and nitrous oxide (5.5%). Other gasses only occupy 1.5% of the total share."
   ]
  },
  {
   "cell_type": "markdown",
   "metadata": {},
   "source": [
    "Now we want to graphically check per year the trend of total emissions, to do that, we'll create a bar graph, as done below:"
   ]
  },
  {
   "cell_type": "code",
   "execution_count": null,
   "metadata": {},
   "outputs": [
    {
     "data": {
      "application/vnd.plotly.v1+json": {
       "config": {
        "plotlyServerURL": "https://plot.ly"
       },
       "data": [
        {
         "alignmentgroup": "True",
         "hovertemplate": "Year=%{x}<br>Total Emissions (in kilotonnes)=%{marker.color}<extra></extra>",
         "legendgroup": "",
         "marker": {
          "color": [
           403942635.3438,
           401056550.67025,
           415368750.1816352,
           421987120.7397705,
           441046708.9557057,
           443638223.3396409,
           455922783.7180761,
           453883703.79436135,
           460689675.3159466,
           461387040.0423818,
           464202540.51700455,
           470615440.60282725,
           477122455.9959,
           478153020.6184,
           488885988.7946,
           490350459.81025,
           482482287.5293,
           489263485.8424,
           498578658.37,
           504250428.5347,
           485115232.2802
          ],
          "coloraxis": "coloraxis",
          "pattern": {
           "shape": ""
          }
         },
         "name": "",
         "offsetgroup": "",
         "orientation": "v",
         "showlegend": false,
         "textposition": "auto",
         "type": "bar",
         "x": [
          "2000-01-01T00:00:00",
          "2001-01-01T00:00:00",
          "2002-01-01T00:00:00",
          "2003-01-01T00:00:00",
          "2004-01-01T00:00:00",
          "2005-01-01T00:00:00",
          "2006-01-01T00:00:00",
          "2007-01-01T00:00:00",
          "2008-01-01T00:00:00",
          "2009-01-01T00:00:00",
          "2010-01-01T00:00:00",
          "2011-01-01T00:00:00",
          "2012-01-01T00:00:00",
          "2013-01-01T00:00:00",
          "2014-01-01T00:00:00",
          "2015-01-01T00:00:00",
          "2016-01-01T00:00:00",
          "2017-01-01T00:00:00",
          "2018-01-01T00:00:00",
          "2019-01-01T00:00:00",
          "2020-01-01T00:00:00"
         ],
         "xaxis": "x",
         "y": [
          403942635.3438,
          401056550.67025,
          415368750.1816352,
          421987120.7397705,
          441046708.9557057,
          443638223.3396409,
          455922783.7180761,
          453883703.79436135,
          460689675.3159466,
          461387040.0423818,
          464202540.51700455,
          470615440.60282725,
          477122455.9959,
          478153020.6184,
          488885988.7946,
          490350459.81025,
          482482287.5293,
          489263485.8424,
          498578658.37,
          504250428.5347,
          485115232.2802
         ],
         "yaxis": "y"
        }
       ],
       "layout": {
        "barmode": "relative",
        "coloraxis": {
         "colorbar": {
          "title": {
           "text": "Total Emissions (in kilotonnes)"
          }
         },
         "colorscale": [
          [
           0,
           "#0d0887"
          ],
          [
           0.1111111111111111,
           "#46039f"
          ],
          [
           0.2222222222222222,
           "#7201a8"
          ],
          [
           0.3333333333333333,
           "#9c179e"
          ],
          [
           0.4444444444444444,
           "#bd3786"
          ],
          [
           0.5555555555555556,
           "#d8576b"
          ],
          [
           0.6666666666666666,
           "#ed7953"
          ],
          [
           0.7777777777777778,
           "#fb9f3a"
          ],
          [
           0.8888888888888888,
           "#fdca26"
          ],
          [
           1,
           "#f0f921"
          ]
         ]
        },
        "legend": {
         "tracegroupgap": 0
        },
        "template": {
         "data": {
          "bar": [
           {
            "error_x": {
             "color": "#2a3f5f"
            },
            "error_y": {
             "color": "#2a3f5f"
            },
            "marker": {
             "line": {
              "color": "#E5ECF6",
              "width": 0.5
             },
             "pattern": {
              "fillmode": "overlay",
              "size": 10,
              "solidity": 0.2
             }
            },
            "type": "bar"
           }
          ],
          "barpolar": [
           {
            "marker": {
             "line": {
              "color": "#E5ECF6",
              "width": 0.5
             },
             "pattern": {
              "fillmode": "overlay",
              "size": 10,
              "solidity": 0.2
             }
            },
            "type": "barpolar"
           }
          ],
          "carpet": [
           {
            "aaxis": {
             "endlinecolor": "#2a3f5f",
             "gridcolor": "white",
             "linecolor": "white",
             "minorgridcolor": "white",
             "startlinecolor": "#2a3f5f"
            },
            "baxis": {
             "endlinecolor": "#2a3f5f",
             "gridcolor": "white",
             "linecolor": "white",
             "minorgridcolor": "white",
             "startlinecolor": "#2a3f5f"
            },
            "type": "carpet"
           }
          ],
          "choropleth": [
           {
            "colorbar": {
             "outlinewidth": 0,
             "ticks": ""
            },
            "type": "choropleth"
           }
          ],
          "contour": [
           {
            "colorbar": {
             "outlinewidth": 0,
             "ticks": ""
            },
            "colorscale": [
             [
              0,
              "#0d0887"
             ],
             [
              0.1111111111111111,
              "#46039f"
             ],
             [
              0.2222222222222222,
              "#7201a8"
             ],
             [
              0.3333333333333333,
              "#9c179e"
             ],
             [
              0.4444444444444444,
              "#bd3786"
             ],
             [
              0.5555555555555556,
              "#d8576b"
             ],
             [
              0.6666666666666666,
              "#ed7953"
             ],
             [
              0.7777777777777778,
              "#fb9f3a"
             ],
             [
              0.8888888888888888,
              "#fdca26"
             ],
             [
              1,
              "#f0f921"
             ]
            ],
            "type": "contour"
           }
          ],
          "contourcarpet": [
           {
            "colorbar": {
             "outlinewidth": 0,
             "ticks": ""
            },
            "type": "contourcarpet"
           }
          ],
          "heatmap": [
           {
            "colorbar": {
             "outlinewidth": 0,
             "ticks": ""
            },
            "colorscale": [
             [
              0,
              "#0d0887"
             ],
             [
              0.1111111111111111,
              "#46039f"
             ],
             [
              0.2222222222222222,
              "#7201a8"
             ],
             [
              0.3333333333333333,
              "#9c179e"
             ],
             [
              0.4444444444444444,
              "#bd3786"
             ],
             [
              0.5555555555555556,
              "#d8576b"
             ],
             [
              0.6666666666666666,
              "#ed7953"
             ],
             [
              0.7777777777777778,
              "#fb9f3a"
             ],
             [
              0.8888888888888888,
              "#fdca26"
             ],
             [
              1,
              "#f0f921"
             ]
            ],
            "type": "heatmap"
           }
          ],
          "heatmapgl": [
           {
            "colorbar": {
             "outlinewidth": 0,
             "ticks": ""
            },
            "colorscale": [
             [
              0,
              "#0d0887"
             ],
             [
              0.1111111111111111,
              "#46039f"
             ],
             [
              0.2222222222222222,
              "#7201a8"
             ],
             [
              0.3333333333333333,
              "#9c179e"
             ],
             [
              0.4444444444444444,
              "#bd3786"
             ],
             [
              0.5555555555555556,
              "#d8576b"
             ],
             [
              0.6666666666666666,
              "#ed7953"
             ],
             [
              0.7777777777777778,
              "#fb9f3a"
             ],
             [
              0.8888888888888888,
              "#fdca26"
             ],
             [
              1,
              "#f0f921"
             ]
            ],
            "type": "heatmapgl"
           }
          ],
          "histogram": [
           {
            "marker": {
             "pattern": {
              "fillmode": "overlay",
              "size": 10,
              "solidity": 0.2
             }
            },
            "type": "histogram"
           }
          ],
          "histogram2d": [
           {
            "colorbar": {
             "outlinewidth": 0,
             "ticks": ""
            },
            "colorscale": [
             [
              0,
              "#0d0887"
             ],
             [
              0.1111111111111111,
              "#46039f"
             ],
             [
              0.2222222222222222,
              "#7201a8"
             ],
             [
              0.3333333333333333,
              "#9c179e"
             ],
             [
              0.4444444444444444,
              "#bd3786"
             ],
             [
              0.5555555555555556,
              "#d8576b"
             ],
             [
              0.6666666666666666,
              "#ed7953"
             ],
             [
              0.7777777777777778,
              "#fb9f3a"
             ],
             [
              0.8888888888888888,
              "#fdca26"
             ],
             [
              1,
              "#f0f921"
             ]
            ],
            "type": "histogram2d"
           }
          ],
          "histogram2dcontour": [
           {
            "colorbar": {
             "outlinewidth": 0,
             "ticks": ""
            },
            "colorscale": [
             [
              0,
              "#0d0887"
             ],
             [
              0.1111111111111111,
              "#46039f"
             ],
             [
              0.2222222222222222,
              "#7201a8"
             ],
             [
              0.3333333333333333,
              "#9c179e"
             ],
             [
              0.4444444444444444,
              "#bd3786"
             ],
             [
              0.5555555555555556,
              "#d8576b"
             ],
             [
              0.6666666666666666,
              "#ed7953"
             ],
             [
              0.7777777777777778,
              "#fb9f3a"
             ],
             [
              0.8888888888888888,
              "#fdca26"
             ],
             [
              1,
              "#f0f921"
             ]
            ],
            "type": "histogram2dcontour"
           }
          ],
          "mesh3d": [
           {
            "colorbar": {
             "outlinewidth": 0,
             "ticks": ""
            },
            "type": "mesh3d"
           }
          ],
          "parcoords": [
           {
            "line": {
             "colorbar": {
              "outlinewidth": 0,
              "ticks": ""
             }
            },
            "type": "parcoords"
           }
          ],
          "pie": [
           {
            "automargin": true,
            "type": "pie"
           }
          ],
          "scatter": [
           {
            "fillpattern": {
             "fillmode": "overlay",
             "size": 10,
             "solidity": 0.2
            },
            "type": "scatter"
           }
          ],
          "scatter3d": [
           {
            "line": {
             "colorbar": {
              "outlinewidth": 0,
              "ticks": ""
             }
            },
            "marker": {
             "colorbar": {
              "outlinewidth": 0,
              "ticks": ""
             }
            },
            "type": "scatter3d"
           }
          ],
          "scattercarpet": [
           {
            "marker": {
             "colorbar": {
              "outlinewidth": 0,
              "ticks": ""
             }
            },
            "type": "scattercarpet"
           }
          ],
          "scattergeo": [
           {
            "marker": {
             "colorbar": {
              "outlinewidth": 0,
              "ticks": ""
             }
            },
            "type": "scattergeo"
           }
          ],
          "scattergl": [
           {
            "marker": {
             "colorbar": {
              "outlinewidth": 0,
              "ticks": ""
             }
            },
            "type": "scattergl"
           }
          ],
          "scattermapbox": [
           {
            "marker": {
             "colorbar": {
              "outlinewidth": 0,
              "ticks": ""
             }
            },
            "type": "scattermapbox"
           }
          ],
          "scatterpolar": [
           {
            "marker": {
             "colorbar": {
              "outlinewidth": 0,
              "ticks": ""
             }
            },
            "type": "scatterpolar"
           }
          ],
          "scatterpolargl": [
           {
            "marker": {
             "colorbar": {
              "outlinewidth": 0,
              "ticks": ""
             }
            },
            "type": "scatterpolargl"
           }
          ],
          "scatterternary": [
           {
            "marker": {
             "colorbar": {
              "outlinewidth": 0,
              "ticks": ""
             }
            },
            "type": "scatterternary"
           }
          ],
          "surface": [
           {
            "colorbar": {
             "outlinewidth": 0,
             "ticks": ""
            },
            "colorscale": [
             [
              0,
              "#0d0887"
             ],
             [
              0.1111111111111111,
              "#46039f"
             ],
             [
              0.2222222222222222,
              "#7201a8"
             ],
             [
              0.3333333333333333,
              "#9c179e"
             ],
             [
              0.4444444444444444,
              "#bd3786"
             ],
             [
              0.5555555555555556,
              "#d8576b"
             ],
             [
              0.6666666666666666,
              "#ed7953"
             ],
             [
              0.7777777777777778,
              "#fb9f3a"
             ],
             [
              0.8888888888888888,
              "#fdca26"
             ],
             [
              1,
              "#f0f921"
             ]
            ],
            "type": "surface"
           }
          ],
          "table": [
           {
            "cells": {
             "fill": {
              "color": "#EBF0F8"
             },
             "line": {
              "color": "white"
             }
            },
            "header": {
             "fill": {
              "color": "#C8D4E3"
             },
             "line": {
              "color": "white"
             }
            },
            "type": "table"
           }
          ]
         },
         "layout": {
          "annotationdefaults": {
           "arrowcolor": "#2a3f5f",
           "arrowhead": 0,
           "arrowwidth": 1
          },
          "autotypenumbers": "strict",
          "coloraxis": {
           "colorbar": {
            "outlinewidth": 0,
            "ticks": ""
           }
          },
          "colorscale": {
           "diverging": [
            [
             0,
             "#8e0152"
            ],
            [
             0.1,
             "#c51b7d"
            ],
            [
             0.2,
             "#de77ae"
            ],
            [
             0.3,
             "#f1b6da"
            ],
            [
             0.4,
             "#fde0ef"
            ],
            [
             0.5,
             "#f7f7f7"
            ],
            [
             0.6,
             "#e6f5d0"
            ],
            [
             0.7,
             "#b8e186"
            ],
            [
             0.8,
             "#7fbc41"
            ],
            [
             0.9,
             "#4d9221"
            ],
            [
             1,
             "#276419"
            ]
           ],
           "sequential": [
            [
             0,
             "#0d0887"
            ],
            [
             0.1111111111111111,
             "#46039f"
            ],
            [
             0.2222222222222222,
             "#7201a8"
            ],
            [
             0.3333333333333333,
             "#9c179e"
            ],
            [
             0.4444444444444444,
             "#bd3786"
            ],
            [
             0.5555555555555556,
             "#d8576b"
            ],
            [
             0.6666666666666666,
             "#ed7953"
            ],
            [
             0.7777777777777778,
             "#fb9f3a"
            ],
            [
             0.8888888888888888,
             "#fdca26"
            ],
            [
             1,
             "#f0f921"
            ]
           ],
           "sequentialminus": [
            [
             0,
             "#0d0887"
            ],
            [
             0.1111111111111111,
             "#46039f"
            ],
            [
             0.2222222222222222,
             "#7201a8"
            ],
            [
             0.3333333333333333,
             "#9c179e"
            ],
            [
             0.4444444444444444,
             "#bd3786"
            ],
            [
             0.5555555555555556,
             "#d8576b"
            ],
            [
             0.6666666666666666,
             "#ed7953"
            ],
            [
             0.7777777777777778,
             "#fb9f3a"
            ],
            [
             0.8888888888888888,
             "#fdca26"
            ],
            [
             1,
             "#f0f921"
            ]
           ]
          },
          "colorway": [
           "#636efa",
           "#EF553B",
           "#00cc96",
           "#ab63fa",
           "#FFA15A",
           "#19d3f3",
           "#FF6692",
           "#B6E880",
           "#FF97FF",
           "#FECB52"
          ],
          "font": {
           "color": "#2a3f5f"
          },
          "geo": {
           "bgcolor": "white",
           "lakecolor": "white",
           "landcolor": "#E5ECF6",
           "showlakes": true,
           "showland": true,
           "subunitcolor": "white"
          },
          "hoverlabel": {
           "align": "left"
          },
          "hovermode": "closest",
          "mapbox": {
           "style": "light"
          },
          "paper_bgcolor": "white",
          "plot_bgcolor": "#E5ECF6",
          "polar": {
           "angularaxis": {
            "gridcolor": "white",
            "linecolor": "white",
            "ticks": ""
           },
           "bgcolor": "#E5ECF6",
           "radialaxis": {
            "gridcolor": "white",
            "linecolor": "white",
            "ticks": ""
           }
          },
          "scene": {
           "xaxis": {
            "backgroundcolor": "#E5ECF6",
            "gridcolor": "white",
            "gridwidth": 2,
            "linecolor": "white",
            "showbackground": true,
            "ticks": "",
            "zerolinecolor": "white"
           },
           "yaxis": {
            "backgroundcolor": "#E5ECF6",
            "gridcolor": "white",
            "gridwidth": 2,
            "linecolor": "white",
            "showbackground": true,
            "ticks": "",
            "zerolinecolor": "white"
           },
           "zaxis": {
            "backgroundcolor": "#E5ECF6",
            "gridcolor": "white",
            "gridwidth": 2,
            "linecolor": "white",
            "showbackground": true,
            "ticks": "",
            "zerolinecolor": "white"
           }
          },
          "shapedefaults": {
           "line": {
            "color": "#2a3f5f"
           }
          },
          "ternary": {
           "aaxis": {
            "gridcolor": "white",
            "linecolor": "white",
            "ticks": ""
           },
           "baxis": {
            "gridcolor": "white",
            "linecolor": "white",
            "ticks": ""
           },
           "bgcolor": "#E5ECF6",
           "caxis": {
            "gridcolor": "white",
            "linecolor": "white",
            "ticks": ""
           }
          },
          "title": {
           "x": 0.05
          },
          "xaxis": {
           "automargin": true,
           "gridcolor": "white",
           "linecolor": "white",
           "ticks": "",
           "title": {
            "standoff": 15
           },
           "zerolinecolor": "white",
           "zerolinewidth": 2
          },
          "yaxis": {
           "automargin": true,
           "gridcolor": "white",
           "linecolor": "white",
           "ticks": "",
           "title": {
            "standoff": 15
           },
           "zerolinecolor": "white",
           "zerolinewidth": 2
          }
         }
        },
        "title": {
         "text": "Total CO2 Emissions by Year"
        },
        "xaxis": {
         "anchor": "y",
         "domain": [
          0,
          1
         ],
         "title": {
          "text": "Year"
         }
        },
        "yaxis": {
         "anchor": "x",
         "domain": [
          0,
          1
         ],
         "title": {
          "text": "Total Emissions (in kilotonnes)"
         }
        }
       }
      }
     },
     "metadata": {},
     "output_type": "display_data"
    }
   ],
   "source": [
    "# We group the data by the year to sum all the emissions\n",
    "total_emissions_by_year = df_emissions_long.groupby('Year')['Emissions'].sum().reset_index()\n",
    "\n",
    "fig = px.bar(\n",
    "    total_emissions_by_year, \n",
    "    x='Year', \n",
    "    y='Emissions', \n",
    "    title='Total CO2 Emissions by Year', \n",
    "    labels={'Emissions': 'Total Emissions (in kilotonnes)', 'Year': 'Year'},\n",
    "    color='Emissions', \n",
    "    color_continuous_scale='Plasma'\n",
    ")\n",
    "\n",
    "fig.show()\n"
   ]
  },
  {
   "cell_type": "markdown",
   "metadata": {},
   "source": [
    "We immediatly notice that the emissions have been steadily increasing over the years. With respect to 2000, in 2020 the emissions have gone up by approximately 20%"
   ]
  },
  {
   "cell_type": "markdown",
   "metadata": {},
   "source": [
    "Finally, we do the top 10 countries based on total emissions:"
   ]
  },
  {
   "cell_type": "code",
   "execution_count": 20,
   "metadata": {},
   "outputs": [
    {
     "data": {
      "application/vnd.plotly.v1+json": {
       "config": {
        "plotlyServerURL": "https://plot.ly"
       },
       "data": [
        {
         "alignmentgroup": "True",
         "hovertemplate": "Country=%{x}<br>Total Emissions=%{marker.color}<extra></extra>",
         "legendgroup": "",
         "marker": {
          "color": [
           1635841251.94205,
           1078468742.2406,
           665985681.81935,
           648043317.54665,
           427892787.14345,
           358007773.4801,
           228846977.92875,
           208777681.1194,
           179760701.9473,
           159269921.6898
          ],
          "coloraxis": "coloraxis",
          "pattern": {
           "shape": ""
          }
         },
         "name": "",
         "offsetgroup": "",
         "orientation": "v",
         "showlegend": false,
         "textposition": "auto",
         "type": "bar",
         "x": [
          "China",
          "United States of America",
          "Brazil",
          "India",
          "Indonesia",
          "Russian Federation",
          "Democratic Republic of the Congo",
          "Japan",
          "Canada",
          "Germany"
         ],
         "xaxis": "x",
         "y": [
          1635841251.94205,
          1078468742.2406,
          665985681.81935,
          648043317.54665,
          427892787.14345,
          358007773.4801,
          228846977.92875,
          208777681.1194,
          179760701.9473,
          159269921.6898
         ],
         "yaxis": "y"
        }
       ],
       "layout": {
        "barmode": "relative",
        "coloraxis": {
         "colorbar": {
          "title": {
           "text": "Total Emissions"
          }
         },
         "colorscale": [
          [
           0,
           "#0d0887"
          ],
          [
           0.1111111111111111,
           "#46039f"
          ],
          [
           0.2222222222222222,
           "#7201a8"
          ],
          [
           0.3333333333333333,
           "#9c179e"
          ],
          [
           0.4444444444444444,
           "#bd3786"
          ],
          [
           0.5555555555555556,
           "#d8576b"
          ],
          [
           0.6666666666666666,
           "#ed7953"
          ],
          [
           0.7777777777777778,
           "#fb9f3a"
          ],
          [
           0.8888888888888888,
           "#fdca26"
          ],
          [
           1,
           "#f0f921"
          ]
         ]
        },
        "legend": {
         "tracegroupgap": 0
        },
        "template": {
         "data": {
          "bar": [
           {
            "error_x": {
             "color": "#2a3f5f"
            },
            "error_y": {
             "color": "#2a3f5f"
            },
            "marker": {
             "line": {
              "color": "#E5ECF6",
              "width": 0.5
             },
             "pattern": {
              "fillmode": "overlay",
              "size": 10,
              "solidity": 0.2
             }
            },
            "type": "bar"
           }
          ],
          "barpolar": [
           {
            "marker": {
             "line": {
              "color": "#E5ECF6",
              "width": 0.5
             },
             "pattern": {
              "fillmode": "overlay",
              "size": 10,
              "solidity": 0.2
             }
            },
            "type": "barpolar"
           }
          ],
          "carpet": [
           {
            "aaxis": {
             "endlinecolor": "#2a3f5f",
             "gridcolor": "white",
             "linecolor": "white",
             "minorgridcolor": "white",
             "startlinecolor": "#2a3f5f"
            },
            "baxis": {
             "endlinecolor": "#2a3f5f",
             "gridcolor": "white",
             "linecolor": "white",
             "minorgridcolor": "white",
             "startlinecolor": "#2a3f5f"
            },
            "type": "carpet"
           }
          ],
          "choropleth": [
           {
            "colorbar": {
             "outlinewidth": 0,
             "ticks": ""
            },
            "type": "choropleth"
           }
          ],
          "contour": [
           {
            "colorbar": {
             "outlinewidth": 0,
             "ticks": ""
            },
            "colorscale": [
             [
              0,
              "#0d0887"
             ],
             [
              0.1111111111111111,
              "#46039f"
             ],
             [
              0.2222222222222222,
              "#7201a8"
             ],
             [
              0.3333333333333333,
              "#9c179e"
             ],
             [
              0.4444444444444444,
              "#bd3786"
             ],
             [
              0.5555555555555556,
              "#d8576b"
             ],
             [
              0.6666666666666666,
              "#ed7953"
             ],
             [
              0.7777777777777778,
              "#fb9f3a"
             ],
             [
              0.8888888888888888,
              "#fdca26"
             ],
             [
              1,
              "#f0f921"
             ]
            ],
            "type": "contour"
           }
          ],
          "contourcarpet": [
           {
            "colorbar": {
             "outlinewidth": 0,
             "ticks": ""
            },
            "type": "contourcarpet"
           }
          ],
          "heatmap": [
           {
            "colorbar": {
             "outlinewidth": 0,
             "ticks": ""
            },
            "colorscale": [
             [
              0,
              "#0d0887"
             ],
             [
              0.1111111111111111,
              "#46039f"
             ],
             [
              0.2222222222222222,
              "#7201a8"
             ],
             [
              0.3333333333333333,
              "#9c179e"
             ],
             [
              0.4444444444444444,
              "#bd3786"
             ],
             [
              0.5555555555555556,
              "#d8576b"
             ],
             [
              0.6666666666666666,
              "#ed7953"
             ],
             [
              0.7777777777777778,
              "#fb9f3a"
             ],
             [
              0.8888888888888888,
              "#fdca26"
             ],
             [
              1,
              "#f0f921"
             ]
            ],
            "type": "heatmap"
           }
          ],
          "heatmapgl": [
           {
            "colorbar": {
             "outlinewidth": 0,
             "ticks": ""
            },
            "colorscale": [
             [
              0,
              "#0d0887"
             ],
             [
              0.1111111111111111,
              "#46039f"
             ],
             [
              0.2222222222222222,
              "#7201a8"
             ],
             [
              0.3333333333333333,
              "#9c179e"
             ],
             [
              0.4444444444444444,
              "#bd3786"
             ],
             [
              0.5555555555555556,
              "#d8576b"
             ],
             [
              0.6666666666666666,
              "#ed7953"
             ],
             [
              0.7777777777777778,
              "#fb9f3a"
             ],
             [
              0.8888888888888888,
              "#fdca26"
             ],
             [
              1,
              "#f0f921"
             ]
            ],
            "type": "heatmapgl"
           }
          ],
          "histogram": [
           {
            "marker": {
             "pattern": {
              "fillmode": "overlay",
              "size": 10,
              "solidity": 0.2
             }
            },
            "type": "histogram"
           }
          ],
          "histogram2d": [
           {
            "colorbar": {
             "outlinewidth": 0,
             "ticks": ""
            },
            "colorscale": [
             [
              0,
              "#0d0887"
             ],
             [
              0.1111111111111111,
              "#46039f"
             ],
             [
              0.2222222222222222,
              "#7201a8"
             ],
             [
              0.3333333333333333,
              "#9c179e"
             ],
             [
              0.4444444444444444,
              "#bd3786"
             ],
             [
              0.5555555555555556,
              "#d8576b"
             ],
             [
              0.6666666666666666,
              "#ed7953"
             ],
             [
              0.7777777777777778,
              "#fb9f3a"
             ],
             [
              0.8888888888888888,
              "#fdca26"
             ],
             [
              1,
              "#f0f921"
             ]
            ],
            "type": "histogram2d"
           }
          ],
          "histogram2dcontour": [
           {
            "colorbar": {
             "outlinewidth": 0,
             "ticks": ""
            },
            "colorscale": [
             [
              0,
              "#0d0887"
             ],
             [
              0.1111111111111111,
              "#46039f"
             ],
             [
              0.2222222222222222,
              "#7201a8"
             ],
             [
              0.3333333333333333,
              "#9c179e"
             ],
             [
              0.4444444444444444,
              "#bd3786"
             ],
             [
              0.5555555555555556,
              "#d8576b"
             ],
             [
              0.6666666666666666,
              "#ed7953"
             ],
             [
              0.7777777777777778,
              "#fb9f3a"
             ],
             [
              0.8888888888888888,
              "#fdca26"
             ],
             [
              1,
              "#f0f921"
             ]
            ],
            "type": "histogram2dcontour"
           }
          ],
          "mesh3d": [
           {
            "colorbar": {
             "outlinewidth": 0,
             "ticks": ""
            },
            "type": "mesh3d"
           }
          ],
          "parcoords": [
           {
            "line": {
             "colorbar": {
              "outlinewidth": 0,
              "ticks": ""
             }
            },
            "type": "parcoords"
           }
          ],
          "pie": [
           {
            "automargin": true,
            "type": "pie"
           }
          ],
          "scatter": [
           {
            "fillpattern": {
             "fillmode": "overlay",
             "size": 10,
             "solidity": 0.2
            },
            "type": "scatter"
           }
          ],
          "scatter3d": [
           {
            "line": {
             "colorbar": {
              "outlinewidth": 0,
              "ticks": ""
             }
            },
            "marker": {
             "colorbar": {
              "outlinewidth": 0,
              "ticks": ""
             }
            },
            "type": "scatter3d"
           }
          ],
          "scattercarpet": [
           {
            "marker": {
             "colorbar": {
              "outlinewidth": 0,
              "ticks": ""
             }
            },
            "type": "scattercarpet"
           }
          ],
          "scattergeo": [
           {
            "marker": {
             "colorbar": {
              "outlinewidth": 0,
              "ticks": ""
             }
            },
            "type": "scattergeo"
           }
          ],
          "scattergl": [
           {
            "marker": {
             "colorbar": {
              "outlinewidth": 0,
              "ticks": ""
             }
            },
            "type": "scattergl"
           }
          ],
          "scattermapbox": [
           {
            "marker": {
             "colorbar": {
              "outlinewidth": 0,
              "ticks": ""
             }
            },
            "type": "scattermapbox"
           }
          ],
          "scatterpolar": [
           {
            "marker": {
             "colorbar": {
              "outlinewidth": 0,
              "ticks": ""
             }
            },
            "type": "scatterpolar"
           }
          ],
          "scatterpolargl": [
           {
            "marker": {
             "colorbar": {
              "outlinewidth": 0,
              "ticks": ""
             }
            },
            "type": "scatterpolargl"
           }
          ],
          "scatterternary": [
           {
            "marker": {
             "colorbar": {
              "outlinewidth": 0,
              "ticks": ""
             }
            },
            "type": "scatterternary"
           }
          ],
          "surface": [
           {
            "colorbar": {
             "outlinewidth": 0,
             "ticks": ""
            },
            "colorscale": [
             [
              0,
              "#0d0887"
             ],
             [
              0.1111111111111111,
              "#46039f"
             ],
             [
              0.2222222222222222,
              "#7201a8"
             ],
             [
              0.3333333333333333,
              "#9c179e"
             ],
             [
              0.4444444444444444,
              "#bd3786"
             ],
             [
              0.5555555555555556,
              "#d8576b"
             ],
             [
              0.6666666666666666,
              "#ed7953"
             ],
             [
              0.7777777777777778,
              "#fb9f3a"
             ],
             [
              0.8888888888888888,
              "#fdca26"
             ],
             [
              1,
              "#f0f921"
             ]
            ],
            "type": "surface"
           }
          ],
          "table": [
           {
            "cells": {
             "fill": {
              "color": "#EBF0F8"
             },
             "line": {
              "color": "white"
             }
            },
            "header": {
             "fill": {
              "color": "#C8D4E3"
             },
             "line": {
              "color": "white"
             }
            },
            "type": "table"
           }
          ]
         },
         "layout": {
          "annotationdefaults": {
           "arrowcolor": "#2a3f5f",
           "arrowhead": 0,
           "arrowwidth": 1
          },
          "autotypenumbers": "strict",
          "coloraxis": {
           "colorbar": {
            "outlinewidth": 0,
            "ticks": ""
           }
          },
          "colorscale": {
           "diverging": [
            [
             0,
             "#8e0152"
            ],
            [
             0.1,
             "#c51b7d"
            ],
            [
             0.2,
             "#de77ae"
            ],
            [
             0.3,
             "#f1b6da"
            ],
            [
             0.4,
             "#fde0ef"
            ],
            [
             0.5,
             "#f7f7f7"
            ],
            [
             0.6,
             "#e6f5d0"
            ],
            [
             0.7,
             "#b8e186"
            ],
            [
             0.8,
             "#7fbc41"
            ],
            [
             0.9,
             "#4d9221"
            ],
            [
             1,
             "#276419"
            ]
           ],
           "sequential": [
            [
             0,
             "#0d0887"
            ],
            [
             0.1111111111111111,
             "#46039f"
            ],
            [
             0.2222222222222222,
             "#7201a8"
            ],
            [
             0.3333333333333333,
             "#9c179e"
            ],
            [
             0.4444444444444444,
             "#bd3786"
            ],
            [
             0.5555555555555556,
             "#d8576b"
            ],
            [
             0.6666666666666666,
             "#ed7953"
            ],
            [
             0.7777777777777778,
             "#fb9f3a"
            ],
            [
             0.8888888888888888,
             "#fdca26"
            ],
            [
             1,
             "#f0f921"
            ]
           ],
           "sequentialminus": [
            [
             0,
             "#0d0887"
            ],
            [
             0.1111111111111111,
             "#46039f"
            ],
            [
             0.2222222222222222,
             "#7201a8"
            ],
            [
             0.3333333333333333,
             "#9c179e"
            ],
            [
             0.4444444444444444,
             "#bd3786"
            ],
            [
             0.5555555555555556,
             "#d8576b"
            ],
            [
             0.6666666666666666,
             "#ed7953"
            ],
            [
             0.7777777777777778,
             "#fb9f3a"
            ],
            [
             0.8888888888888888,
             "#fdca26"
            ],
            [
             1,
             "#f0f921"
            ]
           ]
          },
          "colorway": [
           "#636efa",
           "#EF553B",
           "#00cc96",
           "#ab63fa",
           "#FFA15A",
           "#19d3f3",
           "#FF6692",
           "#B6E880",
           "#FF97FF",
           "#FECB52"
          ],
          "font": {
           "color": "#2a3f5f"
          },
          "geo": {
           "bgcolor": "white",
           "lakecolor": "white",
           "landcolor": "#E5ECF6",
           "showlakes": true,
           "showland": true,
           "subunitcolor": "white"
          },
          "hoverlabel": {
           "align": "left"
          },
          "hovermode": "closest",
          "mapbox": {
           "style": "light"
          },
          "paper_bgcolor": "white",
          "plot_bgcolor": "#E5ECF6",
          "polar": {
           "angularaxis": {
            "gridcolor": "white",
            "linecolor": "white",
            "ticks": ""
           },
           "bgcolor": "#E5ECF6",
           "radialaxis": {
            "gridcolor": "white",
            "linecolor": "white",
            "ticks": ""
           }
          },
          "scene": {
           "xaxis": {
            "backgroundcolor": "#E5ECF6",
            "gridcolor": "white",
            "gridwidth": 2,
            "linecolor": "white",
            "showbackground": true,
            "ticks": "",
            "zerolinecolor": "white"
           },
           "yaxis": {
            "backgroundcolor": "#E5ECF6",
            "gridcolor": "white",
            "gridwidth": 2,
            "linecolor": "white",
            "showbackground": true,
            "ticks": "",
            "zerolinecolor": "white"
           },
           "zaxis": {
            "backgroundcolor": "#E5ECF6",
            "gridcolor": "white",
            "gridwidth": 2,
            "linecolor": "white",
            "showbackground": true,
            "ticks": "",
            "zerolinecolor": "white"
           }
          },
          "shapedefaults": {
           "line": {
            "color": "#2a3f5f"
           }
          },
          "ternary": {
           "aaxis": {
            "gridcolor": "white",
            "linecolor": "white",
            "ticks": ""
           },
           "baxis": {
            "gridcolor": "white",
            "linecolor": "white",
            "ticks": ""
           },
           "bgcolor": "#E5ECF6",
           "caxis": {
            "gridcolor": "white",
            "linecolor": "white",
            "ticks": ""
           }
          },
          "title": {
           "x": 0.05
          },
          "xaxis": {
           "automargin": true,
           "gridcolor": "white",
           "linecolor": "white",
           "ticks": "",
           "title": {
            "standoff": 15
           },
           "zerolinecolor": "white",
           "zerolinewidth": 2
          },
          "yaxis": {
           "automargin": true,
           "gridcolor": "white",
           "linecolor": "white",
           "ticks": "",
           "title": {
            "standoff": 15
           },
           "zerolinecolor": "white",
           "zerolinewidth": 2
          }
         }
        },
        "title": {
         "text": "Top 10 Countries with Highest Emissions"
        },
        "xaxis": {
         "anchor": "y",
         "domain": [
          0,
          1
         ],
         "tickangle": -45,
         "title": {
          "text": "Country"
         }
        },
        "yaxis": {
         "anchor": "x",
         "domain": [
          0,
          1
         ],
         "title": {
          "text": "Total Emissions"
         }
        }
       }
      }
     },
     "metadata": {},
     "output_type": "display_data"
    }
   ],
   "source": [
    "\n",
    "# We re-use the dataset of the total emissions for each country to create a bar chart of the top 5 emissions  \n",
    "# first, we sort the countries based on total emissions and take the top 5\n",
    "top_5 = df_total_emissions.sort_values(by='Emissions', ascending=False).head(10)\n",
    "\n",
    "# Create the bar chart\n",
    "fig = px.bar(top_5, \n",
    "    x='Country Name', \n",
    "    y='Emissions', \n",
    "    title='Top 10 Countries with Highest Emissions', \n",
    "    labels={'Emissions': 'Total Emissions', 'Country Name': 'Country'}, \n",
    "    color='Emissions', \n",
    "    color_continuous_scale='plasma'\n",
    ")\n",
    "\n",
    "fig.update_layout(xaxis_tickangle=-45)\n",
    "fig.show()\n"
   ]
  },
  {
   "cell_type": "markdown",
   "metadata": {},
   "source": [
    "The top 10 countries include major emerging and industrialized countries, with China leading as expected, followed by the United States and Brazil"
   ]
  },
  {
   "cell_type": "code",
   "execution_count": 21,
   "metadata": {},
   "outputs": [
    {
     "data": {
      "application/vnd.plotly.v1+json": {
       "config": {
        "plotlyServerURL": "https://plot.ly"
       },
       "data": [
        {
         "alignmentgroup": "True",
         "hovertemplate": "Country=%{x}<br>Total Emissions=%{marker.color}<extra></extra>",
         "legendgroup": "",
         "marker": {
          "color": [
           23.912,
           479.2159,
           776.1489,
           792.0971,
           981.6214,
           1053.2854,
           1693.8695,
           1723.92245,
           2156.4169,
           2890.486
          ],
          "coloraxis": "coloraxis",
          "pattern": {
           "shape": ""
          }
         },
         "name": "",
         "offsetgroup": "",
         "orientation": "v",
         "showlegend": false,
         "textposition": "auto",
         "type": "bar",
         "x": [
          "Norfolk Island",
          "Montserrat",
          "Guam",
          "Holy See",
          "Wallis and Futuna Islands",
          "Saint Pierre and Miquelon",
          "American Samoa",
          "Niue",
          "Saint Helena",
          "Channel Islands"
         ],
         "xaxis": "x",
         "y": [
          23.912,
          479.2159,
          776.1489,
          792.0971,
          981.6214,
          1053.2854,
          1693.8695,
          1723.92245,
          2156.4169,
          2890.486
         ],
         "yaxis": "y"
        }
       ],
       "layout": {
        "barmode": "relative",
        "coloraxis": {
         "colorbar": {
          "title": {
           "text": "Total Emissions"
          }
         },
         "colorscale": [
          [
           0,
           "#0d0887"
          ],
          [
           0.1111111111111111,
           "#46039f"
          ],
          [
           0.2222222222222222,
           "#7201a8"
          ],
          [
           0.3333333333333333,
           "#9c179e"
          ],
          [
           0.4444444444444444,
           "#bd3786"
          ],
          [
           0.5555555555555556,
           "#d8576b"
          ],
          [
           0.6666666666666666,
           "#ed7953"
          ],
          [
           0.7777777777777778,
           "#fb9f3a"
          ],
          [
           0.8888888888888888,
           "#fdca26"
          ],
          [
           1,
           "#f0f921"
          ]
         ]
        },
        "legend": {
         "tracegroupgap": 0
        },
        "template": {
         "data": {
          "bar": [
           {
            "error_x": {
             "color": "#2a3f5f"
            },
            "error_y": {
             "color": "#2a3f5f"
            },
            "marker": {
             "line": {
              "color": "#E5ECF6",
              "width": 0.5
             },
             "pattern": {
              "fillmode": "overlay",
              "size": 10,
              "solidity": 0.2
             }
            },
            "type": "bar"
           }
          ],
          "barpolar": [
           {
            "marker": {
             "line": {
              "color": "#E5ECF6",
              "width": 0.5
             },
             "pattern": {
              "fillmode": "overlay",
              "size": 10,
              "solidity": 0.2
             }
            },
            "type": "barpolar"
           }
          ],
          "carpet": [
           {
            "aaxis": {
             "endlinecolor": "#2a3f5f",
             "gridcolor": "white",
             "linecolor": "white",
             "minorgridcolor": "white",
             "startlinecolor": "#2a3f5f"
            },
            "baxis": {
             "endlinecolor": "#2a3f5f",
             "gridcolor": "white",
             "linecolor": "white",
             "minorgridcolor": "white",
             "startlinecolor": "#2a3f5f"
            },
            "type": "carpet"
           }
          ],
          "choropleth": [
           {
            "colorbar": {
             "outlinewidth": 0,
             "ticks": ""
            },
            "type": "choropleth"
           }
          ],
          "contour": [
           {
            "colorbar": {
             "outlinewidth": 0,
             "ticks": ""
            },
            "colorscale": [
             [
              0,
              "#0d0887"
             ],
             [
              0.1111111111111111,
              "#46039f"
             ],
             [
              0.2222222222222222,
              "#7201a8"
             ],
             [
              0.3333333333333333,
              "#9c179e"
             ],
             [
              0.4444444444444444,
              "#bd3786"
             ],
             [
              0.5555555555555556,
              "#d8576b"
             ],
             [
              0.6666666666666666,
              "#ed7953"
             ],
             [
              0.7777777777777778,
              "#fb9f3a"
             ],
             [
              0.8888888888888888,
              "#fdca26"
             ],
             [
              1,
              "#f0f921"
             ]
            ],
            "type": "contour"
           }
          ],
          "contourcarpet": [
           {
            "colorbar": {
             "outlinewidth": 0,
             "ticks": ""
            },
            "type": "contourcarpet"
           }
          ],
          "heatmap": [
           {
            "colorbar": {
             "outlinewidth": 0,
             "ticks": ""
            },
            "colorscale": [
             [
              0,
              "#0d0887"
             ],
             [
              0.1111111111111111,
              "#46039f"
             ],
             [
              0.2222222222222222,
              "#7201a8"
             ],
             [
              0.3333333333333333,
              "#9c179e"
             ],
             [
              0.4444444444444444,
              "#bd3786"
             ],
             [
              0.5555555555555556,
              "#d8576b"
             ],
             [
              0.6666666666666666,
              "#ed7953"
             ],
             [
              0.7777777777777778,
              "#fb9f3a"
             ],
             [
              0.8888888888888888,
              "#fdca26"
             ],
             [
              1,
              "#f0f921"
             ]
            ],
            "type": "heatmap"
           }
          ],
          "heatmapgl": [
           {
            "colorbar": {
             "outlinewidth": 0,
             "ticks": ""
            },
            "colorscale": [
             [
              0,
              "#0d0887"
             ],
             [
              0.1111111111111111,
              "#46039f"
             ],
             [
              0.2222222222222222,
              "#7201a8"
             ],
             [
              0.3333333333333333,
              "#9c179e"
             ],
             [
              0.4444444444444444,
              "#bd3786"
             ],
             [
              0.5555555555555556,
              "#d8576b"
             ],
             [
              0.6666666666666666,
              "#ed7953"
             ],
             [
              0.7777777777777778,
              "#fb9f3a"
             ],
             [
              0.8888888888888888,
              "#fdca26"
             ],
             [
              1,
              "#f0f921"
             ]
            ],
            "type": "heatmapgl"
           }
          ],
          "histogram": [
           {
            "marker": {
             "pattern": {
              "fillmode": "overlay",
              "size": 10,
              "solidity": 0.2
             }
            },
            "type": "histogram"
           }
          ],
          "histogram2d": [
           {
            "colorbar": {
             "outlinewidth": 0,
             "ticks": ""
            },
            "colorscale": [
             [
              0,
              "#0d0887"
             ],
             [
              0.1111111111111111,
              "#46039f"
             ],
             [
              0.2222222222222222,
              "#7201a8"
             ],
             [
              0.3333333333333333,
              "#9c179e"
             ],
             [
              0.4444444444444444,
              "#bd3786"
             ],
             [
              0.5555555555555556,
              "#d8576b"
             ],
             [
              0.6666666666666666,
              "#ed7953"
             ],
             [
              0.7777777777777778,
              "#fb9f3a"
             ],
             [
              0.8888888888888888,
              "#fdca26"
             ],
             [
              1,
              "#f0f921"
             ]
            ],
            "type": "histogram2d"
           }
          ],
          "histogram2dcontour": [
           {
            "colorbar": {
             "outlinewidth": 0,
             "ticks": ""
            },
            "colorscale": [
             [
              0,
              "#0d0887"
             ],
             [
              0.1111111111111111,
              "#46039f"
             ],
             [
              0.2222222222222222,
              "#7201a8"
             ],
             [
              0.3333333333333333,
              "#9c179e"
             ],
             [
              0.4444444444444444,
              "#bd3786"
             ],
             [
              0.5555555555555556,
              "#d8576b"
             ],
             [
              0.6666666666666666,
              "#ed7953"
             ],
             [
              0.7777777777777778,
              "#fb9f3a"
             ],
             [
              0.8888888888888888,
              "#fdca26"
             ],
             [
              1,
              "#f0f921"
             ]
            ],
            "type": "histogram2dcontour"
           }
          ],
          "mesh3d": [
           {
            "colorbar": {
             "outlinewidth": 0,
             "ticks": ""
            },
            "type": "mesh3d"
           }
          ],
          "parcoords": [
           {
            "line": {
             "colorbar": {
              "outlinewidth": 0,
              "ticks": ""
             }
            },
            "type": "parcoords"
           }
          ],
          "pie": [
           {
            "automargin": true,
            "type": "pie"
           }
          ],
          "scatter": [
           {
            "fillpattern": {
             "fillmode": "overlay",
             "size": 10,
             "solidity": 0.2
            },
            "type": "scatter"
           }
          ],
          "scatter3d": [
           {
            "line": {
             "colorbar": {
              "outlinewidth": 0,
              "ticks": ""
             }
            },
            "marker": {
             "colorbar": {
              "outlinewidth": 0,
              "ticks": ""
             }
            },
            "type": "scatter3d"
           }
          ],
          "scattercarpet": [
           {
            "marker": {
             "colorbar": {
              "outlinewidth": 0,
              "ticks": ""
             }
            },
            "type": "scattercarpet"
           }
          ],
          "scattergeo": [
           {
            "marker": {
             "colorbar": {
              "outlinewidth": 0,
              "ticks": ""
             }
            },
            "type": "scattergeo"
           }
          ],
          "scattergl": [
           {
            "marker": {
             "colorbar": {
              "outlinewidth": 0,
              "ticks": ""
             }
            },
            "type": "scattergl"
           }
          ],
          "scattermapbox": [
           {
            "marker": {
             "colorbar": {
              "outlinewidth": 0,
              "ticks": ""
             }
            },
            "type": "scattermapbox"
           }
          ],
          "scatterpolar": [
           {
            "marker": {
             "colorbar": {
              "outlinewidth": 0,
              "ticks": ""
             }
            },
            "type": "scatterpolar"
           }
          ],
          "scatterpolargl": [
           {
            "marker": {
             "colorbar": {
              "outlinewidth": 0,
              "ticks": ""
             }
            },
            "type": "scatterpolargl"
           }
          ],
          "scatterternary": [
           {
            "marker": {
             "colorbar": {
              "outlinewidth": 0,
              "ticks": ""
             }
            },
            "type": "scatterternary"
           }
          ],
          "surface": [
           {
            "colorbar": {
             "outlinewidth": 0,
             "ticks": ""
            },
            "colorscale": [
             [
              0,
              "#0d0887"
             ],
             [
              0.1111111111111111,
              "#46039f"
             ],
             [
              0.2222222222222222,
              "#7201a8"
             ],
             [
              0.3333333333333333,
              "#9c179e"
             ],
             [
              0.4444444444444444,
              "#bd3786"
             ],
             [
              0.5555555555555556,
              "#d8576b"
             ],
             [
              0.6666666666666666,
              "#ed7953"
             ],
             [
              0.7777777777777778,
              "#fb9f3a"
             ],
             [
              0.8888888888888888,
              "#fdca26"
             ],
             [
              1,
              "#f0f921"
             ]
            ],
            "type": "surface"
           }
          ],
          "table": [
           {
            "cells": {
             "fill": {
              "color": "#EBF0F8"
             },
             "line": {
              "color": "white"
             }
            },
            "header": {
             "fill": {
              "color": "#C8D4E3"
             },
             "line": {
              "color": "white"
             }
            },
            "type": "table"
           }
          ]
         },
         "layout": {
          "annotationdefaults": {
           "arrowcolor": "#2a3f5f",
           "arrowhead": 0,
           "arrowwidth": 1
          },
          "autotypenumbers": "strict",
          "coloraxis": {
           "colorbar": {
            "outlinewidth": 0,
            "ticks": ""
           }
          },
          "colorscale": {
           "diverging": [
            [
             0,
             "#8e0152"
            ],
            [
             0.1,
             "#c51b7d"
            ],
            [
             0.2,
             "#de77ae"
            ],
            [
             0.3,
             "#f1b6da"
            ],
            [
             0.4,
             "#fde0ef"
            ],
            [
             0.5,
             "#f7f7f7"
            ],
            [
             0.6,
             "#e6f5d0"
            ],
            [
             0.7,
             "#b8e186"
            ],
            [
             0.8,
             "#7fbc41"
            ],
            [
             0.9,
             "#4d9221"
            ],
            [
             1,
             "#276419"
            ]
           ],
           "sequential": [
            [
             0,
             "#0d0887"
            ],
            [
             0.1111111111111111,
             "#46039f"
            ],
            [
             0.2222222222222222,
             "#7201a8"
            ],
            [
             0.3333333333333333,
             "#9c179e"
            ],
            [
             0.4444444444444444,
             "#bd3786"
            ],
            [
             0.5555555555555556,
             "#d8576b"
            ],
            [
             0.6666666666666666,
             "#ed7953"
            ],
            [
             0.7777777777777778,
             "#fb9f3a"
            ],
            [
             0.8888888888888888,
             "#fdca26"
            ],
            [
             1,
             "#f0f921"
            ]
           ],
           "sequentialminus": [
            [
             0,
             "#0d0887"
            ],
            [
             0.1111111111111111,
             "#46039f"
            ],
            [
             0.2222222222222222,
             "#7201a8"
            ],
            [
             0.3333333333333333,
             "#9c179e"
            ],
            [
             0.4444444444444444,
             "#bd3786"
            ],
            [
             0.5555555555555556,
             "#d8576b"
            ],
            [
             0.6666666666666666,
             "#ed7953"
            ],
            [
             0.7777777777777778,
             "#fb9f3a"
            ],
            [
             0.8888888888888888,
             "#fdca26"
            ],
            [
             1,
             "#f0f921"
            ]
           ]
          },
          "colorway": [
           "#636efa",
           "#EF553B",
           "#00cc96",
           "#ab63fa",
           "#FFA15A",
           "#19d3f3",
           "#FF6692",
           "#B6E880",
           "#FF97FF",
           "#FECB52"
          ],
          "font": {
           "color": "#2a3f5f"
          },
          "geo": {
           "bgcolor": "white",
           "lakecolor": "white",
           "landcolor": "#E5ECF6",
           "showlakes": true,
           "showland": true,
           "subunitcolor": "white"
          },
          "hoverlabel": {
           "align": "left"
          },
          "hovermode": "closest",
          "mapbox": {
           "style": "light"
          },
          "paper_bgcolor": "white",
          "plot_bgcolor": "#E5ECF6",
          "polar": {
           "angularaxis": {
            "gridcolor": "white",
            "linecolor": "white",
            "ticks": ""
           },
           "bgcolor": "#E5ECF6",
           "radialaxis": {
            "gridcolor": "white",
            "linecolor": "white",
            "ticks": ""
           }
          },
          "scene": {
           "xaxis": {
            "backgroundcolor": "#E5ECF6",
            "gridcolor": "white",
            "gridwidth": 2,
            "linecolor": "white",
            "showbackground": true,
            "ticks": "",
            "zerolinecolor": "white"
           },
           "yaxis": {
            "backgroundcolor": "#E5ECF6",
            "gridcolor": "white",
            "gridwidth": 2,
            "linecolor": "white",
            "showbackground": true,
            "ticks": "",
            "zerolinecolor": "white"
           },
           "zaxis": {
            "backgroundcolor": "#E5ECF6",
            "gridcolor": "white",
            "gridwidth": 2,
            "linecolor": "white",
            "showbackground": true,
            "ticks": "",
            "zerolinecolor": "white"
           }
          },
          "shapedefaults": {
           "line": {
            "color": "#2a3f5f"
           }
          },
          "ternary": {
           "aaxis": {
            "gridcolor": "white",
            "linecolor": "white",
            "ticks": ""
           },
           "baxis": {
            "gridcolor": "white",
            "linecolor": "white",
            "ticks": ""
           },
           "bgcolor": "#E5ECF6",
           "caxis": {
            "gridcolor": "white",
            "linecolor": "white",
            "ticks": ""
           }
          },
          "title": {
           "x": 0.05
          },
          "xaxis": {
           "automargin": true,
           "gridcolor": "white",
           "linecolor": "white",
           "ticks": "",
           "title": {
            "standoff": 15
           },
           "zerolinecolor": "white",
           "zerolinewidth": 2
          },
          "yaxis": {
           "automargin": true,
           "gridcolor": "white",
           "linecolor": "white",
           "ticks": "",
           "title": {
            "standoff": 15
           },
           "zerolinecolor": "white",
           "zerolinewidth": 2
          }
         }
        },
        "title": {
         "text": "Top 10 Countries with Lowest Emissions"
        },
        "xaxis": {
         "anchor": "y",
         "domain": [
          0,
          1
         ],
         "tickangle": -45,
         "title": {
          "text": "Country"
         }
        },
        "yaxis": {
         "anchor": "x",
         "domain": [
          0,
          1
         ],
         "title": {
          "text": "Total Emissions"
         }
        }
       }
      }
     },
     "metadata": {},
     "output_type": "display_data"
    }
   ],
   "source": [
    "\n",
    "# We do the same thing for the bottom 5 countries for emissions  \n",
    "# first, we sort the countries based on total emissions and take the top 5\n",
    "bottom_5 = df_total_emissions.sort_values(by='Emissions', ascending=True).head(10)\n",
    "\n",
    "# Create the bar chart\n",
    "fig = px.bar(bottom_5, \n",
    "    x='Country Name', \n",
    "    y='Emissions', \n",
    "    title='Top 10 Countries with Lowest Emissions', \n",
    "    labels={'Emissions': 'Total Emissions', 'Country Name': 'Country'}, \n",
    "    color='Emissions', \n",
    "    color_continuous_scale='plasma'\n",
    ")\n",
    "\n",
    "fig.update_layout(xaxis_tickangle=-45)\n",
    "fig.show()"
   ]
  },
  {
   "cell_type": "markdown",
   "metadata": {},
   "source": [
    "The countries with the lowest emissions are small, independent states or territories, such as the Vatican, Montserrat, and Norfolk Island. We can observe how global powers contribute disproportionately to global emissions."
   ]
  },
  {
   "cell_type": "markdown",
   "metadata": {},
   "source": [
    "# 3. Linear Regression"
   ]
  },
  {
   "cell_type": "markdown",
   "metadata": {},
   "source": [
    "Now, let's compute the Linear Regression between time and total global CO2 emissions. By analyzing the relationship between the years (as the x-axis) and total global emissions (as the y-axis), we aim to understand how emissions have evolved over time. This approach will allow us to identify the general trend, measure the rate of change in emissions, and assess if the increase has been consistent."
   ]
  },
  {
   "cell_type": "code",
   "execution_count": null,
   "metadata": {},
   "outputs": [
    {
     "data": {
      "image/png": "[encoded data removed]",
      "text/plain": [
       "<Figure size 1000x600 with 1 Axes>"
      ]
     },
     "metadata": {},
     "output_type": "display_data"
    },
    {
     "name": "stdout",
     "output_type": "stream",
     "text": [
      "Coefficient (slope): 4683135.166055259\n"
     ]
    }
   ],
   "source": [
    "\n",
    "# We reuse the the dataset of the total emission by year for regression. We use the total emissions in the world.\n",
    "# As x-axis we choose the year and as y-axis we chose the emissions\n",
    "\n",
    "# Prepare the variables for regression\n",
    "X = total_emissions_by_year['Year'].dt.year.astype(int).values.reshape(-1, 1) \n",
    "y = total_emissions_by_year['Emissions'].values\n",
    "\n",
    "# Initialize the linear regression model and train it\n",
    "model = LinearRegression()\n",
    "model.fit(X, y)\n",
    "\n",
    "# Calculate the predicted values for the regression line\n",
    "y_pred = model.predict(X)\n",
    "\n",
    "# Visualize the graph with the linear regression\n",
    "plt.figure(figsize=(10, 6))\n",
    "plt.plot(total_emissions_by_year['Year'], total_emissions_by_year['Emissions'], 'o', label=\"Actual Emissions\")\n",
    "plt.plot(total_emissions_by_year['Year'], y_pred, color='red', linewidth=2, label=\"Linear Regression\")\n",
    "plt.title('Linear Regression of Total Emissions')\n",
    "plt.xlabel('Year')\n",
    "plt.ylabel('Total Emissions (kilotonnes)')\n",
    "plt.legend()\n",
    "plt.grid(True)\n",
    "plt.show()\n",
    "\n",
    "slope = model.coef_[0]\n",
    "print(f\"Coefficient (slope): {slope}\")\n"
   ]
  },
  {
   "cell_type": "markdown",
   "metadata": {},
   "source": [
    "The graph shows a clear, steady increase in CO₂ emissions from 2000 to 2020. The regression line (in red) closely follows the actual data points (in blue), suggesting that the rise in emissions over time has been nearly linear.\n",
    "\n",
    "The slope value is positive, indicating that emissions have risen over the years. From the graph, we can observe that The regression suggests that the rise in emissions has been nearly linear with only a few points significantly deviating from the trend line. From 2010 onwards, there are a few larger fluctuations from the line, but the overall trend remains consistent.\n"
   ]
  },
  {
   "cell_type": "markdown",
   "metadata": {},
   "source": [
    "# 4. Classification"
   ]
  },
  {
   "cell_type": "markdown",
   "metadata": {},
   "source": [
    "Now, let's perform a classification of countries based on their CO2 emission levels. Using the dataset, we categorize countries into five distinct groups according to emission quantiles, from very low to very high emission countries. Using this classification, we will create a map with each country colored in a different color, representing its emission category. \n",
    "\n",
    "This classification allows us to easily categorize countries based on their emission levels and assign them to specific groups."
   ]
  },
  {
   "cell_type": "code",
   "execution_count": 23,
   "metadata": {},
   "outputs": [
    {
     "name": "stdout",
     "output_type": "stream",
     "text": [
      "Error for C?e d'Ivoire: HTTPSConnectionPool(host='nominatim.openstreetmap.org', port=443): Max retries exceeded with url: /search?q=C%3Fe+d%27Ivoire&format=json&limit=1 (Caused by ReadTimeoutError(\"HTTPSConnectionPool(host='nominatim.openstreetmap.org', port=443): Read timed out. (read timeout=1)\"))\n",
      "Error for Mali: HTTPSConnectionPool(host='nominatim.openstreetmap.org', port=443): Max retries exceeded with url: /search?q=Mali&format=json&limit=1 (Caused by ReadTimeoutError(\"HTTPSConnectionPool(host='nominatim.openstreetmap.org', port=443): Read timed out. (read timeout=1)\"))\n"
     ]
    },
    {
     "data": {
      "text/html": [
       "<div style=\"width:100%;\"><div style=\"position:relative;width:100%;height:0;padding-bottom:60%;\"><span style=\"color:#565656\">Make this Notebook Trusted to load map: File -> Trust Notebook</span><iframe srcdoc=\"&lt;!DOCTYPE html&gt;\n",
       "&lt;html&gt;\n",
       "&lt;head&gt;\n",
       "    \n",
       "    &lt;meta http-equiv=&quot;content-type&quot; content=&quot;text/html; charset=UTF-8&quot; /&gt;\n",
       "    \n",
       "        &lt;script&gt;\n",
       "            L_NO_TOUCH = false;\n",
       "            L_DISABLE_3D = false;\n",
       "        &lt;/script&gt;\n",
       "    \n",
       "    &lt;style&gt;html, body {width: 100%;height: 100%;margin: 0;padding: 0;}&lt;/style&gt;\n",
       "    &lt;style&gt;#map {position:absolute;top:0;bottom:0;right:0;left:0;}&lt;/style&gt;\n",
       "    &lt;script src=&quot;https://cdn.jsdelivr.net/npm/leaflet@1.9.3/dist/leaflet.js&quot;&gt;&lt;/script&gt;\n",
       "    &lt;script src=&quot;https://code.jquery.com/jquery-3.7.1.min.js&quot;&gt;&lt;/script&gt;\n",
       "    &lt;script src=&quot;https://cdn.jsdelivr.net/npm/bootstrap@5.2.2/dist/js/bootstrap.bundle.min.js&quot;&gt;&lt;/script&gt;\n",
       "    &lt;script src=&quot;https://cdnjs.cloudflare.com/ajax/libs/Leaflet.awesome-markers/2.0.2/leaflet.awesome-markers.js&quot;&gt;&lt;/script&gt;\n",
       "    &lt;link rel=&quot;stylesheet&quot; href=&quot;https://cdn.jsdelivr.net/npm/leaflet@1.9.3/dist/leaflet.css&quot;/&gt;\n",
       "    &lt;link rel=&quot;stylesheet&quot; href=&quot;https://cdn.jsdelivr.net/npm/bootstrap@5.2.2/dist/css/bootstrap.min.css&quot;/&gt;\n",
       "    &lt;link rel=&quot;stylesheet&quot; href=&quot;https://netdna.bootstrapcdn.com/bootstrap/3.0.0/css/bootstrap-glyphicons.css&quot;/&gt;\n",
       "    &lt;link rel=&quot;stylesheet&quot; href=&quot;https://cdn.jsdelivr.net/npm/@fortawesome/fontawesome-free@6.2.0/css/all.min.css&quot;/&gt;\n",
       "    &lt;link rel=&quot;stylesheet&quot; href=&quot;https://cdnjs.cloudflare.com/ajax/libs/Leaflet.awesome-markers/2.0.2/leaflet.awesome-markers.css&quot;/&gt;\n",
       "    &lt;link rel=&quot;stylesheet&quot; href=&quot;https://cdn.jsdelivr.net/gh/python-visualization/folium/folium/templates/leaflet.awesome.rotate.min.css&quot;/&gt;\n",
       "    \n",
       "            &lt;meta name=&quot;viewport&quot; content=&quot;width=device-width,\n",
       "                initial-scale=1.0, maximum-scale=1.0, user-scalable=no&quot; /&gt;\n",
       "            &lt;style&gt;\n",
       "                #map_460c590ddd81a923a88348f196bbe720 {\n",
       "                    position: relative;\n",
       "                    width: 100.0%;\n",
       "                    height: 100.0%;\n",
       "                    left: 0.0%;\n",
       "                    top: 0.0%;\n",
       "                }\n",
       "                .leaflet-container { font-size: 1rem; }\n",
       "            &lt;/style&gt;\n",
       "        \n",
       "&lt;/head&gt;\n",
       "&lt;body&gt;\n",
       "    \n",
       "    \n",
       "            &lt;div class=&quot;folium-map&quot; id=&quot;map_460c590ddd81a923a88348f196bbe720&quot; &gt;&lt;/div&gt;\n",
       "        \n",
       "&lt;/body&gt;\n",
       "&lt;script&gt;\n",
       "    \n",
       "    \n",
       "            var map_460c590ddd81a923a88348f196bbe720 = L.map(\n",
       "                &quot;map_460c590ddd81a923a88348f196bbe720&quot;,\n",
       "                {\n",
       "                    center: [20.0, 0.0],\n",
       "                    crs: L.CRS.EPSG3857,\n",
       "                    zoom: 2,\n",
       "                    zoomControl: true,\n",
       "                    preferCanvas: false,\n",
       "                }\n",
       "            );\n",
       "\n",
       "            \n",
       "\n",
       "        \n",
       "    \n",
       "            var tile_layer_9901779e7dae83db1906d8fbf34bba41 = L.tileLayer(\n",
       "                &quot;https://tile.openstreetmap.org/{z}/{x}/{y}.png&quot;,\n",
       "                {&quot;attribution&quot;: &quot;\\u0026copy; \\u003ca href=\\&quot;https://www.openstreetmap.org/copyright\\&quot;\\u003eOpenStreetMap\\u003c/a\\u003e contributors&quot;, &quot;detectRetina&quot;: false, &quot;maxNativeZoom&quot;: 19, &quot;maxZoom&quot;: 19, &quot;minZoom&quot;: 0, &quot;noWrap&quot;: false, &quot;opacity&quot;: 1, &quot;subdomains&quot;: &quot;abc&quot;, &quot;tms&quot;: false}\n",
       "            );\n",
       "        \n",
       "    \n",
       "            tile_layer_9901779e7dae83db1906d8fbf34bba41.addTo(map_460c590ddd81a923a88348f196bbe720);\n",
       "        \n",
       "    \n",
       "            var marker_38ee3ce9f66ca3ff45ed6c19a1b001ef = L.marker(\n",
       "                [33.7680065, 66.2385139],\n",
       "                {}\n",
       "            ).addTo(map_460c590ddd81a923a88348f196bbe720);\n",
       "        \n",
       "    \n",
       "            var icon_807a87f435e848f2cdbbee12bcaa748c = L.AwesomeMarkers.icon(\n",
       "                {&quot;extraClasses&quot;: &quot;fa-rotate-0&quot;, &quot;icon&quot;: &quot;info-sign&quot;, &quot;iconColor&quot;: &quot;white&quot;, &quot;markerColor&quot;: &quot;orange&quot;, &quot;prefix&quot;: &quot;glyphicon&quot;}\n",
       "            );\n",
       "            marker_38ee3ce9f66ca3ff45ed6c19a1b001ef.setIcon(icon_807a87f435e848f2cdbbee12bcaa748c);\n",
       "        \n",
       "    \n",
       "        var popup_1d51ef7f0c7605bb5537e1d0aac43792 = L.popup({&quot;maxWidth&quot;: &quot;100%&quot;});\n",
       "\n",
       "        \n",
       "            \n",
       "                var html_8c8e1ea14bc018f3c62fa6f19c38dbd7 = $(`&lt;div id=&quot;html_8c8e1ea14bc018f3c62fa6f19c38dbd7&quot; style=&quot;width: 100.0%; height: 100.0%;&quot;&gt;Afghanistan: 8223684.09895 kilotonnes&lt;/div&gt;`)[0];\n",
       "                popup_1d51ef7f0c7605bb5537e1d0aac43792.setContent(html_8c8e1ea14bc018f3c62fa6f19c38dbd7);\n",
       "            \n",
       "        \n",
       "\n",
       "        marker_38ee3ce9f66ca3ff45ed6c19a1b001ef.bindPopup(popup_1d51ef7f0c7605bb5537e1d0aac43792)\n",
       "        ;\n",
       "\n",
       "        \n",
       "    \n",
       "    \n",
       "            var marker_965fca35bbe251ae17eac8b872d44aa3 = L.marker(\n",
       "                [5.7587654, -73.9151617],\n",
       "                {}\n",
       "            ).addTo(map_460c590ddd81a923a88348f196bbe720);\n",
       "        \n",
       "    \n",
       "            var icon_0b024b3e5bd5c27de521feecf18c4dc2 = L.AwesomeMarkers.icon(\n",
       "                {&quot;extraClasses&quot;: &quot;fa-rotate-0&quot;, &quot;icon&quot;: &quot;info-sign&quot;, &quot;iconColor&quot;: &quot;white&quot;, &quot;markerColor&quot;: &quot;green&quot;, &quot;prefix&quot;: &quot;glyphicon&quot;}\n",
       "            );\n",
       "            marker_965fca35bbe251ae17eac8b872d44aa3.setIcon(icon_0b024b3e5bd5c27de521feecf18c4dc2);\n",
       "        \n",
       "    \n",
       "        var popup_ef3d0b882f3c7c3ae85c0d5172da549d = L.popup({&quot;maxWidth&quot;: &quot;100%&quot;});\n",
       "\n",
       "        \n",
       "            \n",
       "                var html_1236c6a3e7133b35f281e861e768dad9 = $(`&lt;div id=&quot;html_1236c6a3e7133b35f281e861e768dad9&quot; style=&quot;width: 100.0%; height: 100.0%;&quot;&gt;Albania: 2343560.5653 kilotonnes&lt;/div&gt;`)[0];\n",
       "                popup_ef3d0b882f3c7c3ae85c0d5172da549d.setContent(html_1236c6a3e7133b35f281e861e768dad9);\n",
       "            \n",
       "        \n",
       "\n",
       "        marker_965fca35bbe251ae17eac8b872d44aa3.bindPopup(popup_ef3d0b882f3c7c3ae85c0d5172da549d)\n",
       "        ;\n",
       "\n",
       "        \n",
       "    \n",
       "    \n",
       "            var marker_154f8f6eded92cd995f0ae4212d987e5 = L.marker(\n",
       "                [28.0000272, 2.9999825],\n",
       "                {}\n",
       "            ).addTo(map_460c590ddd81a923a88348f196bbe720);\n",
       "        \n",
       "    \n",
       "            var icon_090433afcf9d9a06dc26569228981637 = L.AwesomeMarkers.icon(\n",
       "                {&quot;extraClasses&quot;: &quot;fa-rotate-0&quot;, &quot;icon&quot;: &quot;info-sign&quot;, &quot;iconColor&quot;: &quot;white&quot;, &quot;markerColor&quot;: &quot;red&quot;, &quot;prefix&quot;: &quot;glyphicon&quot;}\n",
       "            );\n",
       "            marker_154f8f6eded92cd995f0ae4212d987e5.setIcon(icon_090433afcf9d9a06dc26569228981637);\n",
       "        \n",
       "    \n",
       "        var popup_71760b5ae6a7edd0e83cbed01ad8de9d = L.popup({&quot;maxWidth&quot;: &quot;100%&quot;});\n",
       "\n",
       "        \n",
       "            \n",
       "                var html_e2c88f01b92b97a52a36b05d29cc5207 = $(`&lt;div id=&quot;html_e2c88f01b92b97a52a36b05d29cc5207&quot; style=&quot;width: 100.0%; height: 100.0%;&quot;&gt;Algeria: 34954817.26385 kilotonnes&lt;/div&gt;`)[0];\n",
       "                popup_71760b5ae6a7edd0e83cbed01ad8de9d.setContent(html_e2c88f01b92b97a52a36b05d29cc5207);\n",
       "            \n",
       "        \n",
       "\n",
       "        marker_154f8f6eded92cd995f0ae4212d987e5.bindPopup(popup_71760b5ae6a7edd0e83cbed01ad8de9d)\n",
       "        ;\n",
       "\n",
       "        \n",
       "    \n",
       "    \n",
       "            var marker_7b8542a5d71f1f2e7571fda7f973a5a4 = L.marker(\n",
       "                [-14.297124, -170.7131481],\n",
       "                {}\n",
       "            ).addTo(map_460c590ddd81a923a88348f196bbe720);\n",
       "        \n",
       "    \n",
       "            var icon_d5fcf41233a37c18a4243c69f719a298 = L.AwesomeMarkers.icon(\n",
       "                {&quot;extraClasses&quot;: &quot;fa-rotate-0&quot;, &quot;icon&quot;: &quot;info-sign&quot;, &quot;iconColor&quot;: &quot;white&quot;, &quot;markerColor&quot;: &quot;lightgray&quot;, &quot;prefix&quot;: &quot;glyphicon&quot;}\n",
       "            );\n",
       "            marker_7b8542a5d71f1f2e7571fda7f973a5a4.setIcon(icon_d5fcf41233a37c18a4243c69f719a298);\n",
       "        \n",
       "    \n",
       "        var popup_33d4f53aa959e16b71c5983fa5175eb5 = L.popup({&quot;maxWidth&quot;: &quot;100%&quot;});\n",
       "\n",
       "        \n",
       "            \n",
       "                var html_c1b63c27199e7e5f9eab070b3c031629 = $(`&lt;div id=&quot;html_c1b63c27199e7e5f9eab070b3c031629&quot; style=&quot;width: 100.0%; height: 100.0%;&quot;&gt;American Samoa: 1693.8695 kilotonnes&lt;/div&gt;`)[0];\n",
       "                popup_33d4f53aa959e16b71c5983fa5175eb5.setContent(html_c1b63c27199e7e5f9eab070b3c031629);\n",
       "            \n",
       "        \n",
       "\n",
       "        marker_7b8542a5d71f1f2e7571fda7f973a5a4.bindPopup(popup_33d4f53aa959e16b71c5983fa5175eb5)\n",
       "        ;\n",
       "\n",
       "        \n",
       "    \n",
       "    \n",
       "            var marker_35b23a824c8c079460332ca280e0b1f9 = L.marker(\n",
       "                [42.5407167, 1.5732033],\n",
       "                {}\n",
       "            ).addTo(map_460c590ddd81a923a88348f196bbe720);\n",
       "        \n",
       "    \n",
       "            var icon_6f546fe80c5e2d739642f6804937157d = L.AwesomeMarkers.icon(\n",
       "                {&quot;extraClasses&quot;: &quot;fa-rotate-0&quot;, &quot;icon&quot;: &quot;info-sign&quot;, &quot;iconColor&quot;: &quot;white&quot;, &quot;markerColor&quot;: &quot;green&quot;, &quot;prefix&quot;: &quot;glyphicon&quot;}\n",
       "            );\n",
       "            marker_35b23a824c8c079460332ca280e0b1f9.setIcon(icon_6f546fe80c5e2d739642f6804937157d);\n",
       "        \n",
       "    \n",
       "        var popup_6de8cafd714cc2ab8d3adb6b987a9262 = L.popup({&quot;maxWidth&quot;: &quot;100%&quot;});\n",
       "\n",
       "        \n",
       "            \n",
       "                var html_ba0aafc9204d049395e48b79941fb18e = $(`&lt;div id=&quot;html_ba0aafc9204d049395e48b79941fb18e&quot; style=&quot;width: 100.0%; height: 100.0%;&quot;&gt;Andorra: 79905.528 kilotonnes&lt;/div&gt;`)[0];\n",
       "                popup_6de8cafd714cc2ab8d3adb6b987a9262.setContent(html_ba0aafc9204d049395e48b79941fb18e);\n",
       "            \n",
       "        \n",
       "\n",
       "        marker_35b23a824c8c079460332ca280e0b1f9.bindPopup(popup_6de8cafd714cc2ab8d3adb6b987a9262)\n",
       "        ;\n",
       "\n",
       "        \n",
       "    \n",
       "    \n",
       "            var marker_d8970acc4ba4345662c972449681b5a5 = L.marker(\n",
       "                [-11.8775768, 17.5691241],\n",
       "                {}\n",
       "            ).addTo(map_460c590ddd81a923a88348f196bbe720);\n",
       "        \n",
       "    \n",
       "            var icon_9569f7190a60ef6c893e0697de5063f5 = L.AwesomeMarkers.icon(\n",
       "                {&quot;extraClasses&quot;: &quot;fa-rotate-0&quot;, &quot;icon&quot;: &quot;info-sign&quot;, &quot;iconColor&quot;: &quot;white&quot;, &quot;markerColor&quot;: &quot;red&quot;, &quot;prefix&quot;: &quot;glyphicon&quot;}\n",
       "            );\n",
       "            marker_d8970acc4ba4345662c972449681b5a5.setIcon(icon_9569f7190a60ef6c893e0697de5063f5);\n",
       "        \n",
       "    \n",
       "        var popup_b4d227b7a805f90dc0e5d2cc65a325fc = L.popup({&quot;maxWidth&quot;: &quot;100%&quot;});\n",
       "\n",
       "        \n",
       "            \n",
       "                var html_0bf00c1facfc02e502c8aa32f7646117 = $(`&lt;div id=&quot;html_0bf00c1facfc02e502c8aa32f7646117&quot; style=&quot;width: 100.0%; height: 100.0%;&quot;&gt;Angola: 38563761.9136 kilotonnes&lt;/div&gt;`)[0];\n",
       "                popup_b4d227b7a805f90dc0e5d2cc65a325fc.setContent(html_0bf00c1facfc02e502c8aa32f7646117);\n",
       "            \n",
       "        \n",
       "\n",
       "        marker_d8970acc4ba4345662c972449681b5a5.bindPopup(popup_b4d227b7a805f90dc0e5d2cc65a325fc)\n",
       "        ;\n",
       "\n",
       "        \n",
       "    \n",
       "    \n",
       "            var marker_901ae1ad238eb5ed8f05e3efd21c213d = L.marker(\n",
       "                [18.1954947, -63.0750234],\n",
       "                {}\n",
       "            ).addTo(map_460c590ddd81a923a88348f196bbe720);\n",
       "        \n",
       "    \n",
       "            var icon_b44bb12bac98431ab191f656e37130a0 = L.AwesomeMarkers.icon(\n",
       "                {&quot;extraClasses&quot;: &quot;fa-rotate-0&quot;, &quot;icon&quot;: &quot;info-sign&quot;, &quot;iconColor&quot;: &quot;white&quot;, &quot;markerColor&quot;: &quot;lightgray&quot;, &quot;prefix&quot;: &quot;glyphicon&quot;}\n",
       "            );\n",
       "            marker_901ae1ad238eb5ed8f05e3efd21c213d.setIcon(icon_b44bb12bac98431ab191f656e37130a0);\n",
       "        \n",
       "    \n",
       "        var popup_594be71fa6772f0fcdad0a3b932aed7c = L.popup({&quot;maxWidth&quot;: &quot;100%&quot;});\n",
       "\n",
       "        \n",
       "            \n",
       "                var html_819a7b12492fd0097a81d4e7545e99c9 = $(`&lt;div id=&quot;html_819a7b12492fd0097a81d4e7545e99c9&quot; style=&quot;width: 100.0%; height: 100.0%;&quot;&gt;Anguilla: 20684.4214 kilotonnes&lt;/div&gt;`)[0];\n",
       "                popup_594be71fa6772f0fcdad0a3b932aed7c.setContent(html_819a7b12492fd0097a81d4e7545e99c9);\n",
       "            \n",
       "        \n",
       "\n",
       "        marker_901ae1ad238eb5ed8f05e3efd21c213d.bindPopup(popup_594be71fa6772f0fcdad0a3b932aed7c)\n",
       "        ;\n",
       "\n",
       "        \n",
       "    \n",
       "    \n",
       "            var marker_8d50bb42fe5d8d86e0f063704c6b0a3d = L.marker(\n",
       "                [17.2234721, -61.9554608],\n",
       "                {}\n",
       "            ).addTo(map_460c590ddd81a923a88348f196bbe720);\n",
       "        \n",
       "    \n",
       "            var icon_00adc51ac4099558a671dda1379d8e18 = L.AwesomeMarkers.icon(\n",
       "                {&quot;extraClasses&quot;: &quot;fa-rotate-0&quot;, &quot;icon&quot;: &quot;info-sign&quot;, &quot;iconColor&quot;: &quot;white&quot;, &quot;markerColor&quot;: &quot;green&quot;, &quot;prefix&quot;: &quot;glyphicon&quot;}\n",
       "            );\n",
       "            marker_8d50bb42fe5d8d86e0f063704c6b0a3d.setIcon(icon_00adc51ac4099558a671dda1379d8e18);\n",
       "        \n",
       "    \n",
       "        var popup_0b1edb5f1e370821234a320e0ea55bd2 = L.popup({&quot;maxWidth&quot;: &quot;100%&quot;});\n",
       "\n",
       "        \n",
       "            \n",
       "                var html_9a44a5f70833c7c7f7c315119d2fe74e = $(`&lt;div id=&quot;html_9a44a5f70833c7c7f7c315119d2fe74e&quot; style=&quot;width: 100.0%; height: 100.0%;&quot;&gt;Antigua and Barbuda: 92684.2537 kilotonnes&lt;/div&gt;`)[0];\n",
       "                popup_0b1edb5f1e370821234a320e0ea55bd2.setContent(html_9a44a5f70833c7c7f7c315119d2fe74e);\n",
       "            \n",
       "        \n",
       "\n",
       "        marker_8d50bb42fe5d8d86e0f063704c6b0a3d.bindPopup(popup_0b1edb5f1e370821234a320e0ea55bd2)\n",
       "        ;\n",
       "\n",
       "        \n",
       "    \n",
       "    \n",
       "            var marker_709b9713fcc933f96f023a5a6257666b = L.marker(\n",
       "                [-34.9964963, -64.9672817],\n",
       "                {}\n",
       "            ).addTo(map_460c590ddd81a923a88348f196bbe720);\n",
       "        \n",
       "    \n",
       "            var icon_9122bd1d7b154dc099881c384a6fc44b = L.AwesomeMarkers.icon(\n",
       "                {&quot;extraClasses&quot;: &quot;fa-rotate-0&quot;, &quot;icon&quot;: &quot;info-sign&quot;, &quot;iconColor&quot;: &quot;white&quot;, &quot;markerColor&quot;: &quot;darkred&quot;, &quot;prefix&quot;: &quot;glyphicon&quot;}\n",
       "            );\n",
       "            marker_709b9713fcc933f96f023a5a6257666b.setIcon(icon_9122bd1d7b154dc099881c384a6fc44b);\n",
       "        \n",
       "    \n",
       "        var popup_cf3438482a054aeb834bf37a79f8fbca = L.popup({&quot;maxWidth&quot;: &quot;100%&quot;});\n",
       "\n",
       "        \n",
       "            \n",
       "                var html_25236ea5e0328931e563508ed3f05d17 = $(`&lt;div id=&quot;html_25236ea5e0328931e563508ed3f05d17&quot; style=&quot;width: 100.0%; height: 100.0%;&quot;&gt;Argentina: 121963287.76305 kilotonnes&lt;/div&gt;`)[0];\n",
       "                popup_cf3438482a054aeb834bf37a79f8fbca.setContent(html_25236ea5e0328931e563508ed3f05d17);\n",
       "            \n",
       "        \n",
       "\n",
       "        marker_709b9713fcc933f96f023a5a6257666b.bindPopup(popup_cf3438482a054aeb834bf37a79f8fbca)\n",
       "        ;\n",
       "\n",
       "        \n",
       "    \n",
       "    \n",
       "            var marker_9737a4cc11544e553bb1bfdd0960b1b7 = L.marker(\n",
       "                [4.536307, -75.6723751],\n",
       "                {}\n",
       "            ).addTo(map_460c590ddd81a923a88348f196bbe720);\n",
       "        \n",
       "    \n",
       "            var icon_44c6eeeac08d9651d88f8a3ef2a2a38f = L.AwesomeMarkers.icon(\n",
       "                {&quot;extraClasses&quot;: &quot;fa-rotate-0&quot;, &quot;icon&quot;: &quot;info-sign&quot;, &quot;iconColor&quot;: &quot;white&quot;, &quot;markerColor&quot;: &quot;green&quot;, &quot;prefix&quot;: &quot;glyphicon&quot;}\n",
       "            );\n",
       "            marker_9737a4cc11544e553bb1bfdd0960b1b7.setIcon(icon_44c6eeeac08d9651d88f8a3ef2a2a38f);\n",
       "        \n",
       "    \n",
       "        var popup_03255f63d4e66de4d28c024c19cca8a6 = L.popup({&quot;maxWidth&quot;: &quot;100%&quot;});\n",
       "\n",
       "        \n",
       "            \n",
       "                var html_20a2a59173335d8737478334cf40e2d1 = $(`&lt;div id=&quot;html_20a2a59173335d8737478334cf40e2d1&quot; style=&quot;width: 100.0%; height: 100.0%;&quot;&gt;Armenia: 1790884.0712 kilotonnes&lt;/div&gt;`)[0];\n",
       "                popup_03255f63d4e66de4d28c024c19cca8a6.setContent(html_20a2a59173335d8737478334cf40e2d1);\n",
       "            \n",
       "        \n",
       "\n",
       "        marker_9737a4cc11544e553bb1bfdd0960b1b7.bindPopup(popup_03255f63d4e66de4d28c024c19cca8a6)\n",
       "        ;\n",
       "\n",
       "        \n",
       "    \n",
       "    \n",
       "            var marker_8c7f20de793c1085f3c41b7e6e63bea0 = L.marker(\n",
       "                [12.5013629, -69.9618475],\n",
       "                {}\n",
       "            ).addTo(map_460c590ddd81a923a88348f196bbe720);\n",
       "        \n",
       "    \n",
       "            var icon_1cd4cf20ed5737ee883ec4cf5841ba14 = L.AwesomeMarkers.icon(\n",
       "                {&quot;extraClasses&quot;: &quot;fa-rotate-0&quot;, &quot;icon&quot;: &quot;info-sign&quot;, &quot;iconColor&quot;: &quot;white&quot;, &quot;markerColor&quot;: &quot;green&quot;, &quot;prefix&quot;: &quot;glyphicon&quot;}\n",
       "            );\n",
       "            marker_8c7f20de793c1085f3c41b7e6e63bea0.setIcon(icon_1cd4cf20ed5737ee883ec4cf5841ba14);\n",
       "        \n",
       "    \n",
       "        var popup_d97659e5fb92e712c18a88458c9f1479 = L.popup({&quot;maxWidth&quot;: &quot;100%&quot;});\n",
       "\n",
       "        \n",
       "            \n",
       "                var html_3a44bc1c9132aca0cc87106017e2b4e5 = $(`&lt;div id=&quot;html_3a44bc1c9132aca0cc87106017e2b4e5&quot; style=&quot;width: 100.0%; height: 100.0%;&quot;&gt;Aruba: 281019.1983 kilotonnes&lt;/div&gt;`)[0];\n",
       "                popup_d97659e5fb92e712c18a88458c9f1479.setContent(html_3a44bc1c9132aca0cc87106017e2b4e5);\n",
       "            \n",
       "        \n",
       "\n",
       "        marker_8c7f20de793c1085f3c41b7e6e63bea0.bindPopup(popup_d97659e5fb92e712c18a88458c9f1479)\n",
       "        ;\n",
       "\n",
       "        \n",
       "    \n",
       "    \n",
       "            var marker_c7bc125686b283a6576e4233f7785f10 = L.marker(\n",
       "                [-24.7761086, 134.755],\n",
       "                {}\n",
       "            ).addTo(map_460c590ddd81a923a88348f196bbe720);\n",
       "        \n",
       "    \n",
       "            var icon_96cdf5b88eecaf7a07c79d9eb538ce68 = L.AwesomeMarkers.icon(\n",
       "                {&quot;extraClasses&quot;: &quot;fa-rotate-0&quot;, &quot;icon&quot;: &quot;info-sign&quot;, &quot;iconColor&quot;: &quot;white&quot;, &quot;markerColor&quot;: &quot;darkred&quot;, &quot;prefix&quot;: &quot;glyphicon&quot;}\n",
       "            );\n",
       "            marker_c7bc125686b283a6576e4233f7785f10.setIcon(icon_96cdf5b88eecaf7a07c79d9eb538ce68);\n",
       "        \n",
       "    \n",
       "        var popup_2b70bae800d6ceacf43125b0e99aeae6 = L.popup({&quot;maxWidth&quot;: &quot;100%&quot;});\n",
       "\n",
       "        \n",
       "            \n",
       "                var html_39c77000528f62fcb6bbf142b3950f66 = $(`&lt;div id=&quot;html_39c77000528f62fcb6bbf142b3950f66&quot; style=&quot;width: 100.0%; height: 100.0%;&quot;&gt;Australia: 143044257.3079 kilotonnes&lt;/div&gt;`)[0];\n",
       "                popup_2b70bae800d6ceacf43125b0e99aeae6.setContent(html_39c77000528f62fcb6bbf142b3950f66);\n",
       "            \n",
       "        \n",
       "\n",
       "        marker_c7bc125686b283a6576e4233f7785f10.bindPopup(popup_2b70bae800d6ceacf43125b0e99aeae6)\n",
       "        ;\n",
       "\n",
       "        \n",
       "    \n",
       "    \n",
       "            var marker_82ca5f7f32643eb39f9975e21b49b44f = L.marker(\n",
       "                [-36.8483038, 174.7435439069549],\n",
       "                {}\n",
       "            ).addTo(map_460c590ddd81a923a88348f196bbe720);\n",
       "        \n",
       "    \n",
       "            var icon_a05a6b129e8b1e2a2641e8c1bea24b82 = L.AwesomeMarkers.icon(\n",
       "                {&quot;extraClasses&quot;: &quot;fa-rotate-0&quot;, &quot;icon&quot;: &quot;info-sign&quot;, &quot;iconColor&quot;: &quot;white&quot;, &quot;markerColor&quot;: &quot;darkred&quot;, &quot;prefix&quot;: &quot;glyphicon&quot;}\n",
       "            );\n",
       "            marker_82ca5f7f32643eb39f9975e21b49b44f.setIcon(icon_a05a6b129e8b1e2a2641e8c1bea24b82);\n",
       "        \n",
       "    \n",
       "        var popup_541460620038df6e141fcfd42edb21ce = L.popup({&quot;maxWidth&quot;: &quot;100%&quot;});\n",
       "\n",
       "        \n",
       "            \n",
       "                var html_4332eeb1a0287406bb9cd827e7d9f7f9 = $(`&lt;div id=&quot;html_4332eeb1a0287406bb9cd827e7d9f7f9&quot; style=&quot;width: 100.0%; height: 100.0%;&quot;&gt;Australia and New Zealand: 152449536.2298 kilotonnes&lt;/div&gt;`)[0];\n",
       "                popup_541460620038df6e141fcfd42edb21ce.setContent(html_4332eeb1a0287406bb9cd827e7d9f7f9);\n",
       "            \n",
       "        \n",
       "\n",
       "        marker_82ca5f7f32643eb39f9975e21b49b44f.bindPopup(popup_541460620038df6e141fcfd42edb21ce)\n",
       "        ;\n",
       "\n",
       "        \n",
       "    \n",
       "    \n",
       "            var marker_1ca00fa65e9d390fe319a3a52e4b9838 = L.marker(\n",
       "                [47.59397, 14.12456],\n",
       "                {}\n",
       "            ).addTo(map_460c590ddd81a923a88348f196bbe720);\n",
       "        \n",
       "    \n",
       "            var icon_c8e04ce6bf2aa61b88f23746ef31a6bc = L.AwesomeMarkers.icon(\n",
       "                {&quot;extraClasses&quot;: &quot;fa-rotate-0&quot;, &quot;icon&quot;: &quot;info-sign&quot;, &quot;iconColor&quot;: &quot;white&quot;, &quot;markerColor&quot;: &quot;orange&quot;, &quot;prefix&quot;: &quot;glyphicon&quot;}\n",
       "            );\n",
       "            marker_1ca00fa65e9d390fe319a3a52e4b9838.setIcon(icon_c8e04ce6bf2aa61b88f23746ef31a6bc);\n",
       "        \n",
       "    \n",
       "        var popup_239d3b440adec1d4fe993af288e295ad = L.popup({&quot;maxWidth&quot;: &quot;100%&quot;});\n",
       "\n",
       "        \n",
       "            \n",
       "                var html_cde6bb54e9b66544c6b732eb223ed20f = $(`&lt;div id=&quot;html_cde6bb54e9b66544c6b732eb223ed20f&quot; style=&quot;width: 100.0%; height: 100.0%;&quot;&gt;Austria: 16119189.0556 kilotonnes&lt;/div&gt;`)[0];\n",
       "                popup_239d3b440adec1d4fe993af288e295ad.setContent(html_cde6bb54e9b66544c6b732eb223ed20f);\n",
       "            \n",
       "        \n",
       "\n",
       "        marker_1ca00fa65e9d390fe319a3a52e4b9838.bindPopup(popup_239d3b440adec1d4fe993af288e295ad)\n",
       "        ;\n",
       "\n",
       "        \n",
       "    \n",
       "    \n",
       "            var marker_84e4bf76961051cfc38c18b49046b7f2 = L.marker(\n",
       "                [40.3936294, 47.7872508],\n",
       "                {}\n",
       "            ).addTo(map_460c590ddd81a923a88348f196bbe720);\n",
       "        \n",
       "    \n",
       "            var icon_5d6b2f7a0c6cea235544513f360573bd = L.AwesomeMarkers.icon(\n",
       "                {&quot;extraClasses&quot;: &quot;fa-rotate-0&quot;, &quot;icon&quot;: &quot;info-sign&quot;, &quot;iconColor&quot;: &quot;white&quot;, &quot;markerColor&quot;: &quot;orange&quot;, &quot;prefix&quot;: &quot;glyphicon&quot;}\n",
       "            );\n",
       "            marker_84e4bf76961051cfc38c18b49046b7f2.setIcon(icon_5d6b2f7a0c6cea235544513f360573bd);\n",
       "        \n",
       "    \n",
       "        var popup_6025f208fb18d818295a5a5eafc3156e = L.popup({&quot;maxWidth&quot;: &quot;100%&quot;});\n",
       "\n",
       "        \n",
       "            \n",
       "                var html_b41c9fe24e949c5277b42034343c55b6 = $(`&lt;div id=&quot;html_b41c9fe24e949c5277b42034343c55b6&quot; style=&quot;width: 100.0%; height: 100.0%;&quot;&gt;Azerbaijan: 9889930.7878 kilotonnes&lt;/div&gt;`)[0];\n",
       "                popup_6025f208fb18d818295a5a5eafc3156e.setContent(html_b41c9fe24e949c5277b42034343c55b6);\n",
       "            \n",
       "        \n",
       "\n",
       "        marker_84e4bf76961051cfc38c18b49046b7f2.bindPopup(popup_6025f208fb18d818295a5a5eafc3156e)\n",
       "        ;\n",
       "\n",
       "        \n",
       "    \n",
       "    \n",
       "            var marker_fa88f233dbed90916a7dcc6bb2cee125 = L.marker(\n",
       "                [24.7736546, -78.0000547],\n",
       "                {}\n",
       "            ).addTo(map_460c590ddd81a923a88348f196bbe720);\n",
       "        \n",
       "    \n",
       "            var icon_86de9756c3f4bbf6c84ae30cc838d015 = L.AwesomeMarkers.icon(\n",
       "                {&quot;extraClasses&quot;: &quot;fa-rotate-0&quot;, &quot;icon&quot;: &quot;info-sign&quot;, &quot;iconColor&quot;: &quot;white&quot;, &quot;markerColor&quot;: &quot;green&quot;, &quot;prefix&quot;: &quot;glyphicon&quot;}\n",
       "            );\n",
       "            marker_fa88f233dbed90916a7dcc6bb2cee125.setIcon(icon_86de9756c3f4bbf6c84ae30cc838d015);\n",
       "        \n",
       "    \n",
       "        var popup_74291e133cd3aaf6ea0a2a0c439d01d9 = L.popup({&quot;maxWidth&quot;: &quot;100%&quot;});\n",
       "\n",
       "        \n",
       "            \n",
       "                var html_a9ec464aa7c48fcdea69f5508ef1a572 = $(`&lt;div id=&quot;html_a9ec464aa7c48fcdea69f5508ef1a572&quot; style=&quot;width: 100.0%; height: 100.0%;&quot;&gt;Bahamas: 424976.66545 kilotonnes&lt;/div&gt;`)[0];\n",
       "                popup_74291e133cd3aaf6ea0a2a0c439d01d9.setContent(html_a9ec464aa7c48fcdea69f5508ef1a572);\n",
       "            \n",
       "        \n",
       "\n",
       "        marker_fa88f233dbed90916a7dcc6bb2cee125.bindPopup(popup_74291e133cd3aaf6ea0a2a0c439d01d9)\n",
       "        ;\n",
       "\n",
       "        \n",
       "    \n",
       "    \n",
       "            var marker_83d02159432e1806360b8f5e6a9bad19 = L.marker(\n",
       "                [26.030093, 50.553336789123236],\n",
       "                {}\n",
       "            ).addTo(map_460c590ddd81a923a88348f196bbe720);\n",
       "        \n",
       "    \n",
       "            var icon_46f011b07d0c109b1bb8aa442ca9b392 = L.AwesomeMarkers.icon(\n",
       "                {&quot;extraClasses&quot;: &quot;fa-rotate-0&quot;, &quot;icon&quot;: &quot;info-sign&quot;, &quot;iconColor&quot;: &quot;white&quot;, &quot;markerColor&quot;: &quot;orange&quot;, &quot;prefix&quot;: &quot;glyphicon&quot;}\n",
       "            );\n",
       "            marker_83d02159432e1806360b8f5e6a9bad19.setIcon(icon_46f011b07d0c109b1bb8aa442ca9b392);\n",
       "        \n",
       "    \n",
       "        var popup_bc127d40d416382f3b27007e783dc692 = L.popup({&quot;maxWidth&quot;: &quot;100%&quot;});\n",
       "\n",
       "        \n",
       "            \n",
       "                var html_f90040cf2d394f882935c8c5e5d621d3 = $(`&lt;div id=&quot;html_f90040cf2d394f882935c8c5e5d621d3&quot; style=&quot;width: 100.0%; height: 100.0%;&quot;&gt;Bahrain: 7109753.2424 kilotonnes&lt;/div&gt;`)[0];\n",
       "                popup_bc127d40d416382f3b27007e783dc692.setContent(html_f90040cf2d394f882935c8c5e5d621d3);\n",
       "            \n",
       "        \n",
       "\n",
       "        marker_83d02159432e1806360b8f5e6a9bad19.bindPopup(popup_bc127d40d416382f3b27007e783dc692)\n",
       "        ;\n",
       "\n",
       "        \n",
       "    \n",
       "    \n",
       "            var marker_dd98b59235b78bdb17fb39daf8cad786 = L.marker(\n",
       "                [24.4769288, 90.2934413],\n",
       "                {}\n",
       "            ).addTo(map_460c590ddd81a923a88348f196bbe720);\n",
       "        \n",
       "    \n",
       "            var icon_fee1a5857535c74b6f9c1e05889e3f27 = L.AwesomeMarkers.icon(\n",
       "                {&quot;extraClasses&quot;: &quot;fa-rotate-0&quot;, &quot;icon&quot;: &quot;info-sign&quot;, &quot;iconColor&quot;: &quot;white&quot;, &quot;markerColor&quot;: &quot;red&quot;, &quot;prefix&quot;: &quot;glyphicon&quot;}\n",
       "            );\n",
       "            marker_dd98b59235b78bdb17fb39daf8cad786.setIcon(icon_fee1a5857535c74b6f9c1e05889e3f27);\n",
       "        \n",
       "    \n",
       "        var popup_79561c47d72d46c400d8186607f73cd7 = L.popup({&quot;maxWidth&quot;: &quot;100%&quot;});\n",
       "\n",
       "        \n",
       "            \n",
       "                var html_f3d0c3a26f5dcbb7fbd73f4a1d051c68 = $(`&lt;div id=&quot;html_f3d0c3a26f5dcbb7fbd73f4a1d051c68&quot; style=&quot;width: 100.0%; height: 100.0%;&quot;&gt;Bangladesh: 58888045.432000004 kilotonnes&lt;/div&gt;`)[0];\n",
       "                popup_79561c47d72d46c400d8186607f73cd7.setContent(html_f3d0c3a26f5dcbb7fbd73f4a1d051c68);\n",
       "            \n",
       "        \n",
       "\n",
       "        marker_dd98b59235b78bdb17fb39daf8cad786.bindPopup(popup_79561c47d72d46c400d8186607f73cd7)\n",
       "        ;\n",
       "\n",
       "        \n",
       "    \n",
       "    \n",
       "            var marker_38449468203f52cfbe4cf6c6f234e375 = L.marker(\n",
       "                [13.1500331, -59.5250305],\n",
       "                {}\n",
       "            ).addTo(map_460c590ddd81a923a88348f196bbe720);\n",
       "        \n",
       "    \n",
       "            var icon_3b7addf8bafcb66cea2ff200aceed039 = L.AwesomeMarkers.icon(\n",
       "                {&quot;extraClasses&quot;: &quot;fa-rotate-0&quot;, &quot;icon&quot;: &quot;info-sign&quot;, &quot;iconColor&quot;: &quot;white&quot;, &quot;markerColor&quot;: &quot;green&quot;, &quot;prefix&quot;: &quot;glyphicon&quot;}\n",
       "            );\n",
       "            marker_38449468203f52cfbe4cf6c6f234e375.setIcon(icon_3b7addf8bafcb66cea2ff200aceed039);\n",
       "        \n",
       "    \n",
       "        var popup_7c2737a7590fd7324bc3fad479c85394 = L.popup({&quot;maxWidth&quot;: &quot;100%&quot;});\n",
       "\n",
       "        \n",
       "            \n",
       "                var html_dec5ce0518e380c06a7613faf83fd864 = $(`&lt;div id=&quot;html_dec5ce0518e380c06a7613faf83fd864&quot; style=&quot;width: 100.0%; height: 100.0%;&quot;&gt;Barbados: 270753.54375 kilotonnes&lt;/div&gt;`)[0];\n",
       "                popup_7c2737a7590fd7324bc3fad479c85394.setContent(html_dec5ce0518e380c06a7613faf83fd864);\n",
       "            \n",
       "        \n",
       "\n",
       "        marker_38449468203f52cfbe4cf6c6f234e375.bindPopup(popup_7c2737a7590fd7324bc3fad479c85394)\n",
       "        ;\n",
       "\n",
       "        \n",
       "    \n",
       "    \n",
       "            var marker_2986dcab29c7aa574d608d373f287bc9 = L.marker(\n",
       "                [53.4250605, 27.6971358],\n",
       "                {}\n",
       "            ).addTo(map_460c590ddd81a923a88348f196bbe720);\n",
       "        \n",
       "    \n",
       "            var icon_e19cd83fa1fbe2a7153382c1586837d5 = L.AwesomeMarkers.icon(\n",
       "                {&quot;extraClasses&quot;: &quot;fa-rotate-0&quot;, &quot;icon&quot;: &quot;info-sign&quot;, &quot;iconColor&quot;: &quot;white&quot;, &quot;markerColor&quot;: &quot;red&quot;, &quot;prefix&quot;: &quot;glyphicon&quot;}\n",
       "            );\n",
       "            marker_2986dcab29c7aa574d608d373f287bc9.setIcon(icon_e19cd83fa1fbe2a7153382c1586837d5);\n",
       "        \n",
       "    \n",
       "        var popup_45f31c97d6f3f1519ab19c149536b7bf = L.popup({&quot;maxWidth&quot;: &quot;100%&quot;});\n",
       "\n",
       "        \n",
       "            \n",
       "                var html_1bdc3774ddd765680df6775d60405e7b = $(`&lt;div id=&quot;html_1bdc3774ddd765680df6775d60405e7b&quot; style=&quot;width: 100.0%; height: 100.0%;&quot;&gt;Belarus: 30823996.8868 kilotonnes&lt;/div&gt;`)[0];\n",
       "                popup_45f31c97d6f3f1519ab19c149536b7bf.setContent(html_1bdc3774ddd765680df6775d60405e7b);\n",
       "            \n",
       "        \n",
       "\n",
       "        marker_2986dcab29c7aa574d608d373f287bc9.bindPopup(popup_45f31c97d6f3f1519ab19c149536b7bf)\n",
       "        ;\n",
       "\n",
       "        \n",
       "    \n",
       "    \n",
       "            var marker_9c67fdd53c19476f1b07e443e311f77d = L.marker(\n",
       "                [50.6402809, 4.6667145],\n",
       "                {}\n",
       "            ).addTo(map_460c590ddd81a923a88348f196bbe720);\n",
       "        \n",
       "    \n",
       "            var icon_a78a37b0ad98a88389c876ddd754b9a0 = L.AwesomeMarkers.icon(\n",
       "                {&quot;extraClasses&quot;: &quot;fa-rotate-0&quot;, &quot;icon&quot;: &quot;info-sign&quot;, &quot;iconColor&quot;: &quot;white&quot;, &quot;markerColor&quot;: &quot;red&quot;, &quot;prefix&quot;: &quot;glyphicon&quot;}\n",
       "            );\n",
       "            marker_9c67fdd53c19476f1b07e443e311f77d.setIcon(icon_a78a37b0ad98a88389c876ddd754b9a0);\n",
       "        \n",
       "    \n",
       "        var popup_8a841c9b2824f605d1909c3da5a51be1 = L.popup({&quot;maxWidth&quot;: &quot;100%&quot;});\n",
       "\n",
       "        \n",
       "            \n",
       "                var html_252c0c535e259fae21c696f2cb5d06f6 = $(`&lt;div id=&quot;html_252c0c535e259fae21c696f2cb5d06f6&quot; style=&quot;width: 100.0%; height: 100.0%;&quot;&gt;Belgium: 23248880.88295 kilotonnes&lt;/div&gt;`)[0];\n",
       "                popup_8a841c9b2824f605d1909c3da5a51be1.setContent(html_252c0c535e259fae21c696f2cb5d06f6);\n",
       "            \n",
       "        \n",
       "\n",
       "        marker_9c67fdd53c19476f1b07e443e311f77d.bindPopup(popup_8a841c9b2824f605d1909c3da5a51be1)\n",
       "        ;\n",
       "\n",
       "        \n",
       "    \n",
       "    \n",
       "            var marker_f499e0d163513a2fe12709cdeeed1938 = L.marker(\n",
       "                [17.1204943, -88.6859028],\n",
       "                {}\n",
       "            ).addTo(map_460c590ddd81a923a88348f196bbe720);\n",
       "        \n",
       "    \n",
       "            var icon_ab76af34c03b85833b4e09a4d24a5e96 = L.AwesomeMarkers.icon(\n",
       "                {&quot;extraClasses&quot;: &quot;fa-rotate-0&quot;, &quot;icon&quot;: &quot;info-sign&quot;, &quot;iconColor&quot;: &quot;white&quot;, &quot;markerColor&quot;: &quot;green&quot;, &quot;prefix&quot;: &quot;glyphicon&quot;}\n",
       "            );\n",
       "            marker_f499e0d163513a2fe12709cdeeed1938.setIcon(icon_ab76af34c03b85833b4e09a4d24a5e96);\n",
       "        \n",
       "    \n",
       "        var popup_88d70e83606362d20513e94f7b6f450f = L.popup({&quot;maxWidth&quot;: &quot;100%&quot;});\n",
       "\n",
       "        \n",
       "            \n",
       "                var html_c3f59e22f9424e36cbe6fc662f8c36c5 = $(`&lt;div id=&quot;html_c3f59e22f9424e36cbe6fc662f8c36c5&quot; style=&quot;width: 100.0%; height: 100.0%;&quot;&gt;Belize: 1837477.93105 kilotonnes&lt;/div&gt;`)[0];\n",
       "                popup_88d70e83606362d20513e94f7b6f450f.setContent(html_c3f59e22f9424e36cbe6fc662f8c36c5);\n",
       "            \n",
       "        \n",
       "\n",
       "        marker_f499e0d163513a2fe12709cdeeed1938.bindPopup(popup_88d70e83606362d20513e94f7b6f450f)\n",
       "        ;\n",
       "\n",
       "        \n",
       "    \n",
       "    \n",
       "            var marker_00cb2eac63396f608e1c368ac8991cd0 = L.marker(\n",
       "                [9.5293472, 2.2584408],\n",
       "                {}\n",
       "            ).addTo(map_460c590ddd81a923a88348f196bbe720);\n",
       "        \n",
       "    \n",
       "            var icon_7a67fa1bb915c63771a236bd7821b04f = L.AwesomeMarkers.icon(\n",
       "                {&quot;extraClasses&quot;: &quot;fa-rotate-0&quot;, &quot;icon&quot;: &quot;info-sign&quot;, &quot;iconColor&quot;: &quot;white&quot;, &quot;markerColor&quot;: &quot;orange&quot;, &quot;prefix&quot;: &quot;glyphicon&quot;}\n",
       "            );\n",
       "            marker_00cb2eac63396f608e1c368ac8991cd0.setIcon(icon_7a67fa1bb915c63771a236bd7821b04f);\n",
       "        \n",
       "    \n",
       "        var popup_564c0a7b2ab8fca873e7d9fe3c12cd6e = L.popup({&quot;maxWidth&quot;: &quot;100%&quot;});\n",
       "\n",
       "        \n",
       "            \n",
       "                var html_35294ce7f42560095e7925687a3a4daf = $(`&lt;div id=&quot;html_35294ce7f42560095e7925687a3a4daf&quot; style=&quot;width: 100.0%; height: 100.0%;&quot;&gt;Benin: 6991006.2244 kilotonnes&lt;/div&gt;`)[0];\n",
       "                popup_564c0a7b2ab8fca873e7d9fe3c12cd6e.setContent(html_35294ce7f42560095e7925687a3a4daf);\n",
       "            \n",
       "        \n",
       "\n",
       "        marker_00cb2eac63396f608e1c368ac8991cd0.bindPopup(popup_564c0a7b2ab8fca873e7d9fe3c12cd6e)\n",
       "        ;\n",
       "\n",
       "        \n",
       "    \n",
       "    \n",
       "            var marker_cdd1f6486b436cea8ece46c810fb37d2 = L.marker(\n",
       "                [32.3040273, -64.7563086],\n",
       "                {}\n",
       "            ).addTo(map_460c590ddd81a923a88348f196bbe720);\n",
       "        \n",
       "    \n",
       "            var icon_f8267ad64295b98d4d361a492c250b27 = L.AwesomeMarkers.icon(\n",
       "                {&quot;extraClasses&quot;: &quot;fa-rotate-0&quot;, &quot;icon&quot;: &quot;info-sign&quot;, &quot;iconColor&quot;: &quot;white&quot;, &quot;markerColor&quot;: &quot;lightgray&quot;, &quot;prefix&quot;: &quot;glyphicon&quot;}\n",
       "            );\n",
       "            marker_cdd1f6486b436cea8ece46c810fb37d2.setIcon(icon_f8267ad64295b98d4d361a492c250b27);\n",
       "        \n",
       "    \n",
       "        var popup_9890cb8a678bca1d123ef446837a8b3b = L.popup({&quot;maxWidth&quot;: &quot;100%&quot;});\n",
       "\n",
       "        \n",
       "            \n",
       "                var html_9e0d13a24e88c8d13285452fca079a05 = $(`&lt;div id=&quot;html_9e0d13a24e88c8d13285452fca079a05&quot; style=&quot;width: 100.0%; height: 100.0%;&quot;&gt;Bermuda: 7705.3971 kilotonnes&lt;/div&gt;`)[0];\n",
       "                popup_9890cb8a678bca1d123ef446837a8b3b.setContent(html_9e0d13a24e88c8d13285452fca079a05);\n",
       "            \n",
       "        \n",
       "\n",
       "        marker_cdd1f6486b436cea8ece46c810fb37d2.bindPopup(popup_9890cb8a678bca1d123ef446837a8b3b)\n",
       "        ;\n",
       "\n",
       "        \n",
       "    \n",
       "    \n",
       "            var marker_8aadf9d809402908745b965103795109 = L.marker(\n",
       "                [27.549511, 90.5119273],\n",
       "                {}\n",
       "            ).addTo(map_460c590ddd81a923a88348f196bbe720);\n",
       "        \n",
       "    \n",
       "            var icon_d1c280d1c536a597771337d256d499b8 = L.AwesomeMarkers.icon(\n",
       "                {&quot;extraClasses&quot;: &quot;fa-rotate-0&quot;, &quot;icon&quot;: &quot;info-sign&quot;, &quot;iconColor&quot;: &quot;white&quot;, &quot;markerColor&quot;: &quot;green&quot;, &quot;prefix&quot;: &quot;glyphicon&quot;}\n",
       "            );\n",
       "            marker_8aadf9d809402908745b965103795109.setIcon(icon_d1c280d1c536a597771337d256d499b8);\n",
       "        \n",
       "    \n",
       "        var popup_da5a7f2c7f12bff25f4b5d6cd5f160c3 = L.popup({&quot;maxWidth&quot;: &quot;100%&quot;});\n",
       "\n",
       "        \n",
       "            \n",
       "                var html_d29608fb54505b105a04985a61c84463 = $(`&lt;div id=&quot;html_d29608fb54505b105a04985a61c84463&quot; style=&quot;width: 100.0%; height: 100.0%;&quot;&gt;Bhutan: 427108.963 kilotonnes&lt;/div&gt;`)[0];\n",
       "                popup_da5a7f2c7f12bff25f4b5d6cd5f160c3.setContent(html_d29608fb54505b105a04985a61c84463);\n",
       "            \n",
       "        \n",
       "\n",
       "        marker_8aadf9d809402908745b965103795109.bindPopup(popup_da5a7f2c7f12bff25f4b5d6cd5f160c3)\n",
       "        ;\n",
       "\n",
       "        \n",
       "    \n",
       "    \n",
       "            var marker_5737188b9aa86b45289f63e207d7c6b1 = L.marker(\n",
       "                [-17.0568696, -64.9912286],\n",
       "                {}\n",
       "            ).addTo(map_460c590ddd81a923a88348f196bbe720);\n",
       "        \n",
       "    \n",
       "            var icon_404641a22ca061e9eb1d2771147a76e3 = L.AwesomeMarkers.icon(\n",
       "                {&quot;extraClasses&quot;: &quot;fa-rotate-0&quot;, &quot;icon&quot;: &quot;info-sign&quot;, &quot;iconColor&quot;: &quot;white&quot;, &quot;markerColor&quot;: &quot;red&quot;, &quot;prefix&quot;: &quot;glyphicon&quot;}\n",
       "            );\n",
       "            marker_5737188b9aa86b45289f63e207d7c6b1.setIcon(icon_404641a22ca061e9eb1d2771147a76e3);\n",
       "        \n",
       "    \n",
       "        var popup_46e7c6430a18470f4bec6c91777e0c77 = L.popup({&quot;maxWidth&quot;: &quot;100%&quot;});\n",
       "\n",
       "        \n",
       "            \n",
       "                var html_aa9dc858809616d65242a469d8b50661 = $(`&lt;div id=&quot;html_aa9dc858809616d65242a469d8b50661&quot; style=&quot;width: 100.0%; height: 100.0%;&quot;&gt;Bolivia (Plurinational State of): 42113776.4377 kilotonnes&lt;/div&gt;`)[0];\n",
       "                popup_46e7c6430a18470f4bec6c91777e0c77.setContent(html_aa9dc858809616d65242a469d8b50661);\n",
       "            \n",
       "        \n",
       "\n",
       "        marker_5737188b9aa86b45289f63e207d7c6b1.bindPopup(popup_46e7c6430a18470f4bec6c91777e0c77)\n",
       "        ;\n",
       "\n",
       "        \n",
       "    \n",
       "    \n",
       "            var marker_34d141a6b5dad98d683f9279fef7addb = L.marker(\n",
       "                [44.3053476, 17.5961467],\n",
       "                {}\n",
       "            ).addTo(map_460c590ddd81a923a88348f196bbe720);\n",
       "        \n",
       "    \n",
       "            var icon_6c2d5a127595e1b5231ac92ccc4dce3b = L.AwesomeMarkers.icon(\n",
       "                {&quot;extraClasses&quot;: &quot;fa-rotate-0&quot;, &quot;icon&quot;: &quot;info-sign&quot;, &quot;iconColor&quot;: &quot;white&quot;, &quot;markerColor&quot;: &quot;orange&quot;, &quot;prefix&quot;: &quot;glyphicon&quot;}\n",
       "            );\n",
       "            marker_34d141a6b5dad98d683f9279fef7addb.setIcon(icon_6c2d5a127595e1b5231ac92ccc4dce3b);\n",
       "        \n",
       "    \n",
       "        var popup_50fb60d2778af2edf0399bad6135e93d = L.popup({&quot;maxWidth&quot;: &quot;100%&quot;});\n",
       "\n",
       "        \n",
       "            \n",
       "                var html_362b9a39453c0d3d2ce02c4f360db5e0 = $(`&lt;div id=&quot;html_362b9a39453c0d3d2ce02c4f360db5e0&quot; style=&quot;width: 100.0%; height: 100.0%;&quot;&gt;Bosnia and Herzegovina: 4528340.31235 kilotonnes&lt;/div&gt;`)[0];\n",
       "                popup_50fb60d2778af2edf0399bad6135e93d.setContent(html_362b9a39453c0d3d2ce02c4f360db5e0);\n",
       "            \n",
       "        \n",
       "\n",
       "        marker_34d141a6b5dad98d683f9279fef7addb.bindPopup(popup_50fb60d2778af2edf0399bad6135e93d)\n",
       "        ;\n",
       "\n",
       "        \n",
       "    \n",
       "    \n",
       "            var marker_3a02d70f4318e40e22cd6b94613cd166 = L.marker(\n",
       "                [-23.1681782, 24.5928742],\n",
       "                {}\n",
       "            ).addTo(map_460c590ddd81a923a88348f196bbe720);\n",
       "        \n",
       "    \n",
       "            var icon_b41a5dfa12004445b496220f42851408 = L.AwesomeMarkers.icon(\n",
       "                {&quot;extraClasses&quot;: &quot;fa-rotate-0&quot;, &quot;icon&quot;: &quot;info-sign&quot;, &quot;iconColor&quot;: &quot;white&quot;, &quot;markerColor&quot;: &quot;orange&quot;, &quot;prefix&quot;: &quot;glyphicon&quot;}\n",
       "            );\n",
       "            marker_3a02d70f4318e40e22cd6b94613cd166.setIcon(icon_b41a5dfa12004445b496220f42851408);\n",
       "        \n",
       "    \n",
       "        var popup_d4157a2628789595a2950a9859a192a6 = L.popup({&quot;maxWidth&quot;: &quot;100%&quot;});\n",
       "\n",
       "        \n",
       "            \n",
       "                var html_c212b90bfb6b2da1b006372371cd7977 = $(`&lt;div id=&quot;html_c212b90bfb6b2da1b006372371cd7977&quot; style=&quot;width: 100.0%; height: 100.0%;&quot;&gt;Botswana: 18011685.23045 kilotonnes&lt;/div&gt;`)[0];\n",
       "                popup_d4157a2628789595a2950a9859a192a6.setContent(html_c212b90bfb6b2da1b006372371cd7977);\n",
       "            \n",
       "        \n",
       "\n",
       "        marker_3a02d70f4318e40e22cd6b94613cd166.bindPopup(popup_d4157a2628789595a2950a9859a192a6)\n",
       "        ;\n",
       "\n",
       "        \n",
       "    \n",
       "    \n",
       "            var marker_1f43ca263110c555cfd0c833b3ac56d9 = L.marker(\n",
       "                [-10.3333333, -53.2],\n",
       "                {}\n",
       "            ).addTo(map_460c590ddd81a923a88348f196bbe720);\n",
       "        \n",
       "    \n",
       "            var icon_6b57b1c01e7ca4444c1016e2613f8d71 = L.AwesomeMarkers.icon(\n",
       "                {&quot;extraClasses&quot;: &quot;fa-rotate-0&quot;, &quot;icon&quot;: &quot;info-sign&quot;, &quot;iconColor&quot;: &quot;white&quot;, &quot;markerColor&quot;: &quot;darkred&quot;, &quot;prefix&quot;: &quot;glyphicon&quot;}\n",
       "            );\n",
       "            marker_1f43ca263110c555cfd0c833b3ac56d9.setIcon(icon_6b57b1c01e7ca4444c1016e2613f8d71);\n",
       "        \n",
       "    \n",
       "        var popup_73162f8fc0f59484df83f8ad99c9fef7 = L.popup({&quot;maxWidth&quot;: &quot;100%&quot;});\n",
       "\n",
       "        \n",
       "            \n",
       "                var html_ff194496ffc8e44844bb13657f811a58 = $(`&lt;div id=&quot;html_ff194496ffc8e44844bb13657f811a58&quot; style=&quot;width: 100.0%; height: 100.0%;&quot;&gt;Brazil: 665985681.81935 kilotonnes&lt;/div&gt;`)[0];\n",
       "                popup_73162f8fc0f59484df83f8ad99c9fef7.setContent(html_ff194496ffc8e44844bb13657f811a58);\n",
       "            \n",
       "        \n",
       "\n",
       "        marker_1f43ca263110c555cfd0c833b3ac56d9.bindPopup(popup_73162f8fc0f59484df83f8ad99c9fef7)\n",
       "        ;\n",
       "\n",
       "        \n",
       "    \n",
       "    \n",
       "            var marker_9d228f521b08ee314377d98f87ddde65 = L.marker(\n",
       "                [18.4024395, -64.5661642],\n",
       "                {}\n",
       "            ).addTo(map_460c590ddd81a923a88348f196bbe720);\n",
       "        \n",
       "    \n",
       "            var icon_7e17c9257e6fb0d52a13cd7eda1483cd = L.AwesomeMarkers.icon(\n",
       "                {&quot;extraClasses&quot;: &quot;fa-rotate-0&quot;, &quot;icon&quot;: &quot;info-sign&quot;, &quot;iconColor&quot;: &quot;white&quot;, &quot;markerColor&quot;: &quot;green&quot;, &quot;prefix&quot;: &quot;glyphicon&quot;}\n",
       "            );\n",
       "            marker_9d228f521b08ee314377d98f87ddde65.setIcon(icon_7e17c9257e6fb0d52a13cd7eda1483cd);\n",
       "        \n",
       "    \n",
       "        var popup_6b642720eacdcf91df857df07a897c83 = L.popup({&quot;maxWidth&quot;: &quot;100%&quot;});\n",
       "\n",
       "        \n",
       "            \n",
       "                var html_d012ccf5e7b61abcd22b01009ec178f7 = $(`&lt;div id=&quot;html_d012ccf5e7b61abcd22b01009ec178f7&quot; style=&quot;width: 100.0%; height: 100.0%;&quot;&gt;British Virgin Islands: 28165.2023 kilotonnes&lt;/div&gt;`)[0];\n",
       "                popup_6b642720eacdcf91df857df07a897c83.setContent(html_d012ccf5e7b61abcd22b01009ec178f7);\n",
       "            \n",
       "        \n",
       "\n",
       "        marker_9d228f521b08ee314377d98f87ddde65.bindPopup(popup_6b642720eacdcf91df857df07a897c83)\n",
       "        ;\n",
       "\n",
       "        \n",
       "    \n",
       "    \n",
       "            var marker_f1208e38d4200ef4d1f69c26c48ee409 = L.marker(\n",
       "                [4.4137155, 114.5653908],\n",
       "                {}\n",
       "            ).addTo(map_460c590ddd81a923a88348f196bbe720);\n",
       "        \n",
       "    \n",
       "            var icon_b926bcdd7d0854bd3b9b03c8c3827955 = L.AwesomeMarkers.icon(\n",
       "                {&quot;extraClasses&quot;: &quot;fa-rotate-0&quot;, &quot;icon&quot;: &quot;info-sign&quot;, &quot;iconColor&quot;: &quot;white&quot;, &quot;markerColor&quot;: &quot;green&quot;, &quot;prefix&quot;: &quot;glyphicon&quot;}\n",
       "            );\n",
       "            marker_f1208e38d4200ef4d1f69c26c48ee409.setIcon(icon_b926bcdd7d0854bd3b9b03c8c3827955);\n",
       "        \n",
       "    \n",
       "        var popup_e658be69ae16255224cc914f7f25e5a9 = L.popup({&quot;maxWidth&quot;: &quot;100%&quot;});\n",
       "\n",
       "        \n",
       "            \n",
       "                var html_661014dcbbcfa1bce751f17dd7993ae7 = $(`&lt;div id=&quot;html_661014dcbbcfa1bce751f17dd7993ae7&quot; style=&quot;width: 100.0%; height: 100.0%;&quot;&gt;Brunei Darussalam: 2239065.80715 kilotonnes&lt;/div&gt;`)[0];\n",
       "                popup_e658be69ae16255224cc914f7f25e5a9.setContent(html_661014dcbbcfa1bce751f17dd7993ae7);\n",
       "            \n",
       "        \n",
       "\n",
       "        marker_f1208e38d4200ef4d1f69c26c48ee409.bindPopup(popup_e658be69ae16255224cc914f7f25e5a9)\n",
       "        ;\n",
       "\n",
       "        \n",
       "    \n",
       "    \n",
       "            var marker_aea3059bbca05c3e24866ee3ea76e97a = L.marker(\n",
       "                [42.6073975, 25.4856617],\n",
       "                {}\n",
       "            ).addTo(map_460c590ddd81a923a88348f196bbe720);\n",
       "        \n",
       "    \n",
       "            var icon_4348571327cbb0084491dab6c0d74e71 = L.AwesomeMarkers.icon(\n",
       "                {&quot;extraClasses&quot;: &quot;fa-rotate-0&quot;, &quot;icon&quot;: &quot;info-sign&quot;, &quot;iconColor&quot;: &quot;white&quot;, &quot;markerColor&quot;: &quot;orange&quot;, &quot;prefix&quot;: &quot;glyphicon&quot;}\n",
       "            );\n",
       "            marker_aea3059bbca05c3e24866ee3ea76e97a.setIcon(icon_4348571327cbb0084491dab6c0d74e71);\n",
       "        \n",
       "    \n",
       "        var popup_a9aa4674e7053109db5ef239be7d6357 = L.popup({&quot;maxWidth&quot;: &quot;100%&quot;});\n",
       "\n",
       "        \n",
       "            \n",
       "                var html_2531fd4ce5bb93383ee025b3f0716b33 = $(`&lt;div id=&quot;html_2531fd4ce5bb93383ee025b3f0716b33&quot; style=&quot;width: 100.0%; height: 100.0%;&quot;&gt;Bulgaria: 9955689.9772 kilotonnes&lt;/div&gt;`)[0];\n",
       "                popup_a9aa4674e7053109db5ef239be7d6357.setContent(html_2531fd4ce5bb93383ee025b3f0716b33);\n",
       "            \n",
       "        \n",
       "\n",
       "        marker_aea3059bbca05c3e24866ee3ea76e97a.bindPopup(popup_a9aa4674e7053109db5ef239be7d6357)\n",
       "        ;\n",
       "\n",
       "        \n",
       "    \n",
       "    \n",
       "            var marker_b9e5c3775c56b9f1b27376c27ffe2d97 = L.marker(\n",
       "                [12.0753083, -1.6880314],\n",
       "                {}\n",
       "            ).addTo(map_460c590ddd81a923a88348f196bbe720);\n",
       "        \n",
       "    \n",
       "            var icon_81bc50e850c5538da7db7c6c6c7abecd = L.AwesomeMarkers.icon(\n",
       "                {&quot;extraClasses&quot;: &quot;fa-rotate-0&quot;, &quot;icon&quot;: &quot;info-sign&quot;, &quot;iconColor&quot;: &quot;white&quot;, &quot;markerColor&quot;: &quot;orange&quot;, &quot;prefix&quot;: &quot;glyphicon&quot;}\n",
       "            );\n",
       "            marker_b9e5c3775c56b9f1b27376c27ffe2d97.setIcon(icon_81bc50e850c5538da7db7c6c6c7abecd);\n",
       "        \n",
       "    \n",
       "        var popup_9c2a7d4ff1c22b9e64e4c24413198c60 = L.popup({&quot;maxWidth&quot;: &quot;100%&quot;});\n",
       "\n",
       "        \n",
       "            \n",
       "                var html_4976100b316c188844117c4cf1abdb88 = $(`&lt;div id=&quot;html_4976100b316c188844117c4cf1abdb88&quot; style=&quot;width: 100.0%; height: 100.0%;&quot;&gt;Burkina Faso: 14214691.3539 kilotonnes&lt;/div&gt;`)[0];\n",
       "                popup_9c2a7d4ff1c22b9e64e4c24413198c60.setContent(html_4976100b316c188844117c4cf1abdb88);\n",
       "            \n",
       "        \n",
       "\n",
       "        marker_b9e5c3775c56b9f1b27376c27ffe2d97.bindPopup(popup_9c2a7d4ff1c22b9e64e4c24413198c60)\n",
       "        ;\n",
       "\n",
       "        \n",
       "    \n",
       "    \n",
       "            var marker_dad1457d8dcbcf80f7ab05838a8f661d = L.marker(\n",
       "                [-3.426449, 29.9324519],\n",
       "                {}\n",
       "            ).addTo(map_460c590ddd81a923a88348f196bbe720);\n",
       "        \n",
       "    \n",
       "            var icon_1f42fbb242cf915bb812d60dd830e845 = L.AwesomeMarkers.icon(\n",
       "                {&quot;extraClasses&quot;: &quot;fa-rotate-0&quot;, &quot;icon&quot;: &quot;info-sign&quot;, &quot;iconColor&quot;: &quot;white&quot;, &quot;markerColor&quot;: &quot;green&quot;, &quot;prefix&quot;: &quot;glyphicon&quot;}\n",
       "            );\n",
       "            marker_dad1457d8dcbcf80f7ab05838a8f661d.setIcon(icon_1f42fbb242cf915bb812d60dd830e845);\n",
       "        \n",
       "    \n",
       "        var popup_05c40fee20124edbabfb3156c33ea9d1 = L.popup({&quot;maxWidth&quot;: &quot;100%&quot;});\n",
       "\n",
       "        \n",
       "            \n",
       "                var html_3734b4bd3820f12b5d12dff1530191fc = $(`&lt;div id=&quot;html_3734b4bd3820f12b5d12dff1530191fc&quot; style=&quot;width: 100.0%; height: 100.0%;&quot;&gt;Burundi: 2296868.91105 kilotonnes&lt;/div&gt;`)[0];\n",
       "                popup_05c40fee20124edbabfb3156c33ea9d1.setContent(html_3734b4bd3820f12b5d12dff1530191fc);\n",
       "            \n",
       "        \n",
       "\n",
       "        marker_dad1457d8dcbcf80f7ab05838a8f661d.bindPopup(popup_05c40fee20124edbabfb3156c33ea9d1)\n",
       "        ;\n",
       "\n",
       "        \n",
       "    \n",
       "    \n",
       "            var marker_f442d79485456f3aecc573b7335437dd = L.marker(\n",
       "                [16.0000552, -24.0083947],\n",
       "                {}\n",
       "            ).addTo(map_460c590ddd81a923a88348f196bbe720);\n",
       "        \n",
       "    \n",
       "            var icon_73cc9c8fe36793aa2c2e7b700b4c9fff = L.AwesomeMarkers.icon(\n",
       "                {&quot;extraClasses&quot;: &quot;fa-rotate-0&quot;, &quot;icon&quot;: &quot;info-sign&quot;, &quot;iconColor&quot;: &quot;white&quot;, &quot;markerColor&quot;: &quot;green&quot;, &quot;prefix&quot;: &quot;glyphicon&quot;}\n",
       "            );\n",
       "            marker_f442d79485456f3aecc573b7335437dd.setIcon(icon_73cc9c8fe36793aa2c2e7b700b4c9fff);\n",
       "        \n",
       "    \n",
       "        var popup_de2b13a101cdb1dfc52b9b4761546064 = L.popup({&quot;maxWidth&quot;: &quot;100%&quot;});\n",
       "\n",
       "        \n",
       "            \n",
       "                var html_43bba0a211fd1b0e910fe297f938a5ec = $(`&lt;div id=&quot;html_43bba0a211fd1b0e910fe297f938a5ec&quot; style=&quot;width: 100.0%; height: 100.0%;&quot;&gt;Cabo Verde: 153681.69255 kilotonnes&lt;/div&gt;`)[0];\n",
       "                popup_de2b13a101cdb1dfc52b9b4761546064.setContent(html_43bba0a211fd1b0e910fe297f938a5ec);\n",
       "            \n",
       "        \n",
       "\n",
       "        marker_f442d79485456f3aecc573b7335437dd.bindPopup(popup_de2b13a101cdb1dfc52b9b4761546064)\n",
       "        ;\n",
       "\n",
       "        \n",
       "    \n",
       "    \n",
       "            var marker_24db824b46075bb786c19d8768694557 = L.marker(\n",
       "                [12.5433216, 104.8144914],\n",
       "                {}\n",
       "            ).addTo(map_460c590ddd81a923a88348f196bbe720);\n",
       "        \n",
       "    \n",
       "            var icon_a3e4f0e6a72be393dd6661d91db79eca = L.AwesomeMarkers.icon(\n",
       "                {&quot;extraClasses&quot;: &quot;fa-rotate-0&quot;, &quot;icon&quot;: &quot;info-sign&quot;, &quot;iconColor&quot;: &quot;white&quot;, &quot;markerColor&quot;: &quot;red&quot;, &quot;prefix&quot;: &quot;glyphicon&quot;}\n",
       "            );\n",
       "            marker_24db824b46075bb786c19d8768694557.setIcon(icon_a3e4f0e6a72be393dd6661d91db79eca);\n",
       "        \n",
       "    \n",
       "        var popup_4d0d24cb6fced016a9546b0c826eb48b = L.popup({&quot;maxWidth&quot;: &quot;100%&quot;});\n",
       "\n",
       "        \n",
       "            \n",
       "                var html_78708c97917ad64ae29e8d341f9ba2b7 = $(`&lt;div id=&quot;html_78708c97917ad64ae29e8d341f9ba2b7&quot; style=&quot;width: 100.0%; height: 100.0%;&quot;&gt;Cambodia: 20914388.60315 kilotonnes&lt;/div&gt;`)[0];\n",
       "                popup_4d0d24cb6fced016a9546b0c826eb48b.setContent(html_78708c97917ad64ae29e8d341f9ba2b7);\n",
       "            \n",
       "        \n",
       "\n",
       "        marker_24db824b46075bb786c19d8768694557.bindPopup(popup_4d0d24cb6fced016a9546b0c826eb48b)\n",
       "        ;\n",
       "\n",
       "        \n",
       "    \n",
       "    \n",
       "            var marker_c938d92bf5558ab2f4f0bb11753ec9ab = L.marker(\n",
       "                [4.6125522, 13.1535811],\n",
       "                {}\n",
       "            ).addTo(map_460c590ddd81a923a88348f196bbe720);\n",
       "        \n",
       "    \n",
       "            var icon_53defd27bd9d218bfffdcc91f988950d = L.AwesomeMarkers.icon(\n",
       "                {&quot;extraClasses&quot;: &quot;fa-rotate-0&quot;, &quot;icon&quot;: &quot;info-sign&quot;, &quot;iconColor&quot;: &quot;white&quot;, &quot;markerColor&quot;: &quot;red&quot;, &quot;prefix&quot;: &quot;glyphicon&quot;}\n",
       "            );\n",
       "            marker_c938d92bf5558ab2f4f0bb11753ec9ab.setIcon(icon_53defd27bd9d218bfffdcc91f988950d);\n",
       "        \n",
       "    \n",
       "        var popup_cce92ec9781778e5c5d560b1e8b9f109 = L.popup({&quot;maxWidth&quot;: &quot;100%&quot;});\n",
       "\n",
       "        \n",
       "            \n",
       "                var html_4f936af2ea527fd64ff6ad7d68ccf8b6 = $(`&lt;div id=&quot;html_4f936af2ea527fd64ff6ad7d68ccf8b6&quot; style=&quot;width: 100.0%; height: 100.0%;&quot;&gt;Cameroon: 22234714.98515 kilotonnes&lt;/div&gt;`)[0];\n",
       "                popup_cce92ec9781778e5c5d560b1e8b9f109.setContent(html_4f936af2ea527fd64ff6ad7d68ccf8b6);\n",
       "            \n",
       "        \n",
       "\n",
       "        marker_c938d92bf5558ab2f4f0bb11753ec9ab.bindPopup(popup_cce92ec9781778e5c5d560b1e8b9f109)\n",
       "        ;\n",
       "\n",
       "        \n",
       "    \n",
       "    \n",
       "            var marker_9e2b4d9ab360d700bca293dbd97dbbf2 = L.marker(\n",
       "                [61.0666922, -107.991707],\n",
       "                {}\n",
       "            ).addTo(map_460c590ddd81a923a88348f196bbe720);\n",
       "        \n",
       "    \n",
       "            var icon_f460d4dee1e654d3a8855b9f658f6be8 = L.AwesomeMarkers.icon(\n",
       "                {&quot;extraClasses&quot;: &quot;fa-rotate-0&quot;, &quot;icon&quot;: &quot;info-sign&quot;, &quot;iconColor&quot;: &quot;white&quot;, &quot;markerColor&quot;: &quot;darkred&quot;, &quot;prefix&quot;: &quot;glyphicon&quot;}\n",
       "            );\n",
       "            marker_9e2b4d9ab360d700bca293dbd97dbbf2.setIcon(icon_f460d4dee1e654d3a8855b9f658f6be8);\n",
       "        \n",
       "    \n",
       "        var popup_c49d63f8ef8b81a827755b78f04a9993 = L.popup({&quot;maxWidth&quot;: &quot;100%&quot;});\n",
       "\n",
       "        \n",
       "            \n",
       "                var html_32a9e194052afd5f581d14a7b67cecd9 = $(`&lt;div id=&quot;html_32a9e194052afd5f581d14a7b67cecd9&quot; style=&quot;width: 100.0%; height: 100.0%;&quot;&gt;Canada: 179760701.9473 kilotonnes&lt;/div&gt;`)[0];\n",
       "                popup_c49d63f8ef8b81a827755b78f04a9993.setContent(html_32a9e194052afd5f581d14a7b67cecd9);\n",
       "            \n",
       "        \n",
       "\n",
       "        marker_9e2b4d9ab360d700bca293dbd97dbbf2.bindPopup(popup_c49d63f8ef8b81a827755b78f04a9993)\n",
       "        ;\n",
       "\n",
       "        \n",
       "    \n",
       "    \n",
       "            var marker_d4ca9502821390ee6d4627cac7af312a = L.marker(\n",
       "                [18.4, -75.0],\n",
       "                {}\n",
       "            ).addTo(map_460c590ddd81a923a88348f196bbe720);\n",
       "        \n",
       "    \n",
       "            var icon_a457689c4e3a6defdd3ee89c25003af6 = L.AwesomeMarkers.icon(\n",
       "                {&quot;extraClasses&quot;: &quot;fa-rotate-0&quot;, &quot;icon&quot;: &quot;info-sign&quot;, &quot;iconColor&quot;: &quot;white&quot;, &quot;markerColor&quot;: &quot;red&quot;, &quot;prefix&quot;: &quot;glyphicon&quot;}\n",
       "            );\n",
       "            marker_d4ca9502821390ee6d4627cac7af312a.setIcon(icon_a457689c4e3a6defdd3ee89c25003af6);\n",
       "        \n",
       "    \n",
       "        var popup_c9964fb3e52742705ac3bc7a50258683 = L.popup({&quot;maxWidth&quot;: &quot;100%&quot;});\n",
       "\n",
       "        \n",
       "            \n",
       "                var html_e96c2441176d9e8679ea4cbde814db11 = $(`&lt;div id=&quot;html_e96c2441176d9e8679ea4cbde814db11&quot; style=&quot;width: 100.0%; height: 100.0%;&quot;&gt;Caribbean: 35549096.5781 kilotonnes&lt;/div&gt;`)[0];\n",
       "                popup_c9964fb3e52742705ac3bc7a50258683.setContent(html_e96c2441176d9e8679ea4cbde814db11);\n",
       "            \n",
       "        \n",
       "\n",
       "        marker_d4ca9502821390ee6d4627cac7af312a.bindPopup(popup_c9964fb3e52742705ac3bc7a50258683)\n",
       "        ;\n",
       "\n",
       "        \n",
       "    \n",
       "    \n",
       "            var marker_19c23a599da277dca4ef9dc52abf12c4 = L.marker(\n",
       "                [19.703182249999998, -79.9174627243246],\n",
       "                {}\n",
       "            ).addTo(map_460c590ddd81a923a88348f196bbe720);\n",
       "        \n",
       "    \n",
       "            var icon_8dfbf3c44255ba6c40c87bb03ac91b73 = L.AwesomeMarkers.icon(\n",
       "                {&quot;extraClasses&quot;: &quot;fa-rotate-0&quot;, &quot;icon&quot;: &quot;info-sign&quot;, &quot;iconColor&quot;: &quot;white&quot;, &quot;markerColor&quot;: &quot;lightgray&quot;, &quot;prefix&quot;: &quot;glyphicon&quot;}\n",
       "            );\n",
       "            marker_19c23a599da277dca4ef9dc52abf12c4.setIcon(icon_8dfbf3c44255ba6c40c87bb03ac91b73);\n",
       "        \n",
       "    \n",
       "        var popup_f5437dc4e008efccdabdbca0f92c5b8a = L.popup({&quot;maxWidth&quot;: &quot;100%&quot;});\n",
       "\n",
       "        \n",
       "            \n",
       "                var html_2b478f1c3798c8782a327d585bc5d11a = $(`&lt;div id=&quot;html_2b478f1c3798c8782a327d585bc5d11a&quot; style=&quot;width: 100.0%; height: 100.0%;&quot;&gt;Cayman Islands: 4909.3918 kilotonnes&lt;/div&gt;`)[0];\n",
       "                popup_f5437dc4e008efccdabdbca0f92c5b8a.setContent(html_2b478f1c3798c8782a327d585bc5d11a);\n",
       "            \n",
       "        \n",
       "\n",
       "        marker_19c23a599da277dca4ef9dc52abf12c4.bindPopup(popup_f5437dc4e008efccdabdbca0f92c5b8a)\n",
       "        ;\n",
       "\n",
       "        \n",
       "    \n",
       "    \n",
       "            var marker_4094b5837839532c545f7504b1236747 = L.marker(\n",
       "                [7.0323598, 19.9981227],\n",
       "                {}\n",
       "            ).addTo(map_460c590ddd81a923a88348f196bbe720);\n",
       "        \n",
       "    \n",
       "            var icon_defd55327b6368f8c47f1d062465e541 = L.AwesomeMarkers.icon(\n",
       "                {&quot;extraClasses&quot;: &quot;fa-rotate-0&quot;, &quot;icon&quot;: &quot;info-sign&quot;, &quot;iconColor&quot;: &quot;white&quot;, &quot;markerColor&quot;: &quot;red&quot;, &quot;prefix&quot;: &quot;glyphicon&quot;}\n",
       "            );\n",
       "            marker_4094b5837839532c545f7504b1236747.setIcon(icon_defd55327b6368f8c47f1d062465e541);\n",
       "        \n",
       "    \n",
       "        var popup_1fe034718ea9152768196c03c5526604 = L.popup({&quot;maxWidth&quot;: &quot;100%&quot;});\n",
       "\n",
       "        \n",
       "            \n",
       "                var html_2f0a340928e41ac8a93b8527d1855d24 = $(`&lt;div id=&quot;html_2f0a340928e41ac8a93b8527d1855d24&quot; style=&quot;width: 100.0%; height: 100.0%;&quot;&gt;Central African Republic: 20223333.4037 kilotonnes&lt;/div&gt;`)[0];\n",
       "                popup_1fe034718ea9152768196c03c5526604.setContent(html_2f0a340928e41ac8a93b8527d1855d24);\n",
       "            \n",
       "        \n",
       "\n",
       "        marker_4094b5837839532c545f7504b1236747.bindPopup(popup_1fe034718ea9152768196c03c5526604)\n",
       "        ;\n",
       "\n",
       "        \n",
       "    \n",
       "    \n",
       "            var marker_672c300bc82a5e3ca54eede624e4296b = L.marker(\n",
       "                [15.6134137, 19.0156172],\n",
       "                {}\n",
       "            ).addTo(map_460c590ddd81a923a88348f196bbe720);\n",
       "        \n",
       "    \n",
       "            var icon_82cd78df84152ae521ee0a838696eacc = L.AwesomeMarkers.icon(\n",
       "                {&quot;extraClasses&quot;: &quot;fa-rotate-0&quot;, &quot;icon&quot;: &quot;info-sign&quot;, &quot;iconColor&quot;: &quot;white&quot;, &quot;markerColor&quot;: &quot;red&quot;, &quot;prefix&quot;: &quot;glyphicon&quot;}\n",
       "            );\n",
       "            marker_672c300bc82a5e3ca54eede624e4296b.setIcon(icon_82cd78df84152ae521ee0a838696eacc);\n",
       "        \n",
       "    \n",
       "        var popup_cd3f0d7761eea804e311e21b6268d4ee = L.popup({&quot;maxWidth&quot;: &quot;100%&quot;});\n",
       "\n",
       "        \n",
       "            \n",
       "                var html_93a6d031a59d797885fe1966beb73646 = $(`&lt;div id=&quot;html_93a6d031a59d797885fe1966beb73646&quot; style=&quot;width: 100.0%; height: 100.0%;&quot;&gt;Chad: 30065025.934 kilotonnes&lt;/div&gt;`)[0];\n",
       "                popup_cd3f0d7761eea804e311e21b6268d4ee.setContent(html_93a6d031a59d797885fe1966beb73646);\n",
       "            \n",
       "        \n",
       "\n",
       "        marker_672c300bc82a5e3ca54eede624e4296b.bindPopup(popup_cd3f0d7761eea804e311e21b6268d4ee)\n",
       "        ;\n",
       "\n",
       "        \n",
       "    \n",
       "    \n",
       "            var marker_5a76aee05dfe3556a929825f395aaeee = L.marker(\n",
       "                [49.21230655, -2.1255999596428845],\n",
       "                {}\n",
       "            ).addTo(map_460c590ddd81a923a88348f196bbe720);\n",
       "        \n",
       "    \n",
       "            var icon_b9c7dcf48a08ce290374bf00a14e482f = L.AwesomeMarkers.icon(\n",
       "                {&quot;extraClasses&quot;: &quot;fa-rotate-0&quot;, &quot;icon&quot;: &quot;info-sign&quot;, &quot;iconColor&quot;: &quot;white&quot;, &quot;markerColor&quot;: &quot;lightgray&quot;, &quot;prefix&quot;: &quot;glyphicon&quot;}\n",
       "            );\n",
       "            marker_5a76aee05dfe3556a929825f395aaeee.setIcon(icon_b9c7dcf48a08ce290374bf00a14e482f);\n",
       "        \n",
       "    \n",
       "        var popup_5ba29ed0c192947c6b696e61c99cdd64 = L.popup({&quot;maxWidth&quot;: &quot;100%&quot;});\n",
       "\n",
       "        \n",
       "            \n",
       "                var html_b04a24ac6170476ac3730cd344f84842 = $(`&lt;div id=&quot;html_b04a24ac6170476ac3730cd344f84842&quot; style=&quot;width: 100.0%; height: 100.0%;&quot;&gt;Channel Islands: 2890.486 kilotonnes&lt;/div&gt;`)[0];\n",
       "                popup_5ba29ed0c192947c6b696e61c99cdd64.setContent(html_b04a24ac6170476ac3730cd344f84842);\n",
       "            \n",
       "        \n",
       "\n",
       "        marker_5a76aee05dfe3556a929825f395aaeee.bindPopup(popup_5ba29ed0c192947c6b696e61c99cdd64)\n",
       "        ;\n",
       "\n",
       "        \n",
       "    \n",
       "    \n",
       "            var marker_b2ae137986160b8d7fa7334dfeed6e96 = L.marker(\n",
       "                [-31.7613365, -71.3187697],\n",
       "                {}\n",
       "            ).addTo(map_460c590ddd81a923a88348f196bbe720);\n",
       "        \n",
       "    \n",
       "            var icon_0ac53a163a4ba480f2080b6695ee96e8 = L.AwesomeMarkers.icon(\n",
       "                {&quot;extraClasses&quot;: &quot;fa-rotate-0&quot;, &quot;icon&quot;: &quot;info-sign&quot;, &quot;iconColor&quot;: &quot;white&quot;, &quot;markerColor&quot;: &quot;orange&quot;, &quot;prefix&quot;: &quot;glyphicon&quot;}\n",
       "            );\n",
       "            marker_b2ae137986160b8d7fa7334dfeed6e96.setIcon(icon_0ac53a163a4ba480f2080b6695ee96e8);\n",
       "        \n",
       "    \n",
       "        var popup_8e97bab54730f0f57b3516fd4a248e00 = L.popup({&quot;maxWidth&quot;: &quot;100%&quot;});\n",
       "\n",
       "        \n",
       "            \n",
       "                var html_0ff567e87843dbe8adf048cf40e7b549 = $(`&lt;div id=&quot;html_0ff567e87843dbe8adf048cf40e7b549&quot; style=&quot;width: 100.0%; height: 100.0%;&quot;&gt;Chile: 17055891.00995 kilotonnes&lt;/div&gt;`)[0];\n",
       "                popup_8e97bab54730f0f57b3516fd4a248e00.setContent(html_0ff567e87843dbe8adf048cf40e7b549);\n",
       "            \n",
       "        \n",
       "\n",
       "        marker_b2ae137986160b8d7fa7334dfeed6e96.bindPopup(popup_8e97bab54730f0f57b3516fd4a248e00)\n",
       "        ;\n",
       "\n",
       "        \n",
       "    \n",
       "    \n",
       "            var marker_c2ad077854cad9d38a8f80e58d38ce44 = L.marker(\n",
       "                [35.0000663, 104.999955],\n",
       "                {}\n",
       "            ).addTo(map_460c590ddd81a923a88348f196bbe720);\n",
       "        \n",
       "    \n",
       "            var icon_98f1a392816e07c098f15437f7f8cad0 = L.AwesomeMarkers.icon(\n",
       "                {&quot;extraClasses&quot;: &quot;fa-rotate-0&quot;, &quot;icon&quot;: &quot;info-sign&quot;, &quot;iconColor&quot;: &quot;white&quot;, &quot;markerColor&quot;: &quot;darkred&quot;, &quot;prefix&quot;: &quot;glyphicon&quot;}\n",
       "            );\n",
       "            marker_c2ad077854cad9d38a8f80e58d38ce44.setIcon(icon_98f1a392816e07c098f15437f7f8cad0);\n",
       "        \n",
       "    \n",
       "        var popup_6a8a114ce341e6d0e0a5f9ec0dcd0c11 = L.popup({&quot;maxWidth&quot;: &quot;100%&quot;});\n",
       "\n",
       "        \n",
       "            \n",
       "                var html_3036b6a7a6bd37678698bd33f0af1773 = $(`&lt;div id=&quot;html_3036b6a7a6bd37678698bd33f0af1773&quot; style=&quot;width: 100.0%; height: 100.0%;&quot;&gt;China: 1635841251.94205 kilotonnes&lt;/div&gt;`)[0];\n",
       "                popup_6a8a114ce341e6d0e0a5f9ec0dcd0c11.setContent(html_3036b6a7a6bd37678698bd33f0af1773);\n",
       "            \n",
       "        \n",
       "\n",
       "        marker_c2ad077854cad9d38a8f80e58d38ce44.bindPopup(popup_6a8a114ce341e6d0e0a5f9ec0dcd0c11)\n",
       "        ;\n",
       "\n",
       "        \n",
       "    \n",
       "    \n",
       "            var marker_d350fa0d6a874ef3a8cffbde7775e481 = L.marker(\n",
       "                [4.099917, -72.9088133],\n",
       "                {}\n",
       "            ).addTo(map_460c590ddd81a923a88348f196bbe720);\n",
       "        \n",
       "    \n",
       "            var icon_e3c979d2fe032231306d9fed8eb37353 = L.AwesomeMarkers.icon(\n",
       "                {&quot;extraClasses&quot;: &quot;fa-rotate-0&quot;, &quot;icon&quot;: &quot;info-sign&quot;, &quot;iconColor&quot;: &quot;white&quot;, &quot;markerColor&quot;: &quot;red&quot;, &quot;prefix&quot;: &quot;glyphicon&quot;}\n",
       "            );\n",
       "            marker_d350fa0d6a874ef3a8cffbde7775e481.setIcon(icon_e3c979d2fe032231306d9fed8eb37353);\n",
       "        \n",
       "    \n",
       "        var popup_b1fc3c66ea6e3174f14e0a0564aa14f6 = L.popup({&quot;maxWidth&quot;: &quot;100%&quot;});\n",
       "\n",
       "        \n",
       "            \n",
       "                var html_bf4c4f10e8ba967385dded88dc174f0f = $(`&lt;div id=&quot;html_bf4c4f10e8ba967385dded88dc174f0f&quot; style=&quot;width: 100.0%; height: 100.0%;&quot;&gt;Colombia: 72109546.7384 kilotonnes&lt;/div&gt;`)[0];\n",
       "                popup_b1fc3c66ea6e3174f14e0a0564aa14f6.setContent(html_bf4c4f10e8ba967385dded88dc174f0f);\n",
       "            \n",
       "        \n",
       "\n",
       "        marker_d350fa0d6a874ef3a8cffbde7775e481.bindPopup(popup_b1fc3c66ea6e3174f14e0a0564aa14f6)\n",
       "        ;\n",
       "\n",
       "        \n",
       "    \n",
       "    \n",
       "            var marker_62c619bde0244cfbcb6836c2e66b8e40 = L.marker(\n",
       "                [-12.2045176, 44.2832964],\n",
       "                {}\n",
       "            ).addTo(map_460c590ddd81a923a88348f196bbe720);\n",
       "        \n",
       "    \n",
       "            var icon_fb0b64e1db29dd341243c44af47300e5 = L.AwesomeMarkers.icon(\n",
       "                {&quot;extraClasses&quot;: &quot;fa-rotate-0&quot;, &quot;icon&quot;: &quot;info-sign&quot;, &quot;iconColor&quot;: &quot;white&quot;, &quot;markerColor&quot;: &quot;green&quot;, &quot;prefix&quot;: &quot;glyphicon&quot;}\n",
       "            );\n",
       "            marker_62c619bde0244cfbcb6836c2e66b8e40.setIcon(icon_fb0b64e1db29dd341243c44af47300e5);\n",
       "        \n",
       "    \n",
       "        var popup_4dd5ea4c80cb3a5eefef64592b05c5a6 = L.popup({&quot;maxWidth&quot;: &quot;100%&quot;});\n",
       "\n",
       "        \n",
       "            \n",
       "                var html_81ec8c3b6b2daf2584774bb7364a6d8d = $(`&lt;div id=&quot;html_81ec8c3b6b2daf2584774bb7364a6d8d&quot; style=&quot;width: 100.0%; height: 100.0%;&quot;&gt;Comoros: 196469.5301 kilotonnes&lt;/div&gt;`)[0];\n",
       "                popup_4dd5ea4c80cb3a5eefef64592b05c5a6.setContent(html_81ec8c3b6b2daf2584774bb7364a6d8d);\n",
       "            \n",
       "        \n",
       "\n",
       "        marker_62c619bde0244cfbcb6836c2e66b8e40.bindPopup(popup_4dd5ea4c80cb3a5eefef64592b05c5a6)\n",
       "        ;\n",
       "\n",
       "        \n",
       "    \n",
       "    \n",
       "            var marker_de60113f2f42673f65ac9e543d06abfa = L.marker(\n",
       "                [-2.9814344, 23.8222636],\n",
       "                {}\n",
       "            ).addTo(map_460c590ddd81a923a88348f196bbe720);\n",
       "        \n",
       "    \n",
       "            var icon_ac20ab5e3d3de2875264691f584bc31d = L.AwesomeMarkers.icon(\n",
       "                {&quot;extraClasses&quot;: &quot;fa-rotate-0&quot;, &quot;icon&quot;: &quot;info-sign&quot;, &quot;iconColor&quot;: &quot;white&quot;, &quot;markerColor&quot;: &quot;orange&quot;, &quot;prefix&quot;: &quot;glyphicon&quot;}\n",
       "            );\n",
       "            marker_de60113f2f42673f65ac9e543d06abfa.setIcon(icon_ac20ab5e3d3de2875264691f584bc31d);\n",
       "        \n",
       "    \n",
       "        var popup_79f2bef07fccae473486b1a5023c79ee = L.popup({&quot;maxWidth&quot;: &quot;100%&quot;});\n",
       "\n",
       "        \n",
       "            \n",
       "                var html_360ba4a358379765313139c86138a660 = $(`&lt;div id=&quot;html_360ba4a358379765313139c86138a660&quot; style=&quot;width: 100.0%; height: 100.0%;&quot;&gt;Congo: 6668795.9194 kilotonnes&lt;/div&gt;`)[0];\n",
       "                popup_79f2bef07fccae473486b1a5023c79ee.setContent(html_360ba4a358379765313139c86138a660);\n",
       "            \n",
       "        \n",
       "\n",
       "        marker_de60113f2f42673f65ac9e543d06abfa.bindPopup(popup_79f2bef07fccae473486b1a5023c79ee)\n",
       "        ;\n",
       "\n",
       "        \n",
       "    \n",
       "    \n",
       "            var marker_7eb1c6bd65da9f1d7142855e23041e6f = L.marker(\n",
       "                [-19.99697155, -157.78587140620786],\n",
       "                {}\n",
       "            ).addTo(map_460c590ddd81a923a88348f196bbe720);\n",
       "        \n",
       "    \n",
       "            var icon_fd742f4e046ff58f5a7fd7d5736bd24a = L.AwesomeMarkers.icon(\n",
       "                {&quot;extraClasses&quot;: &quot;fa-rotate-0&quot;, &quot;icon&quot;: &quot;info-sign&quot;, &quot;iconColor&quot;: &quot;white&quot;, &quot;markerColor&quot;: &quot;lightgray&quot;, &quot;prefix&quot;: &quot;glyphicon&quot;}\n",
       "            );\n",
       "            marker_7eb1c6bd65da9f1d7142855e23041e6f.setIcon(icon_fd742f4e046ff58f5a7fd7d5736bd24a);\n",
       "        \n",
       "    \n",
       "        var popup_18f752acbdc69fa1c5db68c529201d6a = L.popup({&quot;maxWidth&quot;: &quot;100%&quot;});\n",
       "\n",
       "        \n",
       "            \n",
       "                var html_90602042c16a680dd41023da53dbff77 = $(`&lt;div id=&quot;html_90602042c16a680dd41023da53dbff77&quot; style=&quot;width: 100.0%; height: 100.0%;&quot;&gt;Cook Islands: 14923.7572 kilotonnes&lt;/div&gt;`)[0];\n",
       "                popup_18f752acbdc69fa1c5db68c529201d6a.setContent(html_90602042c16a680dd41023da53dbff77);\n",
       "            \n",
       "        \n",
       "\n",
       "        marker_7eb1c6bd65da9f1d7142855e23041e6f.bindPopup(popup_18f752acbdc69fa1c5db68c529201d6a)\n",
       "        ;\n",
       "\n",
       "        \n",
       "    \n",
       "    \n",
       "            var marker_9718dc71520179af5c174b6f5251e32c = L.marker(\n",
       "                [10.2735633, -84.0739102],\n",
       "                {}\n",
       "            ).addTo(map_460c590ddd81a923a88348f196bbe720);\n",
       "        \n",
       "    \n",
       "            var icon_8f2549b55b602ebf76a5970d895bd53e = L.AwesomeMarkers.icon(\n",
       "                {&quot;extraClasses&quot;: &quot;fa-rotate-0&quot;, &quot;icon&quot;: &quot;info-sign&quot;, &quot;iconColor&quot;: &quot;white&quot;, &quot;markerColor&quot;: &quot;green&quot;, &quot;prefix&quot;: &quot;glyphicon&quot;}\n",
       "            );\n",
       "            marker_9718dc71520179af5c174b6f5251e32c.setIcon(icon_8f2549b55b602ebf76a5970d895bd53e);\n",
       "        \n",
       "    \n",
       "        var popup_7f67a70e9d2cd13666466b85da0b7aaa = L.popup({&quot;maxWidth&quot;: &quot;100%&quot;});\n",
       "\n",
       "        \n",
       "            \n",
       "                var html_71f4cfd74d01c7fef7790ab08431de19 = $(`&lt;div id=&quot;html_71f4cfd74d01c7fef7790ab08431de19&quot; style=&quot;width: 100.0%; height: 100.0%;&quot;&gt;Costa Rica: 3182773.29285 kilotonnes&lt;/div&gt;`)[0];\n",
       "                popup_7f67a70e9d2cd13666466b85da0b7aaa.setContent(html_71f4cfd74d01c7fef7790ab08431de19);\n",
       "            \n",
       "        \n",
       "\n",
       "        marker_9718dc71520179af5c174b6f5251e32c.bindPopup(popup_7f67a70e9d2cd13666466b85da0b7aaa)\n",
       "        ;\n",
       "\n",
       "        \n",
       "    \n",
       "    \n",
       "            var marker_c928dbedfe332bfb916a85d80b0e657e = L.marker(\n",
       "                [45.3658443, 15.6575209],\n",
       "                {}\n",
       "            ).addTo(map_460c590ddd81a923a88348f196bbe720);\n",
       "        \n",
       "    \n",
       "            var icon_47c5e0c650c7cf80d929de27b37c8141 = L.AwesomeMarkers.icon(\n",
       "                {&quot;extraClasses&quot;: &quot;fa-rotate-0&quot;, &quot;icon&quot;: &quot;info-sign&quot;, &quot;iconColor&quot;: &quot;white&quot;, &quot;markerColor&quot;: &quot;orange&quot;, &quot;prefix&quot;: &quot;glyphicon&quot;}\n",
       "            );\n",
       "            marker_c928dbedfe332bfb916a85d80b0e657e.setIcon(icon_47c5e0c650c7cf80d929de27b37c8141);\n",
       "        \n",
       "    \n",
       "        var popup_cf8a463aa7cff108bd5932f50467c23e = L.popup({&quot;maxWidth&quot;: &quot;100%&quot;});\n",
       "\n",
       "        \n",
       "            \n",
       "                var html_5eb8fa2e784bf8e49835473d850d2175 = $(`&lt;div id=&quot;html_5eb8fa2e784bf8e49835473d850d2175&quot; style=&quot;width: 100.0%; height: 100.0%;&quot;&gt;Croatia: 5230712.5666 kilotonnes&lt;/div&gt;`)[0];\n",
       "                popup_cf8a463aa7cff108bd5932f50467c23e.setContent(html_5eb8fa2e784bf8e49835473d850d2175);\n",
       "            \n",
       "        \n",
       "\n",
       "        marker_c928dbedfe332bfb916a85d80b0e657e.bindPopup(popup_cf8a463aa7cff108bd5932f50467c23e)\n",
       "        ;\n",
       "\n",
       "        \n",
       "    \n",
       "    \n",
       "            var marker_82dcba22a8fb463110b7266d29152d3f = L.marker(\n",
       "                [23.0131338, -80.8328748],\n",
       "                {}\n",
       "            ).addTo(map_460c590ddd81a923a88348f196bbe720);\n",
       "        \n",
       "    \n",
       "            var icon_ddad753cd135155f1084c179df031120 = L.AwesomeMarkers.icon(\n",
       "                {&quot;extraClasses&quot;: &quot;fa-rotate-0&quot;, &quot;icon&quot;: &quot;info-sign&quot;, &quot;iconColor&quot;: &quot;white&quot;, &quot;markerColor&quot;: &quot;orange&quot;, &quot;prefix&quot;: &quot;glyphicon&quot;}\n",
       "            );\n",
       "            marker_82dcba22a8fb463110b7266d29152d3f.setIcon(icon_ddad753cd135155f1084c179df031120);\n",
       "        \n",
       "    \n",
       "        var popup_d28cb3bba79b0cb94a25f851d297c3b4 = L.popup({&quot;maxWidth&quot;: &quot;100%&quot;});\n",
       "\n",
       "        \n",
       "            \n",
       "                var html_aefc4d8316c0308568e1dda6a890a439 = $(`&lt;div id=&quot;html_aefc4d8316c0308568e1dda6a890a439&quot; style=&quot;width: 100.0%; height: 100.0%;&quot;&gt;Cuba: 10096640.14245 kilotonnes&lt;/div&gt;`)[0];\n",
       "                popup_d28cb3bba79b0cb94a25f851d297c3b4.setContent(html_aefc4d8316c0308568e1dda6a890a439);\n",
       "            \n",
       "        \n",
       "\n",
       "        marker_82dcba22a8fb463110b7266d29152d3f.bindPopup(popup_d28cb3bba79b0cb94a25f851d297c3b4)\n",
       "        ;\n",
       "\n",
       "        \n",
       "    \n",
       "    \n",
       "            var marker_4158f1afb93b43db75b509aa75c8efbd = L.marker(\n",
       "                [34.9174159, 32.889902651331866],\n",
       "                {}\n",
       "            ).addTo(map_460c590ddd81a923a88348f196bbe720);\n",
       "        \n",
       "    \n",
       "            var icon_aaefeffc3a95e0f0d24bd33a627326db = L.AwesomeMarkers.icon(\n",
       "                {&quot;extraClasses&quot;: &quot;fa-rotate-0&quot;, &quot;icon&quot;: &quot;info-sign&quot;, &quot;iconColor&quot;: &quot;white&quot;, &quot;markerColor&quot;: &quot;green&quot;, &quot;prefix&quot;: &quot;glyphicon&quot;}\n",
       "            );\n",
       "            marker_4158f1afb93b43db75b509aa75c8efbd.setIcon(icon_aaefeffc3a95e0f0d24bd33a627326db);\n",
       "        \n",
       "    \n",
       "        var popup_5ac262e8ce9081a6e26846770d4d2fec = L.popup({&quot;maxWidth&quot;: &quot;100%&quot;});\n",
       "\n",
       "        \n",
       "            \n",
       "                var html_811d96b6f3b6dedbc044ec777bfb5624 = $(`&lt;div id=&quot;html_811d96b6f3b6dedbc044ec777bfb5624&quot; style=&quot;width: 100.0%; height: 100.0%;&quot;&gt;Cyprus: 1419672.9728 kilotonnes&lt;/div&gt;`)[0];\n",
       "                popup_5ac262e8ce9081a6e26846770d4d2fec.setContent(html_811d96b6f3b6dedbc044ec777bfb5624);\n",
       "            \n",
       "        \n",
       "\n",
       "        marker_4158f1afb93b43db75b509aa75c8efbd.bindPopup(popup_5ac262e8ce9081a6e26846770d4d2fec)\n",
       "        ;\n",
       "\n",
       "        \n",
       "    \n",
       "    \n",
       "            var marker_df6ccb385293e3e0a39d5e98597d9f80 = L.marker(\n",
       "                [49.7439047, 15.3381061],\n",
       "                {}\n",
       "            ).addTo(map_460c590ddd81a923a88348f196bbe720);\n",
       "        \n",
       "    \n",
       "            var icon_fbf89c542a6b44d6b6d4d60ec09cd8a6 = L.AwesomeMarkers.icon(\n",
       "                {&quot;extraClasses&quot;: &quot;fa-rotate-0&quot;, &quot;icon&quot;: &quot;info-sign&quot;, &quot;iconColor&quot;: &quot;white&quot;, &quot;markerColor&quot;: &quot;red&quot;, &quot;prefix&quot;: &quot;glyphicon&quot;}\n",
       "            );\n",
       "            marker_df6ccb385293e3e0a39d5e98597d9f80.setIcon(icon_fbf89c542a6b44d6b6d4d60ec09cd8a6);\n",
       "        \n",
       "    \n",
       "        var popup_de53edb838181b4207decc3b402fdc22 = L.popup({&quot;maxWidth&quot;: &quot;100%&quot;});\n",
       "\n",
       "        \n",
       "            \n",
       "                var html_1aeb555473c7a35646d0de7ebe11683a = $(`&lt;div id=&quot;html_1aeb555473c7a35646d0de7ebe11683a&quot; style=&quot;width: 100.0%; height: 100.0%;&quot;&gt;Czechia: 21380199.7293 kilotonnes&lt;/div&gt;`)[0];\n",
       "                popup_de53edb838181b4207decc3b402fdc22.setContent(html_1aeb555473c7a35646d0de7ebe11683a);\n",
       "            \n",
       "        \n",
       "\n",
       "        marker_df6ccb385293e3e0a39d5e98597d9f80.bindPopup(popup_de53edb838181b4207decc3b402fdc22)\n",
       "        ;\n",
       "\n",
       "        \n",
       "    \n",
       "    \n",
       "            var marker_6d9c9383d3d428e9d2f5b7a8e07d8a9a = L.marker(\n",
       "                [40.3736611, 127.0870417],\n",
       "                {}\n",
       "            ).addTo(map_460c590ddd81a923a88348f196bbe720);\n",
       "        \n",
       "    \n",
       "            var icon_a3f875718615be9318a28ce959ef1745 = L.AwesomeMarkers.icon(\n",
       "                {&quot;extraClasses&quot;: &quot;fa-rotate-0&quot;, &quot;icon&quot;: &quot;info-sign&quot;, &quot;iconColor&quot;: &quot;white&quot;, &quot;markerColor&quot;: &quot;orange&quot;, &quot;prefix&quot;: &quot;glyphicon&quot;}\n",
       "            );\n",
       "            marker_6d9c9383d3d428e9d2f5b7a8e07d8a9a.setIcon(icon_a3f875718615be9318a28ce959ef1745);\n",
       "        \n",
       "    \n",
       "        var popup_2119c1cf43c6bc7236ebc4a01061bdc1 = L.popup({&quot;maxWidth&quot;: &quot;100%&quot;});\n",
       "\n",
       "        \n",
       "            \n",
       "                var html_e1516a1526fe5a642ff312cf12056eab = $(`&lt;div id=&quot;html_e1516a1526fe5a642ff312cf12056eab&quot; style=&quot;width: 100.0%; height: 100.0%;&quot;&gt;Democratic People&#x27;s Republic of Korea: 14077651.75055 kilotonnes&lt;/div&gt;`)[0];\n",
       "                popup_2119c1cf43c6bc7236ebc4a01061bdc1.setContent(html_e1516a1526fe5a642ff312cf12056eab);\n",
       "            \n",
       "        \n",
       "\n",
       "        marker_6d9c9383d3d428e9d2f5b7a8e07d8a9a.bindPopup(popup_2119c1cf43c6bc7236ebc4a01061bdc1)\n",
       "        ;\n",
       "\n",
       "        \n",
       "    \n",
       "    \n",
       "            var marker_5ad0705f0449af14165d48e78629dc8f = L.marker(\n",
       "                [-2.9814344, 23.8222636],\n",
       "                {}\n",
       "            ).addTo(map_460c590ddd81a923a88348f196bbe720);\n",
       "        \n",
       "    \n",
       "            var icon_b680f6b051a42aa89d403d506d0b6ccc = L.AwesomeMarkers.icon(\n",
       "                {&quot;extraClasses&quot;: &quot;fa-rotate-0&quot;, &quot;icon&quot;: &quot;info-sign&quot;, &quot;iconColor&quot;: &quot;white&quot;, &quot;markerColor&quot;: &quot;darkred&quot;, &quot;prefix&quot;: &quot;glyphicon&quot;}\n",
       "            );\n",
       "            marker_5ad0705f0449af14165d48e78629dc8f.setIcon(icon_b680f6b051a42aa89d403d506d0b6ccc);\n",
       "        \n",
       "    \n",
       "        var popup_8ef0f68f57b9af1dd16bf87ab82c5bad = L.popup({&quot;maxWidth&quot;: &quot;100%&quot;});\n",
       "\n",
       "        \n",
       "            \n",
       "                var html_8ec1f16ad9d4114a55fa23e88d9b3344 = $(`&lt;div id=&quot;html_8ec1f16ad9d4114a55fa23e88d9b3344&quot; style=&quot;width: 100.0%; height: 100.0%;&quot;&gt;Democratic Republic of the Congo: 228846977.92875 kilotonnes&lt;/div&gt;`)[0];\n",
       "                popup_8ef0f68f57b9af1dd16bf87ab82c5bad.setContent(html_8ec1f16ad9d4114a55fa23e88d9b3344);\n",
       "            \n",
       "        \n",
       "\n",
       "        marker_5ad0705f0449af14165d48e78629dc8f.bindPopup(popup_8ef0f68f57b9af1dd16bf87ab82c5bad)\n",
       "        ;\n",
       "\n",
       "        \n",
       "    \n",
       "    \n",
       "            var marker_16f373cc6e74c7b6e8678e0a489f1e98 = L.marker(\n",
       "                [55.670249, 10.3333283],\n",
       "                {}\n",
       "            ).addTo(map_460c590ddd81a923a88348f196bbe720);\n",
       "        \n",
       "    \n",
       "            var icon_9e572ad71eb4e4b5b849c95cf92dda24 = L.AwesomeMarkers.icon(\n",
       "                {&quot;extraClasses&quot;: &quot;fa-rotate-0&quot;, &quot;icon&quot;: &quot;info-sign&quot;, &quot;iconColor&quot;: &quot;white&quot;, &quot;markerColor&quot;: &quot;orange&quot;, &quot;prefix&quot;: &quot;glyphicon&quot;}\n",
       "            );\n",
       "            marker_16f373cc6e74c7b6e8678e0a489f1e98.setIcon(icon_9e572ad71eb4e4b5b849c95cf92dda24);\n",
       "        \n",
       "    \n",
       "        var popup_e1e6c63f80aef7ba911cd2eaf8edc6bf = L.popup({&quot;maxWidth&quot;: &quot;100%&quot;});\n",
       "\n",
       "        \n",
       "            \n",
       "                var html_0065d87c5a290b6dc29c56a7da591c3b = $(`&lt;div id=&quot;html_0065d87c5a290b6dc29c56a7da591c3b&quot; style=&quot;width: 100.0%; height: 100.0%;&quot;&gt;Denmark: 13585311.4812 kilotonnes&lt;/div&gt;`)[0];\n",
       "                popup_e1e6c63f80aef7ba911cd2eaf8edc6bf.setContent(html_0065d87c5a290b6dc29c56a7da591c3b);\n",
       "            \n",
       "        \n",
       "\n",
       "        marker_16f373cc6e74c7b6e8678e0a489f1e98.bindPopup(popup_e1e6c63f80aef7ba911cd2eaf8edc6bf)\n",
       "        ;\n",
       "\n",
       "        \n",
       "    \n",
       "    \n",
       "            var marker_f2733ea3bc47509db91821ca24b27c34 = L.marker(\n",
       "                [11.8145966, 42.8453061],\n",
       "                {}\n",
       "            ).addTo(map_460c590ddd81a923a88348f196bbe720);\n",
       "        \n",
       "    \n",
       "            var icon_62a7b6ad482248ed4fd2c5614f08c857 = L.AwesomeMarkers.icon(\n",
       "                {&quot;extraClasses&quot;: &quot;fa-rotate-0&quot;, &quot;icon&quot;: &quot;info-sign&quot;, &quot;iconColor&quot;: &quot;white&quot;, &quot;markerColor&quot;: &quot;green&quot;, &quot;prefix&quot;: &quot;glyphicon&quot;}\n",
       "            );\n",
       "            marker_f2733ea3bc47509db91821ca24b27c34.setIcon(icon_62a7b6ad482248ed4fd2c5614f08c857);\n",
       "        \n",
       "    \n",
       "        var popup_b8895f4130189971b33c5b26a3dcbf51 = L.popup({&quot;maxWidth&quot;: &quot;100%&quot;});\n",
       "\n",
       "        \n",
       "            \n",
       "                var html_5211252857aa73a8a67f0677410bc1e5 = $(`&lt;div id=&quot;html_5211252857aa73a8a67f0677410bc1e5&quot; style=&quot;width: 100.0%; height: 100.0%;&quot;&gt;Djibouti: 475040.5123 kilotonnes&lt;/div&gt;`)[0];\n",
       "                popup_b8895f4130189971b33c5b26a3dcbf51.setContent(html_5211252857aa73a8a67f0677410bc1e5);\n",
       "            \n",
       "        \n",
       "\n",
       "        marker_f2733ea3bc47509db91821ca24b27c34.bindPopup(popup_b8895f4130189971b33c5b26a3dcbf51)\n",
       "        ;\n",
       "\n",
       "        \n",
       "    \n",
       "    \n",
       "            var marker_1fd166740bff784bfb636d4b3af06d80 = L.marker(\n",
       "                [15.4113138, -61.3653618],\n",
       "                {}\n",
       "            ).addTo(map_460c590ddd81a923a88348f196bbe720);\n",
       "        \n",
       "    \n",
       "            var icon_1f6fb05e424c27404d8b8f3a49dd9f62 = L.AwesomeMarkers.icon(\n",
       "                {&quot;extraClasses&quot;: &quot;fa-rotate-0&quot;, &quot;icon&quot;: &quot;info-sign&quot;, &quot;iconColor&quot;: &quot;white&quot;, &quot;markerColor&quot;: &quot;green&quot;, &quot;prefix&quot;: &quot;glyphicon&quot;}\n",
       "            );\n",
       "            marker_1fd166740bff784bfb636d4b3af06d80.setIcon(icon_1f6fb05e424c27404d8b8f3a49dd9f62);\n",
       "        \n",
       "    \n",
       "        var popup_ee03aebdd2f846c2ae1d9b8bacb812b7 = L.popup({&quot;maxWidth&quot;: &quot;100%&quot;});\n",
       "\n",
       "        \n",
       "            \n",
       "                var html_7a78e71108fff28f88dcc78b695dcd7b = $(`&lt;div id=&quot;html_7a78e71108fff28f88dcc78b695dcd7b&quot; style=&quot;width: 100.0%; height: 100.0%;&quot;&gt;Dominica: 49059.34125 kilotonnes&lt;/div&gt;`)[0];\n",
       "                popup_ee03aebdd2f846c2ae1d9b8bacb812b7.setContent(html_7a78e71108fff28f88dcc78b695dcd7b);\n",
       "            \n",
       "        \n",
       "\n",
       "        marker_1fd166740bff784bfb636d4b3af06d80.bindPopup(popup_ee03aebdd2f846c2ae1d9b8bacb812b7)\n",
       "        ;\n",
       "\n",
       "        \n",
       "    \n",
       "    \n",
       "            var marker_94f750f3887a7cdd594832db34491e23 = L.marker(\n",
       "                [19.0974031, -70.3028026],\n",
       "                {}\n",
       "            ).addTo(map_460c590ddd81a923a88348f196bbe720);\n",
       "        \n",
       "    \n",
       "            var icon_0794199b6480458db96534114d17b2dd = L.AwesomeMarkers.icon(\n",
       "                {&quot;extraClasses&quot;: &quot;fa-rotate-0&quot;, &quot;icon&quot;: &quot;info-sign&quot;, &quot;iconColor&quot;: &quot;white&quot;, &quot;markerColor&quot;: &quot;orange&quot;, &quot;prefix&quot;: &quot;glyphicon&quot;}\n",
       "            );\n",
       "            marker_94f750f3887a7cdd594832db34491e23.setIcon(icon_0794199b6480458db96534114d17b2dd);\n",
       "        \n",
       "    \n",
       "        var popup_196f2c843489870acd89c3c32acade19 = L.popup({&quot;maxWidth&quot;: &quot;100%&quot;});\n",
       "\n",
       "        \n",
       "            \n",
       "                var html_6da6080fd1e38d94e20dd02323cb93b2 = $(`&lt;div id=&quot;html_6da6080fd1e38d94e20dd02323cb93b2&quot; style=&quot;width: 100.0%; height: 100.0%;&quot;&gt;Dominican Republic: 7927097.157 kilotonnes&lt;/div&gt;`)[0];\n",
       "                popup_196f2c843489870acd89c3c32acade19.setContent(html_6da6080fd1e38d94e20dd02323cb93b2);\n",
       "            \n",
       "        \n",
       "\n",
       "        marker_94f750f3887a7cdd594832db34491e23.bindPopup(popup_196f2c843489870acd89c3c32acade19)\n",
       "        ;\n",
       "\n",
       "        \n",
       "    \n",
       "    \n",
       "            var marker_ab862913e6aa70bd34912c447dfc7940 = L.marker(\n",
       "                [-1.3397668, -79.3666965],\n",
       "                {}\n",
       "            ).addTo(map_460c590ddd81a923a88348f196bbe720);\n",
       "        \n",
       "    \n",
       "            var icon_51546d4dd4ca06d57ecc579739633935 = L.AwesomeMarkers.icon(\n",
       "                {&quot;extraClasses&quot;: &quot;fa-rotate-0&quot;, &quot;icon&quot;: &quot;info-sign&quot;, &quot;iconColor&quot;: &quot;white&quot;, &quot;markerColor&quot;: &quot;red&quot;, &quot;prefix&quot;: &quot;glyphicon&quot;}\n",
       "            );\n",
       "            marker_ab862913e6aa70bd34912c447dfc7940.setIcon(icon_51546d4dd4ca06d57ecc579739633935);\n",
       "        \n",
       "    \n",
       "        var popup_f1108e8d179d57a8a6309671f2bd3c34 = L.popup({&quot;maxWidth&quot;: &quot;100%&quot;});\n",
       "\n",
       "        \n",
       "            \n",
       "                var html_2ae0da80754f2ad157b8150e6ea18c27 = $(`&lt;div id=&quot;html_2ae0da80754f2ad157b8150e6ea18c27&quot; style=&quot;width: 100.0%; height: 100.0%;&quot;&gt;Ecuador: 24123570.4669 kilotonnes&lt;/div&gt;`)[0];\n",
       "                popup_f1108e8d179d57a8a6309671f2bd3c34.setContent(html_2ae0da80754f2ad157b8150e6ea18c27);\n",
       "            \n",
       "        \n",
       "\n",
       "        marker_ab862913e6aa70bd34912c447dfc7940.bindPopup(popup_f1108e8d179d57a8a6309671f2bd3c34)\n",
       "        ;\n",
       "\n",
       "        \n",
       "    \n",
       "    \n",
       "            var marker_acde0a4f0391d6c5b672903d2a75b362 = L.marker(\n",
       "                [26.2540493, 29.2675469],\n",
       "                {}\n",
       "            ).addTo(map_460c590ddd81a923a88348f196bbe720);\n",
       "        \n",
       "    \n",
       "            var icon_eba09e820e0ef9d1801d7766a7a7e1f8 = L.AwesomeMarkers.icon(\n",
       "                {&quot;extraClasses&quot;: &quot;fa-rotate-0&quot;, &quot;icon&quot;: &quot;info-sign&quot;, &quot;iconColor&quot;: &quot;white&quot;, &quot;markerColor&quot;: &quot;red&quot;, &quot;prefix&quot;: &quot;glyphicon&quot;}\n",
       "            );\n",
       "            marker_acde0a4f0391d6c5b672903d2a75b362.setIcon(icon_eba09e820e0ef9d1801d7766a7a7e1f8);\n",
       "        \n",
       "    \n",
       "        var popup_8d8a871e27badc110408392931495eb7 = L.popup({&quot;maxWidth&quot;: &quot;100%&quot;});\n",
       "\n",
       "        \n",
       "            \n",
       "                var html_a68b8c7f0acd2adaab27dc2a68401593 = $(`&lt;div id=&quot;html_a68b8c7f0acd2adaab27dc2a68401593&quot; style=&quot;width: 100.0%; height: 100.0%;&quot;&gt;Egypt: 54455616.1317 kilotonnes&lt;/div&gt;`)[0];\n",
       "                popup_8d8a871e27badc110408392931495eb7.setContent(html_a68b8c7f0acd2adaab27dc2a68401593);\n",
       "            \n",
       "        \n",
       "\n",
       "        marker_acde0a4f0391d6c5b672903d2a75b362.bindPopup(popup_8d8a871e27badc110408392931495eb7)\n",
       "        ;\n",
       "\n",
       "        \n",
       "    \n",
       "    \n",
       "            var marker_bc01579c79579b7f1c19bbeddcf8bdc8 = L.marker(\n",
       "                [13.8000382, -88.9140683],\n",
       "                {}\n",
       "            ).addTo(map_460c590ddd81a923a88348f196bbe720);\n",
       "        \n",
       "    \n",
       "            var icon_b4113465ed115f385f8f6ba8be78ce06 = L.AwesomeMarkers.icon(\n",
       "                {&quot;extraClasses&quot;: &quot;fa-rotate-0&quot;, &quot;icon&quot;: &quot;info-sign&quot;, &quot;iconColor&quot;: &quot;white&quot;, &quot;markerColor&quot;: &quot;green&quot;, &quot;prefix&quot;: &quot;glyphicon&quot;}\n",
       "            );\n",
       "            marker_bc01579c79579b7f1c19bbeddcf8bdc8.setIcon(icon_b4113465ed115f385f8f6ba8be78ce06);\n",
       "        \n",
       "    \n",
       "        var popup_8f1f7feb5512242c24e6fba2fc3123e1 = L.popup({&quot;maxWidth&quot;: &quot;100%&quot;});\n",
       "\n",
       "        \n",
       "            \n",
       "                var html_3043f5d0bfb24d27bd69db13f59b99c7 = $(`&lt;div id=&quot;html_3043f5d0bfb24d27bd69db13f59b99c7&quot; style=&quot;width: 100.0%; height: 100.0%;&quot;&gt;El Salvador: 3220631.34045 kilotonnes&lt;/div&gt;`)[0];\n",
       "                popup_8f1f7feb5512242c24e6fba2fc3123e1.setContent(html_3043f5d0bfb24d27bd69db13f59b99c7);\n",
       "            \n",
       "        \n",
       "\n",
       "        marker_bc01579c79579b7f1c19bbeddcf8bdc8.bindPopup(popup_8f1f7feb5512242c24e6fba2fc3123e1)\n",
       "        ;\n",
       "\n",
       "        \n",
       "    \n",
       "    \n",
       "            var marker_1921aa1827ea6f688b6a8a0e29e8d466 = L.marker(\n",
       "                [1.613172, 10.5170357],\n",
       "                {}\n",
       "            ).addTo(map_460c590ddd81a923a88348f196bbe720);\n",
       "        \n",
       "    \n",
       "            var icon_58d8ddaffd5e254709e3ee731970c5f4 = L.AwesomeMarkers.icon(\n",
       "                {&quot;extraClasses&quot;: &quot;fa-rotate-0&quot;, &quot;icon&quot;: &quot;info-sign&quot;, &quot;iconColor&quot;: &quot;white&quot;, &quot;markerColor&quot;: &quot;orange&quot;, &quot;prefix&quot;: &quot;glyphicon&quot;}\n",
       "            );\n",
       "            marker_1921aa1827ea6f688b6a8a0e29e8d466.setIcon(icon_58d8ddaffd5e254709e3ee731970c5f4);\n",
       "        \n",
       "    \n",
       "        var popup_cc711791171e9e3833474057516b9335 = L.popup({&quot;maxWidth&quot;: &quot;100%&quot;});\n",
       "\n",
       "        \n",
       "            \n",
       "                var html_12b117bccfc16e4638fcf0ad125cd11a = $(`&lt;div id=&quot;html_12b117bccfc16e4638fcf0ad125cd11a&quot; style=&quot;width: 100.0%; height: 100.0%;&quot;&gt;Equatorial Guinea: 3562061.7313 kilotonnes&lt;/div&gt;`)[0];\n",
       "                popup_cc711791171e9e3833474057516b9335.setContent(html_12b117bccfc16e4638fcf0ad125cd11a);\n",
       "            \n",
       "        \n",
       "\n",
       "        marker_1921aa1827ea6f688b6a8a0e29e8d466.bindPopup(popup_cc711791171e9e3833474057516b9335)\n",
       "        ;\n",
       "\n",
       "        \n",
       "    \n",
       "    \n",
       "            var marker_a38b2f57363e91947432e9867dcc70e8 = L.marker(\n",
       "                [15.9500319, 37.9999668],\n",
       "                {}\n",
       "            ).addTo(map_460c590ddd81a923a88348f196bbe720);\n",
       "        \n",
       "    \n",
       "            var icon_c793a3f7d4034ed0a48bcf97c554ef07 = L.AwesomeMarkers.icon(\n",
       "                {&quot;extraClasses&quot;: &quot;fa-rotate-0&quot;, &quot;icon&quot;: &quot;info-sign&quot;, &quot;iconColor&quot;: &quot;white&quot;, &quot;markerColor&quot;: &quot;green&quot;, &quot;prefix&quot;: &quot;glyphicon&quot;}\n",
       "            );\n",
       "            marker_a38b2f57363e91947432e9867dcc70e8.setIcon(icon_c793a3f7d4034ed0a48bcf97c554ef07);\n",
       "        \n",
       "    \n",
       "        var popup_fa5b8f563466155a89b1eb333c2dc5e5 = L.popup({&quot;maxWidth&quot;: &quot;100%&quot;});\n",
       "\n",
       "        \n",
       "            \n",
       "                var html_9d0a13457d8ad4a14851b0160f46aea8 = $(`&lt;div id=&quot;html_9d0a13457d8ad4a14851b0160f46aea8&quot; style=&quot;width: 100.0%; height: 100.0%;&quot;&gt;Eritrea: 2470406.3399 kilotonnes&lt;/div&gt;`)[0];\n",
       "                popup_fa5b8f563466155a89b1eb333c2dc5e5.setContent(html_9d0a13457d8ad4a14851b0160f46aea8);\n",
       "            \n",
       "        \n",
       "\n",
       "        marker_a38b2f57363e91947432e9867dcc70e8.bindPopup(popup_fa5b8f563466155a89b1eb333c2dc5e5)\n",
       "        ;\n",
       "\n",
       "        \n",
       "    \n",
       "    \n",
       "            var marker_534c862df6cde08ddbff24de3292ea7f = L.marker(\n",
       "                [58.7523778, 25.3319078],\n",
       "                {}\n",
       "            ).addTo(map_460c590ddd81a923a88348f196bbe720);\n",
       "        \n",
       "    \n",
       "            var icon_5776ee6ef3b2957b37c6f25901e202c9 = L.AwesomeMarkers.icon(\n",
       "                {&quot;extraClasses&quot;: &quot;fa-rotate-0&quot;, &quot;icon&quot;: &quot;info-sign&quot;, &quot;iconColor&quot;: &quot;white&quot;, &quot;markerColor&quot;: &quot;orange&quot;, &quot;prefix&quot;: &quot;glyphicon&quot;}\n",
       "            );\n",
       "            marker_534c862df6cde08ddbff24de3292ea7f.setIcon(icon_5776ee6ef3b2957b37c6f25901e202c9);\n",
       "        \n",
       "    \n",
       "        var popup_80762f399f6d45707932428b358f0528 = L.popup({&quot;maxWidth&quot;: &quot;100%&quot;});\n",
       "\n",
       "        \n",
       "            \n",
       "                var html_d75749ba03cb78e259d61c54741cbfb1 = $(`&lt;div id=&quot;html_d75749ba03cb78e259d61c54741cbfb1&quot; style=&quot;width: 100.0%; height: 100.0%;&quot;&gt;Estonia: 5189556.0533 kilotonnes&lt;/div&gt;`)[0];\n",
       "                popup_80762f399f6d45707932428b358f0528.setContent(html_d75749ba03cb78e259d61c54741cbfb1);\n",
       "            \n",
       "        \n",
       "\n",
       "        marker_534c862df6cde08ddbff24de3292ea7f.bindPopup(popup_80762f399f6d45707932428b358f0528)\n",
       "        ;\n",
       "\n",
       "        \n",
       "    \n",
       "    \n",
       "            var marker_a489f6244d9f8d17c64069e7ac5c9014 = L.marker(\n",
       "                [-26.5624806, 31.3991317],\n",
       "                {}\n",
       "            ).addTo(map_460c590ddd81a923a88348f196bbe720);\n",
       "        \n",
       "    \n",
       "            var icon_a6b8e8d4c31c88b325b0126f1ba1c2e8 = L.AwesomeMarkers.icon(\n",
       "                {&quot;extraClasses&quot;: &quot;fa-rotate-0&quot;, &quot;icon&quot;: &quot;info-sign&quot;, &quot;iconColor&quot;: &quot;white&quot;, &quot;markerColor&quot;: &quot;green&quot;, &quot;prefix&quot;: &quot;glyphicon&quot;}\n",
       "            );\n",
       "            marker_a489f6244d9f8d17c64069e7ac5c9014.setIcon(icon_a6b8e8d4c31c88b325b0126f1ba1c2e8);\n",
       "        \n",
       "    \n",
       "        var popup_3d0cec3f7a0bd4df5c8a9bd9f0d20688 = L.popup({&quot;maxWidth&quot;: &quot;100%&quot;});\n",
       "\n",
       "        \n",
       "            \n",
       "                var html_13d456ece24ea99c45055cb6139328dc = $(`&lt;div id=&quot;html_13d456ece24ea99c45055cb6139328dc&quot; style=&quot;width: 100.0%; height: 100.0%;&quot;&gt;Eswatini: 829254.39785 kilotonnes&lt;/div&gt;`)[0];\n",
       "                popup_3d0cec3f7a0bd4df5c8a9bd9f0d20688.setContent(html_13d456ece24ea99c45055cb6139328dc);\n",
       "            \n",
       "        \n",
       "\n",
       "        marker_a489f6244d9f8d17c64069e7ac5c9014.bindPopup(popup_3d0cec3f7a0bd4df5c8a9bd9f0d20688)\n",
       "        ;\n",
       "\n",
       "        \n",
       "    \n",
       "    \n",
       "            var marker_f5cf22cf45ed01223241b9bbe10bc5af = L.marker(\n",
       "                [10.2116702, 38.6521203],\n",
       "                {}\n",
       "            ).addTo(map_460c590ddd81a923a88348f196bbe720);\n",
       "        \n",
       "    \n",
       "            var icon_411805c9d9f2fdc82c3c52d96e6f80d8 = L.AwesomeMarkers.icon(\n",
       "                {&quot;extraClasses&quot;: &quot;fa-rotate-0&quot;, &quot;icon&quot;: &quot;info-sign&quot;, &quot;iconColor&quot;: &quot;white&quot;, &quot;markerColor&quot;: &quot;red&quot;, &quot;prefix&quot;: &quot;glyphicon&quot;}\n",
       "            );\n",
       "            marker_f5cf22cf45ed01223241b9bbe10bc5af.setIcon(icon_411805c9d9f2fdc82c3c52d96e6f80d8);\n",
       "        \n",
       "    \n",
       "        var popup_fd948ee55c1bfb26ca4bc3582783e6b8 = L.popup({&quot;maxWidth&quot;: &quot;100%&quot;});\n",
       "\n",
       "        \n",
       "            \n",
       "                var html_310885794eb0b13f1d511279e60b26bd = $(`&lt;div id=&quot;html_310885794eb0b13f1d511279e60b26bd&quot; style=&quot;width: 100.0%; height: 100.0%;&quot;&gt;Ethiopia: 59372888.559 kilotonnes&lt;/div&gt;`)[0];\n",
       "                popup_fd948ee55c1bfb26ca4bc3582783e6b8.setContent(html_310885794eb0b13f1d511279e60b26bd);\n",
       "            \n",
       "        \n",
       "\n",
       "        marker_f5cf22cf45ed01223241b9bbe10bc5af.bindPopup(popup_fd948ee55c1bfb26ca4bc3582783e6b8)\n",
       "        ;\n",
       "\n",
       "        \n",
       "    \n",
       "    \n",
       "            var marker_54f6874c22465976ca9541db1d63e078 = L.marker(\n",
       "                [-51.9492937, -59.5383657],\n",
       "                {}\n",
       "            ).addTo(map_460c590ddd81a923a88348f196bbe720);\n",
       "        \n",
       "    \n",
       "            var icon_f9426a7f32970b4c4b808a8229f1b52b = L.AwesomeMarkers.icon(\n",
       "                {&quot;extraClasses&quot;: &quot;fa-rotate-0&quot;, &quot;icon&quot;: &quot;info-sign&quot;, &quot;iconColor&quot;: &quot;white&quot;, &quot;markerColor&quot;: &quot;green&quot;, &quot;prefix&quot;: &quot;glyphicon&quot;}\n",
       "            );\n",
       "            marker_54f6874c22465976ca9541db1d63e078.setIcon(icon_f9426a7f32970b4c4b808a8229f1b52b);\n",
       "        \n",
       "    \n",
       "        var popup_9f98e19dee06e4ce1722f6d713e138b5 = L.popup({&quot;maxWidth&quot;: &quot;100%&quot;});\n",
       "\n",
       "        \n",
       "            \n",
       "                var html_6ea1577d3d0986b233ed7285182465ab = $(`&lt;div id=&quot;html_6ea1577d3d0986b233ed7285182465ab&quot; style=&quot;width: 100.0%; height: 100.0%;&quot;&gt;Falkland Islands (Malvinas): 2155308.947 kilotonnes&lt;/div&gt;`)[0];\n",
       "                popup_9f98e19dee06e4ce1722f6d713e138b5.setContent(html_6ea1577d3d0986b233ed7285182465ab);\n",
       "            \n",
       "        \n",
       "\n",
       "        marker_54f6874c22465976ca9541db1d63e078.bindPopup(popup_9f98e19dee06e4ce1722f6d713e138b5)\n",
       "        ;\n",
       "\n",
       "        \n",
       "    \n",
       "    \n",
       "            var marker_1f6c53b1b2b3cd4115a40b8a784c898c = L.marker(\n",
       "                [62.0282362, -6.8819254],\n",
       "                {}\n",
       "            ).addTo(map_460c590ddd81a923a88348f196bbe720);\n",
       "        \n",
       "    \n",
       "            var icon_690101c387bcaae87f26fbea5b5be1f1 = L.AwesomeMarkers.icon(\n",
       "                {&quot;extraClasses&quot;: &quot;fa-rotate-0&quot;, &quot;icon&quot;: &quot;info-sign&quot;, &quot;iconColor&quot;: &quot;white&quot;, &quot;markerColor&quot;: &quot;green&quot;, &quot;prefix&quot;: &quot;glyphicon&quot;}\n",
       "            );\n",
       "            marker_1f6c53b1b2b3cd4115a40b8a784c898c.setIcon(icon_690101c387bcaae87f26fbea5b5be1f1);\n",
       "        \n",
       "    \n",
       "        var popup_e749679f0689aa237844503a790037ba = L.popup({&quot;maxWidth&quot;: &quot;100%&quot;});\n",
       "\n",
       "        \n",
       "            \n",
       "                var html_66ef58f4c8f834cbe4e9f5114d00cc87 = $(`&lt;div id=&quot;html_66ef58f4c8f834cbe4e9f5114d00cc87&quot; style=&quot;width: 100.0%; height: 100.0%;&quot;&gt;Faroe Islands: 154496.8346 kilotonnes&lt;/div&gt;`)[0];\n",
       "                popup_e749679f0689aa237844503a790037ba.setContent(html_66ef58f4c8f834cbe4e9f5114d00cc87);\n",
       "            \n",
       "        \n",
       "\n",
       "        marker_1f6c53b1b2b3cd4115a40b8a784c898c.bindPopup(popup_e749679f0689aa237844503a790037ba)\n",
       "        ;\n",
       "\n",
       "        \n",
       "    \n",
       "    \n",
       "            var marker_31550b32573c84163255b1a151a744de = L.marker(\n",
       "                [-18.1239696, 179.0122737],\n",
       "                {}\n",
       "            ).addTo(map_460c590ddd81a923a88348f196bbe720);\n",
       "        \n",
       "    \n",
       "            var icon_aa8a5ce56818923af92f6268f3e383d0 = L.AwesomeMarkers.icon(\n",
       "                {&quot;extraClasses&quot;: &quot;fa-rotate-0&quot;, &quot;icon&quot;: &quot;info-sign&quot;, &quot;iconColor&quot;: &quot;white&quot;, &quot;markerColor&quot;: &quot;green&quot;, &quot;prefix&quot;: &quot;glyphicon&quot;}\n",
       "            );\n",
       "            marker_31550b32573c84163255b1a151a744de.setIcon(icon_aa8a5ce56818923af92f6268f3e383d0);\n",
       "        \n",
       "    \n",
       "        var popup_06b260c07a6e1bdf5f3ae62f1155171c = L.popup({&quot;maxWidth&quot;: &quot;100%&quot;});\n",
       "\n",
       "        \n",
       "            \n",
       "                var html_3b31389534322bc39614cc050aa2f645 = $(`&lt;div id=&quot;html_3b31389534322bc39614cc050aa2f645&quot; style=&quot;width: 100.0%; height: 100.0%;&quot;&gt;Fiji: 558998.005 kilotonnes&lt;/div&gt;`)[0];\n",
       "                popup_06b260c07a6e1bdf5f3ae62f1155171c.setContent(html_3b31389534322bc39614cc050aa2f645);\n",
       "            \n",
       "        \n",
       "\n",
       "        marker_31550b32573c84163255b1a151a744de.bindPopup(popup_06b260c07a6e1bdf5f3ae62f1155171c)\n",
       "        ;\n",
       "\n",
       "        \n",
       "    \n",
       "    \n",
       "            var marker_52930adb0a4e3f2b4e6e770dd9e1ff5b = L.marker(\n",
       "                [63.2467777, 25.9209164],\n",
       "                {}\n",
       "            ).addTo(map_460c590ddd81a923a88348f196bbe720);\n",
       "        \n",
       "    \n",
       "            var icon_0888f1f61990f17412125ee5165b0891 = L.AwesomeMarkers.icon(\n",
       "                {&quot;extraClasses&quot;: &quot;fa-rotate-0&quot;, &quot;icon&quot;: &quot;info-sign&quot;, &quot;iconColor&quot;: &quot;white&quot;, &quot;markerColor&quot;: &quot;red&quot;, &quot;prefix&quot;: &quot;glyphicon&quot;}\n",
       "            );\n",
       "            marker_52930adb0a4e3f2b4e6e770dd9e1ff5b.setIcon(icon_0888f1f61990f17412125ee5165b0891);\n",
       "        \n",
       "    \n",
       "        var popup_b45b4e1797031f78ed5d2a7008c92a23 = L.popup({&quot;maxWidth&quot;: &quot;100%&quot;});\n",
       "\n",
       "        \n",
       "            \n",
       "                var html_0d612efbe136409cdec578528f712e40 = $(`&lt;div id=&quot;html_0d612efbe136409cdec578528f712e40&quot; style=&quot;width: 100.0%; height: 100.0%;&quot;&gt;Finland: 18647668.5757 kilotonnes&lt;/div&gt;`)[0];\n",
       "                popup_b45b4e1797031f78ed5d2a7008c92a23.setContent(html_0d612efbe136409cdec578528f712e40);\n",
       "            \n",
       "        \n",
       "\n",
       "        marker_52930adb0a4e3f2b4e6e770dd9e1ff5b.bindPopup(popup_b45b4e1797031f78ed5d2a7008c92a23)\n",
       "        ;\n",
       "\n",
       "        \n",
       "    \n",
       "    \n",
       "            var marker_f07f2876211666e768dd659cc093286e = L.marker(\n",
       "                [46.603354, 1.8883335],\n",
       "                {}\n",
       "            ).addTo(map_460c590ddd81a923a88348f196bbe720);\n",
       "        \n",
       "    \n",
       "            var icon_0e191737ddac7570bb12af15909d0336 = L.AwesomeMarkers.icon(\n",
       "                {&quot;extraClasses&quot;: &quot;fa-rotate-0&quot;, &quot;icon&quot;: &quot;info-sign&quot;, &quot;iconColor&quot;: &quot;white&quot;, &quot;markerColor&quot;: &quot;darkred&quot;, &quot;prefix&quot;: &quot;glyphicon&quot;}\n",
       "            );\n",
       "            marker_f07f2876211666e768dd659cc093286e.setIcon(icon_0e191737ddac7570bb12af15909d0336);\n",
       "        \n",
       "    \n",
       "        var popup_7d804dd4bd7c6ba0e660b16e2fab8f53 = L.popup({&quot;maxWidth&quot;: &quot;100%&quot;});\n",
       "\n",
       "        \n",
       "            \n",
       "                var html_935fb25d55937d99420364b2f33fc7a2 = $(`&lt;div id=&quot;html_935fb25d55937d99420364b2f33fc7a2&quot; style=&quot;width: 100.0%; height: 100.0%;&quot;&gt;France: 101161525.8319 kilotonnes&lt;/div&gt;`)[0];\n",
       "                popup_7d804dd4bd7c6ba0e660b16e2fab8f53.setContent(html_935fb25d55937d99420364b2f33fc7a2);\n",
       "            \n",
       "        \n",
       "\n",
       "        marker_f07f2876211666e768dd659cc093286e.bindPopup(popup_7d804dd4bd7c6ba0e660b16e2fab8f53)\n",
       "        ;\n",
       "\n",
       "        \n",
       "    \n",
       "    \n",
       "            var marker_01bef318653e40ea28a929327fa6cee9 = L.marker(\n",
       "                [4.0039882, -52.999998],\n",
       "                {}\n",
       "            ).addTo(map_460c590ddd81a923a88348f196bbe720);\n",
       "        \n",
       "    \n",
       "            var icon_989781ca75801191fcda824b918eb6cc = L.AwesomeMarkers.icon(\n",
       "                {&quot;extraClasses&quot;: &quot;fa-rotate-0&quot;, &quot;icon&quot;: &quot;info-sign&quot;, &quot;iconColor&quot;: &quot;white&quot;, &quot;markerColor&quot;: &quot;green&quot;, &quot;prefix&quot;: &quot;glyphicon&quot;}\n",
       "            );\n",
       "            marker_01bef318653e40ea28a929327fa6cee9.setIcon(icon_989781ca75801191fcda824b918eb6cc);\n",
       "        \n",
       "    \n",
       "        var popup_a7dfd6651d71cd37f721343b05e33fed = L.popup({&quot;maxWidth&quot;: &quot;100%&quot;});\n",
       "\n",
       "        \n",
       "            \n",
       "                var html_98d8be879c4e74f19f4d8e990a0a9bb3 = $(`&lt;div id=&quot;html_98d8be879c4e74f19f4d8e990a0a9bb3&quot; style=&quot;width: 100.0%; height: 100.0%;&quot;&gt;French Guyana: 926973.5506 kilotonnes&lt;/div&gt;`)[0];\n",
       "                popup_a7dfd6651d71cd37f721343b05e33fed.setContent(html_98d8be879c4e74f19f4d8e990a0a9bb3);\n",
       "            \n",
       "        \n",
       "\n",
       "        marker_01bef318653e40ea28a929327fa6cee9.bindPopup(popup_a7dfd6651d71cd37f721343b05e33fed)\n",
       "        ;\n",
       "\n",
       "        \n",
       "    \n",
       "    \n",
       "            var marker_1e730eebe8d974dad8215c9d8ea7c8ea = L.marker(\n",
       "                [-17.0243749, -144.6434898],\n",
       "                {}\n",
       "            ).addTo(map_460c590ddd81a923a88348f196bbe720);\n",
       "        \n",
       "    \n",
       "            var icon_a2780306f38d3d40c015b0fd7f84bd6e = L.AwesomeMarkers.icon(\n",
       "                {&quot;extraClasses&quot;: &quot;fa-rotate-0&quot;, &quot;icon&quot;: &quot;info-sign&quot;, &quot;iconColor&quot;: &quot;white&quot;, &quot;markerColor&quot;: &quot;green&quot;, &quot;prefix&quot;: &quot;glyphicon&quot;}\n",
       "            );\n",
       "            marker_1e730eebe8d974dad8215c9d8ea7c8ea.setIcon(icon_a2780306f38d3d40c015b0fd7f84bd6e);\n",
       "        \n",
       "    \n",
       "        var popup_3649e4f3c42fc356b8752cf06aebf8b2 = L.popup({&quot;maxWidth&quot;: &quot;100%&quot;});\n",
       "\n",
       "        \n",
       "            \n",
       "                var html_af681bce3c11d5b7dd96c28f6d209290 = $(`&lt;div id=&quot;html_af681bce3c11d5b7dd96c28f6d209290&quot; style=&quot;width: 100.0%; height: 100.0%;&quot;&gt;French Polynesia: 28900.4977 kilotonnes&lt;/div&gt;`)[0];\n",
       "                popup_3649e4f3c42fc356b8752cf06aebf8b2.setContent(html_af681bce3c11d5b7dd96c28f6d209290);\n",
       "            \n",
       "        \n",
       "\n",
       "        marker_1e730eebe8d974dad8215c9d8ea7c8ea.bindPopup(popup_3649e4f3c42fc356b8752cf06aebf8b2)\n",
       "        ;\n",
       "\n",
       "        \n",
       "    \n",
       "    \n",
       "            var marker_6407a22d161eb3d9aa8a449c696a6ebf = L.marker(\n",
       "                [-0.8999695, 11.6899699],\n",
       "                {}\n",
       "            ).addTo(map_460c590ddd81a923a88348f196bbe720);\n",
       "        \n",
       "    \n",
       "            var icon_6385b45d45bfc1efc1e5829a74f0c54c = L.AwesomeMarkers.icon(\n",
       "                {&quot;extraClasses&quot;: &quot;fa-rotate-0&quot;, &quot;icon&quot;: &quot;info-sign&quot;, &quot;iconColor&quot;: &quot;white&quot;, &quot;markerColor&quot;: &quot;orange&quot;, &quot;prefix&quot;: &quot;glyphicon&quot;}\n",
       "            );\n",
       "            marker_6407a22d161eb3d9aa8a449c696a6ebf.setIcon(icon_6385b45d45bfc1efc1e5829a74f0c54c);\n",
       "        \n",
       "    \n",
       "        var popup_0f4cfb7455c37ff0d56d27b54faea24a = L.popup({&quot;maxWidth&quot;: &quot;100%&quot;});\n",
       "\n",
       "        \n",
       "            \n",
       "                var html_7aed4231557542c5a2c670b64ea66911 = $(`&lt;div id=&quot;html_7aed4231557542c5a2c670b64ea66911&quot; style=&quot;width: 100.0%; height: 100.0%;&quot;&gt;Gabon: 4503444.53295 kilotonnes&lt;/div&gt;`)[0];\n",
       "                popup_0f4cfb7455c37ff0d56d27b54faea24a.setContent(html_7aed4231557542c5a2c670b64ea66911);\n",
       "            \n",
       "        \n",
       "\n",
       "        marker_6407a22d161eb3d9aa8a449c696a6ebf.bindPopup(popup_0f4cfb7455c37ff0d56d27b54faea24a)\n",
       "        ;\n",
       "\n",
       "        \n",
       "    \n",
       "    \n",
       "            var marker_079074a984bb4f0bd3652cc884100f81 = L.marker(\n",
       "                [13.470062, -15.4900464],\n",
       "                {}\n",
       "            ).addTo(map_460c590ddd81a923a88348f196bbe720);\n",
       "        \n",
       "    \n",
       "            var icon_44b1e54a990b7a864c9520519aa87776 = L.AwesomeMarkers.icon(\n",
       "                {&quot;extraClasses&quot;: &quot;fa-rotate-0&quot;, &quot;icon&quot;: &quot;info-sign&quot;, &quot;iconColor&quot;: &quot;white&quot;, &quot;markerColor&quot;: &quot;green&quot;, &quot;prefix&quot;: &quot;glyphicon&quot;}\n",
       "            );\n",
       "            marker_079074a984bb4f0bd3652cc884100f81.setIcon(icon_44b1e54a990b7a864c9520519aa87776);\n",
       "        \n",
       "    \n",
       "        var popup_d98d294b3972e473e637dfe352b399e9 = L.popup({&quot;maxWidth&quot;: &quot;100%&quot;});\n",
       "\n",
       "        \n",
       "            \n",
       "                var html_3c5902a69f1715b29edf836598acd022 = $(`&lt;div id=&quot;html_3c5902a69f1715b29edf836598acd022&quot; style=&quot;width: 100.0%; height: 100.0%;&quot;&gt;Gambia: 821501.05595 kilotonnes&lt;/div&gt;`)[0];\n",
       "                popup_d98d294b3972e473e637dfe352b399e9.setContent(html_3c5902a69f1715b29edf836598acd022);\n",
       "            \n",
       "        \n",
       "\n",
       "        marker_079074a984bb4f0bd3652cc884100f81.bindPopup(popup_d98d294b3972e473e637dfe352b399e9)\n",
       "        ;\n",
       "\n",
       "        \n",
       "    \n",
       "    \n",
       "            var marker_0ebfa3bcb22acad83dd5ad596701d501 = L.marker(\n",
       "                [32.3293809, -83.1137366],\n",
       "                {}\n",
       "            ).addTo(map_460c590ddd81a923a88348f196bbe720);\n",
       "        \n",
       "    \n",
       "            var icon_45bd9bbc0adc99422a174a02a8ede0e1 = L.AwesomeMarkers.icon(\n",
       "                {&quot;extraClasses&quot;: &quot;fa-rotate-0&quot;, &quot;icon&quot;: &quot;info-sign&quot;, &quot;iconColor&quot;: &quot;white&quot;, &quot;markerColor&quot;: &quot;green&quot;, &quot;prefix&quot;: &quot;glyphicon&quot;}\n",
       "            );\n",
       "            marker_0ebfa3bcb22acad83dd5ad596701d501.setIcon(icon_45bd9bbc0adc99422a174a02a8ede0e1);\n",
       "        \n",
       "    \n",
       "        var popup_4677afa31bb981b5e6d17113c44850ba = L.popup({&quot;maxWidth&quot;: &quot;100%&quot;});\n",
       "\n",
       "        \n",
       "            \n",
       "                var html_c3521562a52ebdeb14f203d2ea792957 = $(`&lt;div id=&quot;html_c3521562a52ebdeb14f203d2ea792957&quot; style=&quot;width: 100.0%; height: 100.0%;&quot;&gt;Georgia: 2633899.2582 kilotonnes&lt;/div&gt;`)[0];\n",
       "                popup_4677afa31bb981b5e6d17113c44850ba.setContent(html_c3521562a52ebdeb14f203d2ea792957);\n",
       "            \n",
       "        \n",
       "\n",
       "        marker_0ebfa3bcb22acad83dd5ad596701d501.bindPopup(popup_4677afa31bb981b5e6d17113c44850ba)\n",
       "        ;\n",
       "\n",
       "        \n",
       "    \n",
       "    \n",
       "            var marker_be9f06b4e9e8fcfc399c730a48ad2b9c = L.marker(\n",
       "                [51.1638175, 10.4478313],\n",
       "                {}\n",
       "            ).addTo(map_460c590ddd81a923a88348f196bbe720);\n",
       "        \n",
       "    \n",
       "            var icon_0cf0562775c55c50d3ef2b86f615e541 = L.AwesomeMarkers.icon(\n",
       "                {&quot;extraClasses&quot;: &quot;fa-rotate-0&quot;, &quot;icon&quot;: &quot;info-sign&quot;, &quot;iconColor&quot;: &quot;white&quot;, &quot;markerColor&quot;: &quot;darkred&quot;, &quot;prefix&quot;: &quot;glyphicon&quot;}\n",
       "            );\n",
       "            marker_be9f06b4e9e8fcfc399c730a48ad2b9c.setIcon(icon_0cf0562775c55c50d3ef2b86f615e541);\n",
       "        \n",
       "    \n",
       "        var popup_48c4e9fef70407046d705ff24527d73e = L.popup({&quot;maxWidth&quot;: &quot;100%&quot;});\n",
       "\n",
       "        \n",
       "            \n",
       "                var html_6224ff03a1e1c1a82791b62f379f7f85 = $(`&lt;div id=&quot;html_6224ff03a1e1c1a82791b62f379f7f85&quot; style=&quot;width: 100.0%; height: 100.0%;&quot;&gt;Germany: 159269921.6898 kilotonnes&lt;/div&gt;`)[0];\n",
       "                popup_48c4e9fef70407046d705ff24527d73e.setContent(html_6224ff03a1e1c1a82791b62f379f7f85);\n",
       "            \n",
       "        \n",
       "\n",
       "        marker_be9f06b4e9e8fcfc399c730a48ad2b9c.bindPopup(popup_48c4e9fef70407046d705ff24527d73e)\n",
       "        ;\n",
       "\n",
       "        \n",
       "    \n",
       "    \n",
       "            var marker_ad84006b2a69a7f404f17cba668a2c90 = L.marker(\n",
       "                [8.0300284, -1.0800271],\n",
       "                {}\n",
       "            ).addTo(map_460c590ddd81a923a88348f196bbe720);\n",
       "        \n",
       "    \n",
       "            var icon_b069c62f6fd99937d195797856f9f2fd = L.AwesomeMarkers.icon(\n",
       "                {&quot;extraClasses&quot;: &quot;fa-rotate-0&quot;, &quot;icon&quot;: &quot;info-sign&quot;, &quot;iconColor&quot;: &quot;white&quot;, &quot;markerColor&quot;: &quot;orange&quot;, &quot;prefix&quot;: &quot;glyphicon&quot;}\n",
       "            );\n",
       "            marker_ad84006b2a69a7f404f17cba668a2c90.setIcon(icon_b069c62f6fd99937d195797856f9f2fd);\n",
       "        \n",
       "    \n",
       "        var popup_3b31fe85c44cca6b90111e7c1038f7e7 = L.popup({&quot;maxWidth&quot;: &quot;100%&quot;});\n",
       "\n",
       "        \n",
       "            \n",
       "                var html_baa6c1f46317afa98ea9e8e262ca342a = $(`&lt;div id=&quot;html_baa6c1f46317afa98ea9e8e262ca342a&quot; style=&quot;width: 100.0%; height: 100.0%;&quot;&gt;Ghana: 15655119.83715 kilotonnes&lt;/div&gt;`)[0];\n",
       "                popup_3b31fe85c44cca6b90111e7c1038f7e7.setContent(html_baa6c1f46317afa98ea9e8e262ca342a);\n",
       "            \n",
       "        \n",
       "\n",
       "        marker_ad84006b2a69a7f404f17cba668a2c90.bindPopup(popup_3b31fe85c44cca6b90111e7c1038f7e7)\n",
       "        ;\n",
       "\n",
       "        \n",
       "    \n",
       "    \n",
       "            var marker_f9a6fe26cf782ed1e6557cda30c86f4f = L.marker(\n",
       "                [36.1285933, -5.3474761],\n",
       "                {}\n",
       "            ).addTo(map_460c590ddd81a923a88348f196bbe720);\n",
       "        \n",
       "    \n",
       "            var icon_bd80faadc16694028b025eed35cc31e4 = L.AwesomeMarkers.icon(\n",
       "                {&quot;extraClasses&quot;: &quot;fa-rotate-0&quot;, &quot;icon&quot;: &quot;info-sign&quot;, &quot;iconColor&quot;: &quot;white&quot;, &quot;markerColor&quot;: &quot;lightgray&quot;, &quot;prefix&quot;: &quot;glyphicon&quot;}\n",
       "            );\n",
       "            marker_f9a6fe26cf782ed1e6557cda30c86f4f.setIcon(icon_bd80faadc16694028b025eed35cc31e4);\n",
       "        \n",
       "    \n",
       "        var popup_b3efb23830b5e02c2ffac1f2b07f50e8 = L.popup({&quot;maxWidth&quot;: &quot;100%&quot;});\n",
       "\n",
       "        \n",
       "            \n",
       "                var html_8c209734d13aeecefb3d41987c9643a1 = $(`&lt;div id=&quot;html_8c209734d13aeecefb3d41987c9643a1&quot; style=&quot;width: 100.0%; height: 100.0%;&quot;&gt;Gibraltar: 3210.7652 kilotonnes&lt;/div&gt;`)[0];\n",
       "                popup_b3efb23830b5e02c2ffac1f2b07f50e8.setContent(html_8c209734d13aeecefb3d41987c9643a1);\n",
       "            \n",
       "        \n",
       "\n",
       "        marker_f9a6fe26cf782ed1e6557cda30c86f4f.bindPopup(popup_b3efb23830b5e02c2ffac1f2b07f50e8)\n",
       "        ;\n",
       "\n",
       "        \n",
       "    \n",
       "    \n",
       "            var marker_260c9256bcd28e3b3baaaeeb985a42bb = L.marker(\n",
       "                [38.9953683, 21.9877132],\n",
       "                {}\n",
       "            ).addTo(map_460c590ddd81a923a88348f196bbe720);\n",
       "        \n",
       "    \n",
       "            var icon_e555689bf67c380d1f198a5c2a07bf70 = L.AwesomeMarkers.icon(\n",
       "                {&quot;extraClasses&quot;: &quot;fa-rotate-0&quot;, &quot;icon&quot;: &quot;info-sign&quot;, &quot;iconColor&quot;: &quot;white&quot;, &quot;markerColor&quot;: &quot;red&quot;, &quot;prefix&quot;: &quot;glyphicon&quot;}\n",
       "            );\n",
       "            marker_260c9256bcd28e3b3baaaeeb985a42bb.setIcon(icon_e555689bf67c380d1f198a5c2a07bf70);\n",
       "        \n",
       "    \n",
       "        var popup_e1cb6892acc79f90d1a3c9672cc6b46c = L.popup({&quot;maxWidth&quot;: &quot;100%&quot;});\n",
       "\n",
       "        \n",
       "            \n",
       "                var html_719ea2aabc6cd6ea4ca85118aaf8144d = $(`&lt;div id=&quot;html_719ea2aabc6cd6ea4ca85118aaf8144d&quot; style=&quot;width: 100.0%; height: 100.0%;&quot;&gt;Greece: 18801421.064 kilotonnes&lt;/div&gt;`)[0];\n",
       "                popup_e1cb6892acc79f90d1a3c9672cc6b46c.setContent(html_719ea2aabc6cd6ea4ca85118aaf8144d);\n",
       "            \n",
       "        \n",
       "\n",
       "        marker_260c9256bcd28e3b3baaaeeb985a42bb.bindPopup(popup_e1cb6892acc79f90d1a3c9672cc6b46c)\n",
       "        ;\n",
       "\n",
       "        \n",
       "    \n",
       "    \n",
       "            var marker_690c40d6376e18f3107cd4ef68e7fced = L.marker(\n",
       "                [43.0361995, -70.8328322],\n",
       "                {}\n",
       "            ).addTo(map_460c590ddd81a923a88348f196bbe720);\n",
       "        \n",
       "    \n",
       "            var icon_8c0c30fe8b6cef50aeb10ad2ce5863a8 = L.AwesomeMarkers.icon(\n",
       "                {&quot;extraClasses&quot;: &quot;fa-rotate-0&quot;, &quot;icon&quot;: &quot;info-sign&quot;, &quot;iconColor&quot;: &quot;white&quot;, &quot;markerColor&quot;: &quot;lightgray&quot;, &quot;prefix&quot;: &quot;glyphicon&quot;}\n",
       "            );\n",
       "            marker_690c40d6376e18f3107cd4ef68e7fced.setIcon(icon_8c0c30fe8b6cef50aeb10ad2ce5863a8);\n",
       "        \n",
       "    \n",
       "        var popup_c010d5c46b9987546d0f86a1b5eb8671 = L.popup({&quot;maxWidth&quot;: &quot;100%&quot;});\n",
       "\n",
       "        \n",
       "            \n",
       "                var html_34755f107c88eda2c7be4eedb64ea48c = $(`&lt;div id=&quot;html_34755f107c88eda2c7be4eedb64ea48c&quot; style=&quot;width: 100.0%; height: 100.0%;&quot;&gt;Greenland: 21674.5019 kilotonnes&lt;/div&gt;`)[0];\n",
       "                popup_c010d5c46b9987546d0f86a1b5eb8671.setContent(html_34755f107c88eda2c7be4eedb64ea48c);\n",
       "            \n",
       "        \n",
       "\n",
       "        marker_690c40d6376e18f3107cd4ef68e7fced.bindPopup(popup_c010d5c46b9987546d0f86a1b5eb8671)\n",
       "        ;\n",
       "\n",
       "        \n",
       "    \n",
       "    \n",
       "            var marker_772afa67b3cff47768005470801c7ac2 = L.marker(\n",
       "                [12.1360374, -61.6904045],\n",
       "                {}\n",
       "            ).addTo(map_460c590ddd81a923a88348f196bbe720);\n",
       "        \n",
       "    \n",
       "            var icon_83022aa392cc02eb2f0c275063f36228 = L.AwesomeMarkers.icon(\n",
       "                {&quot;extraClasses&quot;: &quot;fa-rotate-0&quot;, &quot;icon&quot;: &quot;info-sign&quot;, &quot;iconColor&quot;: &quot;white&quot;, &quot;markerColor&quot;: &quot;green&quot;, &quot;prefix&quot;: &quot;glyphicon&quot;}\n",
       "            );\n",
       "            marker_772afa67b3cff47768005470801c7ac2.setIcon(icon_83022aa392cc02eb2f0c275063f36228);\n",
       "        \n",
       "    \n",
       "        var popup_1bac55f1ea7cdcfe35d9be9bf6ccbdfe = L.popup({&quot;maxWidth&quot;: &quot;100%&quot;});\n",
       "\n",
       "        \n",
       "            \n",
       "                var html_14a0f668af42f6f59b9891e285beacfd = $(`&lt;div id=&quot;html_14a0f668af42f6f59b9891e285beacfd&quot; style=&quot;width: 100.0%; height: 100.0%;&quot;&gt;Grenada: 55830.26055 kilotonnes&lt;/div&gt;`)[0];\n",
       "                popup_1bac55f1ea7cdcfe35d9be9bf6ccbdfe.setContent(html_14a0f668af42f6f59b9891e285beacfd);\n",
       "            \n",
       "        \n",
       "\n",
       "        marker_772afa67b3cff47768005470801c7ac2.bindPopup(popup_1bac55f1ea7cdcfe35d9be9bf6ccbdfe)\n",
       "        ;\n",
       "\n",
       "        \n",
       "    \n",
       "    \n",
       "            var marker_6a9f3048f29995250bbeb9344219c509 = L.marker(\n",
       "                [16.2528827, -61.5686855],\n",
       "                {}\n",
       "            ).addTo(map_460c590ddd81a923a88348f196bbe720);\n",
       "        \n",
       "    \n",
       "            var icon_5405b3a2ae15d75f2d1411c8796180a4 = L.AwesomeMarkers.icon(\n",
       "                {&quot;extraClasses&quot;: &quot;fa-rotate-0&quot;, &quot;icon&quot;: &quot;info-sign&quot;, &quot;iconColor&quot;: &quot;white&quot;, &quot;markerColor&quot;: &quot;green&quot;, &quot;prefix&quot;: &quot;glyphicon&quot;}\n",
       "            );\n",
       "            marker_6a9f3048f29995250bbeb9344219c509.setIcon(icon_5405b3a2ae15d75f2d1411c8796180a4);\n",
       "        \n",
       "    \n",
       "        var popup_1546fffb6ef77947078a5d9f976ec84f = L.popup({&quot;maxWidth&quot;: &quot;100%&quot;});\n",
       "\n",
       "        \n",
       "            \n",
       "                var html_e610aa1e52bb0ebc35915947b5f75eab = $(`&lt;div id=&quot;html_e610aa1e52bb0ebc35915947b5f75eab&quot; style=&quot;width: 100.0%; height: 100.0%;&quot;&gt;Guadeloupe: 85457.1378 kilotonnes&lt;/div&gt;`)[0];\n",
       "                popup_1546fffb6ef77947078a5d9f976ec84f.setContent(html_e610aa1e52bb0ebc35915947b5f75eab);\n",
       "            \n",
       "        \n",
       "\n",
       "        marker_6a9f3048f29995250bbeb9344219c509.bindPopup(popup_1546fffb6ef77947078a5d9f976ec84f)\n",
       "        ;\n",
       "\n",
       "        \n",
       "    \n",
       "    \n",
       "            var marker_52db5fda5b1902b2aef0ef634fca5442 = L.marker(\n",
       "                [13.4499943, 144.7651677],\n",
       "                {}\n",
       "            ).addTo(map_460c590ddd81a923a88348f196bbe720);\n",
       "        \n",
       "    \n",
       "            var icon_46117556cb8752bac30f3a1482b6ac59 = L.AwesomeMarkers.icon(\n",
       "                {&quot;extraClasses&quot;: &quot;fa-rotate-0&quot;, &quot;icon&quot;: &quot;info-sign&quot;, &quot;iconColor&quot;: &quot;white&quot;, &quot;markerColor&quot;: &quot;lightgray&quot;, &quot;prefix&quot;: &quot;glyphicon&quot;}\n",
       "            );\n",
       "            marker_52db5fda5b1902b2aef0ef634fca5442.setIcon(icon_46117556cb8752bac30f3a1482b6ac59);\n",
       "        \n",
       "    \n",
       "        var popup_41b04cbad11a4303fdae116491d1c8f7 = L.popup({&quot;maxWidth&quot;: &quot;100%&quot;});\n",
       "\n",
       "        \n",
       "            \n",
       "                var html_9a58c3f3d88fef38ddf62d6983f6e78d = $(`&lt;div id=&quot;html_9a58c3f3d88fef38ddf62d6983f6e78d&quot; style=&quot;width: 100.0%; height: 100.0%;&quot;&gt;Guam: 776.1489 kilotonnes&lt;/div&gt;`)[0];\n",
       "                popup_41b04cbad11a4303fdae116491d1c8f7.setContent(html_9a58c3f3d88fef38ddf62d6983f6e78d);\n",
       "            \n",
       "        \n",
       "\n",
       "        marker_52db5fda5b1902b2aef0ef634fca5442.bindPopup(popup_41b04cbad11a4303fdae116491d1c8f7)\n",
       "        ;\n",
       "\n",
       "        \n",
       "    \n",
       "    \n",
       "            var marker_f7acf4be0bfef490637aaf8e1302c4c2 = L.marker(\n",
       "                [15.5855545, -90.345759],\n",
       "                {}\n",
       "            ).addTo(map_460c590ddd81a923a88348f196bbe720);\n",
       "        \n",
       "    \n",
       "            var icon_61b9ccf5e37d1ca00686646c58aa940f = L.AwesomeMarkers.icon(\n",
       "                {&quot;extraClasses&quot;: &quot;fa-rotate-0&quot;, &quot;icon&quot;: &quot;info-sign&quot;, &quot;iconColor&quot;: &quot;white&quot;, &quot;markerColor&quot;: &quot;orange&quot;, &quot;prefix&quot;: &quot;glyphicon&quot;}\n",
       "            );\n",
       "            marker_f7acf4be0bfef490637aaf8e1302c4c2.setIcon(icon_61b9ccf5e37d1ca00686646c58aa940f);\n",
       "        \n",
       "    \n",
       "        var popup_384a09374f05f046affd754842b534b9 = L.popup({&quot;maxWidth&quot;: &quot;100%&quot;});\n",
       "\n",
       "        \n",
       "            \n",
       "                var html_0bba099a392a160db76b88f653aeebb0 = $(`&lt;div id=&quot;html_0bba099a392a160db76b88f653aeebb0&quot; style=&quot;width: 100.0%; height: 100.0%;&quot;&gt;Guatemala: 11190840.395 kilotonnes&lt;/div&gt;`)[0];\n",
       "                popup_384a09374f05f046affd754842b534b9.setContent(html_0bba099a392a160db76b88f653aeebb0);\n",
       "            \n",
       "        \n",
       "\n",
       "        marker_f7acf4be0bfef490637aaf8e1302c4c2.bindPopup(popup_384a09374f05f046affd754842b534b9)\n",
       "        ;\n",
       "\n",
       "        \n",
       "    \n",
       "    \n",
       "            var marker_b03e24fac24c24541c8c2427ed30724d = L.marker(\n",
       "                [10.7226226, -10.7083587],\n",
       "                {}\n",
       "            ).addTo(map_460c590ddd81a923a88348f196bbe720);\n",
       "        \n",
       "    \n",
       "            var icon_8e9922b9a36082527211d22454639aca = L.AwesomeMarkers.icon(\n",
       "                {&quot;extraClasses&quot;: &quot;fa-rotate-0&quot;, &quot;icon&quot;: &quot;info-sign&quot;, &quot;iconColor&quot;: &quot;white&quot;, &quot;markerColor&quot;: &quot;orange&quot;, &quot;prefix&quot;: &quot;glyphicon&quot;}\n",
       "            );\n",
       "            marker_b03e24fac24c24541c8c2427ed30724d.setIcon(icon_8e9922b9a36082527211d22454639aca);\n",
       "        \n",
       "    \n",
       "        var popup_901a920bf2b06a5c374d587f2f6869ed = L.popup({&quot;maxWidth&quot;: &quot;100%&quot;});\n",
       "\n",
       "        \n",
       "            \n",
       "                var html_73f615cf3bc8b54f0884ba797ae9f8ff = $(`&lt;div id=&quot;html_73f615cf3bc8b54f0884ba797ae9f8ff&quot; style=&quot;width: 100.0%; height: 100.0%;&quot;&gt;Guinea: 11332189.6307 kilotonnes&lt;/div&gt;`)[0];\n",
       "                popup_901a920bf2b06a5c374d587f2f6869ed.setContent(html_73f615cf3bc8b54f0884ba797ae9f8ff);\n",
       "            \n",
       "        \n",
       "\n",
       "        marker_b03e24fac24c24541c8c2427ed30724d.bindPopup(popup_901a920bf2b06a5c374d587f2f6869ed)\n",
       "        ;\n",
       "\n",
       "        \n",
       "    \n",
       "    \n",
       "            var marker_8352198c04080ab92f7596d4d8ebd652 = L.marker(\n",
       "                [11.815215, -15.2351044],\n",
       "                {}\n",
       "            ).addTo(map_460c590ddd81a923a88348f196bbe720);\n",
       "        \n",
       "    \n",
       "            var icon_691ab9cdefb4fd337e1b854522027b3b = L.AwesomeMarkers.icon(\n",
       "                {&quot;extraClasses&quot;: &quot;fa-rotate-0&quot;, &quot;icon&quot;: &quot;info-sign&quot;, &quot;iconColor&quot;: &quot;white&quot;, &quot;markerColor&quot;: &quot;green&quot;, &quot;prefix&quot;: &quot;glyphicon&quot;}\n",
       "            );\n",
       "            marker_8352198c04080ab92f7596d4d8ebd652.setIcon(icon_691ab9cdefb4fd337e1b854522027b3b);\n",
       "        \n",
       "    \n",
       "        var popup_1eb96a1ef1823b742c0c78fb6761358e = L.popup({&quot;maxWidth&quot;: &quot;100%&quot;});\n",
       "\n",
       "        \n",
       "            \n",
       "                var html_229654fb4887f8cba8d6aa6c1152afc0 = $(`&lt;div id=&quot;html_229654fb4887f8cba8d6aa6c1152afc0&quot; style=&quot;width: 100.0%; height: 100.0%;&quot;&gt;Guinea-Bissau: 1550990.87635 kilotonnes&lt;/div&gt;`)[0];\n",
       "                popup_1eb96a1ef1823b742c0c78fb6761358e.setContent(html_229654fb4887f8cba8d6aa6c1152afc0);\n",
       "            \n",
       "        \n",
       "\n",
       "        marker_8352198c04080ab92f7596d4d8ebd652.bindPopup(popup_1eb96a1ef1823b742c0c78fb6761358e)\n",
       "        ;\n",
       "\n",
       "        \n",
       "    \n",
       "    \n",
       "            var marker_7b0ef6e1bcb26aacefa320ca7dc72313 = L.marker(\n",
       "                [4.8417097, -58.6416891],\n",
       "                {}\n",
       "            ).addTo(map_460c590ddd81a923a88348f196bbe720);\n",
       "        \n",
       "    \n",
       "            var icon_a8249035d53b1861b2cb091d1381901a = L.AwesomeMarkers.icon(\n",
       "                {&quot;extraClasses&quot;: &quot;fa-rotate-0&quot;, &quot;icon&quot;: &quot;info-sign&quot;, &quot;iconColor&quot;: &quot;white&quot;, &quot;markerColor&quot;: &quot;orange&quot;, &quot;prefix&quot;: &quot;glyphicon&quot;}\n",
       "            );\n",
       "            marker_7b0ef6e1bcb26aacefa320ca7dc72313.setIcon(icon_a8249035d53b1861b2cb091d1381901a);\n",
       "        \n",
       "    \n",
       "        var popup_8ddb6827c23704ee8b5ea1cd3f8dcc10 = L.popup({&quot;maxWidth&quot;: &quot;100%&quot;});\n",
       "\n",
       "        \n",
       "            \n",
       "                var html_770fe8a1576eb578954951534cd67483 = $(`&lt;div id=&quot;html_770fe8a1576eb578954951534cd67483&quot; style=&quot;width: 100.0%; height: 100.0%;&quot;&gt;Guyana: 4791494.27625 kilotonnes&lt;/div&gt;`)[0];\n",
       "                popup_8ddb6827c23704ee8b5ea1cd3f8dcc10.setContent(html_770fe8a1576eb578954951534cd67483);\n",
       "            \n",
       "        \n",
       "\n",
       "        marker_7b0ef6e1bcb26aacefa320ca7dc72313.bindPopup(popup_8ddb6827c23704ee8b5ea1cd3f8dcc10)\n",
       "        ;\n",
       "\n",
       "        \n",
       "    \n",
       "    \n",
       "            var marker_7d677b07a5ea28e472e16cdf42673ad6 = L.marker(\n",
       "                [19.1399952, -72.3570972],\n",
       "                {}\n",
       "            ).addTo(map_460c590ddd81a923a88348f196bbe720);\n",
       "        \n",
       "    \n",
       "            var icon_a2c5de6f5d62059427c8423dfda83563 = L.AwesomeMarkers.icon(\n",
       "                {&quot;extraClasses&quot;: &quot;fa-rotate-0&quot;, &quot;icon&quot;: &quot;info-sign&quot;, &quot;iconColor&quot;: &quot;white&quot;, &quot;markerColor&quot;: &quot;orange&quot;, &quot;prefix&quot;: &quot;glyphicon&quot;}\n",
       "            );\n",
       "            marker_7d677b07a5ea28e472e16cdf42673ad6.setIcon(icon_a2c5de6f5d62059427c8423dfda83563);\n",
       "        \n",
       "    \n",
       "        var popup_a2bc32b108bb9e91664548af69a3339a = L.popup({&quot;maxWidth&quot;: &quot;100%&quot;});\n",
       "\n",
       "        \n",
       "            \n",
       "                var html_2679ec8595c698a12dc1120d2279543a = $(`&lt;div id=&quot;html_2679ec8595c698a12dc1120d2279543a&quot; style=&quot;width: 100.0%; height: 100.0%;&quot;&gt;Haiti: 3580862.3643 kilotonnes&lt;/div&gt;`)[0];\n",
       "                popup_a2bc32b108bb9e91664548af69a3339a.setContent(html_2679ec8595c698a12dc1120d2279543a);\n",
       "            \n",
       "        \n",
       "\n",
       "        marker_7d677b07a5ea28e472e16cdf42673ad6.bindPopup(popup_a2bc32b108bb9e91664548af69a3339a)\n",
       "        ;\n",
       "\n",
       "        \n",
       "    \n",
       "    \n",
       "            var marker_7a72a7c5c3c584e5aeb873e4fc1310c9 = L.marker(\n",
       "                [30.034098800664776, -95.81166865095464],\n",
       "                {}\n",
       "            ).addTo(map_460c590ddd81a923a88348f196bbe720);\n",
       "        \n",
       "    \n",
       "            var icon_ef4e988883f7269eb8e4f916aad122f9 = L.AwesomeMarkers.icon(\n",
       "                {&quot;extraClasses&quot;: &quot;fa-rotate-0&quot;, &quot;icon&quot;: &quot;info-sign&quot;, &quot;iconColor&quot;: &quot;white&quot;, &quot;markerColor&quot;: &quot;lightgray&quot;, &quot;prefix&quot;: &quot;glyphicon&quot;}\n",
       "            );\n",
       "            marker_7a72a7c5c3c584e5aeb873e4fc1310c9.setIcon(icon_ef4e988883f7269eb8e4f916aad122f9);\n",
       "        \n",
       "    \n",
       "        var popup_72ba827635f9bd6db4d7f0d79e90310b = L.popup({&quot;maxWidth&quot;: &quot;100%&quot;});\n",
       "\n",
       "        \n",
       "            \n",
       "                var html_777f278f5771ca10f83d6ed912e62fb0 = $(`&lt;div id=&quot;html_777f278f5771ca10f83d6ed912e62fb0&quot; style=&quot;width: 100.0%; height: 100.0%;&quot;&gt;Holy See: 792.0971 kilotonnes&lt;/div&gt;`)[0];\n",
       "                popup_72ba827635f9bd6db4d7f0d79e90310b.setContent(html_777f278f5771ca10f83d6ed912e62fb0);\n",
       "            \n",
       "        \n",
       "\n",
       "        marker_7a72a7c5c3c584e5aeb873e4fc1310c9.bindPopup(popup_72ba827635f9bd6db4d7f0d79e90310b)\n",
       "        ;\n",
       "\n",
       "        \n",
       "    \n",
       "    \n",
       "            var marker_0e84b97c0b826acee148b3f531b578d3 = L.marker(\n",
       "                [15.2572432, -86.0755145],\n",
       "                {}\n",
       "            ).addTo(map_460c590ddd81a923a88348f196bbe720);\n",
       "        \n",
       "    \n",
       "            var icon_32157fa63986ec2367538ad6df0df502 = L.AwesomeMarkers.icon(\n",
       "                {&quot;extraClasses&quot;: &quot;fa-rotate-0&quot;, &quot;icon&quot;: &quot;info-sign&quot;, &quot;iconColor&quot;: &quot;white&quot;, &quot;markerColor&quot;: &quot;orange&quot;, &quot;prefix&quot;: &quot;glyphicon&quot;}\n",
       "            );\n",
       "            marker_0e84b97c0b826acee148b3f531b578d3.setIcon(icon_32157fa63986ec2367538ad6df0df502);\n",
       "        \n",
       "    \n",
       "        var popup_a3b09486c53bb75cd47de53da0f2c775 = L.popup({&quot;maxWidth&quot;: &quot;100%&quot;});\n",
       "\n",
       "        \n",
       "            \n",
       "                var html_78d86148731f9e712c2a3f368d4f1ea7 = $(`&lt;div id=&quot;html_78d86148731f9e712c2a3f368d4f1ea7&quot; style=&quot;width: 100.0%; height: 100.0%;&quot;&gt;Honduras: 6827376.52905 kilotonnes&lt;/div&gt;`)[0];\n",
       "                popup_a3b09486c53bb75cd47de53da0f2c775.setContent(html_78d86148731f9e712c2a3f368d4f1ea7);\n",
       "            \n",
       "        \n",
       "\n",
       "        marker_0e84b97c0b826acee148b3f531b578d3.bindPopup(popup_a3b09486c53bb75cd47de53da0f2c775)\n",
       "        ;\n",
       "\n",
       "        \n",
       "    \n",
       "    \n",
       "            var marker_4bdde6fd40e5997a091612c1d9c61efe = L.marker(\n",
       "                [47.1817585, 19.5060937],\n",
       "                {}\n",
       "            ).addTo(map_460c590ddd81a923a88348f196bbe720);\n",
       "        \n",
       "    \n",
       "            var icon_32393a2e7b0f07c7332990062f611336 = L.AwesomeMarkers.icon(\n",
       "                {&quot;extraClasses&quot;: &quot;fa-rotate-0&quot;, &quot;icon&quot;: &quot;info-sign&quot;, &quot;iconColor&quot;: &quot;white&quot;, &quot;markerColor&quot;: &quot;orange&quot;, &quot;prefix&quot;: &quot;glyphicon&quot;}\n",
       "            );\n",
       "            marker_4bdde6fd40e5997a091612c1d9c61efe.setIcon(icon_32393a2e7b0f07c7332990062f611336);\n",
       "        \n",
       "    \n",
       "        var popup_0b20ae0568a0f6151cd573de7d8e0942 = L.popup({&quot;maxWidth&quot;: &quot;100%&quot;});\n",
       "\n",
       "        \n",
       "            \n",
       "                var html_3f66db1b5172bbf7d469c7681c050240 = $(`&lt;div id=&quot;html_3f66db1b5172bbf7d469c7681c050240&quot; style=&quot;width: 100.0%; height: 100.0%;&quot;&gt;Hungary: 14727350.7361 kilotonnes&lt;/div&gt;`)[0];\n",
       "                popup_0b20ae0568a0f6151cd573de7d8e0942.setContent(html_3f66db1b5172bbf7d469c7681c050240);\n",
       "            \n",
       "        \n",
       "\n",
       "        marker_4bdde6fd40e5997a091612c1d9c61efe.bindPopup(popup_0b20ae0568a0f6151cd573de7d8e0942)\n",
       "        ;\n",
       "\n",
       "        \n",
       "    \n",
       "    \n",
       "            var marker_18b643b4fdecf7dc22ff69bf14a1397b = L.marker(\n",
       "                [64.9841821, -18.1059013],\n",
       "                {}\n",
       "            ).addTo(map_460c590ddd81a923a88348f196bbe720);\n",
       "        \n",
       "    \n",
       "            var icon_2862e68fbcc50345acec35879ac7f5c8 = L.AwesomeMarkers.icon(\n",
       "                {&quot;extraClasses&quot;: &quot;fa-rotate-0&quot;, &quot;icon&quot;: &quot;info-sign&quot;, &quot;iconColor&quot;: &quot;white&quot;, &quot;markerColor&quot;: &quot;green&quot;, &quot;prefix&quot;: &quot;glyphicon&quot;}\n",
       "            );\n",
       "            marker_18b643b4fdecf7dc22ff69bf14a1397b.setIcon(icon_2862e68fbcc50345acec35879ac7f5c8);\n",
       "        \n",
       "    \n",
       "        var popup_dcfb90da9350630ccc1f9ebd5a45e917 = L.popup({&quot;maxWidth&quot;: &quot;100%&quot;});\n",
       "\n",
       "        \n",
       "            \n",
       "                var html_8f4494649e1fb5f5b7a2449b0905d89c = $(`&lt;div id=&quot;html_8f4494649e1fb5f5b7a2449b0905d89c&quot; style=&quot;width: 100.0%; height: 100.0%;&quot;&gt;Iceland: 1456419.8156 kilotonnes&lt;/div&gt;`)[0];\n",
       "                popup_dcfb90da9350630ccc1f9ebd5a45e917.setContent(html_8f4494649e1fb5f5b7a2449b0905d89c);\n",
       "            \n",
       "        \n",
       "\n",
       "        marker_18b643b4fdecf7dc22ff69bf14a1397b.bindPopup(popup_dcfb90da9350630ccc1f9ebd5a45e917)\n",
       "        ;\n",
       "\n",
       "        \n",
       "    \n",
       "    \n",
       "            var marker_9dad0150b95df83e820863c81fb15410 = L.marker(\n",
       "                [22.3511148, 78.6677428],\n",
       "                {}\n",
       "            ).addTo(map_460c590ddd81a923a88348f196bbe720);\n",
       "        \n",
       "    \n",
       "            var icon_89229962e19fb254ecdc8a6dd2c31c53 = L.AwesomeMarkers.icon(\n",
       "                {&quot;extraClasses&quot;: &quot;fa-rotate-0&quot;, &quot;icon&quot;: &quot;info-sign&quot;, &quot;iconColor&quot;: &quot;white&quot;, &quot;markerColor&quot;: &quot;darkred&quot;, &quot;prefix&quot;: &quot;glyphicon&quot;}\n",
       "            );\n",
       "            marker_9dad0150b95df83e820863c81fb15410.setIcon(icon_89229962e19fb254ecdc8a6dd2c31c53);\n",
       "        \n",
       "    \n",
       "        var popup_4fdc174c542f1dfb1593558a39168c1a = L.popup({&quot;maxWidth&quot;: &quot;100%&quot;});\n",
       "\n",
       "        \n",
       "            \n",
       "                var html_50b0e8ab26364c252bf319da591a2f3e = $(`&lt;div id=&quot;html_50b0e8ab26364c252bf319da591a2f3e&quot; style=&quot;width: 100.0%; height: 100.0%;&quot;&gt;India: 648043317.54665 kilotonnes&lt;/div&gt;`)[0];\n",
       "                popup_4fdc174c542f1dfb1593558a39168c1a.setContent(html_50b0e8ab26364c252bf319da591a2f3e);\n",
       "            \n",
       "        \n",
       "\n",
       "        marker_9dad0150b95df83e820863c81fb15410.bindPopup(popup_4fdc174c542f1dfb1593558a39168c1a)\n",
       "        ;\n",
       "\n",
       "        \n",
       "    \n",
       "    \n",
       "            var marker_2ea071f83ed57d23daec2919922734d9 = L.marker(\n",
       "                [-2.4833826, 117.8902853],\n",
       "                {}\n",
       "            ).addTo(map_460c590ddd81a923a88348f196bbe720);\n",
       "        \n",
       "    \n",
       "            var icon_b38e287a4af618cb88b74a853404752f = L.AwesomeMarkers.icon(\n",
       "                {&quot;extraClasses&quot;: &quot;fa-rotate-0&quot;, &quot;icon&quot;: &quot;info-sign&quot;, &quot;iconColor&quot;: &quot;white&quot;, &quot;markerColor&quot;: &quot;darkred&quot;, &quot;prefix&quot;: &quot;glyphicon&quot;}\n",
       "            );\n",
       "            marker_2ea071f83ed57d23daec2919922734d9.setIcon(icon_b38e287a4af618cb88b74a853404752f);\n",
       "        \n",
       "    \n",
       "        var popup_bffe8523a945cacb6f20c9fe96a217bc = L.popup({&quot;maxWidth&quot;: &quot;100%&quot;});\n",
       "\n",
       "        \n",
       "            \n",
       "                var html_cd678233b87b5d4131e6f759cbdb4a29 = $(`&lt;div id=&quot;html_cd678233b87b5d4131e6f759cbdb4a29&quot; style=&quot;width: 100.0%; height: 100.0%;&quot;&gt;Indonesia: 427892787.14345 kilotonnes&lt;/div&gt;`)[0];\n",
       "                popup_bffe8523a945cacb6f20c9fe96a217bc.setContent(html_cd678233b87b5d4131e6f759cbdb4a29);\n",
       "            \n",
       "        \n",
       "\n",
       "        marker_2ea071f83ed57d23daec2919922734d9.bindPopup(popup_bffe8523a945cacb6f20c9fe96a217bc)\n",
       "        ;\n",
       "\n",
       "        \n",
       "    \n",
       "    \n",
       "            var marker_4541a9c9300d99be98a5644c9e0effc9 = L.marker(\n",
       "                [32.6475314, 54.5643516],\n",
       "                {}\n",
       "            ).addTo(map_460c590ddd81a923a88348f196bbe720);\n",
       "        \n",
       "    \n",
       "            var icon_d7796d97ff2bd7240748bbc9371ece09 = L.AwesomeMarkers.icon(\n",
       "                {&quot;extraClasses&quot;: &quot;fa-rotate-0&quot;, &quot;icon&quot;: &quot;info-sign&quot;, &quot;iconColor&quot;: &quot;white&quot;, &quot;markerColor&quot;: &quot;darkred&quot;, &quot;prefix&quot;: &quot;glyphicon&quot;}\n",
       "            );\n",
       "            marker_4541a9c9300d99be98a5644c9e0effc9.setIcon(icon_d7796d97ff2bd7240748bbc9371ece09);\n",
       "        \n",
       "    \n",
       "        var popup_93c9c9ec43e7dedcc3c298ae3bb7b5a6 = L.popup({&quot;maxWidth&quot;: &quot;100%&quot;});\n",
       "\n",
       "        \n",
       "            \n",
       "                var html_4acade0e2ac75ac7616eb93f914c7477 = $(`&lt;div id=&quot;html_4acade0e2ac75ac7616eb93f914c7477&quot; style=&quot;width: 100.0%; height: 100.0%;&quot;&gt;Iran (Islamic Republic of): 128187967.104 kilotonnes&lt;/div&gt;`)[0];\n",
       "                popup_93c9c9ec43e7dedcc3c298ae3bb7b5a6.setContent(html_4acade0e2ac75ac7616eb93f914c7477);\n",
       "            \n",
       "        \n",
       "\n",
       "        marker_4541a9c9300d99be98a5644c9e0effc9.bindPopup(popup_93c9c9ec43e7dedcc3c298ae3bb7b5a6)\n",
       "        ;\n",
       "\n",
       "        \n",
       "    \n",
       "    \n",
       "            var marker_ca66f55e7d534c26797fa3a065038ae6 = L.marker(\n",
       "                [33.0955793, 44.1749775],\n",
       "                {}\n",
       "            ).addTo(map_460c590ddd81a923a88348f196bbe720);\n",
       "        \n",
       "    \n",
       "            var icon_5de5dab253ff6874c34e87e60414f21d = L.AwesomeMarkers.icon(\n",
       "                {&quot;extraClasses&quot;: &quot;fa-rotate-0&quot;, &quot;icon&quot;: &quot;info-sign&quot;, &quot;iconColor&quot;: &quot;white&quot;, &quot;markerColor&quot;: &quot;red&quot;, &quot;prefix&quot;: &quot;glyphicon&quot;}\n",
       "            );\n",
       "            marker_ca66f55e7d534c26797fa3a065038ae6.setIcon(icon_5de5dab253ff6874c34e87e60414f21d);\n",
       "        \n",
       "    \n",
       "        var popup_2fdb71e652a11c59e3ec2bbe2d8d5bab = L.popup({&quot;maxWidth&quot;: &quot;100%&quot;});\n",
       "\n",
       "        \n",
       "            \n",
       "                var html_732736e21ff231ca2231e0d68cfe2ec4 = $(`&lt;div id=&quot;html_732736e21ff231ca2231e0d68cfe2ec4&quot; style=&quot;width: 100.0%; height: 100.0%;&quot;&gt;Iraq: 37708403.90005 kilotonnes&lt;/div&gt;`)[0];\n",
       "                popup_2fdb71e652a11c59e3ec2bbe2d8d5bab.setContent(html_732736e21ff231ca2231e0d68cfe2ec4);\n",
       "            \n",
       "        \n",
       "\n",
       "        marker_ca66f55e7d534c26797fa3a065038ae6.bindPopup(popup_2fdb71e652a11c59e3ec2bbe2d8d5bab)\n",
       "        ;\n",
       "\n",
       "        \n",
       "    \n",
       "    \n",
       "            var marker_6a02a4c440d4187e08788de6622f5d36 = L.marker(\n",
       "                [52.865196, -7.9794599],\n",
       "                {}\n",
       "            ).addTo(map_460c590ddd81a923a88348f196bbe720);\n",
       "        \n",
       "    \n",
       "            var icon_a6198520fb6cf53d07346edce3ffb183 = L.AwesomeMarkers.icon(\n",
       "                {&quot;extraClasses&quot;: &quot;fa-rotate-0&quot;, &quot;icon&quot;: &quot;info-sign&quot;, &quot;iconColor&quot;: &quot;white&quot;, &quot;markerColor&quot;: &quot;red&quot;, &quot;prefix&quot;: &quot;glyphicon&quot;}\n",
       "            );\n",
       "            marker_6a02a4c440d4187e08788de6622f5d36.setIcon(icon_a6198520fb6cf53d07346edce3ffb183);\n",
       "        \n",
       "    \n",
       "        var popup_0b21777849dc6f1a9c63b1bce83bc99d = L.popup({&quot;maxWidth&quot;: &quot;100%&quot;});\n",
       "\n",
       "        \n",
       "            \n",
       "                var html_d652d0f5a323d119e5b614feb6003e5a = $(`&lt;div id=&quot;html_d652d0f5a323d119e5b614feb6003e5a&quot; style=&quot;width: 100.0%; height: 100.0%;&quot;&gt;Ireland: 20957429.7423 kilotonnes&lt;/div&gt;`)[0];\n",
       "                popup_0b21777849dc6f1a9c63b1bce83bc99d.setContent(html_d652d0f5a323d119e5b614feb6003e5a);\n",
       "            \n",
       "        \n",
       "\n",
       "        marker_6a02a4c440d4187e08788de6622f5d36.bindPopup(popup_0b21777849dc6f1a9c63b1bce83bc99d)\n",
       "        ;\n",
       "\n",
       "        \n",
       "    \n",
       "    \n",
       "            var marker_c6c72e6b6487d8752c3339244c9b8870 = L.marker(\n",
       "                [54.1936805, -4.5591148],\n",
       "                {}\n",
       "            ).addTo(map_460c590ddd81a923a88348f196bbe720);\n",
       "        \n",
       "    \n",
       "            var icon_e9e9433d4c62d7edaa4b38ef184e7814 = L.AwesomeMarkers.icon(\n",
       "                {&quot;extraClasses&quot;: &quot;fa-rotate-0&quot;, &quot;icon&quot;: &quot;info-sign&quot;, &quot;iconColor&quot;: &quot;white&quot;, &quot;markerColor&quot;: &quot;lightgray&quot;, &quot;prefix&quot;: &quot;glyphicon&quot;}\n",
       "            );\n",
       "            marker_c6c72e6b6487d8752c3339244c9b8870.setIcon(icon_e9e9433d4c62d7edaa4b38ef184e7814);\n",
       "        \n",
       "    \n",
       "        var popup_b48b3d3d6236790707965ed12e82f7fe = L.popup({&quot;maxWidth&quot;: &quot;100%&quot;});\n",
       "\n",
       "        \n",
       "            \n",
       "                var html_f045899e93809a122939df38faca76c2 = $(`&lt;div id=&quot;html_f045899e93809a122939df38faca76c2&quot; style=&quot;width: 100.0%; height: 100.0%;&quot;&gt;Isle of Man: 9503.1281 kilotonnes&lt;/div&gt;`)[0];\n",
       "                popup_b48b3d3d6236790707965ed12e82f7fe.setContent(html_f045899e93809a122939df38faca76c2);\n",
       "            \n",
       "        \n",
       "\n",
       "        marker_c6c72e6b6487d8752c3339244c9b8870.bindPopup(popup_b48b3d3d6236790707965ed12e82f7fe)\n",
       "        ;\n",
       "\n",
       "        \n",
       "    \n",
       "    \n",
       "            var marker_636002c169a2120f069ec8be91e637f1 = L.marker(\n",
       "                [30.8124247, 34.8594762],\n",
       "                {}\n",
       "            ).addTo(map_460c590ddd81a923a88348f196bbe720);\n",
       "        \n",
       "    \n",
       "            var icon_591bba4f05bb4b99b069dc4f793ecb8a = L.AwesomeMarkers.icon(\n",
       "                {&quot;extraClasses&quot;: &quot;fa-rotate-0&quot;, &quot;icon&quot;: &quot;info-sign&quot;, &quot;iconColor&quot;: &quot;white&quot;, &quot;markerColor&quot;: &quot;orange&quot;, &quot;prefix&quot;: &quot;glyphicon&quot;}\n",
       "            );\n",
       "            marker_636002c169a2120f069ec8be91e637f1.setIcon(icon_591bba4f05bb4b99b069dc4f793ecb8a);\n",
       "        \n",
       "    \n",
       "        var popup_6e781c155c144400edc172dc2379778f = L.popup({&quot;maxWidth&quot;: &quot;100%&quot;});\n",
       "\n",
       "        \n",
       "            \n",
       "                var html_5c77cd623aba41626d5e9722f966f318 = $(`&lt;div id=&quot;html_5c77cd623aba41626d5e9722f966f318&quot; style=&quot;width: 100.0%; height: 100.0%;&quot;&gt;Israel: 12496854.87495 kilotonnes&lt;/div&gt;`)[0];\n",
       "                popup_6e781c155c144400edc172dc2379778f.setContent(html_5c77cd623aba41626d5e9722f966f318);\n",
       "            \n",
       "        \n",
       "\n",
       "        marker_636002c169a2120f069ec8be91e637f1.bindPopup(popup_6e781c155c144400edc172dc2379778f)\n",
       "        ;\n",
       "\n",
       "        \n",
       "    \n",
       "    \n",
       "            var marker_25face402eefaa0f485d4771483c3d68 = L.marker(\n",
       "                [42.6384261, 12.674297],\n",
       "                {}\n",
       "            ).addTo(map_460c590ddd81a923a88348f196bbe720);\n",
       "        \n",
       "    \n",
       "            var icon_da71b4c16148703e38b2db7511c8e218 = L.AwesomeMarkers.icon(\n",
       "                {&quot;extraClasses&quot;: &quot;fa-rotate-0&quot;, &quot;icon&quot;: &quot;info-sign&quot;, &quot;iconColor&quot;: &quot;white&quot;, &quot;markerColor&quot;: &quot;darkred&quot;, &quot;prefix&quot;: &quot;glyphicon&quot;}\n",
       "            );\n",
       "            marker_25face402eefaa0f485d4771483c3d68.setIcon(icon_da71b4c16148703e38b2db7511c8e218);\n",
       "        \n",
       "    \n",
       "        var popup_ddbcadcf50fcd3402a8dd8aef2838c6e = L.popup({&quot;maxWidth&quot;: &quot;100%&quot;});\n",
       "\n",
       "        \n",
       "            \n",
       "                var html_26a5f53d2bd73235e100e5a49b0ce3d0 = $(`&lt;div id=&quot;html_26a5f53d2bd73235e100e5a49b0ce3d0&quot; style=&quot;width: 100.0%; height: 100.0%;&quot;&gt;Italy: 85405858.2496 kilotonnes&lt;/div&gt;`)[0];\n",
       "                popup_ddbcadcf50fcd3402a8dd8aef2838c6e.setContent(html_26a5f53d2bd73235e100e5a49b0ce3d0);\n",
       "            \n",
       "        \n",
       "\n",
       "        marker_25face402eefaa0f485d4771483c3d68.bindPopup(popup_ddbcadcf50fcd3402a8dd8aef2838c6e)\n",
       "        ;\n",
       "\n",
       "        \n",
       "    \n",
       "    \n",
       "            var marker_353c21c58a6d336c129f1b650363b3db = L.marker(\n",
       "                [18.1850507, -77.3947693],\n",
       "                {}\n",
       "            ).addTo(map_460c590ddd81a923a88348f196bbe720);\n",
       "        \n",
       "    \n",
       "            var icon_90b948e4332893243c19598a70ecb846 = L.AwesomeMarkers.icon(\n",
       "                {&quot;extraClasses&quot;: &quot;fa-rotate-0&quot;, &quot;icon&quot;: &quot;info-sign&quot;, &quot;iconColor&quot;: &quot;white&quot;, &quot;markerColor&quot;: &quot;green&quot;, &quot;prefix&quot;: &quot;glyphicon&quot;}\n",
       "            );\n",
       "            marker_353c21c58a6d336c129f1b650363b3db.setIcon(icon_90b948e4332893243c19598a70ecb846);\n",
       "        \n",
       "    \n",
       "        var popup_efea2b4eaf7bc1b7914fcda3b35067ff = L.popup({&quot;maxWidth&quot;: &quot;100%&quot;});\n",
       "\n",
       "        \n",
       "            \n",
       "                var html_f4ffc153cae55b35e53e1b8cf6c8b4c1 = $(`&lt;div id=&quot;html_f4ffc153cae55b35e53e1b8cf6c8b4c1&quot; style=&quot;width: 100.0%; height: 100.0%;&quot;&gt;Jamaica: 2331431.36025 kilotonnes&lt;/div&gt;`)[0];\n",
       "                popup_efea2b4eaf7bc1b7914fcda3b35067ff.setContent(html_f4ffc153cae55b35e53e1b8cf6c8b4c1);\n",
       "            \n",
       "        \n",
       "\n",
       "        marker_353c21c58a6d336c129f1b650363b3db.bindPopup(popup_efea2b4eaf7bc1b7914fcda3b35067ff)\n",
       "        ;\n",
       "\n",
       "        \n",
       "    \n",
       "    \n",
       "            var marker_db562cc4ca76cc52aa248805ef4c0a6d = L.marker(\n",
       "                [36.5748441, 139.2394179],\n",
       "                {}\n",
       "            ).addTo(map_460c590ddd81a923a88348f196bbe720);\n",
       "        \n",
       "    \n",
       "            var icon_80ccd196cf386ad855d9ffab86e5c5f9 = L.AwesomeMarkers.icon(\n",
       "                {&quot;extraClasses&quot;: &quot;fa-rotate-0&quot;, &quot;icon&quot;: &quot;info-sign&quot;, &quot;iconColor&quot;: &quot;white&quot;, &quot;markerColor&quot;: &quot;darkred&quot;, &quot;prefix&quot;: &quot;glyphicon&quot;}\n",
       "            );\n",
       "            marker_db562cc4ca76cc52aa248805ef4c0a6d.setIcon(icon_80ccd196cf386ad855d9ffab86e5c5f9);\n",
       "        \n",
       "    \n",
       "        var popup_b146d359e2444db39c725fba06506998 = L.popup({&quot;maxWidth&quot;: &quot;100%&quot;});\n",
       "\n",
       "        \n",
       "            \n",
       "                var html_d1d4bc79f5124a7e8fcda1590685d0fe = $(`&lt;div id=&quot;html_d1d4bc79f5124a7e8fcda1590685d0fe&quot; style=&quot;width: 100.0%; height: 100.0%;&quot;&gt;Japan: 208777681.1194 kilotonnes&lt;/div&gt;`)[0];\n",
       "                popup_b146d359e2444db39c725fba06506998.setContent(html_d1d4bc79f5124a7e8fcda1590685d0fe);\n",
       "            \n",
       "        \n",
       "\n",
       "        marker_db562cc4ca76cc52aa248805ef4c0a6d.bindPopup(popup_b146d359e2444db39c725fba06506998)\n",
       "        ;\n",
       "\n",
       "        \n",
       "    \n",
       "    \n",
       "            var marker_4d9d02d11393558b5b570929975b4f2f = L.marker(\n",
       "                [44.6663146, -93.6261918],\n",
       "                {}\n",
       "            ).addTo(map_460c590ddd81a923a88348f196bbe720);\n",
       "        \n",
       "    \n",
       "            var icon_a89f695746f08a4228dce2001a6a4cf6 = L.AwesomeMarkers.icon(\n",
       "                {&quot;extraClasses&quot;: &quot;fa-rotate-0&quot;, &quot;icon&quot;: &quot;info-sign&quot;, &quot;iconColor&quot;: &quot;white&quot;, &quot;markerColor&quot;: &quot;orange&quot;, &quot;prefix&quot;: &quot;glyphicon&quot;}\n",
       "            );\n",
       "            marker_4d9d02d11393558b5b570929975b4f2f.setIcon(icon_a89f695746f08a4228dce2001a6a4cf6);\n",
       "        \n",
       "    \n",
       "        var popup_5e0057ff7ccb3a29a50b9c343d63953e = L.popup({&quot;maxWidth&quot;: &quot;100%&quot;});\n",
       "\n",
       "        \n",
       "            \n",
       "                var html_8c6353da022a82a71f1feffeed31fa44 = $(`&lt;div id=&quot;html_8c6353da022a82a71f1feffeed31fa44&quot; style=&quot;width: 100.0%; height: 100.0%;&quot;&gt;Jordan: 4437153.82975 kilotonnes&lt;/div&gt;`)[0];\n",
       "                popup_5e0057ff7ccb3a29a50b9c343d63953e.setContent(html_8c6353da022a82a71f1feffeed31fa44);\n",
       "            \n",
       "        \n",
       "\n",
       "        marker_4d9d02d11393558b5b570929975b4f2f.bindPopup(popup_5e0057ff7ccb3a29a50b9c343d63953e)\n",
       "        ;\n",
       "\n",
       "        \n",
       "    \n",
       "    \n",
       "            var marker_fa34ff784289bbfe87366a2fa4afe858 = L.marker(\n",
       "                [48.1012954, 66.7780818],\n",
       "                {}\n",
       "            ).addTo(map_460c590ddd81a923a88348f196bbe720);\n",
       "        \n",
       "    \n",
       "            var icon_64528abd2f75dffa0baf61f9b16cfcdf = L.AwesomeMarkers.icon(\n",
       "                {&quot;extraClasses&quot;: &quot;fa-rotate-0&quot;, &quot;icon&quot;: &quot;info-sign&quot;, &quot;iconColor&quot;: &quot;white&quot;, &quot;markerColor&quot;: &quot;red&quot;, &quot;prefix&quot;: &quot;glyphicon&quot;}\n",
       "            );\n",
       "            marker_fa34ff784289bbfe87366a2fa4afe858.setIcon(icon_64528abd2f75dffa0baf61f9b16cfcdf);\n",
       "        \n",
       "    \n",
       "        var popup_94db9588d0a583d4b40aa89e4ab4c100 = L.popup({&quot;maxWidth&quot;: &quot;100%&quot;});\n",
       "\n",
       "        \n",
       "            \n",
       "                var html_63ba9494123b61c5e152af00ee6586de = $(`&lt;div id=&quot;html_63ba9494123b61c5e152af00ee6586de&quot; style=&quot;width: 100.0%; height: 100.0%;&quot;&gt;Kazakhstan: 48652668.1657 kilotonnes&lt;/div&gt;`)[0];\n",
       "                popup_94db9588d0a583d4b40aa89e4ab4c100.setContent(html_63ba9494123b61c5e152af00ee6586de);\n",
       "            \n",
       "        \n",
       "\n",
       "        marker_fa34ff784289bbfe87366a2fa4afe858.bindPopup(popup_94db9588d0a583d4b40aa89e4ab4c100)\n",
       "        ;\n",
       "\n",
       "        \n",
       "    \n",
       "    \n",
       "            var marker_1141bae6f000677e91e2af22c5512187 = L.marker(\n",
       "                [1.4419683, 38.4313975],\n",
       "                {}\n",
       "            ).addTo(map_460c590ddd81a923a88348f196bbe720);\n",
       "        \n",
       "    \n",
       "            var icon_24a51652c891231bae4b000562512016 = L.AwesomeMarkers.icon(\n",
       "                {&quot;extraClasses&quot;: &quot;fa-rotate-0&quot;, &quot;icon&quot;: &quot;info-sign&quot;, &quot;iconColor&quot;: &quot;white&quot;, &quot;markerColor&quot;: &quot;red&quot;, &quot;prefix&quot;: &quot;glyphicon&quot;}\n",
       "            );\n",
       "            marker_1141bae6f000677e91e2af22c5512187.setIcon(icon_24a51652c891231bae4b000562512016);\n",
       "        \n",
       "    \n",
       "        var popup_e4a80d299ee02674e75f8f68079797d2 = L.popup({&quot;maxWidth&quot;: &quot;100%&quot;});\n",
       "\n",
       "        \n",
       "            \n",
       "                var html_a5202cbeed235ec00cdad900856f9f6c = $(`&lt;div id=&quot;html_a5202cbeed235ec00cdad900856f9f6c&quot; style=&quot;width: 100.0%; height: 100.0%;&quot;&gt;Kenya: 25100180.6721 kilotonnes&lt;/div&gt;`)[0];\n",
       "                popup_e4a80d299ee02674e75f8f68079797d2.setContent(html_a5202cbeed235ec00cdad900856f9f6c);\n",
       "            \n",
       "        \n",
       "\n",
       "        marker_1141bae6f000677e91e2af22c5512187.bindPopup(popup_e4a80d299ee02674e75f8f68079797d2)\n",
       "        ;\n",
       "\n",
       "        \n",
       "    \n",
       "    \n",
       "            var marker_fef73f2084bf414372db1f240f0d18d8 = L.marker(\n",
       "                [0.3448612, 173.6641773],\n",
       "                {}\n",
       "            ).addTo(map_460c590ddd81a923a88348f196bbe720);\n",
       "        \n",
       "    \n",
       "            var icon_2205783dcfd9e5541f8867f9fffc9531 = L.AwesomeMarkers.icon(\n",
       "                {&quot;extraClasses&quot;: &quot;fa-rotate-0&quot;, &quot;icon&quot;: &quot;info-sign&quot;, &quot;iconColor&quot;: &quot;white&quot;, &quot;markerColor&quot;: &quot;lightgray&quot;, &quot;prefix&quot;: &quot;glyphicon&quot;}\n",
       "            );\n",
       "            marker_fef73f2084bf414372db1f240f0d18d8.setIcon(icon_2205783dcfd9e5541f8867f9fffc9531);\n",
       "        \n",
       "    \n",
       "        var popup_4f030cfa4f4483eb7189790c86672ce4 = L.popup({&quot;maxWidth&quot;: &quot;100%&quot;});\n",
       "\n",
       "        \n",
       "            \n",
       "                var html_c9554719b87dfab56ce3bd59e6d29855 = $(`&lt;div id=&quot;html_c9554719b87dfab56ce3bd59e6d29855&quot; style=&quot;width: 100.0%; height: 100.0%;&quot;&gt;Kiribati: 18023.3555 kilotonnes&lt;/div&gt;`)[0];\n",
       "                popup_4f030cfa4f4483eb7189790c86672ce4.setContent(html_c9554719b87dfab56ce3bd59e6d29855);\n",
       "            \n",
       "        \n",
       "\n",
       "        marker_fef73f2084bf414372db1f240f0d18d8.bindPopup(popup_4f030cfa4f4483eb7189790c86672ce4)\n",
       "        ;\n",
       "\n",
       "        \n",
       "    \n",
       "    \n",
       "            var marker_aff44e1e6c8adcdb5fb6edd49f7412ac = L.marker(\n",
       "                [29.3796532, 47.9734174],\n",
       "                {}\n",
       "            ).addTo(map_460c590ddd81a923a88348f196bbe720);\n",
       "        \n",
       "    \n",
       "            var icon_db13a9e57683cfceb36903195979b6d0 = L.AwesomeMarkers.icon(\n",
       "                {&quot;extraClasses&quot;: &quot;fa-rotate-0&quot;, &quot;icon&quot;: &quot;info-sign&quot;, &quot;iconColor&quot;: &quot;white&quot;, &quot;markerColor&quot;: &quot;orange&quot;, &quot;prefix&quot;: &quot;glyphicon&quot;}\n",
       "            );\n",
       "            marker_aff44e1e6c8adcdb5fb6edd49f7412ac.setIcon(icon_db13a9e57683cfceb36903195979b6d0);\n",
       "        \n",
       "    \n",
       "        var popup_51de6f09a87e2b11fda68addb2cc41d8 = L.popup({&quot;maxWidth&quot;: &quot;100%&quot;});\n",
       "\n",
       "        \n",
       "            \n",
       "                var html_03a28e857e65d6b4d9aaf097834ea135 = $(`&lt;div id=&quot;html_03a28e857e65d6b4d9aaf097834ea135&quot; style=&quot;width: 100.0%; height: 100.0%;&quot;&gt;Kuwait: 16822930.8909 kilotonnes&lt;/div&gt;`)[0];\n",
       "                popup_51de6f09a87e2b11fda68addb2cc41d8.setContent(html_03a28e857e65d6b4d9aaf097834ea135);\n",
       "            \n",
       "        \n",
       "\n",
       "        marker_aff44e1e6c8adcdb5fb6edd49f7412ac.bindPopup(popup_51de6f09a87e2b11fda68addb2cc41d8)\n",
       "        ;\n",
       "\n",
       "        \n",
       "    \n",
       "    \n",
       "            var marker_9940df0bfe818596591fab7bcc9835e8 = L.marker(\n",
       "                [41.5089324, 74.724091],\n",
       "                {}\n",
       "            ).addTo(map_460c590ddd81a923a88348f196bbe720);\n",
       "        \n",
       "    \n",
       "            var icon_773993336ec700812643c0843a23d4c6 = L.AwesomeMarkers.icon(\n",
       "                {&quot;extraClasses&quot;: &quot;fa-rotate-0&quot;, &quot;icon&quot;: &quot;info-sign&quot;, &quot;iconColor&quot;: &quot;white&quot;, &quot;markerColor&quot;: &quot;orange&quot;, &quot;prefix&quot;: &quot;glyphicon&quot;}\n",
       "            );\n",
       "            marker_9940df0bfe818596591fab7bcc9835e8.setIcon(icon_773993336ec700812643c0843a23d4c6);\n",
       "        \n",
       "    \n",
       "        var popup_b793c0760745d46cf762976dae6b356a = L.popup({&quot;maxWidth&quot;: &quot;100%&quot;});\n",
       "\n",
       "        \n",
       "            \n",
       "                var html_de5241a9719db2eea85cb6c8636fe2e9 = $(`&lt;div id=&quot;html_de5241a9719db2eea85cb6c8636fe2e9&quot; style=&quot;width: 100.0%; height: 100.0%;&quot;&gt;Kyrgyzstan: 3521434.816 kilotonnes&lt;/div&gt;`)[0];\n",
       "                popup_b793c0760745d46cf762976dae6b356a.setContent(html_de5241a9719db2eea85cb6c8636fe2e9);\n",
       "            \n",
       "        \n",
       "\n",
       "        marker_9940df0bfe818596591fab7bcc9835e8.bindPopup(popup_b793c0760745d46cf762976dae6b356a)\n",
       "        ;\n",
       "\n",
       "        \n",
       "    \n",
       "    \n",
       "            var marker_3afb03ed3bf168779dc4b6427bdf0820 = L.marker(\n",
       "                [20.0171109, 103.378253],\n",
       "                {}\n",
       "            ).addTo(map_460c590ddd81a923a88348f196bbe720);\n",
       "        \n",
       "    \n",
       "            var icon_506973ce254ddc00561cfdca910a8388 = L.AwesomeMarkers.icon(\n",
       "                {&quot;extraClasses&quot;: &quot;fa-rotate-0&quot;, &quot;icon&quot;: &quot;info-sign&quot;, &quot;iconColor&quot;: &quot;white&quot;, &quot;markerColor&quot;: &quot;orange&quot;, &quot;prefix&quot;: &quot;glyphicon&quot;}\n",
       "            );\n",
       "            marker_3afb03ed3bf168779dc4b6427bdf0820.setIcon(icon_506973ce254ddc00561cfdca910a8388);\n",
       "        \n",
       "    \n",
       "        var popup_22c56e3d19b69fa823c4f1e399bd0d15 = L.popup({&quot;maxWidth&quot;: &quot;100%&quot;});\n",
       "\n",
       "        \n",
       "            \n",
       "                var html_27691a8a7dfd5ee0dafa8274527027d1 = $(`&lt;div id=&quot;html_27691a8a7dfd5ee0dafa8274527027d1&quot; style=&quot;width: 100.0%; height: 100.0%;&quot;&gt;Lao People&#x27;s Democratic Republic: 9605107.33 kilotonnes&lt;/div&gt;`)[0];\n",
       "                popup_22c56e3d19b69fa823c4f1e399bd0d15.setContent(html_27691a8a7dfd5ee0dafa8274527027d1);\n",
       "            \n",
       "        \n",
       "\n",
       "        marker_3afb03ed3bf168779dc4b6427bdf0820.bindPopup(popup_22c56e3d19b69fa823c4f1e399bd0d15)\n",
       "        ;\n",
       "\n",
       "        \n",
       "    \n",
       "    \n",
       "            var marker_21fa5038983a0d149e8a1cfbda7d9bbe = L.marker(\n",
       "                [56.8406494, 24.7537645],\n",
       "                {}\n",
       "            ).addTo(map_460c590ddd81a923a88348f196bbe720);\n",
       "        \n",
       "    \n",
       "            var icon_620e6aa713c256d1112e61de69d576f0 = L.AwesomeMarkers.icon(\n",
       "                {&quot;extraClasses&quot;: &quot;fa-rotate-0&quot;, &quot;icon&quot;: &quot;info-sign&quot;, &quot;iconColor&quot;: &quot;white&quot;, &quot;markerColor&quot;: &quot;orange&quot;, &quot;prefix&quot;: &quot;glyphicon&quot;}\n",
       "            );\n",
       "            marker_21fa5038983a0d149e8a1cfbda7d9bbe.setIcon(icon_620e6aa713c256d1112e61de69d576f0);\n",
       "        \n",
       "    \n",
       "        var popup_d1b3e68888df64a5260766cdbbaadadb = L.popup({&quot;maxWidth&quot;: &quot;100%&quot;});\n",
       "\n",
       "        \n",
       "            \n",
       "                var html_4233b755b823d7ec4a236e13ff90df13 = $(`&lt;div id=&quot;html_4233b755b823d7ec4a236e13ff90df13&quot; style=&quot;width: 100.0%; height: 100.0%;&quot;&gt;Latvia: 3834508.8622 kilotonnes&lt;/div&gt;`)[0];\n",
       "                popup_d1b3e68888df64a5260766cdbbaadadb.setContent(html_4233b755b823d7ec4a236e13ff90df13);\n",
       "            \n",
       "        \n",
       "\n",
       "        marker_21fa5038983a0d149e8a1cfbda7d9bbe.bindPopup(popup_d1b3e68888df64a5260766cdbbaadadb)\n",
       "        ;\n",
       "\n",
       "        \n",
       "    \n",
       "    \n",
       "            var marker_cc73d9debbc4eb535dbbb186c5243337 = L.marker(\n",
       "                [40.375713, -76.4626118],\n",
       "                {}\n",
       "            ).addTo(map_460c590ddd81a923a88348f196bbe720);\n",
       "        \n",
       "    \n",
       "            var icon_1007230e205370adbf3236cc1b3f0b88 = L.AwesomeMarkers.icon(\n",
       "                {&quot;extraClasses&quot;: &quot;fa-rotate-0&quot;, &quot;icon&quot;: &quot;info-sign&quot;, &quot;iconColor&quot;: &quot;white&quot;, &quot;markerColor&quot;: &quot;orange&quot;, &quot;prefix&quot;: &quot;glyphicon&quot;}\n",
       "            );\n",
       "            marker_cc73d9debbc4eb535dbbb186c5243337.setIcon(icon_1007230e205370adbf3236cc1b3f0b88);\n",
       "        \n",
       "    \n",
       "        var popup_29471ffd9063aa75ef4e4bb402239446 = L.popup({&quot;maxWidth&quot;: &quot;100%&quot;});\n",
       "\n",
       "        \n",
       "            \n",
       "                var html_f7a9bdbac81d8de610b18e16a294599d = $(`&lt;div id=&quot;html_f7a9bdbac81d8de610b18e16a294599d&quot; style=&quot;width: 100.0%; height: 100.0%;&quot;&gt;Lebanon: 3756257.59795 kilotonnes&lt;/div&gt;`)[0];\n",
       "                popup_29471ffd9063aa75ef4e4bb402239446.setContent(html_f7a9bdbac81d8de610b18e16a294599d);\n",
       "            \n",
       "        \n",
       "\n",
       "        marker_cc73d9debbc4eb535dbbb186c5243337.bindPopup(popup_29471ffd9063aa75ef4e4bb402239446)\n",
       "        ;\n",
       "\n",
       "        \n",
       "    \n",
       "    \n",
       "            var marker_2cb5e0ae0dc044f9e8dc3009c028b336 = L.marker(\n",
       "                [-29.6039267, 28.3350193],\n",
       "                {}\n",
       "            ).addTo(map_460c590ddd81a923a88348f196bbe720);\n",
       "        \n",
       "    \n",
       "            var icon_e47d5ff5ce419c2e051f8e96e59c5f67 = L.AwesomeMarkers.icon(\n",
       "                {&quot;extraClasses&quot;: &quot;fa-rotate-0&quot;, &quot;icon&quot;: &quot;info-sign&quot;, &quot;iconColor&quot;: &quot;white&quot;, &quot;markerColor&quot;: &quot;green&quot;, &quot;prefix&quot;: &quot;glyphicon&quot;}\n",
       "            );\n",
       "            marker_2cb5e0ae0dc044f9e8dc3009c028b336.setIcon(icon_e47d5ff5ce419c2e051f8e96e59c5f67);\n",
       "        \n",
       "    \n",
       "        var popup_29df3cec8af0d9c0ef24136b33f2a3f6 = L.popup({&quot;maxWidth&quot;: &quot;100%&quot;});\n",
       "\n",
       "        \n",
       "            \n",
       "                var html_77c835147b993a302f9b60c4471cd251 = $(`&lt;div id=&quot;html_77c835147b993a302f9b60c4471cd251&quot; style=&quot;width: 100.0%; height: 100.0%;&quot;&gt;Lesotho: 1087969.1441 kilotonnes&lt;/div&gt;`)[0];\n",
       "                popup_29df3cec8af0d9c0ef24136b33f2a3f6.setContent(html_77c835147b993a302f9b60c4471cd251);\n",
       "            \n",
       "        \n",
       "\n",
       "        marker_2cb5e0ae0dc044f9e8dc3009c028b336.bindPopup(popup_29df3cec8af0d9c0ef24136b33f2a3f6)\n",
       "        ;\n",
       "\n",
       "        \n",
       "    \n",
       "    \n",
       "            var marker_96645323f264f7cc32e3296ac2c09c40 = L.marker(\n",
       "                [5.7499721, -9.3658524],\n",
       "                {}\n",
       "            ).addTo(map_460c590ddd81a923a88348f196bbe720);\n",
       "        \n",
       "    \n",
       "            var icon_c906c3a5b9df1e1a6b26f2da6f7b9a53 = L.AwesomeMarkers.icon(\n",
       "                {&quot;extraClasses&quot;: &quot;fa-rotate-0&quot;, &quot;icon&quot;: &quot;info-sign&quot;, &quot;iconColor&quot;: &quot;white&quot;, &quot;markerColor&quot;: &quot;orange&quot;, &quot;prefix&quot;: &quot;glyphicon&quot;}\n",
       "            );\n",
       "            marker_96645323f264f7cc32e3296ac2c09c40.setIcon(icon_c906c3a5b9df1e1a6b26f2da6f7b9a53);\n",
       "        \n",
       "    \n",
       "        var popup_df8bf718a66b7eb04747dba22b97acf9 = L.popup({&quot;maxWidth&quot;: &quot;100%&quot;});\n",
       "\n",
       "        \n",
       "            \n",
       "                var html_48ebfd2aa1308a666bcc14d82250a3a0 = $(`&lt;div id=&quot;html_48ebfd2aa1308a666bcc14d82250a3a0&quot; style=&quot;width: 100.0%; height: 100.0%;&quot;&gt;Liberia: 5222342.7472 kilotonnes&lt;/div&gt;`)[0];\n",
       "                popup_df8bf718a66b7eb04747dba22b97acf9.setContent(html_48ebfd2aa1308a666bcc14d82250a3a0);\n",
       "            \n",
       "        \n",
       "\n",
       "        marker_96645323f264f7cc32e3296ac2c09c40.bindPopup(popup_df8bf718a66b7eb04747dba22b97acf9)\n",
       "        ;\n",
       "\n",
       "        \n",
       "    \n",
       "    \n",
       "            var marker_1d07722a6844fd4071ee00f9d22177b6 = L.marker(\n",
       "                [26.8234472, 18.1236723],\n",
       "                {}\n",
       "            ).addTo(map_460c590ddd81a923a88348f196bbe720);\n",
       "        \n",
       "    \n",
       "            var icon_435949df19fad6fa18b9ba9958a515cb = L.AwesomeMarkers.icon(\n",
       "                {&quot;extraClasses&quot;: &quot;fa-rotate-0&quot;, &quot;icon&quot;: &quot;info-sign&quot;, &quot;iconColor&quot;: &quot;white&quot;, &quot;markerColor&quot;: &quot;orange&quot;, &quot;prefix&quot;: &quot;glyphicon&quot;}\n",
       "            );\n",
       "            marker_1d07722a6844fd4071ee00f9d22177b6.setIcon(icon_435949df19fad6fa18b9ba9958a515cb);\n",
       "        \n",
       "    \n",
       "        var popup_04230a2e94ee904adc7d084d86e401f2 = L.popup({&quot;maxWidth&quot;: &quot;100%&quot;});\n",
       "\n",
       "        \n",
       "            \n",
       "                var html_ef6ac552b036fead089aef57b8bf31b9 = $(`&lt;div id=&quot;html_ef6ac552b036fead089aef57b8bf31b9&quot; style=&quot;width: 100.0%; height: 100.0%;&quot;&gt;Libya: 12742747.9502 kilotonnes&lt;/div&gt;`)[0];\n",
       "                popup_04230a2e94ee904adc7d084d86e401f2.setContent(html_ef6ac552b036fead089aef57b8bf31b9);\n",
       "            \n",
       "        \n",
       "\n",
       "        marker_1d07722a6844fd4071ee00f9d22177b6.bindPopup(popup_04230a2e94ee904adc7d084d86e401f2)\n",
       "        ;\n",
       "\n",
       "        \n",
       "    \n",
       "    \n",
       "            var marker_20227f6ebe3a325ea50ff216ab50a18a = L.marker(\n",
       "                [47.1416307, 9.5531527],\n",
       "                {}\n",
       "            ).addTo(map_460c590ddd81a923a88348f196bbe720);\n",
       "        \n",
       "    \n",
       "            var icon_a0e546597af0bdc7ad7837550e61216f = L.AwesomeMarkers.icon(\n",
       "                {&quot;extraClasses&quot;: &quot;fa-rotate-0&quot;, &quot;icon&quot;: &quot;info-sign&quot;, &quot;iconColor&quot;: &quot;white&quot;, &quot;markerColor&quot;: &quot;green&quot;, &quot;prefix&quot;: &quot;glyphicon&quot;}\n",
       "            );\n",
       "            marker_20227f6ebe3a325ea50ff216ab50a18a.setIcon(icon_a0e546597af0bdc7ad7837550e61216f);\n",
       "        \n",
       "    \n",
       "        var popup_7c99919433af86cb07e17f6c2e1448e2 = L.popup({&quot;maxWidth&quot;: &quot;100%&quot;});\n",
       "\n",
       "        \n",
       "            \n",
       "                var html_fc98a66f7ab47dd3cf52836a12dca375 = $(`&lt;div id=&quot;html_fc98a66f7ab47dd3cf52836a12dca375&quot; style=&quot;width: 100.0%; height: 100.0%;&quot;&gt;Liechtenstein: 32011.2839 kilotonnes&lt;/div&gt;`)[0];\n",
       "                popup_7c99919433af86cb07e17f6c2e1448e2.setContent(html_fc98a66f7ab47dd3cf52836a12dca375);\n",
       "            \n",
       "        \n",
       "\n",
       "        marker_20227f6ebe3a325ea50ff216ab50a18a.bindPopup(popup_7c99919433af86cb07e17f6c2e1448e2)\n",
       "        ;\n",
       "\n",
       "        \n",
       "    \n",
       "    \n",
       "            var marker_e07ef952c8fb4b779b8885dfef2f0544 = L.marker(\n",
       "                [55.3500003, 23.7499997],\n",
       "                {}\n",
       "            ).addTo(map_460c590ddd81a923a88348f196bbe720);\n",
       "        \n",
       "    \n",
       "            var icon_23254ea2591af04a79fa9ec672d5838f = L.AwesomeMarkers.icon(\n",
       "                {&quot;extraClasses&quot;: &quot;fa-rotate-0&quot;, &quot;icon&quot;: &quot;info-sign&quot;, &quot;iconColor&quot;: &quot;white&quot;, &quot;markerColor&quot;: &quot;orange&quot;, &quot;prefix&quot;: &quot;glyphicon&quot;}\n",
       "            );\n",
       "            marker_e07ef952c8fb4b779b8885dfef2f0544.setIcon(icon_23254ea2591af04a79fa9ec672d5838f);\n",
       "        \n",
       "    \n",
       "        var popup_dd26292891c3781e22b732c674563183 = L.popup({&quot;maxWidth&quot;: &quot;100%&quot;});\n",
       "\n",
       "        \n",
       "            \n",
       "                var html_cbd29a735d302393326baec2233614fb = $(`&lt;div id=&quot;html_cbd29a735d302393326baec2233614fb&quot; style=&quot;width: 100.0%; height: 100.0%;&quot;&gt;Lithuania: 8378363.1575 kilotonnes&lt;/div&gt;`)[0];\n",
       "                popup_dd26292891c3781e22b732c674563183.setContent(html_cbd29a735d302393326baec2233614fb);\n",
       "            \n",
       "        \n",
       "\n",
       "        marker_e07ef952c8fb4b779b8885dfef2f0544.bindPopup(popup_dd26292891c3781e22b732c674563183)\n",
       "        ;\n",
       "\n",
       "        \n",
       "    \n",
       "    \n",
       "            var marker_e95dd752c010ad5284f80079d4bb214c = L.marker(\n",
       "                [49.6112768, 6.129799],\n",
       "                {}\n",
       "            ).addTo(map_460c590ddd81a923a88348f196bbe720);\n",
       "        \n",
       "    \n",
       "            var icon_1bf62ce12d31eec3438c12324369f44e = L.AwesomeMarkers.icon(\n",
       "                {&quot;extraClasses&quot;: &quot;fa-rotate-0&quot;, &quot;icon&quot;: &quot;info-sign&quot;, &quot;iconColor&quot;: &quot;white&quot;, &quot;markerColor&quot;: &quot;green&quot;, &quot;prefix&quot;: &quot;glyphicon&quot;}\n",
       "            );\n",
       "            marker_e95dd752c010ad5284f80079d4bb214c.setIcon(icon_1bf62ce12d31eec3438c12324369f44e);\n",
       "        \n",
       "    \n",
       "        var popup_8ad140271ecaf0034b4bfa623ba38eef = L.popup({&quot;maxWidth&quot;: &quot;100%&quot;});\n",
       "\n",
       "        \n",
       "            \n",
       "                var html_eac6c9b62db740e00b4055635011fb15 = $(`&lt;div id=&quot;html_eac6c9b62db740e00b4055635011fb15&quot; style=&quot;width: 100.0%; height: 100.0%;&quot;&gt;Luxembourg: 1760559.7803 kilotonnes&lt;/div&gt;`)[0];\n",
       "                popup_8ad140271ecaf0034b4bfa623ba38eef.setContent(html_eac6c9b62db740e00b4055635011fb15);\n",
       "            \n",
       "        \n",
       "\n",
       "        marker_e95dd752c010ad5284f80079d4bb214c.bindPopup(popup_8ad140271ecaf0034b4bfa623ba38eef)\n",
       "        ;\n",
       "\n",
       "        \n",
       "    \n",
       "    \n",
       "            var marker_2ae995de28c3576f10924e0b386d3078 = L.marker(\n",
       "                [-18.9249604, 46.4416422],\n",
       "                {}\n",
       "            ).addTo(map_460c590ddd81a923a88348f196bbe720);\n",
       "        \n",
       "    \n",
       "            var icon_239e978ff1baa75ee7b99f01b084d357 = L.AwesomeMarkers.icon(\n",
       "                {&quot;extraClasses&quot;: &quot;fa-rotate-0&quot;, &quot;icon&quot;: &quot;info-sign&quot;, &quot;iconColor&quot;: &quot;white&quot;, &quot;markerColor&quot;: &quot;orange&quot;, &quot;prefix&quot;: &quot;glyphicon&quot;}\n",
       "            );\n",
       "            marker_2ae995de28c3576f10924e0b386d3078.setIcon(icon_239e978ff1baa75ee7b99f01b084d357);\n",
       "        \n",
       "    \n",
       "        var popup_e4b484636615e32520bc19fadca6b72f = L.popup({&quot;maxWidth&quot;: &quot;100%&quot;});\n",
       "\n",
       "        \n",
       "            \n",
       "                var html_3578cfce1530c03c6789143c4d6e3318 = $(`&lt;div id=&quot;html_3578cfce1530c03c6789143c4d6e3318&quot; style=&quot;width: 100.0%; height: 100.0%;&quot;&gt;Madagascar: 17278760.1722 kilotonnes&lt;/div&gt;`)[0];\n",
       "                popup_e4b484636615e32520bc19fadca6b72f.setContent(html_3578cfce1530c03c6789143c4d6e3318);\n",
       "            \n",
       "        \n",
       "\n",
       "        marker_2ae995de28c3576f10924e0b386d3078.bindPopup(popup_e4b484636615e32520bc19fadca6b72f)\n",
       "        ;\n",
       "\n",
       "        \n",
       "    \n",
       "    \n",
       "            var marker_941cf91f9a2b12b4bfdf2e55fb56026b = L.marker(\n",
       "                [-13.2687204, 33.9301963],\n",
       "                {}\n",
       "            ).addTo(map_460c590ddd81a923a88348f196bbe720);\n",
       "        \n",
       "    \n",
       "            var icon_a0a2355627ad822ab7ffb612384ba376 = L.AwesomeMarkers.icon(\n",
       "                {&quot;extraClasses&quot;: &quot;fa-rotate-0&quot;, &quot;icon&quot;: &quot;info-sign&quot;, &quot;iconColor&quot;: &quot;white&quot;, &quot;markerColor&quot;: &quot;orange&quot;, &quot;prefix&quot;: &quot;glyphicon&quot;}\n",
       "            );\n",
       "            marker_941cf91f9a2b12b4bfdf2e55fb56026b.setIcon(icon_a0a2355627ad822ab7ffb612384ba376);\n",
       "        \n",
       "    \n",
       "        var popup_0d70d51834711dabf7d08904c4242323 = L.popup({&quot;maxWidth&quot;: &quot;100%&quot;});\n",
       "\n",
       "        \n",
       "            \n",
       "                var html_8e0135ae3b75a81dc6670f78b9807376 = $(`&lt;div id=&quot;html_8e0135ae3b75a81dc6670f78b9807376&quot; style=&quot;width: 100.0%; height: 100.0%;&quot;&gt;Malawi: 5611283.3294 kilotonnes&lt;/div&gt;`)[0];\n",
       "                popup_0d70d51834711dabf7d08904c4242323.setContent(html_8e0135ae3b75a81dc6670f78b9807376);\n",
       "            \n",
       "        \n",
       "\n",
       "        marker_941cf91f9a2b12b4bfdf2e55fb56026b.bindPopup(popup_0d70d51834711dabf7d08904c4242323)\n",
       "        ;\n",
       "\n",
       "        \n",
       "    \n",
       "    \n",
       "            var marker_b9dd369f8d779384b45a47daafb40f0c = L.marker(\n",
       "                [4.5693754, 102.2656823],\n",
       "                {}\n",
       "            ).addTo(map_460c590ddd81a923a88348f196bbe720);\n",
       "        \n",
       "    \n",
       "            var icon_9eaad28f08cf51fc3f5e6b7f3e841c2b = L.AwesomeMarkers.icon(\n",
       "                {&quot;extraClasses&quot;: &quot;fa-rotate-0&quot;, &quot;icon&quot;: &quot;info-sign&quot;, &quot;iconColor&quot;: &quot;white&quot;, &quot;markerColor&quot;: &quot;red&quot;, &quot;prefix&quot;: &quot;glyphicon&quot;}\n",
       "            );\n",
       "            marker_b9dd369f8d779384b45a47daafb40f0c.setIcon(icon_9eaad28f08cf51fc3f5e6b7f3e841c2b);\n",
       "        \n",
       "    \n",
       "        var popup_cefb50ab0621a29327c290580834c82b = L.popup({&quot;maxWidth&quot;: &quot;100%&quot;});\n",
       "\n",
       "        \n",
       "            \n",
       "                var html_240bb71fc4149cf72ac56d7023a52a9a = $(`&lt;div id=&quot;html_240bb71fc4149cf72ac56d7023a52a9a&quot; style=&quot;width: 100.0%; height: 100.0%;&quot;&gt;Malaysia: 63347886.0751 kilotonnes&lt;/div&gt;`)[0];\n",
       "                popup_cefb50ab0621a29327c290580834c82b.setContent(html_240bb71fc4149cf72ac56d7023a52a9a);\n",
       "            \n",
       "        \n",
       "\n",
       "        marker_b9dd369f8d779384b45a47daafb40f0c.bindPopup(popup_cefb50ab0621a29327c290580834c82b)\n",
       "        ;\n",
       "\n",
       "        \n",
       "    \n",
       "    \n",
       "            var marker_da938f5148817c96b63c90d0e329150e = L.marker(\n",
       "                [3.7203503, 73.2244152],\n",
       "                {}\n",
       "            ).addTo(map_460c590ddd81a923a88348f196bbe720);\n",
       "        \n",
       "    \n",
       "            var icon_bd3ba7043e7f2762d5173c6dc07b64c8 = L.AwesomeMarkers.icon(\n",
       "                {&quot;extraClasses&quot;: &quot;fa-rotate-0&quot;, &quot;icon&quot;: &quot;info-sign&quot;, &quot;iconColor&quot;: &quot;white&quot;, &quot;markerColor&quot;: &quot;green&quot;, &quot;prefix&quot;: &quot;glyphicon&quot;}\n",
       "            );\n",
       "            marker_da938f5148817c96b63c90d0e329150e.setIcon(icon_bd3ba7043e7f2762d5173c6dc07b64c8);\n",
       "        \n",
       "    \n",
       "        var popup_007b7f8a3ef3a6d97b4b893224097c32 = L.popup({&quot;maxWidth&quot;: &quot;100%&quot;});\n",
       "\n",
       "        \n",
       "            \n",
       "                var html_f1f7d272e039b8d8aee3781811bbab36 = $(`&lt;div id=&quot;html_f1f7d272e039b8d8aee3781811bbab36&quot; style=&quot;width: 100.0%; height: 100.0%;&quot;&gt;Maldives: 183306.7012 kilotonnes&lt;/div&gt;`)[0];\n",
       "                popup_007b7f8a3ef3a6d97b4b893224097c32.setContent(html_f1f7d272e039b8d8aee3781811bbab36);\n",
       "            \n",
       "        \n",
       "\n",
       "        marker_da938f5148817c96b63c90d0e329150e.bindPopup(popup_007b7f8a3ef3a6d97b4b893224097c32)\n",
       "        ;\n",
       "\n",
       "        \n",
       "    \n",
       "    \n",
       "            var marker_6b702a6baa7a7396003917a084e124e1 = L.marker(\n",
       "                [35.8885993, 14.4476911],\n",
       "                {}\n",
       "            ).addTo(map_460c590ddd81a923a88348f196bbe720);\n",
       "        \n",
       "    \n",
       "            var icon_ae092b9cb2958796a917797b53f77ced = L.AwesomeMarkers.icon(\n",
       "                {&quot;extraClasses&quot;: &quot;fa-rotate-0&quot;, &quot;icon&quot;: &quot;info-sign&quot;, &quot;iconColor&quot;: &quot;white&quot;, &quot;markerColor&quot;: &quot;green&quot;, &quot;prefix&quot;: &quot;glyphicon&quot;}\n",
       "            );\n",
       "            marker_6b702a6baa7a7396003917a084e124e1.setIcon(icon_ae092b9cb2958796a917797b53f77ced);\n",
       "        \n",
       "    \n",
       "        var popup_6235343df39dfcac8c850624e4421c27 = L.popup({&quot;maxWidth&quot;: &quot;100%&quot;});\n",
       "\n",
       "        \n",
       "            \n",
       "                var html_5169c9ea9c506eec5fe8755c022bbad9 = $(`&lt;div id=&quot;html_5169c9ea9c506eec5fe8755c022bbad9&quot; style=&quot;width: 100.0%; height: 100.0%;&quot;&gt;Malta: 461471.3407 kilotonnes&lt;/div&gt;`)[0];\n",
       "                popup_6235343df39dfcac8c850624e4421c27.setContent(html_5169c9ea9c506eec5fe8755c022bbad9);\n",
       "            \n",
       "        \n",
       "\n",
       "        marker_6b702a6baa7a7396003917a084e124e1.bindPopup(popup_6235343df39dfcac8c850624e4421c27)\n",
       "        ;\n",
       "\n",
       "        \n",
       "    \n",
       "    \n",
       "            var marker_f0fd1f957e8aa2956c04dfd7c88ba348 = L.marker(\n",
       "                [8.230816999999998, 167.7953223704529],\n",
       "                {}\n",
       "            ).addTo(map_460c590ddd81a923a88348f196bbe720);\n",
       "        \n",
       "    \n",
       "            var icon_8bf5cf4784427020e9f7ad05258542f6 = L.AwesomeMarkers.icon(\n",
       "                {&quot;extraClasses&quot;: &quot;fa-rotate-0&quot;, &quot;icon&quot;: &quot;info-sign&quot;, &quot;iconColor&quot;: &quot;white&quot;, &quot;markerColor&quot;: &quot;green&quot;, &quot;prefix&quot;: &quot;glyphicon&quot;}\n",
       "            );\n",
       "            marker_f0fd1f957e8aa2956c04dfd7c88ba348.setIcon(icon_8bf5cf4784427020e9f7ad05258542f6);\n",
       "        \n",
       "    \n",
       "        var popup_79464a37dfd82f365cb6905d55773eb6 = L.popup({&quot;maxWidth&quot;: &quot;100%&quot;});\n",
       "\n",
       "        \n",
       "            \n",
       "                var html_bc3f228674fc37e0d112e9dc63d8b90c = $(`&lt;div id=&quot;html_bc3f228674fc37e0d112e9dc63d8b90c&quot; style=&quot;width: 100.0%; height: 100.0%;&quot;&gt;Marshall Islands: 23709.083 kilotonnes&lt;/div&gt;`)[0];\n",
       "                popup_79464a37dfd82f365cb6905d55773eb6.setContent(html_bc3f228674fc37e0d112e9dc63d8b90c);\n",
       "            \n",
       "        \n",
       "\n",
       "        marker_f0fd1f957e8aa2956c04dfd7c88ba348.bindPopup(popup_79464a37dfd82f365cb6905d55773eb6)\n",
       "        ;\n",
       "\n",
       "        \n",
       "    \n",
       "    \n",
       "            var marker_9ee3da6001b050158e72216113f58e55 = L.marker(\n",
       "                [14.6113732, -60.9620777],\n",
       "                {}\n",
       "            ).addTo(map_460c590ddd81a923a88348f196bbe720);\n",
       "        \n",
       "    \n",
       "            var icon_26f1a3e26e76673180bba498bc971334 = L.AwesomeMarkers.icon(\n",
       "                {&quot;extraClasses&quot;: &quot;fa-rotate-0&quot;, &quot;icon&quot;: &quot;info-sign&quot;, &quot;iconColor&quot;: &quot;white&quot;, &quot;markerColor&quot;: &quot;lightgray&quot;, &quot;prefix&quot;: &quot;glyphicon&quot;}\n",
       "            );\n",
       "            marker_9ee3da6001b050158e72216113f58e55.setIcon(icon_26f1a3e26e76673180bba498bc971334);\n",
       "        \n",
       "    \n",
       "        var popup_8ee5e7ea23cacc7f7172d3ffa90af4d0 = L.popup({&quot;maxWidth&quot;: &quot;100%&quot;});\n",
       "\n",
       "        \n",
       "            \n",
       "                var html_76bc888ec39100ea2db5f95e0897d543 = $(`&lt;div id=&quot;html_76bc888ec39100ea2db5f95e0897d543&quot; style=&quot;width: 100.0%; height: 100.0%;&quot;&gt;Martinique: 20957.5836 kilotonnes&lt;/div&gt;`)[0];\n",
       "                popup_8ee5e7ea23cacc7f7172d3ffa90af4d0.setContent(html_76bc888ec39100ea2db5f95e0897d543);\n",
       "            \n",
       "        \n",
       "\n",
       "        marker_9ee3da6001b050158e72216113f58e55.bindPopup(popup_8ee5e7ea23cacc7f7172d3ffa90af4d0)\n",
       "        ;\n",
       "\n",
       "        \n",
       "    \n",
       "    \n",
       "            var marker_05a9765e99d14735d7533a601508d1e7 = L.marker(\n",
       "                [20.2540382, -9.2399263],\n",
       "                {}\n",
       "            ).addTo(map_460c590ddd81a923a88348f196bbe720);\n",
       "        \n",
       "    \n",
       "            var icon_c9338f0593db88cee283e63f32a151bc = L.AwesomeMarkers.icon(\n",
       "                {&quot;extraClasses&quot;: &quot;fa-rotate-0&quot;, &quot;icon&quot;: &quot;info-sign&quot;, &quot;iconColor&quot;: &quot;white&quot;, &quot;markerColor&quot;: &quot;orange&quot;, &quot;prefix&quot;: &quot;glyphicon&quot;}\n",
       "            );\n",
       "            marker_05a9765e99d14735d7533a601508d1e7.setIcon(icon_c9338f0593db88cee283e63f32a151bc);\n",
       "        \n",
       "    \n",
       "        var popup_b645d3385da54618d072f595403a27a2 = L.popup({&quot;maxWidth&quot;: &quot;100%&quot;});\n",
       "\n",
       "        \n",
       "            \n",
       "                var html_df17ed0d62a64f141d9790504da37345 = $(`&lt;div id=&quot;html_df17ed0d62a64f141d9790504da37345&quot; style=&quot;width: 100.0%; height: 100.0%;&quot;&gt;Mauritania: 4612637.2203 kilotonnes&lt;/div&gt;`)[0];\n",
       "                popup_b645d3385da54618d072f595403a27a2.setContent(html_df17ed0d62a64f141d9790504da37345);\n",
       "            \n",
       "        \n",
       "\n",
       "        marker_05a9765e99d14735d7533a601508d1e7.bindPopup(popup_b645d3385da54618d072f595403a27a2)\n",
       "        ;\n",
       "\n",
       "        \n",
       "    \n",
       "    \n",
       "            var marker_25734679d31b9559e616d2713f4920b8 = L.marker(\n",
       "                [-20.2759451, 57.5703566],\n",
       "                {}\n",
       "            ).addTo(map_460c590ddd81a923a88348f196bbe720);\n",
       "        \n",
       "    \n",
       "            var icon_e74bc0541f88246f91956125c17383d3 = L.AwesomeMarkers.icon(\n",
       "                {&quot;extraClasses&quot;: &quot;fa-rotate-0&quot;, &quot;icon&quot;: &quot;info-sign&quot;, &quot;iconColor&quot;: &quot;white&quot;, &quot;markerColor&quot;: &quot;green&quot;, &quot;prefix&quot;: &quot;glyphicon&quot;}\n",
       "            );\n",
       "            marker_25734679d31b9559e616d2713f4920b8.setIcon(icon_e74bc0541f88246f91956125c17383d3);\n",
       "        \n",
       "    \n",
       "        var popup_4f25be306316cb381244bf3f3e184a75 = L.popup({&quot;maxWidth&quot;: &quot;100%&quot;});\n",
       "\n",
       "        \n",
       "            \n",
       "                var html_bacfcda2bfe21a9411a704d238522692 = $(`&lt;div id=&quot;html_bacfcda2bfe21a9411a704d238522692&quot; style=&quot;width: 100.0%; height: 100.0%;&quot;&gt;Mauritius: 767896.2857 kilotonnes&lt;/div&gt;`)[0];\n",
       "                popup_4f25be306316cb381244bf3f3e184a75.setContent(html_bacfcda2bfe21a9411a704d238522692);\n",
       "            \n",
       "        \n",
       "\n",
       "        marker_25734679d31b9559e616d2713f4920b8.bindPopup(popup_4f25be306316cb381244bf3f3e184a75)\n",
       "        ;\n",
       "\n",
       "        \n",
       "    \n",
       "    \n",
       "            var marker_530386822155fede7c44905f6fdbee0b = L.marker(\n",
       "                [-12.823048, 45.1520755],\n",
       "                {}\n",
       "            ).addTo(map_460c590ddd81a923a88348f196bbe720);\n",
       "        \n",
       "    \n",
       "            var icon_fcbe74cb1f204c23f5abbcbba4dc2de6 = L.AwesomeMarkers.icon(\n",
       "                {&quot;extraClasses&quot;: &quot;fa-rotate-0&quot;, &quot;icon&quot;: &quot;info-sign&quot;, &quot;iconColor&quot;: &quot;white&quot;, &quot;markerColor&quot;: &quot;lightgray&quot;, &quot;prefix&quot;: &quot;glyphicon&quot;}\n",
       "            );\n",
       "            marker_530386822155fede7c44905f6fdbee0b.setIcon(icon_fcbe74cb1f204c23f5abbcbba4dc2de6);\n",
       "        \n",
       "    \n",
       "        var popup_0a711efa2744e07b929a5f8a65e39a92 = L.popup({&quot;maxWidth&quot;: &quot;100%&quot;});\n",
       "\n",
       "        \n",
       "            \n",
       "                var html_9bd6a7a5396e73fabcecb219fb86d3c7 = $(`&lt;div id=&quot;html_9bd6a7a5396e73fabcecb219fb86d3c7&quot; style=&quot;width: 100.0%; height: 100.0%;&quot;&gt;Mayotte: 8501.6804 kilotonnes&lt;/div&gt;`)[0];\n",
       "                popup_0a711efa2744e07b929a5f8a65e39a92.setContent(html_9bd6a7a5396e73fabcecb219fb86d3c7);\n",
       "            \n",
       "        \n",
       "\n",
       "        marker_530386822155fede7c44905f6fdbee0b.bindPopup(popup_0a711efa2744e07b929a5f8a65e39a92)\n",
       "        ;\n",
       "\n",
       "        \n",
       "    \n",
       "    \n",
       "            var marker_e2d4e545626e6cf6021d3ee3a77da2f6 = L.marker(\n",
       "                [-9.05, 158.75],\n",
       "                {}\n",
       "            ).addTo(map_460c590ddd81a923a88348f196bbe720);\n",
       "        \n",
       "    \n",
       "            var icon_17c6c2770a2c52df2c5a11d5b47a171f = L.AwesomeMarkers.icon(\n",
       "                {&quot;extraClasses&quot;: &quot;fa-rotate-0&quot;, &quot;icon&quot;: &quot;info-sign&quot;, &quot;iconColor&quot;: &quot;white&quot;, &quot;markerColor&quot;: &quot;orange&quot;, &quot;prefix&quot;: &quot;glyphicon&quot;}\n",
       "            );\n",
       "            marker_e2d4e545626e6cf6021d3ee3a77da2f6.setIcon(icon_17c6c2770a2c52df2c5a11d5b47a171f);\n",
       "        \n",
       "    \n",
       "        var popup_ee9cd9d7a1efac6568ead40ac06d8ddc = L.popup({&quot;maxWidth&quot;: &quot;100%&quot;});\n",
       "\n",
       "        \n",
       "            \n",
       "                var html_2847d129d187ae3a18fd1aa790d13ad6 = $(`&lt;div id=&quot;html_2847d129d187ae3a18fd1aa790d13ad6&quot; style=&quot;width: 100.0%; height: 100.0%;&quot;&gt;Melanesia: 13413196.1136 kilotonnes&lt;/div&gt;`)[0];\n",
       "                popup_ee9cd9d7a1efac6568ead40ac06d8ddc.setContent(html_2847d129d187ae3a18fd1aa790d13ad6);\n",
       "            \n",
       "        \n",
       "\n",
       "        marker_e2d4e545626e6cf6021d3ee3a77da2f6.bindPopup(popup_ee9cd9d7a1efac6568ead40ac06d8ddc)\n",
       "        ;\n",
       "\n",
       "        \n",
       "    \n",
       "    \n",
       "            var marker_922da4f21ebfb71106906cbf76e744b8 = L.marker(\n",
       "                [19.4326296, -99.1331785],\n",
       "                {}\n",
       "            ).addTo(map_460c590ddd81a923a88348f196bbe720);\n",
       "        \n",
       "    \n",
       "            var icon_0dbe88f8e03f80c696fc2743fdbacdb6 = L.AwesomeMarkers.icon(\n",
       "                {&quot;extraClasses&quot;: &quot;fa-rotate-0&quot;, &quot;icon&quot;: &quot;info-sign&quot;, &quot;iconColor&quot;: &quot;white&quot;, &quot;markerColor&quot;: &quot;darkred&quot;, &quot;prefix&quot;: &quot;glyphicon&quot;}\n",
       "            );\n",
       "            marker_922da4f21ebfb71106906cbf76e744b8.setIcon(icon_0dbe88f8e03f80c696fc2743fdbacdb6);\n",
       "        \n",
       "    \n",
       "        var popup_05b6a3ba2a77ea1103bf3d64c15b8b5d = L.popup({&quot;maxWidth&quot;: &quot;100%&quot;});\n",
       "\n",
       "        \n",
       "            \n",
       "                var html_eedb15b64feac702a04509320aecc581 = $(`&lt;div id=&quot;html_eedb15b64feac702a04509320aecc581&quot; style=&quot;width: 100.0%; height: 100.0%;&quot;&gt;Mexico: 145043513.36445 kilotonnes&lt;/div&gt;`)[0];\n",
       "                popup_05b6a3ba2a77ea1103bf3d64c15b8b5d.setContent(html_eedb15b64feac702a04509320aecc581);\n",
       "            \n",
       "        \n",
       "\n",
       "        marker_922da4f21ebfb71106906cbf76e744b8.bindPopup(popup_05b6a3ba2a77ea1103bf3d64c15b8b5d)\n",
       "        ;\n",
       "\n",
       "        \n",
       "    \n",
       "    \n",
       "            var marker_3b2783405be6c0f36c005fcf82e04aaa = L.marker(\n",
       "                [8.6062347, 151.832744331612],\n",
       "                {}\n",
       "            ).addTo(map_460c590ddd81a923a88348f196bbe720);\n",
       "        \n",
       "    \n",
       "            var icon_e0d2864164d95c8b2d803ce0c1959c34 = L.AwesomeMarkers.icon(\n",
       "                {&quot;extraClasses&quot;: &quot;fa-rotate-0&quot;, &quot;icon&quot;: &quot;info-sign&quot;, &quot;iconColor&quot;: &quot;white&quot;, &quot;markerColor&quot;: &quot;green&quot;, &quot;prefix&quot;: &quot;glyphicon&quot;}\n",
       "            );\n",
       "            marker_3b2783405be6c0f36c005fcf82e04aaa.setIcon(icon_e0d2864164d95c8b2d803ce0c1959c34);\n",
       "        \n",
       "    \n",
       "        var popup_880318a1f62d56971862b1c1a5e48dff = L.popup({&quot;maxWidth&quot;: &quot;100%&quot;});\n",
       "\n",
       "        \n",
       "            \n",
       "                var html_a2dc72a49da9bafad8293dbe8f02b4bd = $(`&lt;div id=&quot;html_a2dc72a49da9bafad8293dbe8f02b4bd&quot; style=&quot;width: 100.0%; height: 100.0%;&quot;&gt;Micronesia: 273656.6694 kilotonnes&lt;/div&gt;`)[0];\n",
       "                popup_880318a1f62d56971862b1c1a5e48dff.setContent(html_a2dc72a49da9bafad8293dbe8f02b4bd);\n",
       "            \n",
       "        \n",
       "\n",
       "        marker_3b2783405be6c0f36c005fcf82e04aaa.bindPopup(popup_880318a1f62d56971862b1c1a5e48dff)\n",
       "        ;\n",
       "\n",
       "        \n",
       "    \n",
       "    \n",
       "            var marker_41b2ed93e76ce27d32fc2ce0dc5e9899 = L.marker(\n",
       "                [8.6062347, 151.832744331612],\n",
       "                {}\n",
       "            ).addTo(map_460c590ddd81a923a88348f196bbe720);\n",
       "        \n",
       "    \n",
       "            var icon_bd619fd109201de90e8866d1def25339 = L.AwesomeMarkers.icon(\n",
       "                {&quot;extraClasses&quot;: &quot;fa-rotate-0&quot;, &quot;icon&quot;: &quot;info-sign&quot;, &quot;iconColor&quot;: &quot;white&quot;, &quot;markerColor&quot;: &quot;green&quot;, &quot;prefix&quot;: &quot;glyphicon&quot;}\n",
       "            );\n",
       "            marker_41b2ed93e76ce27d32fc2ce0dc5e9899.setIcon(icon_bd619fd109201de90e8866d1def25339);\n",
       "        \n",
       "    \n",
       "        var popup_61fbc7918f385224b0299f8c337790d3 = L.popup({&quot;maxWidth&quot;: &quot;100%&quot;});\n",
       "\n",
       "        \n",
       "            \n",
       "                var html_736aefd3cf1793feb6abd218a6f40b10 = $(`&lt;div id=&quot;html_736aefd3cf1793feb6abd218a6f40b10&quot; style=&quot;width: 100.0%; height: 100.0%;&quot;&gt;Micronesia (Federated States of): 78153.1101 kilotonnes&lt;/div&gt;`)[0];\n",
       "                popup_61fbc7918f385224b0299f8c337790d3.setContent(html_736aefd3cf1793feb6abd218a6f40b10);\n",
       "            \n",
       "        \n",
       "\n",
       "        marker_41b2ed93e76ce27d32fc2ce0dc5e9899.bindPopup(popup_61fbc7918f385224b0299f8c337790d3)\n",
       "        ;\n",
       "\n",
       "        \n",
       "    \n",
       "    \n",
       "            var marker_a840e0ef01c6c278f5ecae2cc23e3a2a = L.marker(\n",
       "                [43.7323492, 7.4276832],\n",
       "                {}\n",
       "            ).addTo(map_460c590ddd81a923a88348f196bbe720);\n",
       "        \n",
       "    \n",
       "            var icon_b1f6ca45848a660d906290f5f6a27c9b = L.AwesomeMarkers.icon(\n",
       "                {&quot;extraClasses&quot;: &quot;fa-rotate-0&quot;, &quot;icon&quot;: &quot;info-sign&quot;, &quot;iconColor&quot;: &quot;white&quot;, &quot;markerColor&quot;: &quot;lightgray&quot;, &quot;prefix&quot;: &quot;glyphicon&quot;}\n",
       "            );\n",
       "            marker_a840e0ef01c6c278f5ecae2cc23e3a2a.setIcon(icon_b1f6ca45848a660d906290f5f6a27c9b);\n",
       "        \n",
       "    \n",
       "        var popup_cf4b4a38b56d0cab52151ecf9071e7aa = L.popup({&quot;maxWidth&quot;: &quot;100%&quot;});\n",
       "\n",
       "        \n",
       "            \n",
       "                var html_709352029ba7edb847616765772dbf88 = $(`&lt;div id=&quot;html_709352029ba7edb847616765772dbf88&quot; style=&quot;width: 100.0%; height: 100.0%;&quot;&gt;Monaco: 17474.5491 kilotonnes&lt;/div&gt;`)[0];\n",
       "                popup_cf4b4a38b56d0cab52151ecf9071e7aa.setContent(html_709352029ba7edb847616765772dbf88);\n",
       "            \n",
       "        \n",
       "\n",
       "        marker_a840e0ef01c6c278f5ecae2cc23e3a2a.bindPopup(popup_cf4b4a38b56d0cab52151ecf9071e7aa)\n",
       "        ;\n",
       "\n",
       "        \n",
       "    \n",
       "    \n",
       "            var marker_cbf619e146038a52220c3b2b9b6b8113 = L.marker(\n",
       "                [46.8250388, 103.8499736],\n",
       "                {}\n",
       "            ).addTo(map_460c590ddd81a923a88348f196bbe720);\n",
       "        \n",
       "    \n",
       "            var icon_913c1261a8b839570e126c7327959442 = L.AwesomeMarkers.icon(\n",
       "                {&quot;extraClasses&quot;: &quot;fa-rotate-0&quot;, &quot;icon&quot;: &quot;info-sign&quot;, &quot;iconColor&quot;: &quot;white&quot;, &quot;markerColor&quot;: &quot;red&quot;, &quot;prefix&quot;: &quot;glyphicon&quot;}\n",
       "            );\n",
       "            marker_cbf619e146038a52220c3b2b9b6b8113.setIcon(icon_913c1261a8b839570e126c7327959442);\n",
       "        \n",
       "    \n",
       "        var popup_48aa63652f5fc73f23043add80026050 = L.popup({&quot;maxWidth&quot;: &quot;100%&quot;});\n",
       "\n",
       "        \n",
       "            \n",
       "                var html_9722a5892812c0cca5e37e6616cd21a7 = $(`&lt;div id=&quot;html_9722a5892812c0cca5e37e6616cd21a7&quot; style=&quot;width: 100.0%; height: 100.0%;&quot;&gt;Mongolia: 22557159.7802 kilotonnes&lt;/div&gt;`)[0];\n",
       "                popup_48aa63652f5fc73f23043add80026050.setContent(html_9722a5892812c0cca5e37e6616cd21a7);\n",
       "            \n",
       "        \n",
       "\n",
       "        marker_cbf619e146038a52220c3b2b9b6b8113.bindPopup(popup_48aa63652f5fc73f23043add80026050)\n",
       "        ;\n",
       "\n",
       "        \n",
       "    \n",
       "    \n",
       "            var marker_116d3afff70fbf5879d9b3b90ed8a8a0 = L.marker(\n",
       "                [16.7417041, -62.1916844],\n",
       "                {}\n",
       "            ).addTo(map_460c590ddd81a923a88348f196bbe720);\n",
       "        \n",
       "    \n",
       "            var icon_067224fa98ce5bb95ef1bf42b6c2511d = L.AwesomeMarkers.icon(\n",
       "                {&quot;extraClasses&quot;: &quot;fa-rotate-0&quot;, &quot;icon&quot;: &quot;info-sign&quot;, &quot;iconColor&quot;: &quot;white&quot;, &quot;markerColor&quot;: &quot;lightgray&quot;, &quot;prefix&quot;: &quot;glyphicon&quot;}\n",
       "            );\n",
       "            marker_116d3afff70fbf5879d9b3b90ed8a8a0.setIcon(icon_067224fa98ce5bb95ef1bf42b6c2511d);\n",
       "        \n",
       "    \n",
       "        var popup_8824f0f3a3f700624b32bb80cb7755bf = L.popup({&quot;maxWidth&quot;: &quot;100%&quot;});\n",
       "\n",
       "        \n",
       "            \n",
       "                var html_51841f15d19563550d2f9baa9474a8cf = $(`&lt;div id=&quot;html_51841f15d19563550d2f9baa9474a8cf&quot; style=&quot;width: 100.0%; height: 100.0%;&quot;&gt;Montserrat: 479.2159 kilotonnes&lt;/div&gt;`)[0];\n",
       "                popup_8824f0f3a3f700624b32bb80cb7755bf.setContent(html_51841f15d19563550d2f9baa9474a8cf);\n",
       "            \n",
       "        \n",
       "\n",
       "        marker_116d3afff70fbf5879d9b3b90ed8a8a0.bindPopup(popup_8824f0f3a3f700624b32bb80cb7755bf)\n",
       "        ;\n",
       "\n",
       "        \n",
       "    \n",
       "    \n",
       "            var marker_19dc13f3f10676c5efa81e9e035bf561 = L.marker(\n",
       "                [28.3347722, -10.371337908392647],\n",
       "                {}\n",
       "            ).addTo(map_460c590ddd81a923a88348f196bbe720);\n",
       "        \n",
       "    \n",
       "            var icon_b01a26d27a2d7fb138b227d07c2d591d = L.AwesomeMarkers.icon(\n",
       "                {&quot;extraClasses&quot;: &quot;fa-rotate-0&quot;, &quot;icon&quot;: &quot;info-sign&quot;, &quot;iconColor&quot;: &quot;white&quot;, &quot;markerColor&quot;: &quot;orange&quot;, &quot;prefix&quot;: &quot;glyphicon&quot;}\n",
       "            );\n",
       "            marker_19dc13f3f10676c5efa81e9e035bf561.setIcon(icon_b01a26d27a2d7fb138b227d07c2d591d);\n",
       "        \n",
       "    \n",
       "        var popup_b3c82101503c6ec01dab2ebfd6f448f8 = L.popup({&quot;maxWidth&quot;: &quot;100%&quot;});\n",
       "\n",
       "        \n",
       "            \n",
       "                var html_c72ea0aaed36ca32e46277e81e74bc34 = $(`&lt;div id=&quot;html_c72ea0aaed36ca32e46277e81e74bc34&quot; style=&quot;width: 100.0%; height: 100.0%;&quot;&gt;Morocco: 17521897.7823 kilotonnes&lt;/div&gt;`)[0];\n",
       "                popup_b3c82101503c6ec01dab2ebfd6f448f8.setContent(html_c72ea0aaed36ca32e46277e81e74bc34);\n",
       "            \n",
       "        \n",
       "\n",
       "        marker_19dc13f3f10676c5efa81e9e035bf561.bindPopup(popup_b3c82101503c6ec01dab2ebfd6f448f8)\n",
       "        ;\n",
       "\n",
       "        \n",
       "    \n",
       "    \n",
       "            var marker_5aa19dba7979494eac09218215ed6d73 = L.marker(\n",
       "                [-19.302233, 34.9144977],\n",
       "                {}\n",
       "            ).addTo(map_460c590ddd81a923a88348f196bbe720);\n",
       "        \n",
       "    \n",
       "            var icon_f94612494ee4064881b6afbd75120a7b = L.AwesomeMarkers.icon(\n",
       "                {&quot;extraClasses&quot;: &quot;fa-rotate-0&quot;, &quot;icon&quot;: &quot;info-sign&quot;, &quot;iconColor&quot;: &quot;white&quot;, &quot;markerColor&quot;: &quot;red&quot;, &quot;prefix&quot;: &quot;glyphicon&quot;}\n",
       "            );\n",
       "            marker_5aa19dba7979494eac09218215ed6d73.setIcon(icon_f94612494ee4064881b6afbd75120a7b);\n",
       "        \n",
       "    \n",
       "        var popup_67f5ed8bcfcd2c5492fdf15168d1288f = L.popup({&quot;maxWidth&quot;: &quot;100%&quot;});\n",
       "\n",
       "        \n",
       "            \n",
       "                var html_7604175ad5d5a2202b20505dcb04fe85 = $(`&lt;div id=&quot;html_7604175ad5d5a2202b20505dcb04fe85&quot; style=&quot;width: 100.0%; height: 100.0%;&quot;&gt;Mozambique: 30930573.94405 kilotonnes&lt;/div&gt;`)[0];\n",
       "                popup_67f5ed8bcfcd2c5492fdf15168d1288f.setContent(html_7604175ad5d5a2202b20505dcb04fe85);\n",
       "            \n",
       "        \n",
       "\n",
       "        marker_5aa19dba7979494eac09218215ed6d73.bindPopup(popup_67f5ed8bcfcd2c5492fdf15168d1288f)\n",
       "        ;\n",
       "\n",
       "        \n",
       "    \n",
       "    \n",
       "            var marker_d613807fcd2abfb05f514b91e9388aec = L.marker(\n",
       "                [17.1750495, 95.9999652],\n",
       "                {}\n",
       "            ).addTo(map_460c590ddd81a923a88348f196bbe720);\n",
       "        \n",
       "    \n",
       "            var icon_92c3a40e731452f8e2242fd128c9238b = L.AwesomeMarkers.icon(\n",
       "                {&quot;extraClasses&quot;: &quot;fa-rotate-0&quot;, &quot;icon&quot;: &quot;info-sign&quot;, &quot;iconColor&quot;: &quot;white&quot;, &quot;markerColor&quot;: &quot;red&quot;, &quot;prefix&quot;: &quot;glyphicon&quot;}\n",
       "            );\n",
       "            marker_d613807fcd2abfb05f514b91e9388aec.setIcon(icon_92c3a40e731452f8e2242fd128c9238b);\n",
       "        \n",
       "    \n",
       "        var popup_545d5bbc84f2687821393670e7a1a721 = L.popup({&quot;maxWidth&quot;: &quot;100%&quot;});\n",
       "\n",
       "        \n",
       "            \n",
       "                var html_bc26976272c209d754af7ece0d4df5f6 = $(`&lt;div id=&quot;html_bc26976272c209d754af7ece0d4df5f6&quot; style=&quot;width: 100.0%; height: 100.0%;&quot;&gt;Myanmar: 77282956.8711 kilotonnes&lt;/div&gt;`)[0];\n",
       "                popup_545d5bbc84f2687821393670e7a1a721.setContent(html_bc26976272c209d754af7ece0d4df5f6);\n",
       "            \n",
       "        \n",
       "\n",
       "        marker_d613807fcd2abfb05f514b91e9388aec.bindPopup(popup_545d5bbc84f2687821393670e7a1a721)\n",
       "        ;\n",
       "\n",
       "        \n",
       "    \n",
       "    \n",
       "            var marker_9277ea6f1b89c257e15de2c68ce4490c = L.marker(\n",
       "                [-23.2335499, 17.3231107],\n",
       "                {}\n",
       "            ).addTo(map_460c590ddd81a923a88348f196bbe720);\n",
       "        \n",
       "    \n",
       "            var icon_38e7fe495f295502d2d11f30d1e79f33 = L.AwesomeMarkers.icon(\n",
       "                {&quot;extraClasses&quot;: &quot;fa-rotate-0&quot;, &quot;icon&quot;: &quot;info-sign&quot;, &quot;iconColor&quot;: &quot;white&quot;, &quot;markerColor&quot;: &quot;orange&quot;, &quot;prefix&quot;: &quot;glyphicon&quot;}\n",
       "            );\n",
       "            marker_9277ea6f1b89c257e15de2c68ce4490c.setIcon(icon_38e7fe495f295502d2d11f30d1e79f33);\n",
       "        \n",
       "    \n",
       "        var popup_08153e5128f9fc408f4b7a7fcb680e2b = L.popup({&quot;maxWidth&quot;: &quot;100%&quot;});\n",
       "\n",
       "        \n",
       "            \n",
       "                var html_722dcc29c05738799fed6103d88a19ca = $(`&lt;div id=&quot;html_722dcc29c05738799fed6103d88a19ca&quot; style=&quot;width: 100.0%; height: 100.0%;&quot;&gt;Namibia: 8270939.14015 kilotonnes&lt;/div&gt;`)[0];\n",
       "                popup_08153e5128f9fc408f4b7a7fcb680e2b.setContent(html_722dcc29c05738799fed6103d88a19ca);\n",
       "            \n",
       "        \n",
       "\n",
       "        marker_9277ea6f1b89c257e15de2c68ce4490c.bindPopup(popup_08153e5128f9fc408f4b7a7fcb680e2b)\n",
       "        ;\n",
       "\n",
       "        \n",
       "    \n",
       "    \n",
       "            var marker_88431e0e1ba08008c98fa56873279e21 = L.marker(\n",
       "                [-0.5252306, 166.9324426],\n",
       "                {}\n",
       "            ).addTo(map_460c590ddd81a923a88348f196bbe720);\n",
       "        \n",
       "    \n",
       "            var icon_6cba8fc522715655c61fd744c30ad126 = L.AwesomeMarkers.icon(\n",
       "                {&quot;extraClasses&quot;: &quot;fa-rotate-0&quot;, &quot;icon&quot;: &quot;info-sign&quot;, &quot;iconColor&quot;: &quot;white&quot;, &quot;markerColor&quot;: &quot;lightgray&quot;, &quot;prefix&quot;: &quot;glyphicon&quot;}\n",
       "            );\n",
       "            marker_88431e0e1ba08008c98fa56873279e21.setIcon(icon_6cba8fc522715655c61fd744c30ad126);\n",
       "        \n",
       "    \n",
       "        var popup_7485f7450dc839f7d3ec5995c96360b8 = L.popup({&quot;maxWidth&quot;: &quot;100%&quot;});\n",
       "\n",
       "        \n",
       "            \n",
       "                var html_66b8082019733c01e11c97e35e05b03e = $(`&lt;div id=&quot;html_66b8082019733c01e11c97e35e05b03e&quot; style=&quot;width: 100.0%; height: 100.0%;&quot;&gt;Nauru: 10351.192000000001 kilotonnes&lt;/div&gt;`)[0];\n",
       "                popup_7485f7450dc839f7d3ec5995c96360b8.setContent(html_66b8082019733c01e11c97e35e05b03e);\n",
       "            \n",
       "        \n",
       "\n",
       "        marker_88431e0e1ba08008c98fa56873279e21.bindPopup(popup_7485f7450dc839f7d3ec5995c96360b8)\n",
       "        ;\n",
       "\n",
       "        \n",
       "    \n",
       "    \n",
       "            var marker_5b6e72fb9b0441dc024e614c5679b560 = L.marker(\n",
       "                [28.3780464, 83.9999901],\n",
       "                {}\n",
       "            ).addTo(map_460c590ddd81a923a88348f196bbe720);\n",
       "        \n",
       "    \n",
       "            var icon_3ec089ad987ebb7e00e136e93f359030 = L.AwesomeMarkers.icon(\n",
       "                {&quot;extraClasses&quot;: &quot;fa-rotate-0&quot;, &quot;icon&quot;: &quot;info-sign&quot;, &quot;iconColor&quot;: &quot;white&quot;, &quot;markerColor&quot;: &quot;orange&quot;, &quot;prefix&quot;: &quot;glyphicon&quot;}\n",
       "            );\n",
       "            marker_5b6e72fb9b0441dc024e614c5679b560.setIcon(icon_3ec089ad987ebb7e00e136e93f359030);\n",
       "        \n",
       "    \n",
       "        var popup_b2a42edffd4b8f7adb166ee1f08c052d = L.popup({&quot;maxWidth&quot;: &quot;100%&quot;});\n",
       "\n",
       "        \n",
       "            \n",
       "                var html_427142bd1601ba98a0e117687fff7f9b = $(`&lt;div id=&quot;html_427142bd1601ba98a0e117687fff7f9b&quot; style=&quot;width: 100.0%; height: 100.0%;&quot;&gt;Nepal: 13601890.7239 kilotonnes&lt;/div&gt;`)[0];\n",
       "                popup_b2a42edffd4b8f7adb166ee1f08c052d.setContent(html_427142bd1601ba98a0e117687fff7f9b);\n",
       "            \n",
       "        \n",
       "\n",
       "        marker_5b6e72fb9b0441dc024e614c5679b560.bindPopup(popup_b2a42edffd4b8f7adb166ee1f08c052d)\n",
       "        ;\n",
       "\n",
       "        \n",
       "    \n",
       "    \n",
       "            var marker_1ec9d9152a7c2fff9285fe93c242fd8a = L.marker(\n",
       "                [52.2434979, 5.6343227],\n",
       "                {}\n",
       "            ).addTo(map_460c590ddd81a923a88348f196bbe720);\n",
       "        \n",
       "    \n",
       "            var icon_d6e95b3957b283f50de8b4b55d12ad25 = L.AwesomeMarkers.icon(\n",
       "                {&quot;extraClasses&quot;: &quot;fa-rotate-0&quot;, &quot;icon&quot;: &quot;info-sign&quot;, &quot;iconColor&quot;: &quot;white&quot;, &quot;markerColor&quot;: &quot;red&quot;, &quot;prefix&quot;: &quot;glyphicon&quot;}\n",
       "            );\n",
       "            marker_1ec9d9152a7c2fff9285fe93c242fd8a.setIcon(icon_d6e95b3957b283f50de8b4b55d12ad25);\n",
       "        \n",
       "    \n",
       "        var popup_2f8d04dabf675a39daff5fb893bc6b18 = L.popup({&quot;maxWidth&quot;: &quot;100%&quot;});\n",
       "\n",
       "        \n",
       "            \n",
       "                var html_cde1e0513ce0cb6521d0891cacf62d46 = $(`&lt;div id=&quot;html_cde1e0513ce0cb6521d0891cacf62d46&quot; style=&quot;width: 100.0%; height: 100.0%;&quot;&gt;Netherlands: 43428678.1164 kilotonnes&lt;/div&gt;`)[0];\n",
       "                popup_2f8d04dabf675a39daff5fb893bc6b18.setContent(html_cde1e0513ce0cb6521d0891cacf62d46);\n",
       "            \n",
       "        \n",
       "\n",
       "        marker_1ec9d9152a7c2fff9285fe93c242fd8a.bindPopup(popup_2f8d04dabf675a39daff5fb893bc6b18)\n",
       "        ;\n",
       "\n",
       "        \n",
       "    \n",
       "    \n",
       "            var marker_8d18b85d4e492a9f6226cc4a01e2a927 = L.marker(\n",
       "                [-20.63784275, 161.21176261225781],\n",
       "                {}\n",
       "            ).addTo(map_460c590ddd81a923a88348f196bbe720);\n",
       "        \n",
       "    \n",
       "            var icon_d9f385167ad0ac5b97e7aaef4c6a0798 = L.AwesomeMarkers.icon(\n",
       "                {&quot;extraClasses&quot;: &quot;fa-rotate-0&quot;, &quot;icon&quot;: &quot;info-sign&quot;, &quot;iconColor&quot;: &quot;white&quot;, &quot;markerColor&quot;: &quot;green&quot;, &quot;prefix&quot;: &quot;glyphicon&quot;}\n",
       "            );\n",
       "            marker_8d18b85d4e492a9f6226cc4a01e2a927.setIcon(icon_d9f385167ad0ac5b97e7aaef4c6a0798);\n",
       "        \n",
       "    \n",
       "        var popup_ade7772abfda7da273984810c3c71690 = L.popup({&quot;maxWidth&quot;: &quot;100%&quot;});\n",
       "\n",
       "        \n",
       "            \n",
       "                var html_594e93a546e140e56392ac9ca4268503 = $(`&lt;div id=&quot;html_594e93a546e140e56392ac9ca4268503&quot; style=&quot;width: 100.0%; height: 100.0%;&quot;&gt;New Caledonia: 117863.0989 kilotonnes&lt;/div&gt;`)[0];\n",
       "                popup_ade7772abfda7da273984810c3c71690.setContent(html_594e93a546e140e56392ac9ca4268503);\n",
       "            \n",
       "        \n",
       "\n",
       "        marker_8d18b85d4e492a9f6226cc4a01e2a927.bindPopup(popup_ade7772abfda7da273984810c3c71690)\n",
       "        ;\n",
       "\n",
       "        \n",
       "    \n",
       "    \n",
       "            var marker_def14d6218ddfa42a7219ffba224262f = L.marker(\n",
       "                [-41.5000831, 172.8344077],\n",
       "                {}\n",
       "            ).addTo(map_460c590ddd81a923a88348f196bbe720);\n",
       "        \n",
       "    \n",
       "            var icon_aad6aed05a3e1baf55a1761f805c2c80 = L.AwesomeMarkers.icon(\n",
       "                {&quot;extraClasses&quot;: &quot;fa-rotate-0&quot;, &quot;icon&quot;: &quot;info-sign&quot;, &quot;iconColor&quot;: &quot;white&quot;, &quot;markerColor&quot;: &quot;red&quot;, &quot;prefix&quot;: &quot;glyphicon&quot;}\n",
       "            );\n",
       "            marker_def14d6218ddfa42a7219ffba224262f.setIcon(icon_aad6aed05a3e1baf55a1761f805c2c80);\n",
       "        \n",
       "    \n",
       "        var popup_0d96bb51587ad70239acaf384a0acedb = L.popup({&quot;maxWidth&quot;: &quot;100%&quot;});\n",
       "\n",
       "        \n",
       "            \n",
       "                var html_f863542f1ab7aefbe80d859bf7bf200a = $(`&lt;div id=&quot;html_f863542f1ab7aefbe80d859bf7bf200a&quot; style=&quot;width: 100.0%; height: 100.0%;&quot;&gt;New Zealand: 25558314.4117 kilotonnes&lt;/div&gt;`)[0];\n",
       "                popup_0d96bb51587ad70239acaf384a0acedb.setContent(html_f863542f1ab7aefbe80d859bf7bf200a);\n",
       "            \n",
       "        \n",
       "\n",
       "        marker_def14d6218ddfa42a7219ffba224262f.bindPopup(popup_0d96bb51587ad70239acaf384a0acedb)\n",
       "        ;\n",
       "\n",
       "        \n",
       "    \n",
       "    \n",
       "            var marker_82a5c4825113f5b07eb0c87f3406ee8e = L.marker(\n",
       "                [12.6090157, -85.2936911],\n",
       "                {}\n",
       "            ).addTo(map_460c590ddd81a923a88348f196bbe720);\n",
       "        \n",
       "    \n",
       "            var icon_5490d54c7c58a32b43a6ef1f04f0ec2c = L.AwesomeMarkers.icon(\n",
       "                {&quot;extraClasses&quot;: &quot;fa-rotate-0&quot;, &quot;icon&quot;: &quot;info-sign&quot;, &quot;iconColor&quot;: &quot;white&quot;, &quot;markerColor&quot;: &quot;orange&quot;, &quot;prefix&quot;: &quot;glyphicon&quot;}\n",
       "            );\n",
       "            marker_82a5c4825113f5b07eb0c87f3406ee8e.setIcon(icon_5490d54c7c58a32b43a6ef1f04f0ec2c);\n",
       "        \n",
       "    \n",
       "        var popup_1e2895a3324171f58319d0c6fb5e59c3 = L.popup({&quot;maxWidth&quot;: &quot;100%&quot;});\n",
       "\n",
       "        \n",
       "            \n",
       "                var html_4147e01fa4c5db23307d17f40eacb8c3 = $(`&lt;div id=&quot;html_4147e01fa4c5db23307d17f40eacb8c3&quot; style=&quot;width: 100.0%; height: 100.0%;&quot;&gt;Nicaragua: 12183299.17685 kilotonnes&lt;/div&gt;`)[0];\n",
       "                popup_1e2895a3324171f58319d0c6fb5e59c3.setContent(html_4147e01fa4c5db23307d17f40eacb8c3);\n",
       "            \n",
       "        \n",
       "\n",
       "        marker_82a5c4825113f5b07eb0c87f3406ee8e.bindPopup(popup_1e2895a3324171f58319d0c6fb5e59c3)\n",
       "        ;\n",
       "\n",
       "        \n",
       "    \n",
       "    \n",
       "            var marker_35418af4fda72c52aef600d669161df6 = L.marker(\n",
       "                [17.7356214, 9.3238432],\n",
       "                {}\n",
       "            ).addTo(map_460c590ddd81a923a88348f196bbe720);\n",
       "        \n",
       "    \n",
       "            var icon_3cf634eabfc1dff9568f002dfc95278c = L.AwesomeMarkers.icon(\n",
       "                {&quot;extraClasses&quot;: &quot;fa-rotate-0&quot;, &quot;icon&quot;: &quot;info-sign&quot;, &quot;iconColor&quot;: &quot;white&quot;, &quot;markerColor&quot;: &quot;orange&quot;, &quot;prefix&quot;: &quot;glyphicon&quot;}\n",
       "            );\n",
       "            marker_35418af4fda72c52aef600d669161df6.setIcon(icon_3cf634eabfc1dff9568f002dfc95278c);\n",
       "        \n",
       "    \n",
       "        var popup_ee1b923b1b50776f8621b2f6abe1511e = L.popup({&quot;maxWidth&quot;: &quot;100%&quot;});\n",
       "\n",
       "        \n",
       "            \n",
       "                var html_a6da6fc1232aa2144a121630fd86ef7d = $(`&lt;div id=&quot;html_a6da6fc1232aa2144a121630fd86ef7d&quot; style=&quot;width: 100.0%; height: 100.0%;&quot;&gt;Niger: 11669398.456 kilotonnes&lt;/div&gt;`)[0];\n",
       "                popup_ee1b923b1b50776f8621b2f6abe1511e.setContent(html_a6da6fc1232aa2144a121630fd86ef7d);\n",
       "            \n",
       "        \n",
       "\n",
       "        marker_35418af4fda72c52aef600d669161df6.bindPopup(popup_ee1b923b1b50776f8621b2f6abe1511e)\n",
       "        ;\n",
       "\n",
       "        \n",
       "    \n",
       "    \n",
       "            var marker_b61f2c55280144bf2c01af370dd2b43e = L.marker(\n",
       "                [9.6000359, 7.9999721],\n",
       "                {}\n",
       "            ).addTo(map_460c590ddd81a923a88348f196bbe720);\n",
       "        \n",
       "    \n",
       "            var icon_147143bceb1c924a4a63134c86350d4c = L.AwesomeMarkers.icon(\n",
       "                {&quot;extraClasses&quot;: &quot;fa-rotate-0&quot;, &quot;icon&quot;: &quot;info-sign&quot;, &quot;iconColor&quot;: &quot;white&quot;, &quot;markerColor&quot;: &quot;darkred&quot;, &quot;prefix&quot;: &quot;glyphicon&quot;}\n",
       "            );\n",
       "            marker_b61f2c55280144bf2c01af370dd2b43e.setIcon(icon_147143bceb1c924a4a63134c86350d4c);\n",
       "        \n",
       "    \n",
       "        var popup_4e7d465157eb05ca2337c7dc7e52e4de = L.popup({&quot;maxWidth&quot;: &quot;100%&quot;});\n",
       "\n",
       "        \n",
       "            \n",
       "                var html_b658a38893e47e42647a561f0df4639e = $(`&lt;div id=&quot;html_b658a38893e47e42647a561f0df4639e&quot; style=&quot;width: 100.0%; height: 100.0%;&quot;&gt;Nigeria: 92124714.6936 kilotonnes&lt;/div&gt;`)[0];\n",
       "                popup_4e7d465157eb05ca2337c7dc7e52e4de.setContent(html_b658a38893e47e42647a561f0df4639e);\n",
       "            \n",
       "        \n",
       "\n",
       "        marker_b61f2c55280144bf2c01af370dd2b43e.bindPopup(popup_4e7d465157eb05ca2337c7dc7e52e4de)\n",
       "        ;\n",
       "\n",
       "        \n",
       "    \n",
       "    \n",
       "            var marker_9787ca6efe1c55a01436dde0169a8d30 = L.marker(\n",
       "                [-19.0536414, -169.861341],\n",
       "                {}\n",
       "            ).addTo(map_460c590ddd81a923a88348f196bbe720);\n",
       "        \n",
       "    \n",
       "            var icon_3f513e7a96390bbcd4988697b7b89745 = L.AwesomeMarkers.icon(\n",
       "                {&quot;extraClasses&quot;: &quot;fa-rotate-0&quot;, &quot;icon&quot;: &quot;info-sign&quot;, &quot;iconColor&quot;: &quot;white&quot;, &quot;markerColor&quot;: &quot;lightgray&quot;, &quot;prefix&quot;: &quot;glyphicon&quot;}\n",
       "            );\n",
       "            marker_9787ca6efe1c55a01436dde0169a8d30.setIcon(icon_3f513e7a96390bbcd4988697b7b89745);\n",
       "        \n",
       "    \n",
       "        var popup_08f7b6d11f446afde01384517d1e2ae3 = L.popup({&quot;maxWidth&quot;: &quot;100%&quot;});\n",
       "\n",
       "        \n",
       "            \n",
       "                var html_0a05923acaa1d35633870502e8c28cb6 = $(`&lt;div id=&quot;html_0a05923acaa1d35633870502e8c28cb6&quot; style=&quot;width: 100.0%; height: 100.0%;&quot;&gt;Niue: 1723.92245 kilotonnes&lt;/div&gt;`)[0];\n",
       "                popup_08f7b6d11f446afde01384517d1e2ae3.setContent(html_0a05923acaa1d35633870502e8c28cb6);\n",
       "            \n",
       "        \n",
       "\n",
       "        marker_9787ca6efe1c55a01436dde0169a8d30.bindPopup(popup_08f7b6d11f446afde01384517d1e2ae3)\n",
       "        ;\n",
       "\n",
       "        \n",
       "    \n",
       "    \n",
       "            var marker_388536f35d2191730fa3d827ef81d826 = L.marker(\n",
       "                [-29.0328038, 167.9483137],\n",
       "                {}\n",
       "            ).addTo(map_460c590ddd81a923a88348f196bbe720);\n",
       "        \n",
       "    \n",
       "            var icon_9f125247a82cf19afa316862467ebfe6 = L.AwesomeMarkers.icon(\n",
       "                {&quot;extraClasses&quot;: &quot;fa-rotate-0&quot;, &quot;icon&quot;: &quot;info-sign&quot;, &quot;iconColor&quot;: &quot;white&quot;, &quot;markerColor&quot;: &quot;lightgray&quot;, &quot;prefix&quot;: &quot;glyphicon&quot;}\n",
       "            );\n",
       "            marker_388536f35d2191730fa3d827ef81d826.setIcon(icon_9f125247a82cf19afa316862467ebfe6);\n",
       "        \n",
       "    \n",
       "        var popup_bfcaaef90ab3ffa7d26fcd8c43bd9ece = L.popup({&quot;maxWidth&quot;: &quot;100%&quot;});\n",
       "\n",
       "        \n",
       "            \n",
       "                var html_362d0f231e31b482f03c5a084e480381 = $(`&lt;div id=&quot;html_362d0f231e31b482f03c5a084e480381&quot; style=&quot;width: 100.0%; height: 100.0%;&quot;&gt;Norfolk Island: 23.912 kilotonnes&lt;/div&gt;`)[0];\n",
       "                popup_bfcaaef90ab3ffa7d26fcd8c43bd9ece.setContent(html_362d0f231e31b482f03c5a084e480381);\n",
       "            \n",
       "        \n",
       "\n",
       "        marker_388536f35d2191730fa3d827ef81d826.bindPopup(popup_bfcaaef90ab3ffa7d26fcd8c43bd9ece)\n",
       "        ;\n",
       "\n",
       "        \n",
       "    \n",
       "    \n",
       "            var marker_998e8a266ab05bd485afaa0e5d2e79d5 = L.marker(\n",
       "                [41.6171214, 21.7168387],\n",
       "                {}\n",
       "            ).addTo(map_460c590ddd81a923a88348f196bbe720);\n",
       "        \n",
       "    \n",
       "            var icon_1c5f99b5a8f27673fa35b862e4d10e7a = L.AwesomeMarkers.icon(\n",
       "                {&quot;extraClasses&quot;: &quot;fa-rotate-0&quot;, &quot;icon&quot;: &quot;info-sign&quot;, &quot;iconColor&quot;: &quot;white&quot;, &quot;markerColor&quot;: &quot;green&quot;, &quot;prefix&quot;: &quot;glyphicon&quot;}\n",
       "            );\n",
       "            marker_998e8a266ab05bd485afaa0e5d2e79d5.setIcon(icon_1c5f99b5a8f27673fa35b862e4d10e7a);\n",
       "        \n",
       "    \n",
       "        var popup_0810f66f5e0c05fc339d7b54219506c6 = L.popup({&quot;maxWidth&quot;: &quot;100%&quot;});\n",
       "\n",
       "        \n",
       "            \n",
       "                var html_86e86777f04df5946fdd91b64c61de33 = $(`&lt;div id=&quot;html_86e86777f04df5946fdd91b64c61de33&quot; style=&quot;width: 100.0%; height: 100.0%;&quot;&gt;North Macedonia: 2169598.56245 kilotonnes&lt;/div&gt;`)[0];\n",
       "                popup_0810f66f5e0c05fc339d7b54219506c6.setContent(html_86e86777f04df5946fdd91b64c61de33);\n",
       "            \n",
       "        \n",
       "\n",
       "        marker_998e8a266ab05bd485afaa0e5d2e79d5.bindPopup(popup_0810f66f5e0c05fc339d7b54219506c6)\n",
       "        ;\n",
       "\n",
       "        \n",
       "    \n",
       "    \n",
       "            var marker_6ab2a6147716ade0cf72e30e3612b091 = L.marker(\n",
       "                [15.1753648, 145.7379338],\n",
       "                {}\n",
       "            ).addTo(map_460c590ddd81a923a88348f196bbe720);\n",
       "        \n",
       "    \n",
       "            var icon_5d809a63be5674b054a33f059ee27709 = L.AwesomeMarkers.icon(\n",
       "                {&quot;extraClasses&quot;: &quot;fa-rotate-0&quot;, &quot;icon&quot;: &quot;info-sign&quot;, &quot;iconColor&quot;: &quot;white&quot;, &quot;markerColor&quot;: &quot;green&quot;, &quot;prefix&quot;: &quot;glyphicon&quot;}\n",
       "            );\n",
       "            marker_6ab2a6147716ade0cf72e30e3612b091.setIcon(icon_5d809a63be5674b054a33f059ee27709);\n",
       "        \n",
       "    \n",
       "        var popup_4e9c9759aa5c82da18ce9d7fd3d7045c = L.popup({&quot;maxWidth&quot;: &quot;100%&quot;});\n",
       "\n",
       "        \n",
       "            \n",
       "                var html_82180e7abe7586ef535a35488fc5d968 = $(`&lt;div id=&quot;html_82180e7abe7586ef535a35488fc5d968&quot; style=&quot;width: 100.0%; height: 100.0%;&quot;&gt;Northern Mariana Islands: 100487.1829 kilotonnes&lt;/div&gt;`)[0];\n",
       "                popup_4e9c9759aa5c82da18ce9d7fd3d7045c.setContent(html_82180e7abe7586ef535a35488fc5d968);\n",
       "            \n",
       "        \n",
       "\n",
       "        marker_6ab2a6147716ade0cf72e30e3612b091.bindPopup(popup_4e9c9759aa5c82da18ce9d7fd3d7045c)\n",
       "        ;\n",
       "\n",
       "        \n",
       "    \n",
       "    \n",
       "            var marker_80d9787b96ef6d71d11c65ed5f816a01 = L.marker(\n",
       "                [64.5731537, 11.52803643954819],\n",
       "                {}\n",
       "            ).addTo(map_460c590ddd81a923a88348f196bbe720);\n",
       "        \n",
       "    \n",
       "            var icon_7ec7f36fe45a3cc22fc8269e125113d0 = L.AwesomeMarkers.icon(\n",
       "                {&quot;extraClasses&quot;: &quot;fa-rotate-0&quot;, &quot;icon&quot;: &quot;info-sign&quot;, &quot;iconColor&quot;: &quot;white&quot;, &quot;markerColor&quot;: &quot;orange&quot;, &quot;prefix&quot;: &quot;glyphicon&quot;}\n",
       "            );\n",
       "            marker_80d9787b96ef6d71d11c65ed5f816a01.setIcon(icon_7ec7f36fe45a3cc22fc8269e125113d0);\n",
       "        \n",
       "    \n",
       "        var popup_d9f9fcbc20ceb62dd89a8fa0dda669ca = L.popup({&quot;maxWidth&quot;: &quot;100%&quot;});\n",
       "\n",
       "        \n",
       "            \n",
       "                var html_9c36280ba4e38cfe7f2f58b9a623863b = $(`&lt;div id=&quot;html_9c36280ba4e38cfe7f2f58b9a623863b&quot; style=&quot;width: 100.0%; height: 100.0%;&quot;&gt;Norway: 15647397.4842 kilotonnes&lt;/div&gt;`)[0];\n",
       "                popup_d9f9fcbc20ceb62dd89a8fa0dda669ca.setContent(html_9c36280ba4e38cfe7f2f58b9a623863b);\n",
       "            \n",
       "        \n",
       "\n",
       "        marker_80d9787b96ef6d71d11c65ed5f816a01.bindPopup(popup_d9f9fcbc20ceb62dd89a8fa0dda669ca)\n",
       "        ;\n",
       "\n",
       "        \n",
       "    \n",
       "    \n",
       "            var marker_35a0eb832004d8b7492442fe00eae0b7 = L.marker(\n",
       "                [21.0000287, 57.0036901],\n",
       "                {}\n",
       "            ).addTo(map_460c590ddd81a923a88348f196bbe720);\n",
       "        \n",
       "    \n",
       "            var icon_97303186a9895aaf726bb9cd81f655ab = L.AwesomeMarkers.icon(\n",
       "                {&quot;extraClasses&quot;: &quot;fa-rotate-0&quot;, &quot;icon&quot;: &quot;info-sign&quot;, &quot;iconColor&quot;: &quot;white&quot;, &quot;markerColor&quot;: &quot;orange&quot;, &quot;prefix&quot;: &quot;glyphicon&quot;}\n",
       "            );\n",
       "            marker_35a0eb832004d8b7492442fe00eae0b7.setIcon(icon_97303186a9895aaf726bb9cd81f655ab);\n",
       "        \n",
       "    \n",
       "        var popup_b34888b71739293a85feeb2fb0f03075 = L.popup({&quot;maxWidth&quot;: &quot;100%&quot;});\n",
       "\n",
       "        \n",
       "            \n",
       "                var html_0ab8d0756420e84203a22a5db6ebb478 = $(`&lt;div id=&quot;html_0ab8d0756420e84203a22a5db6ebb478&quot; style=&quot;width: 100.0%; height: 100.0%;&quot;&gt;Oman: 12606491.98845 kilotonnes&lt;/div&gt;`)[0];\n",
       "                popup_b34888b71739293a85feeb2fb0f03075.setContent(html_0ab8d0756420e84203a22a5db6ebb478);\n",
       "            \n",
       "        \n",
       "\n",
       "        marker_35a0eb832004d8b7492442fe00eae0b7.bindPopup(popup_b34888b71739293a85feeb2fb0f03075)\n",
       "        ;\n",
       "\n",
       "        \n",
       "    \n",
       "    \n",
       "            var marker_09a55e8279c6fdb72b64ea84bf8e5dd8 = L.marker(\n",
       "                [30.3308401, 71.247499],\n",
       "                {}\n",
       "            ).addTo(map_460c590ddd81a923a88348f196bbe720);\n",
       "        \n",
       "    \n",
       "            var icon_86d129382240de92f49f98e200ee9dbc = L.AwesomeMarkers.icon(\n",
       "                {&quot;extraClasses&quot;: &quot;fa-rotate-0&quot;, &quot;icon&quot;: &quot;info-sign&quot;, &quot;iconColor&quot;: &quot;white&quot;, &quot;markerColor&quot;: &quot;darkred&quot;, &quot;prefix&quot;: &quot;glyphicon&quot;}\n",
       "            );\n",
       "            marker_09a55e8279c6fdb72b64ea84bf8e5dd8.setIcon(icon_86d129382240de92f49f98e200ee9dbc);\n",
       "        \n",
       "    \n",
       "        var popup_9af579d7f66b11f610bdb243499c2bb4 = L.popup({&quot;maxWidth&quot;: &quot;100%&quot;});\n",
       "\n",
       "        \n",
       "            \n",
       "                var html_29684d6c23d5f4c57c9bb9963d6f15d8 = $(`&lt;div id=&quot;html_29684d6c23d5f4c57c9bb9963d6f15d8&quot; style=&quot;width: 100.0%; height: 100.0%;&quot;&gt;Pakistan: 108967096.1821 kilotonnes&lt;/div&gt;`)[0];\n",
       "                popup_9af579d7f66b11f610bdb243499c2bb4.setContent(html_29684d6c23d5f4c57c9bb9963d6f15d8);\n",
       "            \n",
       "        \n",
       "\n",
       "        marker_09a55e8279c6fdb72b64ea84bf8e5dd8.bindPopup(popup_9af579d7f66b11f610bdb243499c2bb4)\n",
       "        ;\n",
       "\n",
       "        \n",
       "    \n",
       "    \n",
       "            var marker_6723577de166b85c8c3dcd42abe153f6 = L.marker(\n",
       "                [42.5717989, 2.9600905],\n",
       "                {}\n",
       "            ).addTo(map_460c590ddd81a923a88348f196bbe720);\n",
       "        \n",
       "    \n",
       "            var icon_b401ed255d618c43c18cafb910c71d09 = L.AwesomeMarkers.icon(\n",
       "                {&quot;extraClasses&quot;: &quot;fa-rotate-0&quot;, &quot;icon&quot;: &quot;info-sign&quot;, &quot;iconColor&quot;: &quot;white&quot;, &quot;markerColor&quot;: &quot;green&quot;, &quot;prefix&quot;: &quot;glyphicon&quot;}\n",
       "            );\n",
       "            marker_6723577de166b85c8c3dcd42abe153f6.setIcon(icon_b401ed255d618c43c18cafb910c71d09);\n",
       "        \n",
       "    \n",
       "        var popup_9b57a24b24975327373138f5c9ec9e56 = L.popup({&quot;maxWidth&quot;: &quot;100%&quot;});\n",
       "\n",
       "        \n",
       "            \n",
       "                var html_9e5cbd01b0e4201be776e5d56e221f36 = $(`&lt;div id=&quot;html_9e5cbd01b0e4201be776e5d56e221f36&quot; style=&quot;width: 100.0%; height: 100.0%;&quot;&gt;Palau: 55975.2132 kilotonnes&lt;/div&gt;`)[0];\n",
       "                popup_9b57a24b24975327373138f5c9ec9e56.setContent(html_9e5cbd01b0e4201be776e5d56e221f36);\n",
       "            \n",
       "        \n",
       "\n",
       "        marker_6723577de166b85c8c3dcd42abe153f6.bindPopup(popup_9b57a24b24975327373138f5c9ec9e56)\n",
       "        ;\n",
       "\n",
       "        \n",
       "    \n",
       "    \n",
       "            var marker_3ca4a78ff87b29520cc631dbc7c9220c = L.marker(\n",
       "                [31.7621153, -95.6307891],\n",
       "                {}\n",
       "            ).addTo(map_460c590ddd81a923a88348f196bbe720);\n",
       "        \n",
       "    \n",
       "            var icon_07e45db2c634e2c45623b2483f27cf36 = L.AwesomeMarkers.icon(\n",
       "                {&quot;extraClasses&quot;: &quot;fa-rotate-0&quot;, &quot;icon&quot;: &quot;info-sign&quot;, &quot;iconColor&quot;: &quot;white&quot;, &quot;markerColor&quot;: &quot;green&quot;, &quot;prefix&quot;: &quot;glyphicon&quot;}\n",
       "            );\n",
       "            marker_3ca4a78ff87b29520cc631dbc7c9220c.setIcon(icon_07e45db2c634e2c45623b2483f27cf36);\n",
       "        \n",
       "    \n",
       "        var popup_8e53bc6c9d2745abc49ce3ec0b348f7d = L.popup({&quot;maxWidth&quot;: &quot;100%&quot;});\n",
       "\n",
       "        \n",
       "            \n",
       "                var html_f9a5b60011bbcfdf7b6e797b12b5051f = $(`&lt;div id=&quot;html_f9a5b60011bbcfdf7b6e797b12b5051f&quot; style=&quot;width: 100.0%; height: 100.0%;&quot;&gt;Palestine: 119836.5621 kilotonnes&lt;/div&gt;`)[0];\n",
       "                popup_8e53bc6c9d2745abc49ce3ec0b348f7d.setContent(html_f9a5b60011bbcfdf7b6e797b12b5051f);\n",
       "            \n",
       "        \n",
       "\n",
       "        marker_3ca4a78ff87b29520cc631dbc7c9220c.bindPopup(popup_8e53bc6c9d2745abc49ce3ec0b348f7d)\n",
       "        ;\n",
       "\n",
       "        \n",
       "    \n",
       "    \n",
       "            var marker_932738d7619b3c87a515c7956a285b39 = L.marker(\n",
       "                [8.559559, -81.1308434],\n",
       "                {}\n",
       "            ).addTo(map_460c590ddd81a923a88348f196bbe720);\n",
       "        \n",
       "    \n",
       "            var icon_d14b821108482e13721bca2422e2b882 = L.AwesomeMarkers.icon(\n",
       "                {&quot;extraClasses&quot;: &quot;fa-rotate-0&quot;, &quot;icon&quot;: &quot;info-sign&quot;, &quot;iconColor&quot;: &quot;white&quot;, &quot;markerColor&quot;: &quot;orange&quot;, &quot;prefix&quot;: &quot;glyphicon&quot;}\n",
       "            );\n",
       "            marker_932738d7619b3c87a515c7956a285b39.setIcon(icon_d14b821108482e13721bca2422e2b882);\n",
       "        \n",
       "    \n",
       "        var popup_bac3dd59589ddfc94a49a3273e537b6e = L.popup({&quot;maxWidth&quot;: &quot;100%&quot;});\n",
       "\n",
       "        \n",
       "            \n",
       "                var html_c698a8090112c70b5dab333532af7c55 = $(`&lt;div id=&quot;html_c698a8090112c70b5dab333532af7c55&quot; style=&quot;width: 100.0%; height: 100.0%;&quot;&gt;Panama: 4878395.99475 kilotonnes&lt;/div&gt;`)[0];\n",
       "                popup_bac3dd59589ddfc94a49a3273e537b6e.setContent(html_c698a8090112c70b5dab333532af7c55);\n",
       "            \n",
       "        \n",
       "\n",
       "        marker_932738d7619b3c87a515c7956a285b39.bindPopup(popup_bac3dd59589ddfc94a49a3273e537b6e)\n",
       "        ;\n",
       "\n",
       "        \n",
       "    \n",
       "    \n",
       "            var marker_4080405a6dbdff4e56b9124f4e3f47a0 = L.marker(\n",
       "                [-5.6816069, 144.2489081],\n",
       "                {}\n",
       "            ).addTo(map_460c590ddd81a923a88348f196bbe720);\n",
       "        \n",
       "    \n",
       "            var icon_7eb86ca650562bddf4abd43d9ecb4fc8 = L.AwesomeMarkers.icon(\n",
       "                {&quot;extraClasses&quot;: &quot;fa-rotate-0&quot;, &quot;icon&quot;: &quot;info-sign&quot;, &quot;iconColor&quot;: &quot;white&quot;, &quot;markerColor&quot;: &quot;orange&quot;, &quot;prefix&quot;: &quot;glyphicon&quot;}\n",
       "            );\n",
       "            marker_4080405a6dbdff4e56b9124f4e3f47a0.setIcon(icon_7eb86ca650562bddf4abd43d9ecb4fc8);\n",
       "        \n",
       "    \n",
       "        var popup_89f07ff94138abce224364ee42e0e436 = L.popup({&quot;maxWidth&quot;: &quot;100%&quot;});\n",
       "\n",
       "        \n",
       "            \n",
       "                var html_1839ba92df81e6ab324b85bd55a43153 = $(`&lt;div id=&quot;html_1839ba92df81e6ab324b85bd55a43153&quot; style=&quot;width: 100.0%; height: 100.0%;&quot;&gt;Papua New Guinea: 13008862.48155 kilotonnes&lt;/div&gt;`)[0];\n",
       "                popup_89f07ff94138abce224364ee42e0e436.setContent(html_1839ba92df81e6ab324b85bd55a43153);\n",
       "            \n",
       "        \n",
       "\n",
       "        marker_4080405a6dbdff4e56b9124f4e3f47a0.bindPopup(popup_89f07ff94138abce224364ee42e0e436)\n",
       "        ;\n",
       "\n",
       "        \n",
       "    \n",
       "    \n",
       "            var marker_d911aec55bde79f282d7ac1259e3abf9 = L.marker(\n",
       "                [-23.3165935, -58.1693445],\n",
       "                {}\n",
       "            ).addTo(map_460c590ddd81a923a88348f196bbe720);\n",
       "        \n",
       "    \n",
       "            var icon_ab9865a0049ac99ce95da0db7c0524ad = L.AwesomeMarkers.icon(\n",
       "                {&quot;extraClasses&quot;: &quot;fa-rotate-0&quot;, &quot;icon&quot;: &quot;info-sign&quot;, &quot;iconColor&quot;: &quot;white&quot;, &quot;markerColor&quot;: &quot;red&quot;, &quot;prefix&quot;: &quot;glyphicon&quot;}\n",
       "            );\n",
       "            marker_d911aec55bde79f282d7ac1259e3abf9.setIcon(icon_ab9865a0049ac99ce95da0db7c0524ad);\n",
       "        \n",
       "    \n",
       "        var popup_9e204234e9e482f41c4e20bb730dbb2a = L.popup({&quot;maxWidth&quot;: &quot;100%&quot;});\n",
       "\n",
       "        \n",
       "            \n",
       "                var html_8972779980aa77820f7f00c808ee9c21 = $(`&lt;div id=&quot;html_8972779980aa77820f7f00c808ee9c21&quot; style=&quot;width: 100.0%; height: 100.0%;&quot;&gt;Paraguay: 35118496.47975 kilotonnes&lt;/div&gt;`)[0];\n",
       "                popup_9e204234e9e482f41c4e20bb730dbb2a.setContent(html_8972779980aa77820f7f00c808ee9c21);\n",
       "            \n",
       "        \n",
       "\n",
       "        marker_d911aec55bde79f282d7ac1259e3abf9.bindPopup(popup_9e204234e9e482f41c4e20bb730dbb2a)\n",
       "        ;\n",
       "\n",
       "        \n",
       "    \n",
       "    \n",
       "            var marker_4ad0d9e92bf817168ea4cba5ec70db6d = L.marker(\n",
       "                [-6.8699697, -75.0458515],\n",
       "                {}\n",
       "            ).addTo(map_460c590ddd81a923a88348f196bbe720);\n",
       "        \n",
       "    \n",
       "            var icon_608d2fa736dd1cfbb9b1ad1e4ce17f36 = L.AwesomeMarkers.icon(\n",
       "                {&quot;extraClasses&quot;: &quot;fa-rotate-0&quot;, &quot;icon&quot;: &quot;info-sign&quot;, &quot;iconColor&quot;: &quot;white&quot;, &quot;markerColor&quot;: &quot;red&quot;, &quot;prefix&quot;: &quot;glyphicon&quot;}\n",
       "            );\n",
       "            marker_4ad0d9e92bf817168ea4cba5ec70db6d.setIcon(icon_608d2fa736dd1cfbb9b1ad1e4ce17f36);\n",
       "        \n",
       "    \n",
       "        var popup_5293074768f6746810845c3be7d1ed57 = L.popup({&quot;maxWidth&quot;: &quot;100%&quot;});\n",
       "\n",
       "        \n",
       "            \n",
       "                var html_c933711bca278dedcf139b270e382c16 = $(`&lt;div id=&quot;html_c933711bca278dedcf139b270e382c16&quot; style=&quot;width: 100.0%; height: 100.0%;&quot;&gt;Peru: 47903209.56365 kilotonnes&lt;/div&gt;`)[0];\n",
       "                popup_5293074768f6746810845c3be7d1ed57.setContent(html_c933711bca278dedcf139b270e382c16);\n",
       "            \n",
       "        \n",
       "\n",
       "        marker_4ad0d9e92bf817168ea4cba5ec70db6d.bindPopup(popup_5293074768f6746810845c3be7d1ed57)\n",
       "        ;\n",
       "\n",
       "        \n",
       "    \n",
       "    \n",
       "            var marker_40f4b367ec13518ad73de94a9b2b9d40 = L.marker(\n",
       "                [12.7503486, 122.7312101],\n",
       "                {}\n",
       "            ).addTo(map_460c590ddd81a923a88348f196bbe720);\n",
       "        \n",
       "    \n",
       "            var icon_e34866098044a4eb174aacff4c121940 = L.AwesomeMarkers.icon(\n",
       "                {&quot;extraClasses&quot;: &quot;fa-rotate-0&quot;, &quot;icon&quot;: &quot;info-sign&quot;, &quot;iconColor&quot;: &quot;white&quot;, &quot;markerColor&quot;: &quot;red&quot;, &quot;prefix&quot;: &quot;glyphicon&quot;}\n",
       "            );\n",
       "            marker_40f4b367ec13518ad73de94a9b2b9d40.setIcon(icon_e34866098044a4eb174aacff4c121940);\n",
       "        \n",
       "    \n",
       "        var popup_95440dc9f48cce4d57c3dba9aae5d12a = L.popup({&quot;maxWidth&quot;: &quot;100%&quot;});\n",
       "\n",
       "        \n",
       "            \n",
       "                var html_d4e9d090df82f7f051c88fc274983cee = $(`&lt;div id=&quot;html_d4e9d090df82f7f051c88fc274983cee&quot; style=&quot;width: 100.0%; height: 100.0%;&quot;&gt;Philippines: 47019020.73005 kilotonnes&lt;/div&gt;`)[0];\n",
       "                popup_95440dc9f48cce4d57c3dba9aae5d12a.setContent(html_d4e9d090df82f7f051c88fc274983cee);\n",
       "            \n",
       "        \n",
       "\n",
       "        marker_40f4b367ec13518ad73de94a9b2b9d40.bindPopup(popup_95440dc9f48cce4d57c3dba9aae5d12a)\n",
       "        ;\n",
       "\n",
       "        \n",
       "    \n",
       "    \n",
       "            var marker_ef502d91db91b935065b48268b8e2657 = L.marker(\n",
       "                [52.215933, 19.134422],\n",
       "                {}\n",
       "            ).addTo(map_460c590ddd81a923a88348f196bbe720);\n",
       "        \n",
       "    \n",
       "            var icon_a6d98482bf4415f5917351cd395e5789 = L.AwesomeMarkers.icon(\n",
       "                {&quot;extraClasses&quot;: &quot;fa-rotate-0&quot;, &quot;icon&quot;: &quot;info-sign&quot;, &quot;iconColor&quot;: &quot;white&quot;, &quot;markerColor&quot;: &quot;red&quot;, &quot;prefix&quot;: &quot;glyphicon&quot;}\n",
       "            );\n",
       "            marker_ef502d91db91b935065b48268b8e2657.setIcon(icon_a6d98482bf4415f5917351cd395e5789);\n",
       "        \n",
       "    \n",
       "        var popup_98b1be17e9b3786a321ad87bbad7463e = L.popup({&quot;maxWidth&quot;: &quot;100%&quot;});\n",
       "\n",
       "        \n",
       "            \n",
       "                var html_3a0e550400e35e4079f70cf642b979e6 = $(`&lt;div id=&quot;html_3a0e550400e35e4079f70cf642b979e6&quot; style=&quot;width: 100.0%; height: 100.0%;&quot;&gt;Poland: 79513648.8876 kilotonnes&lt;/div&gt;`)[0];\n",
       "                popup_98b1be17e9b3786a321ad87bbad7463e.setContent(html_3a0e550400e35e4079f70cf642b979e6);\n",
       "            \n",
       "        \n",
       "\n",
       "        marker_ef502d91db91b935065b48268b8e2657.bindPopup(popup_98b1be17e9b3786a321ad87bbad7463e)\n",
       "        ;\n",
       "\n",
       "        \n",
       "    \n",
       "    \n",
       "            var marker_8a91be4df570587ff83616575366a9ec = L.marker(\n",
       "                [-16.31, -151.81],\n",
       "                {}\n",
       "            ).addTo(map_460c590ddd81a923a88348f196bbe720);\n",
       "        \n",
       "    \n",
       "            var icon_2ba5b88ec6b98735e6f704aee3f1c3ad = L.AwesomeMarkers.icon(\n",
       "                {&quot;extraClasses&quot;: &quot;fa-rotate-0&quot;, &quot;icon&quot;: &quot;info-sign&quot;, &quot;iconColor&quot;: &quot;white&quot;, &quot;markerColor&quot;: &quot;green&quot;, &quot;prefix&quot;: &quot;glyphicon&quot;}\n",
       "            );\n",
       "            marker_8a91be4df570587ff83616575366a9ec.setIcon(icon_2ba5b88ec6b98735e6f704aee3f1c3ad);\n",
       "        \n",
       "    \n",
       "        var popup_9f573fa153c2a74404108d2e2e20a7d8 = L.popup({&quot;maxWidth&quot;: &quot;100%&quot;});\n",
       "\n",
       "        \n",
       "            \n",
       "                var html_35f2178263391360b909a9d7a979eb62 = $(`&lt;div id=&quot;html_35f2178263391360b909a9d7a979eb62&quot; style=&quot;width: 100.0%; height: 100.0%;&quot;&gt;Polynesia: 233508.058 kilotonnes&lt;/div&gt;`)[0];\n",
       "                popup_9f573fa153c2a74404108d2e2e20a7d8.setContent(html_35f2178263391360b909a9d7a979eb62);\n",
       "            \n",
       "        \n",
       "\n",
       "        marker_8a91be4df570587ff83616575366a9ec.bindPopup(popup_9f573fa153c2a74404108d2e2e20a7d8)\n",
       "        ;\n",
       "\n",
       "        \n",
       "    \n",
       "    \n",
       "            var marker_5149d04ab6e13cc80caf6012ff556cf2 = L.marker(\n",
       "                [39.6621648, -8.1353519],\n",
       "                {}\n",
       "            ).addTo(map_460c590ddd81a923a88348f196bbe720);\n",
       "        \n",
       "    \n",
       "            var icon_a29cea7e0a11238740895fe4252de641 = L.AwesomeMarkers.icon(\n",
       "                {&quot;extraClasses&quot;: &quot;fa-rotate-0&quot;, &quot;icon&quot;: &quot;info-sign&quot;, &quot;iconColor&quot;: &quot;white&quot;, &quot;markerColor&quot;: &quot;orange&quot;, &quot;prefix&quot;: &quot;glyphicon&quot;}\n",
       "            );\n",
       "            marker_5149d04ab6e13cc80caf6012ff556cf2.setIcon(icon_a29cea7e0a11238740895fe4252de641);\n",
       "        \n",
       "    \n",
       "        var popup_88930254e4dfacdc97403a802de5cf81 = L.popup({&quot;maxWidth&quot;: &quot;100%&quot;});\n",
       "\n",
       "        \n",
       "            \n",
       "                var html_c8c0d17502280f59f5b96c9d84ae38e6 = $(`&lt;div id=&quot;html_c8c0d17502280f59f5b96c9d84ae38e6&quot; style=&quot;width: 100.0%; height: 100.0%;&quot;&gt;Portugal: 14595393.4029 kilotonnes&lt;/div&gt;`)[0];\n",
       "                popup_88930254e4dfacdc97403a802de5cf81.setContent(html_c8c0d17502280f59f5b96c9d84ae38e6);\n",
       "            \n",
       "        \n",
       "\n",
       "        marker_5149d04ab6e13cc80caf6012ff556cf2.bindPopup(popup_88930254e4dfacdc97403a802de5cf81)\n",
       "        ;\n",
       "\n",
       "        \n",
       "    \n",
       "    \n",
       "            var marker_3f06a2a5aa3594af4c4faa1dd2fed1a6 = L.marker(\n",
       "                [18.2247706, -66.4858295],\n",
       "                {}\n",
       "            ).addTo(map_460c590ddd81a923a88348f196bbe720);\n",
       "        \n",
       "    \n",
       "            var icon_5ee38b9a8d22b9cbc7d0116e4037221f = L.AwesomeMarkers.icon(\n",
       "                {&quot;extraClasses&quot;: &quot;fa-rotate-0&quot;, &quot;icon&quot;: &quot;info-sign&quot;, &quot;iconColor&quot;: &quot;white&quot;, &quot;markerColor&quot;: &quot;green&quot;, &quot;prefix&quot;: &quot;glyphicon&quot;}\n",
       "            );\n",
       "            marker_3f06a2a5aa3594af4c4faa1dd2fed1a6.setIcon(icon_5ee38b9a8d22b9cbc7d0116e4037221f);\n",
       "        \n",
       "    \n",
       "        var popup_123ebb791c01f929045f8c82b47b61e0 = L.popup({&quot;maxWidth&quot;: &quot;100%&quot;});\n",
       "\n",
       "        \n",
       "            \n",
       "                var html_98b52486c65d412112376827d8170fed = $(`&lt;div id=&quot;html_98b52486c65d412112376827d8170fed&quot; style=&quot;width: 100.0%; height: 100.0%;&quot;&gt;Puerto Rico: 424039.32 kilotonnes&lt;/div&gt;`)[0];\n",
       "                popup_123ebb791c01f929045f8c82b47b61e0.setContent(html_98b52486c65d412112376827d8170fed);\n",
       "            \n",
       "        \n",
       "\n",
       "        marker_3f06a2a5aa3594af4c4faa1dd2fed1a6.bindPopup(popup_123ebb791c01f929045f8c82b47b61e0)\n",
       "        ;\n",
       "\n",
       "        \n",
       "    \n",
       "    \n",
       "            var marker_42e64719d4c9ec06d6c5770a2ccbeddb = L.marker(\n",
       "                [25.3336984, 51.2295295],\n",
       "                {}\n",
       "            ).addTo(map_460c590ddd81a923a88348f196bbe720);\n",
       "        \n",
       "    \n",
       "            var icon_c5a3d74665e929058730aec33dd979de = L.AwesomeMarkers.icon(\n",
       "                {&quot;extraClasses&quot;: &quot;fa-rotate-0&quot;, &quot;icon&quot;: &quot;info-sign&quot;, &quot;iconColor&quot;: &quot;white&quot;, &quot;markerColor&quot;: &quot;red&quot;, &quot;prefix&quot;: &quot;glyphicon&quot;}\n",
       "            );\n",
       "            marker_42e64719d4c9ec06d6c5770a2ccbeddb.setIcon(icon_c5a3d74665e929058730aec33dd979de);\n",
       "        \n",
       "    \n",
       "        var popup_742533df7fefd17c6b70f314c7e6039f = L.popup({&quot;maxWidth&quot;: &quot;100%&quot;});\n",
       "\n",
       "        \n",
       "            \n",
       "                var html_2bc8e1f1161032096abfe304214494da = $(`&lt;div id=&quot;html_2bc8e1f1161032096abfe304214494da&quot; style=&quot;width: 100.0%; height: 100.0%;&quot;&gt;Qatar: 20151009.15085 kilotonnes&lt;/div&gt;`)[0];\n",
       "                popup_742533df7fefd17c6b70f314c7e6039f.setContent(html_2bc8e1f1161032096abfe304214494da);\n",
       "            \n",
       "        \n",
       "\n",
       "        marker_42e64719d4c9ec06d6c5770a2ccbeddb.bindPopup(popup_742533df7fefd17c6b70f314c7e6039f)\n",
       "        ;\n",
       "\n",
       "        \n",
       "    \n",
       "    \n",
       "            var marker_e1f5acce182a80d78b6d3a39c644fb33 = L.marker(\n",
       "                [35.5360533, 139.6870153],\n",
       "                {}\n",
       "            ).addTo(map_460c590ddd81a923a88348f196bbe720);\n",
       "        \n",
       "    \n",
       "            var icon_fd8033b4c9e7f00b89d36ad7af7667a4 = L.AwesomeMarkers.icon(\n",
       "                {&quot;extraClasses&quot;: &quot;fa-rotate-0&quot;, &quot;icon&quot;: &quot;info-sign&quot;, &quot;iconColor&quot;: &quot;white&quot;, &quot;markerColor&quot;: &quot;green&quot;, &quot;prefix&quot;: &quot;glyphicon&quot;}\n",
       "            );\n",
       "            marker_e1f5acce182a80d78b6d3a39c644fb33.setIcon(icon_fd8033b4c9e7f00b89d36ad7af7667a4);\n",
       "        \n",
       "    \n",
       "        var popup_1cc87d08be43e966b90dce304d95ad00 = L.popup({&quot;maxWidth&quot;: &quot;100%&quot;});\n",
       "\n",
       "        \n",
       "            \n",
       "                var html_128bed53a61a0a4964f6d35363308a19 = $(`&lt;div id=&quot;html_128bed53a61a0a4964f6d35363308a19&quot; style=&quot;width: 100.0%; height: 100.0%;&quot;&gt;R?nion: 67855.4752 kilotonnes&lt;/div&gt;`)[0];\n",
       "                popup_1cc87d08be43e966b90dce304d95ad00.setContent(html_128bed53a61a0a4964f6d35363308a19);\n",
       "            \n",
       "        \n",
       "\n",
       "        marker_e1f5acce182a80d78b6d3a39c644fb33.bindPopup(popup_1cc87d08be43e966b90dce304d95ad00)\n",
       "        ;\n",
       "\n",
       "        \n",
       "    \n",
       "    \n",
       "            var marker_395f651283a7197f81f5e7bbc2ab314f = L.marker(\n",
       "                [36.638392, 127.6961188],\n",
       "                {}\n",
       "            ).addTo(map_460c590ddd81a923a88348f196bbe720);\n",
       "        \n",
       "    \n",
       "            var icon_6ba36b8d5a617afeefe52092efb9dceb = L.AwesomeMarkers.icon(\n",
       "                {&quot;extraClasses&quot;: &quot;fa-rotate-0&quot;, &quot;icon&quot;: &quot;info-sign&quot;, &quot;iconColor&quot;: &quot;white&quot;, &quot;markerColor&quot;: &quot;darkred&quot;, &quot;prefix&quot;: &quot;glyphicon&quot;}\n",
       "            );\n",
       "            marker_395f651283a7197f81f5e7bbc2ab314f.setIcon(icon_6ba36b8d5a617afeefe52092efb9dceb);\n",
       "        \n",
       "    \n",
       "        var popup_84e814890fd4828a64e68bf9366b57d9 = L.popup({&quot;maxWidth&quot;: &quot;100%&quot;});\n",
       "\n",
       "        \n",
       "            \n",
       "                var html_da05d8f2b9f525c57204f5aff16d9eae = $(`&lt;div id=&quot;html_da05d8f2b9f525c57204f5aff16d9eae&quot; style=&quot;width: 100.0%; height: 100.0%;&quot;&gt;Republic of Korea: 91003430.03055 kilotonnes&lt;/div&gt;`)[0];\n",
       "                popup_84e814890fd4828a64e68bf9366b57d9.setContent(html_da05d8f2b9f525c57204f5aff16d9eae);\n",
       "            \n",
       "        \n",
       "\n",
       "        marker_395f651283a7197f81f5e7bbc2ab314f.bindPopup(popup_84e814890fd4828a64e68bf9366b57d9)\n",
       "        ;\n",
       "\n",
       "        \n",
       "    \n",
       "    \n",
       "            var marker_4f270a7341b724098d20076ceaa974c7 = L.marker(\n",
       "                [47.2879608, 28.5670941],\n",
       "                {}\n",
       "            ).addTo(map_460c590ddd81a923a88348f196bbe720);\n",
       "        \n",
       "    \n",
       "            var icon_6182428dec2ac7d5cc6a9e56a79dd890 = L.AwesomeMarkers.icon(\n",
       "                {&quot;extraClasses&quot;: &quot;fa-rotate-0&quot;, &quot;icon&quot;: &quot;info-sign&quot;, &quot;iconColor&quot;: &quot;white&quot;, &quot;markerColor&quot;: &quot;green&quot;, &quot;prefix&quot;: &quot;glyphicon&quot;}\n",
       "            );\n",
       "            marker_4f270a7341b724098d20076ceaa974c7.setIcon(icon_6182428dec2ac7d5cc6a9e56a79dd890);\n",
       "        \n",
       "    \n",
       "        var popup_bfe90bf4ec53fdd3614f078a51591cfe = L.popup({&quot;maxWidth&quot;: &quot;100%&quot;});\n",
       "\n",
       "        \n",
       "            \n",
       "                var html_fa36652c1d7a0a68c18c94c81e886a9b = $(`&lt;div id=&quot;html_fa36652c1d7a0a68c18c94c81e886a9b&quot; style=&quot;width: 100.0%; height: 100.0%;&quot;&gt;Republic of Moldova: 2082875.73775 kilotonnes&lt;/div&gt;`)[0];\n",
       "                popup_bfe90bf4ec53fdd3614f078a51591cfe.setContent(html_fa36652c1d7a0a68c18c94c81e886a9b);\n",
       "            \n",
       "        \n",
       "\n",
       "        marker_4f270a7341b724098d20076ceaa974c7.bindPopup(popup_bfe90bf4ec53fdd3614f078a51591cfe)\n",
       "        ;\n",
       "\n",
       "        \n",
       "    \n",
       "    \n",
       "            var marker_e58ac85c5f5047f79c54c9e241a08112 = L.marker(\n",
       "                [45.9852129, 24.6859225],\n",
       "                {}\n",
       "            ).addTo(map_460c590ddd81a923a88348f196bbe720);\n",
       "        \n",
       "    \n",
       "            var icon_1311cac25d861b7e207abccc32aae986 = L.AwesomeMarkers.icon(\n",
       "                {&quot;extraClasses&quot;: &quot;fa-rotate-0&quot;, &quot;icon&quot;: &quot;info-sign&quot;, &quot;iconColor&quot;: &quot;white&quot;, &quot;markerColor&quot;: &quot;red&quot;, &quot;prefix&quot;: &quot;glyphicon&quot;}\n",
       "            );\n",
       "            marker_e58ac85c5f5047f79c54c9e241a08112.setIcon(icon_1311cac25d861b7e207abccc32aae986);\n",
       "        \n",
       "    \n",
       "        var popup_f5de912c6d57a5a4cde847b8fb890441 = L.popup({&quot;maxWidth&quot;: &quot;100%&quot;});\n",
       "\n",
       "        \n",
       "            \n",
       "                var html_ec5d510e1d4fac2bc46b737f27763a62 = $(`&lt;div id=&quot;html_ec5d510e1d4fac2bc46b737f27763a62&quot; style=&quot;width: 100.0%; height: 100.0%;&quot;&gt;Romania: 22189312.6883 kilotonnes&lt;/div&gt;`)[0];\n",
       "                popup_f5de912c6d57a5a4cde847b8fb890441.setContent(html_ec5d510e1d4fac2bc46b737f27763a62);\n",
       "            \n",
       "        \n",
       "\n",
       "        marker_e58ac85c5f5047f79c54c9e241a08112.bindPopup(popup_f5de912c6d57a5a4cde847b8fb890441)\n",
       "        ;\n",
       "\n",
       "        \n",
       "    \n",
       "    \n",
       "            var marker_1677920acb3ccaba3d4f7b744d63f129 = L.marker(\n",
       "                [64.6863136, 97.7453061],\n",
       "                {}\n",
       "            ).addTo(map_460c590ddd81a923a88348f196bbe720);\n",
       "        \n",
       "    \n",
       "            var icon_6a8ff3cc7184691285c9cd84519eedb7 = L.AwesomeMarkers.icon(\n",
       "                {&quot;extraClasses&quot;: &quot;fa-rotate-0&quot;, &quot;icon&quot;: &quot;info-sign&quot;, &quot;iconColor&quot;: &quot;white&quot;, &quot;markerColor&quot;: &quot;darkred&quot;, &quot;prefix&quot;: &quot;glyphicon&quot;}\n",
       "            );\n",
       "            marker_1677920acb3ccaba3d4f7b744d63f129.setIcon(icon_6a8ff3cc7184691285c9cd84519eedb7);\n",
       "        \n",
       "    \n",
       "        var popup_1f4938cfce8019ac083f97c7bf904f0c = L.popup({&quot;maxWidth&quot;: &quot;100%&quot;});\n",
       "\n",
       "        \n",
       "            \n",
       "                var html_e517b2c893266425ae455a1b45a781d9 = $(`&lt;div id=&quot;html_e517b2c893266425ae455a1b45a781d9&quot; style=&quot;width: 100.0%; height: 100.0%;&quot;&gt;Russian Federation: 358007773.4801 kilotonnes&lt;/div&gt;`)[0];\n",
       "                popup_1f4938cfce8019ac083f97c7bf904f0c.setContent(html_e517b2c893266425ae455a1b45a781d9);\n",
       "            \n",
       "        \n",
       "\n",
       "        marker_1677920acb3ccaba3d4f7b744d63f129.bindPopup(popup_1f4938cfce8019ac083f97c7bf904f0c)\n",
       "        ;\n",
       "\n",
       "        \n",
       "    \n",
       "    \n",
       "            var marker_e1c96a5e9cfaaaacd8f33180df7e9244 = L.marker(\n",
       "                [-1.9646631, 30.0644358],\n",
       "                {}\n",
       "            ).addTo(map_460c590ddd81a923a88348f196bbe720);\n",
       "        \n",
       "    \n",
       "            var icon_af41f1f36ee51416f9f3d31fb93d3bd1 = L.AwesomeMarkers.icon(\n",
       "                {&quot;extraClasses&quot;: &quot;fa-rotate-0&quot;, &quot;icon&quot;: &quot;info-sign&quot;, &quot;iconColor&quot;: &quot;white&quot;, &quot;markerColor&quot;: &quot;green&quot;, &quot;prefix&quot;: &quot;glyphicon&quot;}\n",
       "            );\n",
       "            marker_e1c96a5e9cfaaaacd8f33180df7e9244.setIcon(icon_af41f1f36ee51416f9f3d31fb93d3bd1);\n",
       "        \n",
       "    \n",
       "        var popup_5bd0a15c1e99f85cc24658307c0965dc = L.popup({&quot;maxWidth&quot;: &quot;100%&quot;});\n",
       "\n",
       "        \n",
       "            \n",
       "                var html_2a822d184cd0cb32c49261bca56d251e = $(`&lt;div id=&quot;html_2a822d184cd0cb32c49261bca56d251e&quot; style=&quot;width: 100.0%; height: 100.0%;&quot;&gt;Rwanda: 2737697.26655 kilotonnes&lt;/div&gt;`)[0];\n",
       "                popup_5bd0a15c1e99f85cc24658307c0965dc.setContent(html_2a822d184cd0cb32c49261bca56d251e);\n",
       "            \n",
       "        \n",
       "\n",
       "        marker_e1c96a5e9cfaaaacd8f33180df7e9244.bindPopup(popup_5bd0a15c1e99f85cc24658307c0965dc)\n",
       "        ;\n",
       "\n",
       "        \n",
       "    \n",
       "    \n",
       "            var marker_13524d328f45b65c429ea75bac95fe10 = L.marker(\n",
       "                [-15.9690718, -5.71295],\n",
       "                {}\n",
       "            ).addTo(map_460c590ddd81a923a88348f196bbe720);\n",
       "        \n",
       "    \n",
       "            var icon_5e133a8f170ce2cb6088c29b5650962d = L.AwesomeMarkers.icon(\n",
       "                {&quot;extraClasses&quot;: &quot;fa-rotate-0&quot;, &quot;icon&quot;: &quot;info-sign&quot;, &quot;iconColor&quot;: &quot;white&quot;, &quot;markerColor&quot;: &quot;lightgray&quot;, &quot;prefix&quot;: &quot;glyphicon&quot;}\n",
       "            );\n",
       "            marker_13524d328f45b65c429ea75bac95fe10.setIcon(icon_5e133a8f170ce2cb6088c29b5650962d);\n",
       "        \n",
       "    \n",
       "        var popup_29abb4a215edb7386329c7a62c188ed0 = L.popup({&quot;maxWidth&quot;: &quot;100%&quot;});\n",
       "\n",
       "        \n",
       "            \n",
       "                var html_e0c28a87105c202773bc5dbf8592dc0b = $(`&lt;div id=&quot;html_e0c28a87105c202773bc5dbf8592dc0b&quot; style=&quot;width: 100.0%; height: 100.0%;&quot;&gt;Saint Helena: 2156.4169 kilotonnes&lt;/div&gt;`)[0];\n",
       "                popup_29abb4a215edb7386329c7a62c188ed0.setContent(html_e0c28a87105c202773bc5dbf8592dc0b);\n",
       "            \n",
       "        \n",
       "\n",
       "        marker_13524d328f45b65c429ea75bac95fe10.bindPopup(popup_29abb4a215edb7386329c7a62c188ed0)\n",
       "        ;\n",
       "\n",
       "        \n",
       "    \n",
       "    \n",
       "            var marker_0ae5d51646d2f1e53e2896eab0d0b845 = L.marker(\n",
       "                [17.250512, -62.6725973],\n",
       "                {}\n",
       "            ).addTo(map_460c590ddd81a923a88348f196bbe720);\n",
       "        \n",
       "    \n",
       "            var icon_fb0c8bf46855a9619e1d97216d5b52c3 = L.AwesomeMarkers.icon(\n",
       "                {&quot;extraClasses&quot;: &quot;fa-rotate-0&quot;, &quot;icon&quot;: &quot;info-sign&quot;, &quot;iconColor&quot;: &quot;white&quot;, &quot;markerColor&quot;: &quot;green&quot;, &quot;prefix&quot;: &quot;glyphicon&quot;}\n",
       "            );\n",
       "            marker_0ae5d51646d2f1e53e2896eab0d0b845.setIcon(icon_fb0c8bf46855a9619e1d97216d5b52c3);\n",
       "        \n",
       "    \n",
       "        var popup_2081ffef50433ec24c1f3908c1ced8fd = L.popup({&quot;maxWidth&quot;: &quot;100%&quot;});\n",
       "\n",
       "        \n",
       "            \n",
       "                var html_ea8be0b90e09b813de65aa7d39250be9 = $(`&lt;div id=&quot;html_ea8be0b90e09b813de65aa7d39250be9&quot; style=&quot;width: 100.0%; height: 100.0%;&quot;&gt;Saint Kitts and Nevis: 44650.81815 kilotonnes&lt;/div&gt;`)[0];\n",
       "                popup_2081ffef50433ec24c1f3908c1ced8fd.setContent(html_ea8be0b90e09b813de65aa7d39250be9);\n",
       "            \n",
       "        \n",
       "\n",
       "        marker_0ae5d51646d2f1e53e2896eab0d0b845.bindPopup(popup_2081ffef50433ec24c1f3908c1ced8fd)\n",
       "        ;\n",
       "\n",
       "        \n",
       "    \n",
       "    \n",
       "            var marker_b4f8082fd1f595305dd8b2e0fb2eedd0 = L.marker(\n",
       "                [13.8250489, -60.975036],\n",
       "                {}\n",
       "            ).addTo(map_460c590ddd81a923a88348f196bbe720);\n",
       "        \n",
       "    \n",
       "            var icon_c823f449600ff52cc834acd71d885b28 = L.AwesomeMarkers.icon(\n",
       "                {&quot;extraClasses&quot;: &quot;fa-rotate-0&quot;, &quot;icon&quot;: &quot;info-sign&quot;, &quot;iconColor&quot;: &quot;white&quot;, &quot;markerColor&quot;: &quot;green&quot;, &quot;prefix&quot;: &quot;glyphicon&quot;}\n",
       "            );\n",
       "            marker_b4f8082fd1f595305dd8b2e0fb2eedd0.setIcon(icon_c823f449600ff52cc834acd71d885b28);\n",
       "        \n",
       "    \n",
       "        var popup_8d1072734ec38b1b8b0ff94b8eadee8a = L.popup({&quot;maxWidth&quot;: &quot;100%&quot;});\n",
       "\n",
       "        \n",
       "            \n",
       "                var html_7d765aafc44db7d8a5b3cb99da2fb849 = $(`&lt;div id=&quot;html_7d765aafc44db7d8a5b3cb99da2fb849&quot; style=&quot;width: 100.0%; height: 100.0%;&quot;&gt;Saint Lucia: 85821.581 kilotonnes&lt;/div&gt;`)[0];\n",
       "                popup_8d1072734ec38b1b8b0ff94b8eadee8a.setContent(html_7d765aafc44db7d8a5b3cb99da2fb849);\n",
       "            \n",
       "        \n",
       "\n",
       "        marker_b4f8082fd1f595305dd8b2e0fb2eedd0.bindPopup(popup_8d1072734ec38b1b8b0ff94b8eadee8a)\n",
       "        ;\n",
       "\n",
       "        \n",
       "    \n",
       "    \n",
       "            var marker_17bdd93a0695dc5f317766b42be13269 = L.marker(\n",
       "                [46.8374544, -56.2120555],\n",
       "                {}\n",
       "            ).addTo(map_460c590ddd81a923a88348f196bbe720);\n",
       "        \n",
       "    \n",
       "            var icon_54bcca881a8bbe0a6756ee2aeed7224d = L.AwesomeMarkers.icon(\n",
       "                {&quot;extraClasses&quot;: &quot;fa-rotate-0&quot;, &quot;icon&quot;: &quot;info-sign&quot;, &quot;iconColor&quot;: &quot;white&quot;, &quot;markerColor&quot;: &quot;lightgray&quot;, &quot;prefix&quot;: &quot;glyphicon&quot;}\n",
       "            );\n",
       "            marker_17bdd93a0695dc5f317766b42be13269.setIcon(icon_54bcca881a8bbe0a6756ee2aeed7224d);\n",
       "        \n",
       "    \n",
       "        var popup_d75248c7119f750a20cdb1c2b26e01ce = L.popup({&quot;maxWidth&quot;: &quot;100%&quot;});\n",
       "\n",
       "        \n",
       "            \n",
       "                var html_1db1cfe7be0e3714186cc43e5e7b44e5 = $(`&lt;div id=&quot;html_1db1cfe7be0e3714186cc43e5e7b44e5&quot; style=&quot;width: 100.0%; height: 100.0%;&quot;&gt;Saint Pierre and Miquelon: 1053.2854 kilotonnes&lt;/div&gt;`)[0];\n",
       "                popup_d75248c7119f750a20cdb1c2b26e01ce.setContent(html_1db1cfe7be0e3714186cc43e5e7b44e5);\n",
       "            \n",
       "        \n",
       "\n",
       "        marker_17bdd93a0695dc5f317766b42be13269.bindPopup(popup_d75248c7119f750a20cdb1c2b26e01ce)\n",
       "        ;\n",
       "\n",
       "        \n",
       "    \n",
       "    \n",
       "            var marker_25ab8c508a065ef4b2f241465bfce4cc = L.marker(\n",
       "                [12.90447, -61.2765569],\n",
       "                {}\n",
       "            ).addTo(map_460c590ddd81a923a88348f196bbe720);\n",
       "        \n",
       "    \n",
       "            var icon_16b42b64c07db1139907d94667e0e71a = L.AwesomeMarkers.icon(\n",
       "                {&quot;extraClasses&quot;: &quot;fa-rotate-0&quot;, &quot;icon&quot;: &quot;info-sign&quot;, &quot;iconColor&quot;: &quot;white&quot;, &quot;markerColor&quot;: &quot;green&quot;, &quot;prefix&quot;: &quot;glyphicon&quot;}\n",
       "            );\n",
       "            marker_25ab8c508a065ef4b2f241465bfce4cc.setIcon(icon_16b42b64c07db1139907d94667e0e71a);\n",
       "        \n",
       "    \n",
       "        var popup_05e4396948ec419018f22cf9f5eca171 = L.popup({&quot;maxWidth&quot;: &quot;100%&quot;});\n",
       "\n",
       "        \n",
       "            \n",
       "                var html_fc79226dffc492fa3dd802edbc1da4f9 = $(`&lt;div id=&quot;html_fc79226dffc492fa3dd802edbc1da4f9&quot; style=&quot;width: 100.0%; height: 100.0%;&quot;&gt;Saint Vincent and the Grenadines: 53660.323 kilotonnes&lt;/div&gt;`)[0];\n",
       "                popup_05e4396948ec419018f22cf9f5eca171.setContent(html_fc79226dffc492fa3dd802edbc1da4f9);\n",
       "            \n",
       "        \n",
       "\n",
       "        marker_25ab8c508a065ef4b2f241465bfce4cc.bindPopup(popup_05e4396948ec419018f22cf9f5eca171)\n",
       "        ;\n",
       "\n",
       "        \n",
       "    \n",
       "    \n",
       "            var marker_ac7fafd1fce3d0ec2e3272ad4e957432 = L.marker(\n",
       "                [-13.7693895, -172.12005],\n",
       "                {}\n",
       "            ).addTo(map_460c590ddd81a923a88348f196bbe720);\n",
       "        \n",
       "    \n",
       "            var icon_02ce5cca30e7cca9710f2bb662c7789b = L.AwesomeMarkers.icon(\n",
       "                {&quot;extraClasses&quot;: &quot;fa-rotate-0&quot;, &quot;icon&quot;: &quot;info-sign&quot;, &quot;iconColor&quot;: &quot;white&quot;, &quot;markerColor&quot;: &quot;green&quot;, &quot;prefix&quot;: &quot;glyphicon&quot;}\n",
       "            );\n",
       "            marker_ac7fafd1fce3d0ec2e3272ad4e957432.setIcon(icon_02ce5cca30e7cca9710f2bb662c7789b);\n",
       "        \n",
       "    \n",
       "        var popup_0d75bd5f95a4968891502ff5f07ec6f3 = L.popup({&quot;maxWidth&quot;: &quot;100%&quot;});\n",
       "\n",
       "        \n",
       "            \n",
       "                var html_b26d3fd2df55a05ddb5cf468bdc888f4 = $(`&lt;div id=&quot;html_b26d3fd2df55a05ddb5cf468bdc888f4&quot; style=&quot;width: 100.0%; height: 100.0%;&quot;&gt;Samoa: 151126.5612 kilotonnes&lt;/div&gt;`)[0];\n",
       "                popup_0d75bd5f95a4968891502ff5f07ec6f3.setContent(html_b26d3fd2df55a05ddb5cf468bdc888f4);\n",
       "            \n",
       "        \n",
       "\n",
       "        marker_ac7fafd1fce3d0ec2e3272ad4e957432.bindPopup(popup_0d75bd5f95a4968891502ff5f07ec6f3)\n",
       "        ;\n",
       "\n",
       "        \n",
       "    \n",
       "    \n",
       "            var marker_51968232bf90798fddd44deef6dbeb35 = L.marker(\n",
       "                [43.9458623, 12.458306],\n",
       "                {}\n",
       "            ).addTo(map_460c590ddd81a923a88348f196bbe720);\n",
       "        \n",
       "    \n",
       "            var icon_02f2c5c8e312e43b99d9c351c1a755ff = L.AwesomeMarkers.icon(\n",
       "                {&quot;extraClasses&quot;: &quot;fa-rotate-0&quot;, &quot;icon&quot;: &quot;info-sign&quot;, &quot;iconColor&quot;: &quot;white&quot;, &quot;markerColor&quot;: &quot;green&quot;, &quot;prefix&quot;: &quot;glyphicon&quot;}\n",
       "            );\n",
       "            marker_51968232bf90798fddd44deef6dbeb35.setIcon(icon_02f2c5c8e312e43b99d9c351c1a755ff);\n",
       "        \n",
       "    \n",
       "        var popup_5aea868efd8cdbe02575693264cac928 = L.popup({&quot;maxWidth&quot;: &quot;100%&quot;});\n",
       "\n",
       "        \n",
       "            \n",
       "                var html_e06269ace562ef221c956078407be76e = $(`&lt;div id=&quot;html_e06269ace562ef221c956078407be76e&quot; style=&quot;width: 100.0%; height: 100.0%;&quot;&gt;San Marino: 30155.8067 kilotonnes&lt;/div&gt;`)[0];\n",
       "                popup_5aea868efd8cdbe02575693264cac928.setContent(html_e06269ace562ef221c956078407be76e);\n",
       "            \n",
       "        \n",
       "\n",
       "        marker_51968232bf90798fddd44deef6dbeb35.bindPopup(popup_5aea868efd8cdbe02575693264cac928)\n",
       "        ;\n",
       "\n",
       "        \n",
       "    \n",
       "    \n",
       "            var marker_f7a31f9e0447728446f2f7fc0f6d1e26 = L.marker(\n",
       "                [0.9713095, 7.02255],\n",
       "                {}\n",
       "            ).addTo(map_460c590ddd81a923a88348f196bbe720);\n",
       "        \n",
       "    \n",
       "            var icon_a4e1d0b1fc5ef4c63da25ad2492e1a8c = L.AwesomeMarkers.icon(\n",
       "                {&quot;extraClasses&quot;: &quot;fa-rotate-0&quot;, &quot;icon&quot;: &quot;info-sign&quot;, &quot;iconColor&quot;: &quot;white&quot;, &quot;markerColor&quot;: &quot;green&quot;, &quot;prefix&quot;: &quot;glyphicon&quot;}\n",
       "            );\n",
       "            marker_f7a31f9e0447728446f2f7fc0f6d1e26.setIcon(icon_a4e1d0b1fc5ef4c63da25ad2492e1a8c);\n",
       "        \n",
       "    \n",
       "        var popup_3686a66371d90422f096a6847472a5bd = L.popup({&quot;maxWidth&quot;: &quot;100%&quot;});\n",
       "\n",
       "        \n",
       "            \n",
       "                var html_44e716df6389a033b394f235cfecb2c7 = $(`&lt;div id=&quot;html_44e716df6389a033b394f235cfecb2c7&quot; style=&quot;width: 100.0%; height: 100.0%;&quot;&gt;Sao Tome and Principe: 64983.3709 kilotonnes&lt;/div&gt;`)[0];\n",
       "                popup_3686a66371d90422f096a6847472a5bd.setContent(html_44e716df6389a033b394f235cfecb2c7);\n",
       "            \n",
       "        \n",
       "\n",
       "        marker_f7a31f9e0447728446f2f7fc0f6d1e26.bindPopup(popup_3686a66371d90422f096a6847472a5bd)\n",
       "        ;\n",
       "\n",
       "        \n",
       "    \n",
       "    \n",
       "            var marker_29533a9694906293ff928f59832bd3cf = L.marker(\n",
       "                [25.6242618, 42.3528328],\n",
       "                {}\n",
       "            ).addTo(map_460c590ddd81a923a88348f196bbe720);\n",
       "        \n",
       "    \n",
       "            var icon_cbb4314068fb3d9664e71109e7058753 = L.AwesomeMarkers.icon(\n",
       "                {&quot;extraClasses&quot;: &quot;fa-rotate-0&quot;, &quot;icon&quot;: &quot;info-sign&quot;, &quot;iconColor&quot;: &quot;white&quot;, &quot;markerColor&quot;: &quot;darkred&quot;, &quot;prefix&quot;: &quot;glyphicon&quot;}\n",
       "            );\n",
       "            marker_29533a9694906293ff928f59832bd3cf.setIcon(icon_cbb4314068fb3d9664e71109e7058753);\n",
       "        \n",
       "    \n",
       "        var popup_80b62efd0494a26725ccf50f32c262d6 = L.popup({&quot;maxWidth&quot;: &quot;100%&quot;});\n",
       "\n",
       "        \n",
       "            \n",
       "                var html_b8d0c622bc115cacdc54e56074254588 = $(`&lt;div id=&quot;html_b8d0c622bc115cacdc54e56074254588&quot; style=&quot;width: 100.0%; height: 100.0%;&quot;&gt;Saudi Arabia: 91436849.4472 kilotonnes&lt;/div&gt;`)[0];\n",
       "                popup_80b62efd0494a26725ccf50f32c262d6.setContent(html_b8d0c622bc115cacdc54e56074254588);\n",
       "            \n",
       "        \n",
       "\n",
       "        marker_29533a9694906293ff928f59832bd3cf.bindPopup(popup_80b62efd0494a26725ccf50f32c262d6)\n",
       "        ;\n",
       "\n",
       "        \n",
       "    \n",
       "    \n",
       "            var marker_abe413595c3f829838dc34cb5aa15287 = L.marker(\n",
       "                [14.4750607, -14.4529612],\n",
       "                {}\n",
       "            ).addTo(map_460c590ddd81a923a88348f196bbe720);\n",
       "        \n",
       "    \n",
       "            var icon_239ffb7621a9b02c73fb1cff10709b44 = L.AwesomeMarkers.icon(\n",
       "                {&quot;extraClasses&quot;: &quot;fa-rotate-0&quot;, &quot;icon&quot;: &quot;info-sign&quot;, &quot;iconColor&quot;: &quot;white&quot;, &quot;markerColor&quot;: &quot;orange&quot;, &quot;prefix&quot;: &quot;glyphicon&quot;}\n",
       "            );\n",
       "            marker_abe413595c3f829838dc34cb5aa15287.setIcon(icon_239ffb7621a9b02c73fb1cff10709b44);\n",
       "        \n",
       "    \n",
       "        var popup_a39102e1290654490189f3ef87245e3a = L.popup({&quot;maxWidth&quot;: &quot;100%&quot;});\n",
       "\n",
       "        \n",
       "            \n",
       "                var html_bc4d67bffeb0b916d9a53af89c3c5e6c = $(`&lt;div id=&quot;html_bc4d67bffeb0b916d9a53af89c3c5e6c&quot; style=&quot;width: 100.0%; height: 100.0%;&quot;&gt;Senegal: 8157270.5057 kilotonnes&lt;/div&gt;`)[0];\n",
       "                popup_a39102e1290654490189f3ef87245e3a.setContent(html_bc4d67bffeb0b916d9a53af89c3c5e6c);\n",
       "            \n",
       "        \n",
       "\n",
       "        marker_abe413595c3f829838dc34cb5aa15287.bindPopup(popup_a39102e1290654490189f3ef87245e3a)\n",
       "        ;\n",
       "\n",
       "        \n",
       "    \n",
       "    \n",
       "            var marker_300ffdc899f6760e5cce16fad3467dd6 = L.marker(\n",
       "                [-4.6574977, 55.4540146],\n",
       "                {}\n",
       "            ).addTo(map_460c590ddd81a923a88348f196bbe720);\n",
       "        \n",
       "    \n",
       "            var icon_a916418c372af9a495cbeadf8f4dd415 = L.AwesomeMarkers.icon(\n",
       "                {&quot;extraClasses&quot;: &quot;fa-rotate-0&quot;, &quot;icon&quot;: &quot;info-sign&quot;, &quot;iconColor&quot;: &quot;white&quot;, &quot;markerColor&quot;: &quot;green&quot;, &quot;prefix&quot;: &quot;glyphicon&quot;}\n",
       "            );\n",
       "            marker_300ffdc899f6760e5cce16fad3467dd6.setIcon(icon_a916418c372af9a495cbeadf8f4dd415);\n",
       "        \n",
       "    \n",
       "        var popup_805f63ac9cb6b490db012b9f7f4476dc = L.popup({&quot;maxWidth&quot;: &quot;100%&quot;});\n",
       "\n",
       "        \n",
       "            \n",
       "                var html_4fa2f38ec7d54d2f7e561d6f498048da = $(`&lt;div id=&quot;html_4fa2f38ec7d54d2f7e561d6f498048da&quot; style=&quot;width: 100.0%; height: 100.0%;&quot;&gt;Seychelles: 98892.49505 kilotonnes&lt;/div&gt;`)[0];\n",
       "                popup_805f63ac9cb6b490db012b9f7f4476dc.setContent(html_4fa2f38ec7d54d2f7e561d6f498048da);\n",
       "            \n",
       "        \n",
       "\n",
       "        marker_300ffdc899f6760e5cce16fad3467dd6.bindPopup(popup_805f63ac9cb6b490db012b9f7f4476dc)\n",
       "        ;\n",
       "\n",
       "        \n",
       "    \n",
       "    \n",
       "            var marker_68a4bb3679414f6ada13d817611d9539 = L.marker(\n",
       "                [8.6400349, -11.8400269],\n",
       "                {}\n",
       "            ).addTo(map_460c590ddd81a923a88348f196bbe720);\n",
       "        \n",
       "    \n",
       "            var icon_b67e455d9afea591c9e81b43dc6aa4f3 = L.AwesomeMarkers.icon(\n",
       "                {&quot;extraClasses&quot;: &quot;fa-rotate-0&quot;, &quot;icon&quot;: &quot;info-sign&quot;, &quot;iconColor&quot;: &quot;white&quot;, &quot;markerColor&quot;: &quot;orange&quot;, &quot;prefix&quot;: &quot;glyphicon&quot;}\n",
       "            );\n",
       "            marker_68a4bb3679414f6ada13d817611d9539.setIcon(icon_b67e455d9afea591c9e81b43dc6aa4f3);\n",
       "        \n",
       "    \n",
       "        var popup_353379568d74a19664703144447a0798 = L.popup({&quot;maxWidth&quot;: &quot;100%&quot;});\n",
       "\n",
       "        \n",
       "            \n",
       "                var html_ae5210f24067336a2ed2f67f90d821ca = $(`&lt;div id=&quot;html_ae5210f24067336a2ed2f67f90d821ca&quot; style=&quot;width: 100.0%; height: 100.0%;&quot;&gt;Sierra Leone: 13293145.05725 kilotonnes&lt;/div&gt;`)[0];\n",
       "                popup_353379568d74a19664703144447a0798.setContent(html_ae5210f24067336a2ed2f67f90d821ca);\n",
       "            \n",
       "        \n",
       "\n",
       "        marker_68a4bb3679414f6ada13d817611d9539.bindPopup(popup_353379568d74a19664703144447a0798)\n",
       "        ;\n",
       "\n",
       "        \n",
       "    \n",
       "    \n",
       "            var marker_b43ae89e3589b483ebc9caeefa0e95e0 = L.marker(\n",
       "                [1.357107, 103.8194992],\n",
       "                {}\n",
       "            ).addTo(map_460c590ddd81a923a88348f196bbe720);\n",
       "        \n",
       "    \n",
       "            var icon_87305d8337a74d46fc3dac282f76e5e9 = L.AwesomeMarkers.icon(\n",
       "                {&quot;extraClasses&quot;: &quot;fa-rotate-0&quot;, &quot;icon&quot;: &quot;info-sign&quot;, &quot;iconColor&quot;: &quot;white&quot;, &quot;markerColor&quot;: &quot;orange&quot;, &quot;prefix&quot;: &quot;glyphicon&quot;}\n",
       "            );\n",
       "            marker_b43ae89e3589b483ebc9caeefa0e95e0.setIcon(icon_87305d8337a74d46fc3dac282f76e5e9);\n",
       "        \n",
       "    \n",
       "        var popup_445f1a7431f3d37833adb4e15548f44c = L.popup({&quot;maxWidth&quot;: &quot;100%&quot;});\n",
       "\n",
       "        \n",
       "            \n",
       "                var html_ca047c4f12347d231d0705dd357e6a1e = $(`&lt;div id=&quot;html_ca047c4f12347d231d0705dd357e6a1e&quot; style=&quot;width: 100.0%; height: 100.0%;&quot;&gt;Singapore: 8936857.2782 kilotonnes&lt;/div&gt;`)[0];\n",
       "                popup_445f1a7431f3d37833adb4e15548f44c.setContent(html_ca047c4f12347d231d0705dd357e6a1e);\n",
       "            \n",
       "        \n",
       "\n",
       "        marker_b43ae89e3589b483ebc9caeefa0e95e0.bindPopup(popup_445f1a7431f3d37833adb4e15548f44c)\n",
       "        ;\n",
       "\n",
       "        \n",
       "    \n",
       "    \n",
       "            var marker_f9dbd3f3e6bf82c4ed1a38b44e8306bb = L.marker(\n",
       "                [48.7411522, 19.4528646],\n",
       "                {}\n",
       "            ).addTo(map_460c590ddd81a923a88348f196bbe720);\n",
       "        \n",
       "    \n",
       "            var icon_5f50f19562f7512e6c3f8b3e9537e7c8 = L.AwesomeMarkers.icon(\n",
       "                {&quot;extraClasses&quot;: &quot;fa-rotate-0&quot;, &quot;icon&quot;: &quot;info-sign&quot;, &quot;iconColor&quot;: &quot;white&quot;, &quot;markerColor&quot;: &quot;orange&quot;, &quot;prefix&quot;: &quot;glyphicon&quot;}\n",
       "            );\n",
       "            marker_f9dbd3f3e6bf82c4ed1a38b44e8306bb.setIcon(icon_5f50f19562f7512e6c3f8b3e9537e7c8);\n",
       "        \n",
       "    \n",
       "        var popup_206ca2aefc4dda74a07286d882b27713 = L.popup({&quot;maxWidth&quot;: &quot;100%&quot;});\n",
       "\n",
       "        \n",
       "            \n",
       "                var html_c1a55062b81c5fbc3026a13acc7c50d8 = $(`&lt;div id=&quot;html_c1a55062b81c5fbc3026a13acc7c50d8&quot; style=&quot;width: 100.0%; height: 100.0%;&quot;&gt;Slovakia: 7227001.2313 kilotonnes&lt;/div&gt;`)[0];\n",
       "                popup_206ca2aefc4dda74a07286d882b27713.setContent(html_c1a55062b81c5fbc3026a13acc7c50d8);\n",
       "            \n",
       "        \n",
       "\n",
       "        marker_f9dbd3f3e6bf82c4ed1a38b44e8306bb.bindPopup(popup_206ca2aefc4dda74a07286d882b27713)\n",
       "        ;\n",
       "\n",
       "        \n",
       "    \n",
       "    \n",
       "            var marker_60c816774ea0ec0f8c6e5540988a7260 = L.marker(\n",
       "                [46.1199444, 14.8153333],\n",
       "                {}\n",
       "            ).addTo(map_460c590ddd81a923a88348f196bbe720);\n",
       "        \n",
       "    \n",
       "            var icon_c7eeed6c1f1ceb54070911e5bdb2659c = L.AwesomeMarkers.icon(\n",
       "                {&quot;extraClasses&quot;: &quot;fa-rotate-0&quot;, &quot;icon&quot;: &quot;info-sign&quot;, &quot;iconColor&quot;: &quot;white&quot;, &quot;markerColor&quot;: &quot;orange&quot;, &quot;prefix&quot;: &quot;glyphicon&quot;}\n",
       "            );\n",
       "            marker_60c816774ea0ec0f8c6e5540988a7260.setIcon(icon_c7eeed6c1f1ceb54070911e5bdb2659c);\n",
       "        \n",
       "    \n",
       "        var popup_5951d78d20cc07634d54a37268a974fb = L.popup({&quot;maxWidth&quot;: &quot;100%&quot;});\n",
       "\n",
       "        \n",
       "            \n",
       "                var html_f03a33ef3ff104dfcd64f7b4e6433fed = $(`&lt;div id=&quot;html_f03a33ef3ff104dfcd64f7b4e6433fed&quot; style=&quot;width: 100.0%; height: 100.0%;&quot;&gt;Slovenia: 3454323.896 kilotonnes&lt;/div&gt;`)[0];\n",
       "                popup_5951d78d20cc07634d54a37268a974fb.setContent(html_f03a33ef3ff104dfcd64f7b4e6433fed);\n",
       "            \n",
       "        \n",
       "\n",
       "        marker_60c816774ea0ec0f8c6e5540988a7260.bindPopup(popup_5951d78d20cc07634d54a37268a974fb)\n",
       "        ;\n",
       "\n",
       "        \n",
       "    \n",
       "    \n",
       "            var marker_82474b0cad1ea6e17a888bf58c0c000c = L.marker(\n",
       "                [-8.7053941, 159.1070693851845],\n",
       "                {}\n",
       "            ).addTo(map_460c590ddd81a923a88348f196bbe720);\n",
       "        \n",
       "    \n",
       "            var icon_3ef84ff6ad0c5999d5bb9f9b5bcc9ff9 = L.AwesomeMarkers.icon(\n",
       "                {&quot;extraClasses&quot;: &quot;fa-rotate-0&quot;, &quot;icon&quot;: &quot;info-sign&quot;, &quot;iconColor&quot;: &quot;white&quot;, &quot;markerColor&quot;: &quot;green&quot;, &quot;prefix&quot;: &quot;glyphicon&quot;}\n",
       "            );\n",
       "            marker_82474b0cad1ea6e17a888bf58c0c000c.setIcon(icon_3ef84ff6ad0c5999d5bb9f9b5bcc9ff9);\n",
       "        \n",
       "    \n",
       "        var popup_8dac66ad1c9cb0167deed2ca6eaf23fe = L.popup({&quot;maxWidth&quot;: &quot;100%&quot;});\n",
       "\n",
       "        \n",
       "            \n",
       "                var html_f93d2610a614afe5dc01116e22bdd200 = $(`&lt;div id=&quot;html_f93d2610a614afe5dc01116e22bdd200&quot; style=&quot;width: 100.0%; height: 100.0%;&quot;&gt;Solomon Islands: 2100844.3214000002 kilotonnes&lt;/div&gt;`)[0];\n",
       "                popup_8dac66ad1c9cb0167deed2ca6eaf23fe.setContent(html_f93d2610a614afe5dc01116e22bdd200);\n",
       "            \n",
       "        \n",
       "\n",
       "        marker_82474b0cad1ea6e17a888bf58c0c000c.bindPopup(popup_8dac66ad1c9cb0167deed2ca6eaf23fe)\n",
       "        ;\n",
       "\n",
       "        \n",
       "    \n",
       "    \n",
       "            var marker_db9d58d317ac70103061c96b68b10bba = L.marker(\n",
       "                [8.3676771, 49.083416],\n",
       "                {}\n",
       "            ).addTo(map_460c590ddd81a923a88348f196bbe720);\n",
       "        \n",
       "    \n",
       "            var icon_595ae49c592c15185d8e9396d0a84c8d = L.AwesomeMarkers.icon(\n",
       "                {&quot;extraClasses&quot;: &quot;fa-rotate-0&quot;, &quot;icon&quot;: &quot;info-sign&quot;, &quot;iconColor&quot;: &quot;white&quot;, &quot;markerColor&quot;: &quot;orange&quot;, &quot;prefix&quot;: &quot;glyphicon&quot;}\n",
       "            );\n",
       "            marker_db9d58d317ac70103061c96b68b10bba.setIcon(icon_595ae49c592c15185d8e9396d0a84c8d);\n",
       "        \n",
       "    \n",
       "        var popup_b37b579f3c7d85b8155b9c53416b484a = L.popup({&quot;maxWidth&quot;: &quot;100%&quot;});\n",
       "\n",
       "        \n",
       "            \n",
       "                var html_2ddfbfc4a6b1635c85598a9deb999d43 = $(`&lt;div id=&quot;html_2ddfbfc4a6b1635c85598a9deb999d43&quot; style=&quot;width: 100.0%; height: 100.0%;&quot;&gt;Somalia: 14464996.9379 kilotonnes&lt;/div&gt;`)[0];\n",
       "                popup_b37b579f3c7d85b8155b9c53416b484a.setContent(html_2ddfbfc4a6b1635c85598a9deb999d43);\n",
       "            \n",
       "        \n",
       "\n",
       "        marker_db9d58d317ac70103061c96b68b10bba.bindPopup(popup_b37b579f3c7d85b8155b9c53416b484a)\n",
       "        ;\n",
       "\n",
       "        \n",
       "    \n",
       "    \n",
       "            var marker_b799008e67268a4be9d21fe2a4b4ec73 = L.marker(\n",
       "                [-28.8166236, 24.991639],\n",
       "                {}\n",
       "            ).addTo(map_460c590ddd81a923a88348f196bbe720);\n",
       "        \n",
       "    \n",
       "            var icon_3064249e95ed85263014564fc84c332b = L.AwesomeMarkers.icon(\n",
       "                {&quot;extraClasses&quot;: &quot;fa-rotate-0&quot;, &quot;icon&quot;: &quot;info-sign&quot;, &quot;iconColor&quot;: &quot;white&quot;, &quot;markerColor&quot;: &quot;darkred&quot;, &quot;prefix&quot;: &quot;glyphicon&quot;}\n",
       "            );\n",
       "            marker_b799008e67268a4be9d21fe2a4b4ec73.setIcon(icon_3064249e95ed85263014564fc84c332b);\n",
       "        \n",
       "    \n",
       "        var popup_a7478e2e0d9baee38b4b363773b87069 = L.popup({&quot;maxWidth&quot;: &quot;100%&quot;});\n",
       "\n",
       "        \n",
       "            \n",
       "                var html_872e7eb173a84aa4ff3d315759d04bd1 = $(`&lt;div id=&quot;html_872e7eb173a84aa4ff3d315759d04bd1&quot; style=&quot;width: 100.0%; height: 100.0%;&quot;&gt;South Africa: 98460539.2504 kilotonnes&lt;/div&gt;`)[0];\n",
       "                popup_a7478e2e0d9baee38b4b363773b87069.setContent(html_872e7eb173a84aa4ff3d315759d04bd1);\n",
       "            \n",
       "        \n",
       "\n",
       "        marker_b799008e67268a4be9d21fe2a4b4ec73.bindPopup(popup_a7478e2e0d9baee38b4b363773b87069)\n",
       "        ;\n",
       "\n",
       "        \n",
       "    \n",
       "    \n",
       "            var marker_04e100070cf835ef3ce58a892bd346f6 = L.marker(\n",
       "                [39.3260685, -4.8379791],\n",
       "                {}\n",
       "            ).addTo(map_460c590ddd81a923a88348f196bbe720);\n",
       "        \n",
       "    \n",
       "            var icon_f01fe8fe6102384c9cf6761a4a421cec = L.AwesomeMarkers.icon(\n",
       "                {&quot;extraClasses&quot;: &quot;fa-rotate-0&quot;, &quot;icon&quot;: &quot;info-sign&quot;, &quot;iconColor&quot;: &quot;white&quot;, &quot;markerColor&quot;: &quot;red&quot;, &quot;prefix&quot;: &quot;glyphicon&quot;}\n",
       "            );\n",
       "            marker_04e100070cf835ef3ce58a892bd346f6.setIcon(icon_f01fe8fe6102384c9cf6761a4a421cec);\n",
       "        \n",
       "    \n",
       "        var popup_526c5cead92ab9566f890672a288d5d5 = L.popup({&quot;maxWidth&quot;: &quot;100%&quot;});\n",
       "\n",
       "        \n",
       "            \n",
       "                var html_badedd139d6e7be07dec44edbe2c003a = $(`&lt;div id=&quot;html_badedd139d6e7be07dec44edbe2c003a&quot; style=&quot;width: 100.0%; height: 100.0%;&quot;&gt;Spain: 67654496.823 kilotonnes&lt;/div&gt;`)[0];\n",
       "                popup_526c5cead92ab9566f890672a288d5d5.setContent(html_badedd139d6e7be07dec44edbe2c003a);\n",
       "            \n",
       "        \n",
       "\n",
       "        marker_04e100070cf835ef3ce58a892bd346f6.bindPopup(popup_526c5cead92ab9566f890672a288d5d5)\n",
       "        ;\n",
       "\n",
       "        \n",
       "    \n",
       "    \n",
       "            var marker_d5100bb7567f16fc9fe3750ece16680c = L.marker(\n",
       "                [7.5554942, 80.7137847],\n",
       "                {}\n",
       "            ).addTo(map_460c590ddd81a923a88348f196bbe720);\n",
       "        \n",
       "    \n",
       "            var icon_fd969ede34ec635246da23c2b3d3284e = L.AwesomeMarkers.icon(\n",
       "                {&quot;extraClasses&quot;: &quot;fa-rotate-0&quot;, &quot;icon&quot;: &quot;info-sign&quot;, &quot;iconColor&quot;: &quot;white&quot;, &quot;markerColor&quot;: &quot;orange&quot;, &quot;prefix&quot;: &quot;glyphicon&quot;}\n",
       "            );\n",
       "            marker_d5100bb7567f16fc9fe3750ece16680c.setIcon(icon_fd969ede34ec635246da23c2b3d3284e);\n",
       "        \n",
       "    \n",
       "        var popup_41523020a3e94079be9b718bf4296dd5 = L.popup({&quot;maxWidth&quot;: &quot;100%&quot;});\n",
       "\n",
       "        \n",
       "            \n",
       "                var html_dc69c57a04a7fc52952ef15c4e97ee95 = $(`&lt;div id=&quot;html_dc69c57a04a7fc52952ef15c4e97ee95&quot; style=&quot;width: 100.0%; height: 100.0%;&quot;&gt;Sri Lanka: 7022583.97285 kilotonnes&lt;/div&gt;`)[0];\n",
       "                popup_41523020a3e94079be9b718bf4296dd5.setContent(html_dc69c57a04a7fc52952ef15c4e97ee95);\n",
       "            \n",
       "        \n",
       "\n",
       "        marker_d5100bb7567f16fc9fe3750ece16680c.bindPopup(popup_41523020a3e94079be9b718bf4296dd5)\n",
       "        ;\n",
       "\n",
       "        \n",
       "    \n",
       "    \n",
       "            var marker_257cff24554aaf25d5662ca6f3bc54ac = L.marker(\n",
       "                [4.1413025, -56.0771187],\n",
       "                {}\n",
       "            ).addTo(map_460c590ddd81a923a88348f196bbe720);\n",
       "        \n",
       "    \n",
       "            var icon_6c708b9793625bf929197a1634b4b64b = L.AwesomeMarkers.icon(\n",
       "                {&quot;extraClasses&quot;: &quot;fa-rotate-0&quot;, &quot;icon&quot;: &quot;info-sign&quot;, &quot;iconColor&quot;: &quot;white&quot;, &quot;markerColor&quot;: &quot;green&quot;, &quot;prefix&quot;: &quot;glyphicon&quot;}\n",
       "            );\n",
       "            marker_257cff24554aaf25d5662ca6f3bc54ac.setIcon(icon_6c708b9793625bf929197a1634b4b64b);\n",
       "        \n",
       "    \n",
       "        var popup_a29277d2dedbbb81c6295d0ea724f8ab = L.popup({&quot;maxWidth&quot;: &quot;100%&quot;});\n",
       "\n",
       "        \n",
       "            \n",
       "                var html_a8c507ae34c34533f06052a54a13774d = $(`&lt;div id=&quot;html_a8c507ae34c34533f06052a54a13774d&quot; style=&quot;width: 100.0%; height: 100.0%;&quot;&gt;Suriname: 2777509.02495 kilotonnes&lt;/div&gt;`)[0];\n",
       "                popup_a29277d2dedbbb81c6295d0ea724f8ab.setContent(html_a8c507ae34c34533f06052a54a13774d);\n",
       "            \n",
       "        \n",
       "\n",
       "        marker_257cff24554aaf25d5662ca6f3bc54ac.bindPopup(popup_a29277d2dedbbb81c6295d0ea724f8ab)\n",
       "        ;\n",
       "\n",
       "        \n",
       "    \n",
       "    \n",
       "            var marker_38a1f207ae4675d6e46cc9d98e4d7a23 = L.marker(\n",
       "                [59.6749712, 14.5208584],\n",
       "                {}\n",
       "            ).addTo(map_460c590ddd81a923a88348f196bbe720);\n",
       "        \n",
       "    \n",
       "            var icon_69140f7a664a3ffb9cfbc3155a502bad = L.AwesomeMarkers.icon(\n",
       "                {&quot;extraClasses&quot;: &quot;fa-rotate-0&quot;, &quot;icon&quot;: &quot;info-sign&quot;, &quot;iconColor&quot;: &quot;white&quot;, &quot;markerColor&quot;: &quot;red&quot;, &quot;prefix&quot;: &quot;glyphicon&quot;}\n",
       "            );\n",
       "            marker_38a1f207ae4675d6e46cc9d98e4d7a23.setIcon(icon_69140f7a664a3ffb9cfbc3155a502bad);\n",
       "        \n",
       "    \n",
       "        var popup_17d295b8c4cdb9f9a54b2f39ae89b754 = L.popup({&quot;maxWidth&quot;: &quot;100%&quot;});\n",
       "\n",
       "        \n",
       "            \n",
       "                var html_1006c74433578fb61709e501effa8beb = $(`&lt;div id=&quot;html_1006c74433578fb61709e501effa8beb&quot; style=&quot;width: 100.0%; height: 100.0%;&quot;&gt;Sweden: 19753963.1317 kilotonnes&lt;/div&gt;`)[0];\n",
       "                popup_17d295b8c4cdb9f9a54b2f39ae89b754.setContent(html_1006c74433578fb61709e501effa8beb);\n",
       "            \n",
       "        \n",
       "\n",
       "        marker_38a1f207ae4675d6e46cc9d98e4d7a23.bindPopup(popup_17d295b8c4cdb9f9a54b2f39ae89b754)\n",
       "        ;\n",
       "\n",
       "        \n",
       "    \n",
       "    \n",
       "            var marker_2e7512a7b5404e13fe987b30e6af111a = L.marker(\n",
       "                [46.7985624, 8.2319736],\n",
       "                {}\n",
       "            ).addTo(map_460c590ddd81a923a88348f196bbe720);\n",
       "        \n",
       "    \n",
       "            var icon_b73110caf3ae0dbf7fca6a914473f532 = L.AwesomeMarkers.icon(\n",
       "                {&quot;extraClasses&quot;: &quot;fa-rotate-0&quot;, &quot;icon&quot;: &quot;info-sign&quot;, &quot;iconColor&quot;: &quot;white&quot;, &quot;markerColor&quot;: &quot;orange&quot;, &quot;prefix&quot;: &quot;glyphicon&quot;}\n",
       "            );\n",
       "            marker_2e7512a7b5404e13fe987b30e6af111a.setIcon(icon_b73110caf3ae0dbf7fca6a914473f532);\n",
       "        \n",
       "    \n",
       "        var popup_f7dc7be79381572177282c03c4e9e4cc = L.popup({&quot;maxWidth&quot;: &quot;100%&quot;});\n",
       "\n",
       "        \n",
       "            \n",
       "                var html_c3ba3a95a974c39113b2f4edf866a2ff = $(`&lt;div id=&quot;html_c3ba3a95a974c39113b2f4edf866a2ff&quot; style=&quot;width: 100.0%; height: 100.0%;&quot;&gt;Switzerland: 10016811.085 kilotonnes&lt;/div&gt;`)[0];\n",
       "                popup_f7dc7be79381572177282c03c4e9e4cc.setContent(html_c3ba3a95a974c39113b2f4edf866a2ff);\n",
       "            \n",
       "        \n",
       "\n",
       "        marker_2e7512a7b5404e13fe987b30e6af111a.bindPopup(popup_f7dc7be79381572177282c03c4e9e4cc)\n",
       "        ;\n",
       "\n",
       "        \n",
       "    \n",
       "    \n",
       "            var marker_54dae877249f676e1d29fd0dc1fdc48c = L.marker(\n",
       "                [34.6401861, 39.0494106],\n",
       "                {}\n",
       "            ).addTo(map_460c590ddd81a923a88348f196bbe720);\n",
       "        \n",
       "    \n",
       "            var icon_b243905ab7f754d6ae5fa184314940fc = L.AwesomeMarkers.icon(\n",
       "                {&quot;extraClasses&quot;: &quot;fa-rotate-0&quot;, &quot;icon&quot;: &quot;info-sign&quot;, &quot;iconColor&quot;: &quot;white&quot;, &quot;markerColor&quot;: &quot;orange&quot;, &quot;prefix&quot;: &quot;glyphicon&quot;}\n",
       "            );\n",
       "            marker_54dae877249f676e1d29fd0dc1fdc48c.setIcon(icon_b243905ab7f754d6ae5fa184314940fc);\n",
       "        \n",
       "    \n",
       "        var popup_946c58a21493dbe2b625b7d24c46af28 = L.popup({&quot;maxWidth&quot;: &quot;100%&quot;});\n",
       "\n",
       "        \n",
       "            \n",
       "                var html_753cca86b9a508d85cdf74b61bb0f083 = $(`&lt;div id=&quot;html_753cca86b9a508d85cdf74b61bb0f083&quot; style=&quot;width: 100.0%; height: 100.0%;&quot;&gt;Syrian Arab Republic: 11796827.9066 kilotonnes&lt;/div&gt;`)[0];\n",
       "                popup_946c58a21493dbe2b625b7d24c46af28.setContent(html_753cca86b9a508d85cdf74b61bb0f083);\n",
       "            \n",
       "        \n",
       "\n",
       "        marker_54dae877249f676e1d29fd0dc1fdc48c.bindPopup(popup_946c58a21493dbe2b625b7d24c46af28)\n",
       "        ;\n",
       "\n",
       "        \n",
       "    \n",
       "    \n",
       "            var marker_b7e2986da585149d01d3061c6fccd5bc = L.marker(\n",
       "                [18.0712474, 73.5910606],\n",
       "                {}\n",
       "            ).addTo(map_460c590ddd81a923a88348f196bbe720);\n",
       "        \n",
       "    \n",
       "            var icon_ac0031d7b1ed95b712a4e5d3a01eccbc = L.AwesomeMarkers.icon(\n",
       "                {&quot;extraClasses&quot;: &quot;fa-rotate-0&quot;, &quot;icon&quot;: &quot;info-sign&quot;, &quot;iconColor&quot;: &quot;white&quot;, &quot;markerColor&quot;: &quot;red&quot;, &quot;prefix&quot;: &quot;glyphicon&quot;}\n",
       "            );\n",
       "            marker_b7e2986da585149d01d3061c6fccd5bc.setIcon(icon_ac0031d7b1ed95b712a4e5d3a01eccbc);\n",
       "        \n",
       "    \n",
       "        var popup_eb412a0648e17428461632cf714791d9 = L.popup({&quot;maxWidth&quot;: &quot;100%&quot;});\n",
       "\n",
       "        \n",
       "            \n",
       "                var html_9dd0f3211924fc72777b004d7533099d = $(`&lt;div id=&quot;html_9dd0f3211924fc72777b004d7533099d&quot; style=&quot;width: 100.0%; height: 100.0%;&quot;&gt;T?kiye: 77590449.2909 kilotonnes&lt;/div&gt;`)[0];\n",
       "                popup_eb412a0648e17428461632cf714791d9.setContent(html_9dd0f3211924fc72777b004d7533099d);\n",
       "            \n",
       "        \n",
       "\n",
       "        marker_b7e2986da585149d01d3061c6fccd5bc.bindPopup(popup_eb412a0648e17428461632cf714791d9)\n",
       "        ;\n",
       "\n",
       "        \n",
       "    \n",
       "    \n",
       "            var marker_3fef00f0ef4ef742ab72208c3ad838e3 = L.marker(\n",
       "                [38.6281733, 70.8156541],\n",
       "                {}\n",
       "            ).addTo(map_460c590ddd81a923a88348f196bbe720);\n",
       "        \n",
       "    \n",
       "            var icon_298ac6762107b85b107f583c04c56072 = L.AwesomeMarkers.icon(\n",
       "                {&quot;extraClasses&quot;: &quot;fa-rotate-0&quot;, &quot;icon&quot;: &quot;info-sign&quot;, &quot;iconColor&quot;: &quot;white&quot;, &quot;markerColor&quot;: &quot;green&quot;, &quot;prefix&quot;: &quot;glyphicon&quot;}\n",
       "            );\n",
       "            marker_3fef00f0ef4ef742ab72208c3ad838e3.setIcon(icon_298ac6762107b85b107f583c04c56072);\n",
       "        \n",
       "    \n",
       "        var popup_3f86d920f623d1262ac4abcda9d94092 = L.popup({&quot;maxWidth&quot;: &quot;100%&quot;});\n",
       "\n",
       "        \n",
       "            \n",
       "                var html_045312b4187fbe05c1e698d2a278fa92 = $(`&lt;div id=&quot;html_045312b4187fbe05c1e698d2a278fa92&quot; style=&quot;width: 100.0%; height: 100.0%;&quot;&gt;Tajikistan: 3282003.15355 kilotonnes&lt;/div&gt;`)[0];\n",
       "                popup_3f86d920f623d1262ac4abcda9d94092.setContent(html_045312b4187fbe05c1e698d2a278fa92);\n",
       "            \n",
       "        \n",
       "\n",
       "        marker_3fef00f0ef4ef742ab72208c3ad838e3.bindPopup(popup_3f86d920f623d1262ac4abcda9d94092)\n",
       "        ;\n",
       "\n",
       "        \n",
       "    \n",
       "    \n",
       "            var marker_4c998a01cfc17ba7ed5b16b894fff29f = L.marker(\n",
       "                [14.8971921, 100.83273],\n",
       "                {}\n",
       "            ).addTo(map_460c590ddd81a923a88348f196bbe720);\n",
       "        \n",
       "    \n",
       "            var icon_cdcf4659211bfa809f685a91409b5e17 = L.AwesomeMarkers.icon(\n",
       "                {&quot;extraClasses&quot;: &quot;fa-rotate-0&quot;, &quot;icon&quot;: &quot;info-sign&quot;, &quot;iconColor&quot;: &quot;white&quot;, &quot;markerColor&quot;: &quot;red&quot;, &quot;prefix&quot;: &quot;glyphicon&quot;}\n",
       "            );\n",
       "            marker_4c998a01cfc17ba7ed5b16b894fff29f.setIcon(icon_cdcf4659211bfa809f685a91409b5e17);\n",
       "        \n",
       "    \n",
       "        var popup_136469545c17f54381809fa3b4f36714 = L.popup({&quot;maxWidth&quot;: &quot;100%&quot;});\n",
       "\n",
       "        \n",
       "            \n",
       "                var html_29fe19c34690db1402e076c5b043e479 = $(`&lt;div id=&quot;html_29fe19c34690db1402e076c5b043e479&quot; style=&quot;width: 100.0%; height: 100.0%;&quot;&gt;Thailand: 80096675.59735 kilotonnes&lt;/div&gt;`)[0];\n",
       "                popup_136469545c17f54381809fa3b4f36714.setContent(html_29fe19c34690db1402e076c5b043e479);\n",
       "            \n",
       "        \n",
       "\n",
       "        marker_4c998a01cfc17ba7ed5b16b894fff29f.bindPopup(popup_136469545c17f54381809fa3b4f36714)\n",
       "        ;\n",
       "\n",
       "        \n",
       "    \n",
       "    \n",
       "            var marker_b3b056febbb6c66f106c83157fbab93f = L.marker(\n",
       "                [-8.7443169, 126.063482],\n",
       "                {}\n",
       "            ).addTo(map_460c590ddd81a923a88348f196bbe720);\n",
       "        \n",
       "    \n",
       "            var icon_4f7acd6ce20b491abff7da417edfd8a1 = L.AwesomeMarkers.icon(\n",
       "                {&quot;extraClasses&quot;: &quot;fa-rotate-0&quot;, &quot;icon&quot;: &quot;info-sign&quot;, &quot;iconColor&quot;: &quot;white&quot;, &quot;markerColor&quot;: &quot;green&quot;, &quot;prefix&quot;: &quot;glyphicon&quot;}\n",
       "            );\n",
       "            marker_b3b056febbb6c66f106c83157fbab93f.setIcon(icon_4f7acd6ce20b491abff7da417edfd8a1);\n",
       "        \n",
       "    \n",
       "        var popup_3e9c477ce6abe5700e554b3d4ce9acd2 = L.popup({&quot;maxWidth&quot;: &quot;100%&quot;});\n",
       "\n",
       "        \n",
       "            \n",
       "                var html_4c203eea8fb720c9daa284ce2c320dd3 = $(`&lt;div id=&quot;html_4c203eea8fb720c9daa284ce2c320dd3&quot; style=&quot;width: 100.0%; height: 100.0%;&quot;&gt;Timor-Leste: 953467.96575 kilotonnes&lt;/div&gt;`)[0];\n",
       "                popup_3e9c477ce6abe5700e554b3d4ce9acd2.setContent(html_4c203eea8fb720c9daa284ce2c320dd3);\n",
       "            \n",
       "        \n",
       "\n",
       "        marker_b3b056febbb6c66f106c83157fbab93f.bindPopup(popup_3e9c477ce6abe5700e554b3d4ce9acd2)\n",
       "        ;\n",
       "\n",
       "        \n",
       "    \n",
       "    \n",
       "            var marker_381f0e7c932ce7bad0249ef451c0e200 = L.marker(\n",
       "                [8.7800265, 1.0199765],\n",
       "                {}\n",
       "            ).addTo(map_460c590ddd81a923a88348f196bbe720);\n",
       "        \n",
       "    \n",
       "            var icon_9ea4650adce3308689335ad9d5c9396a = L.AwesomeMarkers.icon(\n",
       "                {&quot;extraClasses&quot;: &quot;fa-rotate-0&quot;, &quot;icon&quot;: &quot;info-sign&quot;, &quot;iconColor&quot;: &quot;white&quot;, &quot;markerColor&quot;: &quot;green&quot;, &quot;prefix&quot;: &quot;glyphicon&quot;}\n",
       "            );\n",
       "            marker_381f0e7c932ce7bad0249ef451c0e200.setIcon(icon_9ea4650adce3308689335ad9d5c9396a);\n",
       "        \n",
       "    \n",
       "        var popup_7b018f00cf67ab836e5cea4f242b8636 = L.popup({&quot;maxWidth&quot;: &quot;100%&quot;});\n",
       "\n",
       "        \n",
       "            \n",
       "                var html_92e886a358aa83fbc324579e759a78d5 = $(`&lt;div id=&quot;html_92e886a358aa83fbc324579e759a78d5&quot; style=&quot;width: 100.0%; height: 100.0%;&quot;&gt;Togo: 2426188.3523 kilotonnes&lt;/div&gt;`)[0];\n",
       "                popup_7b018f00cf67ab836e5cea4f242b8636.setContent(html_92e886a358aa83fbc324579e759a78d5);\n",
       "            \n",
       "        \n",
       "\n",
       "        marker_381f0e7c932ce7bad0249ef451c0e200.bindPopup(popup_7b018f00cf67ab836e5cea4f242b8636)\n",
       "        ;\n",
       "\n",
       "        \n",
       "    \n",
       "    \n",
       "            var marker_18e04863d5542c333bf4929fcce3ad68 = L.marker(\n",
       "                [-19.9160819, -175.202642],\n",
       "                {}\n",
       "            ).addTo(map_460c590ddd81a923a88348f196bbe720);\n",
       "        \n",
       "    \n",
       "            var icon_eea2ed7a25def695cc56579a31443043 = L.AwesomeMarkers.icon(\n",
       "                {&quot;extraClasses&quot;: &quot;fa-rotate-0&quot;, &quot;icon&quot;: &quot;info-sign&quot;, &quot;iconColor&quot;: &quot;white&quot;, &quot;markerColor&quot;: &quot;green&quot;, &quot;prefix&quot;: &quot;glyphicon&quot;}\n",
       "            );\n",
       "            marker_18e04863d5542c333bf4929fcce3ad68.setIcon(icon_eea2ed7a25def695cc56579a31443043);\n",
       "        \n",
       "    \n",
       "        var popup_ca5feffa9bb42e1154346f25788d41af = L.popup({&quot;maxWidth&quot;: &quot;100%&quot;});\n",
       "\n",
       "        \n",
       "            \n",
       "                var html_cd224dbe5bff052598a2c23976ad6d96 = $(`&lt;div id=&quot;html_cd224dbe5bff052598a2c23976ad6d96&quot; style=&quot;width: 100.0%; height: 100.0%;&quot;&gt;Tonga: 58049.16785 kilotonnes&lt;/div&gt;`)[0];\n",
       "                popup_ca5feffa9bb42e1154346f25788d41af.setContent(html_cd224dbe5bff052598a2c23976ad6d96);\n",
       "            \n",
       "        \n",
       "\n",
       "        marker_18e04863d5542c333bf4929fcce3ad68.bindPopup(popup_ca5feffa9bb42e1154346f25788d41af)\n",
       "        ;\n",
       "\n",
       "        \n",
       "    \n",
       "    \n",
       "            var marker_27c91ae8383a6d6b72dcbce84ed57579 = L.marker(\n",
       "                [10.7466905, -61.0840075],\n",
       "                {}\n",
       "            ).addTo(map_460c590ddd81a923a88348f196bbe720);\n",
       "        \n",
       "    \n",
       "            var icon_8687867ba9b456c0a40ca73c967496c0 = L.AwesomeMarkers.icon(\n",
       "                {&quot;extraClasses&quot;: &quot;fa-rotate-0&quot;, &quot;icon&quot;: &quot;info-sign&quot;, &quot;iconColor&quot;: &quot;white&quot;, &quot;markerColor&quot;: &quot;orange&quot;, &quot;prefix&quot;: &quot;glyphicon&quot;}\n",
       "            );\n",
       "            marker_27c91ae8383a6d6b72dcbce84ed57579.setIcon(icon_8687867ba9b456c0a40ca73c967496c0);\n",
       "        \n",
       "    \n",
       "        var popup_c069aa2a4533f58563f1c0153734fd30 = L.popup({&quot;maxWidth&quot;: &quot;100%&quot;});\n",
       "\n",
       "        \n",
       "            \n",
       "                var html_e7885be98877d284662ca0346090c386 = $(`&lt;div id=&quot;html_e7885be98877d284662ca0346090c386&quot; style=&quot;width: 100.0%; height: 100.0%;&quot;&gt;Trinidad and Tobago: 11110959.5902 kilotonnes&lt;/div&gt;`)[0];\n",
       "                popup_c069aa2a4533f58563f1c0153734fd30.setContent(html_e7885be98877d284662ca0346090c386);\n",
       "            \n",
       "        \n",
       "\n",
       "        marker_27c91ae8383a6d6b72dcbce84ed57579.bindPopup(popup_c069aa2a4533f58563f1c0153734fd30)\n",
       "        ;\n",
       "\n",
       "        \n",
       "    \n",
       "    \n",
       "            var marker_f097adeff84b5f1f1f106b1bf403f249 = L.marker(\n",
       "                [36.8002068, 10.1857757],\n",
       "                {}\n",
       "            ).addTo(map_460c590ddd81a923a88348f196bbe720);\n",
       "        \n",
       "    \n",
       "            var icon_001dcd9882a00616707018eb1b4645de = L.AwesomeMarkers.icon(\n",
       "                {&quot;extraClasses&quot;: &quot;fa-rotate-0&quot;, &quot;icon&quot;: &quot;info-sign&quot;, &quot;iconColor&quot;: &quot;white&quot;, &quot;markerColor&quot;: &quot;orange&quot;, &quot;prefix&quot;: &quot;glyphicon&quot;}\n",
       "            );\n",
       "            marker_f097adeff84b5f1f1f106b1bf403f249.setIcon(icon_001dcd9882a00616707018eb1b4645de);\n",
       "        \n",
       "    \n",
       "        var popup_5483631518545f0193930b6cba66f58c = L.popup({&quot;maxWidth&quot;: &quot;100%&quot;});\n",
       "\n",
       "        \n",
       "            \n",
       "                var html_f089deaaa1f53b1fb36d878bf00034ae = $(`&lt;div id=&quot;html_f089deaaa1f53b1fb36d878bf00034ae&quot; style=&quot;width: 100.0%; height: 100.0%;&quot;&gt;Tunisia: 7560170.6603 kilotonnes&lt;/div&gt;`)[0];\n",
       "                popup_5483631518545f0193930b6cba66f58c.setContent(html_f089deaaa1f53b1fb36d878bf00034ae);\n",
       "            \n",
       "        \n",
       "\n",
       "        marker_f097adeff84b5f1f1f106b1bf403f249.bindPopup(popup_5483631518545f0193930b6cba66f58c)\n",
       "        ;\n",
       "\n",
       "        \n",
       "    \n",
       "    \n",
       "            var marker_ce7c6e933997d2994c1e5d454e3414d1 = L.marker(\n",
       "                [39.3763807, 59.3924609],\n",
       "                {}\n",
       "            ).addTo(map_460c590ddd81a923a88348f196bbe720);\n",
       "        \n",
       "    \n",
       "            var icon_5a30074ac7cd0a84cb6135d81ffeb0e2 = L.AwesomeMarkers.icon(\n",
       "                {&quot;extraClasses&quot;: &quot;fa-rotate-0&quot;, &quot;icon&quot;: &quot;info-sign&quot;, &quot;iconColor&quot;: &quot;white&quot;, &quot;markerColor&quot;: &quot;orange&quot;, &quot;prefix&quot;: &quot;glyphicon&quot;}\n",
       "            );\n",
       "            marker_ce7c6e933997d2994c1e5d454e3414d1.setIcon(icon_5a30074ac7cd0a84cb6135d81ffeb0e2);\n",
       "        \n",
       "    \n",
       "        var popup_f06d6fa1a912a6eed581d320f4105b40 = L.popup({&quot;maxWidth&quot;: &quot;100%&quot;});\n",
       "\n",
       "        \n",
       "            \n",
       "                var html_df89b4a870ea66b7baf4978b41ed20d9 = $(`&lt;div id=&quot;html_df89b4a870ea66b7baf4978b41ed20d9&quot; style=&quot;width: 100.0%; height: 100.0%;&quot;&gt;Turkmenistan: 18025693.0311 kilotonnes&lt;/div&gt;`)[0];\n",
       "                popup_f06d6fa1a912a6eed581d320f4105b40.setContent(html_df89b4a870ea66b7baf4978b41ed20d9);\n",
       "            \n",
       "        \n",
       "\n",
       "        marker_ce7c6e933997d2994c1e5d454e3414d1.bindPopup(popup_f06d6fa1a912a6eed581d320f4105b40)\n",
       "        ;\n",
       "\n",
       "        \n",
       "    \n",
       "    \n",
       "            var marker_a45e78f955ba5ee128d0f6e31329aca6 = L.marker(\n",
       "                [21.721746, -71.5527809],\n",
       "                {}\n",
       "            ).addTo(map_460c590ddd81a923a88348f196bbe720);\n",
       "        \n",
       "    \n",
       "            var icon_2def728b07a324b6be7a5ff36b38ae2b = L.AwesomeMarkers.icon(\n",
       "                {&quot;extraClasses&quot;: &quot;fa-rotate-0&quot;, &quot;icon&quot;: &quot;info-sign&quot;, &quot;iconColor&quot;: &quot;white&quot;, &quot;markerColor&quot;: &quot;green&quot;, &quot;prefix&quot;: &quot;glyphicon&quot;}\n",
       "            );\n",
       "            marker_a45e78f955ba5ee128d0f6e31329aca6.setIcon(icon_2def728b07a324b6be7a5ff36b38ae2b);\n",
       "        \n",
       "    \n",
       "        var popup_3b2305e8c6cca7d8ebc3c7632697b6aa = L.popup({&quot;maxWidth&quot;: &quot;100%&quot;});\n",
       "\n",
       "        \n",
       "            \n",
       "                var html_2cf263574a54f97805ce2c241d1b34b8 = $(`&lt;div id=&quot;html_2cf263574a54f97805ce2c241d1b34b8&quot; style=&quot;width: 100.0%; height: 100.0%;&quot;&gt;Turks and Caicos Islands: 27381.8472 kilotonnes&lt;/div&gt;`)[0];\n",
       "                popup_3b2305e8c6cca7d8ebc3c7632697b6aa.setContent(html_2cf263574a54f97805ce2c241d1b34b8);\n",
       "            \n",
       "        \n",
       "\n",
       "        marker_a45e78f955ba5ee128d0f6e31329aca6.bindPopup(popup_3b2305e8c6cca7d8ebc3c7632697b6aa)\n",
       "        ;\n",
       "\n",
       "        \n",
       "    \n",
       "    \n",
       "            var marker_021221b043170ea29d20942e09a8f0d4 = L.marker(\n",
       "                [-8.6405212, 179.1582918181797],\n",
       "                {}\n",
       "            ).addTo(map_460c590ddd81a923a88348f196bbe720);\n",
       "        \n",
       "    \n",
       "            var icon_7ef62b85523f971b4709cf7ed5bd54bd = L.AwesomeMarkers.icon(\n",
       "                {&quot;extraClasses&quot;: &quot;fa-rotate-0&quot;, &quot;icon&quot;: &quot;info-sign&quot;, &quot;iconColor&quot;: &quot;white&quot;, &quot;markerColor&quot;: &quot;lightgray&quot;, &quot;prefix&quot;: &quot;glyphicon&quot;}\n",
       "            );\n",
       "            marker_021221b043170ea29d20942e09a8f0d4.setIcon(icon_7ef62b85523f971b4709cf7ed5bd54bd);\n",
       "        \n",
       "    \n",
       "        var popup_7d5b8397a2a81d7d22f3b6a06fc6c7dd = L.popup({&quot;maxWidth&quot;: &quot;100%&quot;});\n",
       "\n",
       "        \n",
       "            \n",
       "                var html_a20d3b74335a4a2225bf9bfd2877c184 = $(`&lt;div id=&quot;html_a20d3b74335a4a2225bf9bfd2877c184&quot; style=&quot;width: 100.0%; height: 100.0%;&quot;&gt;Tuvalu: 5161.66955 kilotonnes&lt;/div&gt;`)[0];\n",
       "                popup_7d5b8397a2a81d7d22f3b6a06fc6c7dd.setContent(html_a20d3b74335a4a2225bf9bfd2877c184);\n",
       "            \n",
       "        \n",
       "\n",
       "        marker_021221b043170ea29d20942e09a8f0d4.bindPopup(popup_7d5b8397a2a81d7d22f3b6a06fc6c7dd)\n",
       "        ;\n",
       "\n",
       "        \n",
       "    \n",
       "    \n",
       "            var marker_7ac18635413078332df5558a6a13a16b = L.marker(\n",
       "                [1.5333554, 32.2166578],\n",
       "                {}\n",
       "            ).addTo(map_460c590ddd81a923a88348f196bbe720);\n",
       "        \n",
       "    \n",
       "            var icon_b212aaeb593a593c99194fd8e8d060e6 = L.AwesomeMarkers.icon(\n",
       "                {&quot;extraClasses&quot;: &quot;fa-rotate-0&quot;, &quot;icon&quot;: &quot;info-sign&quot;, &quot;iconColor&quot;: &quot;white&quot;, &quot;markerColor&quot;: &quot;orange&quot;, &quot;prefix&quot;: &quot;glyphicon&quot;}\n",
       "            );\n",
       "            marker_7ac18635413078332df5558a6a13a16b.setIcon(icon_b212aaeb593a593c99194fd8e8d060e6);\n",
       "        \n",
       "    \n",
       "        var popup_54731055fe489a4f4a6e69d45cb38b3a = L.popup({&quot;maxWidth&quot;: &quot;100%&quot;});\n",
       "\n",
       "        \n",
       "            \n",
       "                var html_7c806e11303308cff532e5dca334088c = $(`&lt;div id=&quot;html_7c806e11303308cff532e5dca334088c&quot; style=&quot;width: 100.0%; height: 100.0%;&quot;&gt;Uganda: 17555385.04375 kilotonnes&lt;/div&gt;`)[0];\n",
       "                popup_54731055fe489a4f4a6e69d45cb38b3a.setContent(html_7c806e11303308cff532e5dca334088c);\n",
       "            \n",
       "        \n",
       "\n",
       "        marker_7ac18635413078332df5558a6a13a16b.bindPopup(popup_54731055fe489a4f4a6e69d45cb38b3a)\n",
       "        ;\n",
       "\n",
       "        \n",
       "    \n",
       "    \n",
       "            var marker_b0e7548904b46ac050f9d982b9fcc758 = L.marker(\n",
       "                [49.4871968, 31.2718321],\n",
       "                {}\n",
       "            ).addTo(map_460c590ddd81a923a88348f196bbe720);\n",
       "        \n",
       "    \n",
       "            var icon_50003c8eb0b24749a80f9ec169b73c1b = L.AwesomeMarkers.icon(\n",
       "                {&quot;extraClasses&quot;: &quot;fa-rotate-0&quot;, &quot;icon&quot;: &quot;info-sign&quot;, &quot;iconColor&quot;: &quot;white&quot;, &quot;markerColor&quot;: &quot;red&quot;, &quot;prefix&quot;: &quot;glyphicon&quot;}\n",
       "            );\n",
       "            marker_b0e7548904b46ac050f9d982b9fcc758.setIcon(icon_50003c8eb0b24749a80f9ec169b73c1b);\n",
       "        \n",
       "    \n",
       "        var popup_e14fc900f1f3a25228ddc8cd6945add6 = L.popup({&quot;maxWidth&quot;: &quot;100%&quot;});\n",
       "\n",
       "        \n",
       "            \n",
       "                var html_ae08205e1302ea749afcf7a255fd185b = $(`&lt;div id=&quot;html_ae08205e1302ea749afcf7a255fd185b&quot; style=&quot;width: 100.0%; height: 100.0%;&quot;&gt;Ukraine: 70467775.4474 kilotonnes&lt;/div&gt;`)[0];\n",
       "                popup_e14fc900f1f3a25228ddc8cd6945add6.setContent(html_ae08205e1302ea749afcf7a255fd185b);\n",
       "            \n",
       "        \n",
       "\n",
       "        marker_b0e7548904b46ac050f9d982b9fcc758.bindPopup(popup_e14fc900f1f3a25228ddc8cd6945add6)\n",
       "        ;\n",
       "\n",
       "        \n",
       "    \n",
       "    \n",
       "            var marker_6afc38871bb40d99dd3093d31c847ba4 = L.marker(\n",
       "                [24.0002488, 53.9994829],\n",
       "                {}\n",
       "            ).addTo(map_460c590ddd81a923a88348f196bbe720);\n",
       "        \n",
       "    \n",
       "            var icon_5be2a53ee0e40c47ec95285af8d24642 = L.AwesomeMarkers.icon(\n",
       "                {&quot;extraClasses&quot;: &quot;fa-rotate-0&quot;, &quot;icon&quot;: &quot;info-sign&quot;, &quot;iconColor&quot;: &quot;white&quot;, &quot;markerColor&quot;: &quot;red&quot;, &quot;prefix&quot;: &quot;glyphicon&quot;}\n",
       "            );\n",
       "            marker_6afc38871bb40d99dd3093d31c847ba4.setIcon(icon_5be2a53ee0e40c47ec95285af8d24642);\n",
       "        \n",
       "    \n",
       "        var popup_7feea50ad153d45a8142e255ed55c384 = L.popup({&quot;maxWidth&quot;: &quot;100%&quot;});\n",
       "\n",
       "        \n",
       "            \n",
       "                var html_7c1c5389891a3e4a75bde94b0ee70d34 = $(`&lt;div id=&quot;html_7c1c5389891a3e4a75bde94b0ee70d34&quot; style=&quot;width: 100.0%; height: 100.0%;&quot;&gt;United Arab Emirates: 30884652.26815 kilotonnes&lt;/div&gt;`)[0];\n",
       "                popup_7feea50ad153d45a8142e255ed55c384.setContent(html_7c1c5389891a3e4a75bde94b0ee70d34);\n",
       "            \n",
       "        \n",
       "\n",
       "        marker_6afc38871bb40d99dd3093d31c847ba4.bindPopup(popup_7feea50ad153d45a8142e255ed55c384)\n",
       "        ;\n",
       "\n",
       "        \n",
       "    \n",
       "    \n",
       "            var marker_367db5a5c14540464ea4c7d5294f940f = L.marker(\n",
       "                [54.7023545, -3.2765753],\n",
       "                {}\n",
       "            ).addTo(map_460c590ddd81a923a88348f196bbe720);\n",
       "        \n",
       "    \n",
       "            var icon_348c99ecac559f771b5c9dcd07a37e1b = L.AwesomeMarkers.icon(\n",
       "                {&quot;extraClasses&quot;: &quot;fa-rotate-0&quot;, &quot;icon&quot;: &quot;info-sign&quot;, &quot;iconColor&quot;: &quot;white&quot;, &quot;markerColor&quot;: &quot;darkred&quot;, &quot;prefix&quot;: &quot;glyphicon&quot;}\n",
       "            );\n",
       "            marker_367db5a5c14540464ea4c7d5294f940f.setIcon(icon_348c99ecac559f771b5c9dcd07a37e1b);\n",
       "        \n",
       "    \n",
       "        var popup_58ace28222ebd330cb833562db0c9959 = L.popup({&quot;maxWidth&quot;: &quot;100%&quot;});\n",
       "\n",
       "        \n",
       "            \n",
       "                var html_1dbcaa706ea29ef6d73d68e685eeefad = $(`&lt;div id=&quot;html_1dbcaa706ea29ef6d73d68e685eeefad&quot; style=&quot;width: 100.0%; height: 100.0%;&quot;&gt;United Kingdom of Great Britain and Northern Ireland: 106365439.8774 kilotonnes&lt;/div&gt;`)[0];\n",
       "                popup_58ace28222ebd330cb833562db0c9959.setContent(html_1dbcaa706ea29ef6d73d68e685eeefad);\n",
       "            \n",
       "        \n",
       "\n",
       "        marker_367db5a5c14540464ea4c7d5294f940f.bindPopup(popup_58ace28222ebd330cb833562db0c9959)\n",
       "        ;\n",
       "\n",
       "        \n",
       "    \n",
       "    \n",
       "            var marker_676cdae523c5bee544e22091eb77072b = L.marker(\n",
       "                [-6.5247123, 35.7878438],\n",
       "                {}\n",
       "            ).addTo(map_460c590ddd81a923a88348f196bbe720);\n",
       "        \n",
       "    \n",
       "            var icon_7c6665cbe05bc2bbe7cabe7d4519077f = L.AwesomeMarkers.icon(\n",
       "                {&quot;extraClasses&quot;: &quot;fa-rotate-0&quot;, &quot;icon&quot;: &quot;info-sign&quot;, &quot;iconColor&quot;: &quot;white&quot;, &quot;markerColor&quot;: &quot;red&quot;, &quot;prefix&quot;: &quot;glyphicon&quot;}\n",
       "            );\n",
       "            marker_676cdae523c5bee544e22091eb77072b.setIcon(icon_7c6665cbe05bc2bbe7cabe7d4519077f);\n",
       "        \n",
       "    \n",
       "        var popup_68c34294b7f1346a349a560552cc9a50 = L.popup({&quot;maxWidth&quot;: &quot;100%&quot;});\n",
       "\n",
       "        \n",
       "            \n",
       "                var html_ab4a1e63e20c5e49dfd0d99af4ec5a41 = $(`&lt;div id=&quot;html_ab4a1e63e20c5e49dfd0d99af4ec5a41&quot; style=&quot;width: 100.0%; height: 100.0%;&quot;&gt;United Republic of Tanzania: 46914287.36705 kilotonnes&lt;/div&gt;`)[0];\n",
       "                popup_68c34294b7f1346a349a560552cc9a50.setContent(html_ab4a1e63e20c5e49dfd0d99af4ec5a41);\n",
       "            \n",
       "        \n",
       "\n",
       "        marker_676cdae523c5bee544e22091eb77072b.bindPopup(popup_68c34294b7f1346a349a560552cc9a50)\n",
       "        ;\n",
       "\n",
       "        \n",
       "    \n",
       "    \n",
       "            var marker_4e87958d3ab99073658e0e846d130c59 = L.marker(\n",
       "                [39.7837304, -100.445882],\n",
       "                {}\n",
       "            ).addTo(map_460c590ddd81a923a88348f196bbe720);\n",
       "        \n",
       "    \n",
       "            var icon_611a59d4b793c9ac0b194f18695e3bb9 = L.AwesomeMarkers.icon(\n",
       "                {&quot;extraClasses&quot;: &quot;fa-rotate-0&quot;, &quot;icon&quot;: &quot;info-sign&quot;, &quot;iconColor&quot;: &quot;white&quot;, &quot;markerColor&quot;: &quot;darkred&quot;, &quot;prefix&quot;: &quot;glyphicon&quot;}\n",
       "            );\n",
       "            marker_4e87958d3ab99073658e0e846d130c59.setIcon(icon_611a59d4b793c9ac0b194f18695e3bb9);\n",
       "        \n",
       "    \n",
       "        var popup_5a7897df1677f88e28c668907b391df3 = L.popup({&quot;maxWidth&quot;: &quot;100%&quot;});\n",
       "\n",
       "        \n",
       "            \n",
       "                var html_4f9058390fa23c49f8c58b8db34a6644 = $(`&lt;div id=&quot;html_4f9058390fa23c49f8c58b8db34a6644&quot; style=&quot;width: 100.0%; height: 100.0%;&quot;&gt;United States of America: 1078468742.2406 kilotonnes&lt;/div&gt;`)[0];\n",
       "                popup_5a7897df1677f88e28c668907b391df3.setContent(html_4f9058390fa23c49f8c58b8db34a6644);\n",
       "            \n",
       "        \n",
       "\n",
       "        marker_4e87958d3ab99073658e0e846d130c59.bindPopup(popup_5a7897df1677f88e28c668907b391df3)\n",
       "        ;\n",
       "\n",
       "        \n",
       "    \n",
       "    \n",
       "            var marker_0a9ff0bd0fd9c4c24f093d90bf9d1f2b = L.marker(\n",
       "                [-32.8755548, -56.0201525],\n",
       "                {}\n",
       "            ).addTo(map_460c590ddd81a923a88348f196bbe720);\n",
       "        \n",
       "    \n",
       "            var icon_3c3cc1e3dcc0f2e906f82f043cc2ea93 = L.AwesomeMarkers.icon(\n",
       "                {&quot;extraClasses&quot;: &quot;fa-rotate-0&quot;, &quot;icon&quot;: &quot;info-sign&quot;, &quot;iconColor&quot;: &quot;white&quot;, &quot;markerColor&quot;: &quot;orange&quot;, &quot;prefix&quot;: &quot;glyphicon&quot;}\n",
       "            );\n",
       "            marker_0a9ff0bd0fd9c4c24f093d90bf9d1f2b.setIcon(icon_3c3cc1e3dcc0f2e906f82f043cc2ea93);\n",
       "        \n",
       "    \n",
       "        var popup_debacde4042186824279abb06cc22307 = L.popup({&quot;maxWidth&quot;: &quot;100%&quot;});\n",
       "\n",
       "        \n",
       "            \n",
       "                var html_55cb417de36bf3cd139537a057ead743 = $(`&lt;div id=&quot;html_55cb417de36bf3cd139537a057ead743&quot; style=&quot;width: 100.0%; height: 100.0%;&quot;&gt;Uruguay: 13693323.653549999 kilotonnes&lt;/div&gt;`)[0];\n",
       "                popup_debacde4042186824279abb06cc22307.setContent(html_55cb417de36bf3cd139537a057ead743);\n",
       "            \n",
       "        \n",
       "\n",
       "        marker_0a9ff0bd0fd9c4c24f093d90bf9d1f2b.bindPopup(popup_debacde4042186824279abb06cc22307)\n",
       "        ;\n",
       "\n",
       "        \n",
       "    \n",
       "    \n",
       "            var marker_37abcb1885d5f1b13bb924cd772ed431 = L.marker(\n",
       "                [41.32373, 63.9528098],\n",
       "                {}\n",
       "            ).addTo(map_460c590ddd81a923a88348f196bbe720);\n",
       "        \n",
       "    \n",
       "            var icon_385c64c20a01120aab0a3704285428f3 = L.AwesomeMarkers.icon(\n",
       "                {&quot;extraClasses&quot;: &quot;fa-rotate-0&quot;, &quot;icon&quot;: &quot;info-sign&quot;, &quot;iconColor&quot;: &quot;white&quot;, &quot;markerColor&quot;: &quot;red&quot;, &quot;prefix&quot;: &quot;glyphicon&quot;}\n",
       "            );\n",
       "            marker_37abcb1885d5f1b13bb924cd772ed431.setIcon(icon_385c64c20a01120aab0a3704285428f3);\n",
       "        \n",
       "    \n",
       "        var popup_be8c76f85a2c93f5b224fca73bdf558c = L.popup({&quot;maxWidth&quot;: &quot;100%&quot;});\n",
       "\n",
       "        \n",
       "            \n",
       "                var html_81579eb90ec5f8db4e97d2eb7b0602d5 = $(`&lt;div id=&quot;html_81579eb90ec5f8db4e97d2eb7b0602d5&quot; style=&quot;width: 100.0%; height: 100.0%;&quot;&gt;Uzbekistan: 36320410.1295 kilotonnes&lt;/div&gt;`)[0];\n",
       "                popup_be8c76f85a2c93f5b224fca73bdf558c.setContent(html_81579eb90ec5f8db4e97d2eb7b0602d5);\n",
       "            \n",
       "        \n",
       "\n",
       "        marker_37abcb1885d5f1b13bb924cd772ed431.bindPopup(popup_be8c76f85a2c93f5b224fca73bdf558c)\n",
       "        ;\n",
       "\n",
       "        \n",
       "    \n",
       "    \n",
       "            var marker_861defb12aad16317d86100e61dba363 = L.marker(\n",
       "                [-16.5255069, 168.1069154],\n",
       "                {}\n",
       "            ).addTo(map_460c590ddd81a923a88348f196bbe720);\n",
       "        \n",
       "    \n",
       "            var icon_bf8e36787ddcab6166688fd4b1ad7efe = L.AwesomeMarkers.icon(\n",
       "                {&quot;extraClasses&quot;: &quot;fa-rotate-0&quot;, &quot;icon&quot;: &quot;info-sign&quot;, &quot;iconColor&quot;: &quot;white&quot;, &quot;markerColor&quot;: &quot;green&quot;, &quot;prefix&quot;: &quot;glyphicon&quot;}\n",
       "            );\n",
       "            marker_861defb12aad16317d86100e61dba363.setIcon(icon_bf8e36787ddcab6166688fd4b1ad7efe);\n",
       "        \n",
       "    \n",
       "        var popup_c6660ae25a34a528e106c22c5dc16fbd = L.popup({&quot;maxWidth&quot;: &quot;100%&quot;});\n",
       "\n",
       "        \n",
       "            \n",
       "                var html_8e0c03db0447fad7f532b8ccac7b3468 = $(`&lt;div id=&quot;html_8e0c03db0447fad7f532b8ccac7b3468&quot; style=&quot;width: 100.0%; height: 100.0%;&quot;&gt;Vanuatu: 213062.9448 kilotonnes&lt;/div&gt;`)[0];\n",
       "                popup_c6660ae25a34a528e106c22c5dc16fbd.setContent(html_8e0c03db0447fad7f532b8ccac7b3468);\n",
       "            \n",
       "        \n",
       "\n",
       "        marker_861defb12aad16317d86100e61dba363.bindPopup(popup_c6660ae25a34a528e106c22c5dc16fbd)\n",
       "        ;\n",
       "\n",
       "        \n",
       "    \n",
       "    \n",
       "            var marker_9f4baf071f3f562fac8f485a40425fd1 = L.marker(\n",
       "                [8.0018709, -66.1109318],\n",
       "                {}\n",
       "            ).addTo(map_460c590ddd81a923a88348f196bbe720);\n",
       "        \n",
       "    \n",
       "            var icon_45d5cf8b423adb4a9938a5b3e8b1210f = L.AwesomeMarkers.icon(\n",
       "                {&quot;extraClasses&quot;: &quot;fa-rotate-0&quot;, &quot;icon&quot;: &quot;info-sign&quot;, &quot;iconColor&quot;: &quot;white&quot;, &quot;markerColor&quot;: &quot;red&quot;, &quot;prefix&quot;: &quot;glyphicon&quot;}\n",
       "            );\n",
       "            marker_9f4baf071f3f562fac8f485a40425fd1.setIcon(icon_45d5cf8b423adb4a9938a5b3e8b1210f);\n",
       "        \n",
       "    \n",
       "        var popup_1fb2154a9ab2268099885169422e041a = L.popup({&quot;maxWidth&quot;: &quot;100%&quot;});\n",
       "\n",
       "        \n",
       "            \n",
       "                var html_6b4cae03a22b350623a5a14e0ab04cbb = $(`&lt;div id=&quot;html_6b4cae03a22b350623a5a14e0ab04cbb&quot; style=&quot;width: 100.0%; height: 100.0%;&quot;&gt;Venezuela (Bolivarian Republic of): 75363365.9325 kilotonnes&lt;/div&gt;`)[0];\n",
       "                popup_1fb2154a9ab2268099885169422e041a.setContent(html_6b4cae03a22b350623a5a14e0ab04cbb);\n",
       "            \n",
       "        \n",
       "\n",
       "        marker_9f4baf071f3f562fac8f485a40425fd1.bindPopup(popup_1fb2154a9ab2268099885169422e041a)\n",
       "        ;\n",
       "\n",
       "        \n",
       "    \n",
       "    \n",
       "            var marker_c4effb0fc068f37181e09cc9452346e4 = L.marker(\n",
       "                [15.9266657, 107.9650855],\n",
       "                {}\n",
       "            ).addTo(map_460c590ddd81a923a88348f196bbe720);\n",
       "        \n",
       "    \n",
       "            var icon_5b660074e485f22f40c8684c8232de1b = L.AwesomeMarkers.icon(\n",
       "                {&quot;extraClasses&quot;: &quot;fa-rotate-0&quot;, &quot;icon&quot;: &quot;info-sign&quot;, &quot;iconColor&quot;: &quot;white&quot;, &quot;markerColor&quot;: &quot;red&quot;, &quot;prefix&quot;: &quot;glyphicon&quot;}\n",
       "            );\n",
       "            marker_c4effb0fc068f37181e09cc9452346e4.setIcon(icon_5b660074e485f22f40c8684c8232de1b);\n",
       "        \n",
       "    \n",
       "        var popup_8fa7d54fabd22a701a6e0ffd63b4601b = L.popup({&quot;maxWidth&quot;: &quot;100%&quot;});\n",
       "\n",
       "        \n",
       "            \n",
       "                var html_07bd5de0e59f638139ed542a3db0ad03 = $(`&lt;div id=&quot;html_07bd5de0e59f638139ed542a3db0ad03&quot; style=&quot;width: 100.0%; height: 100.0%;&quot;&gt;Viet Nam: 61359233.2735 kilotonnes&lt;/div&gt;`)[0];\n",
       "                popup_8fa7d54fabd22a701a6e0ffd63b4601b.setContent(html_07bd5de0e59f638139ed542a3db0ad03);\n",
       "            \n",
       "        \n",
       "\n",
       "        marker_c4effb0fc068f37181e09cc9452346e4.bindPopup(popup_8fa7d54fabd22a701a6e0ffd63b4601b)\n",
       "        ;\n",
       "\n",
       "        \n",
       "    \n",
       "    \n",
       "            var marker_95b5e6f00aacd13da6786608d113a84b = L.marker(\n",
       "                [-13.289402, -176.204224],\n",
       "                {}\n",
       "            ).addTo(map_460c590ddd81a923a88348f196bbe720);\n",
       "        \n",
       "    \n",
       "            var icon_fd4305e84c472563e785db27bd6c4157 = L.AwesomeMarkers.icon(\n",
       "                {&quot;extraClasses&quot;: &quot;fa-rotate-0&quot;, &quot;icon&quot;: &quot;info-sign&quot;, &quot;iconColor&quot;: &quot;white&quot;, &quot;markerColor&quot;: &quot;lightgray&quot;, &quot;prefix&quot;: &quot;glyphicon&quot;}\n",
       "            );\n",
       "            marker_95b5e6f00aacd13da6786608d113a84b.setIcon(icon_fd4305e84c472563e785db27bd6c4157);\n",
       "        \n",
       "    \n",
       "        var popup_d44ee56c77e44082398076c81b3fa9c7 = L.popup({&quot;maxWidth&quot;: &quot;100%&quot;});\n",
       "\n",
       "        \n",
       "            \n",
       "                var html_34a44b00d09fc1467d0f5d30d7f4aa76 = $(`&lt;div id=&quot;html_34a44b00d09fc1467d0f5d30d7f4aa76&quot; style=&quot;width: 100.0%; height: 100.0%;&quot;&gt;Wallis and Futuna Islands: 981.6214 kilotonnes&lt;/div&gt;`)[0];\n",
       "                popup_d44ee56c77e44082398076c81b3fa9c7.setContent(html_34a44b00d09fc1467d0f5d30d7f4aa76);\n",
       "            \n",
       "        \n",
       "\n",
       "        marker_95b5e6f00aacd13da6786608d113a84b.bindPopup(popup_d44ee56c77e44082398076c81b3fa9c7)\n",
       "        ;\n",
       "\n",
       "        \n",
       "    \n",
       "    \n",
       "            var marker_4432d3e8c7c76f97e1598e8b0b2aa778 = L.marker(\n",
       "                [16.3471243, 47.8915271],\n",
       "                {}\n",
       "            ).addTo(map_460c590ddd81a923a88348f196bbe720);\n",
       "        \n",
       "    \n",
       "            var icon_557f5c2397a7a56be3b8d0d4981b388b = L.AwesomeMarkers.icon(\n",
       "                {&quot;extraClasses&quot;: &quot;fa-rotate-0&quot;, &quot;icon&quot;: &quot;info-sign&quot;, &quot;iconColor&quot;: &quot;white&quot;, &quot;markerColor&quot;: &quot;orange&quot;, &quot;prefix&quot;: &quot;glyphicon&quot;}\n",
       "            );\n",
       "            marker_4432d3e8c7c76f97e1598e8b0b2aa778.setIcon(icon_557f5c2397a7a56be3b8d0d4981b388b);\n",
       "        \n",
       "    \n",
       "        var popup_ad26265304a8773c7d0fb5bd9b347537 = L.popup({&quot;maxWidth&quot;: &quot;100%&quot;});\n",
       "\n",
       "        \n",
       "            \n",
       "                var html_893c8a3aaaaa465970a843e3c8a16e6c = $(`&lt;div id=&quot;html_893c8a3aaaaa465970a843e3c8a16e6c&quot; style=&quot;width: 100.0%; height: 100.0%;&quot;&gt;Yemen: 8453793.019 kilotonnes&lt;/div&gt;`)[0];\n",
       "                popup_ad26265304a8773c7d0fb5bd9b347537.setContent(html_893c8a3aaaaa465970a843e3c8a16e6c);\n",
       "            \n",
       "        \n",
       "\n",
       "        marker_4432d3e8c7c76f97e1598e8b0b2aa778.bindPopup(popup_ad26265304a8773c7d0fb5bd9b347537)\n",
       "        ;\n",
       "\n",
       "        \n",
       "    \n",
       "    \n",
       "            var marker_b313c5d23479c0136dae16e49e9176d1 = L.marker(\n",
       "                [-14.5189121, 27.5589884],\n",
       "                {}\n",
       "            ).addTo(map_460c590ddd81a923a88348f196bbe720);\n",
       "        \n",
       "    \n",
       "            var icon_21de89ac1c9711f018e2a34f92a12f33 = L.AwesomeMarkers.icon(\n",
       "                {&quot;extraClasses&quot;: &quot;fa-rotate-0&quot;, &quot;icon&quot;: &quot;info-sign&quot;, &quot;iconColor&quot;: &quot;white&quot;, &quot;markerColor&quot;: &quot;red&quot;, &quot;prefix&quot;: &quot;glyphicon&quot;}\n",
       "            );\n",
       "            marker_b313c5d23479c0136dae16e49e9176d1.setIcon(icon_21de89ac1c9711f018e2a34f92a12f33);\n",
       "        \n",
       "    \n",
       "        var popup_2c82e9e7ddcb5916853fcb03c68de473 = L.popup({&quot;maxWidth&quot;: &quot;100%&quot;});\n",
       "\n",
       "        \n",
       "            \n",
       "                var html_4e0ff3da947f921757e3c1b1bd29702d = $(`&lt;div id=&quot;html_4e0ff3da947f921757e3c1b1bd29702d&quot; style=&quot;width: 100.0%; height: 100.0%;&quot;&gt;Zambia: 26321170.6436 kilotonnes&lt;/div&gt;`)[0];\n",
       "                popup_2c82e9e7ddcb5916853fcb03c68de473.setContent(html_4e0ff3da947f921757e3c1b1bd29702d);\n",
       "            \n",
       "        \n",
       "\n",
       "        marker_b313c5d23479c0136dae16e49e9176d1.bindPopup(popup_2c82e9e7ddcb5916853fcb03c68de473)\n",
       "        ;\n",
       "\n",
       "        \n",
       "    \n",
       "    \n",
       "            var marker_9f7d2785d9ac1fd24697a31aa7d55295 = L.marker(\n",
       "                [-18.4554963, 29.7468414],\n",
       "                {}\n",
       "            ).addTo(map_460c590ddd81a923a88348f196bbe720);\n",
       "        \n",
       "    \n",
       "            var icon_f5c6435fb14394c3fc5ceb03b35705b1 = L.AwesomeMarkers.icon(\n",
       "                {&quot;extraClasses&quot;: &quot;fa-rotate-0&quot;, &quot;icon&quot;: &quot;info-sign&quot;, &quot;iconColor&quot;: &quot;white&quot;, &quot;markerColor&quot;: &quot;orange&quot;, &quot;prefix&quot;: &quot;glyphicon&quot;}\n",
       "            );\n",
       "            marker_9f7d2785d9ac1fd24697a31aa7d55295.setIcon(icon_f5c6435fb14394c3fc5ceb03b35705b1);\n",
       "        \n",
       "    \n",
       "        var popup_326aa6fb9f2b2fbf6aeda551d8eca24d = L.popup({&quot;maxWidth&quot;: &quot;100%&quot;});\n",
       "\n",
       "        \n",
       "            \n",
       "                var html_2142fff0b5c6ec67152239724c5588f2 = $(`&lt;div id=&quot;html_2142fff0b5c6ec67152239724c5588f2&quot; style=&quot;width: 100.0%; height: 100.0%;&quot;&gt;Zimbabwe: 15350513.56225 kilotonnes&lt;/div&gt;`)[0];\n",
       "                popup_326aa6fb9f2b2fbf6aeda551d8eca24d.setContent(html_2142fff0b5c6ec67152239724c5588f2);\n",
       "            \n",
       "        \n",
       "\n",
       "        marker_9f7d2785d9ac1fd24697a31aa7d55295.bindPopup(popup_326aa6fb9f2b2fbf6aeda551d8eca24d)\n",
       "        ;\n",
       "\n",
       "        \n",
       "    \n",
       "&lt;/script&gt;\n",
       "&lt;/html&gt;\" style=\"position:absolute;width:100%;height:100%;left:0;top:0;border:none !important;\" allowfullscreen webkitallowfullscreen mozallowfullscreen></iframe></div></div>"
      ],
      "text/plain": [
       "<folium.folium.Map at 0x24ea156c5d0>"
      ]
     },
     "metadata": {},
     "output_type": "display_data"
    }
   ],
   "source": [
    "# Calculating the quantiles for the classification\n",
    "q_10 = df_total_emissions['Emissions'].quantile(0.10)\n",
    "q_40 = df_total_emissions['Emissions'].quantile(0.40)\n",
    "q_70 = df_total_emissions['Emissions'].quantile(0.70)\n",
    "q_90 = df_total_emissions['Emissions'].quantile(0.90)\n",
    "\n",
    "# Initializing the geocoder\n",
    "geolocator = Nominatim(user_agent=\"geoapi\")\n",
    "\n",
    "# Function to get coordinates from a country name\n",
    "def get_coordinates(country_name):\n",
    "    try:\n",
    "        location = geolocator.geocode(country_name)\n",
    "        if location:\n",
    "            return location.latitude, location.longitude\n",
    "        else:\n",
    "            return None, None\n",
    "    except Exception as e:\n",
    "        print(f\"Error for {country_name}: {e}\")\n",
    "        return None, None\n",
    "\n",
    "# Creating the map\n",
    "map = folium.Map(location=[20, 0], zoom_start=2)\n",
    "\n",
    "# Looping through the data and getting the needed data + classifying using the calculated quantiles\n",
    "for index, row in df_total_emissions.iterrows():\n",
    "    country_name = row['Country Name']\n",
    "    emissions = row['Emissions']\n",
    "    \n",
    "    if emissions >= q_90:\n",
    "        color = 'darkred'\n",
    "    elif emissions >= q_70 and emissions < q_90:\n",
    "        color = 'red'\n",
    "    elif emissions >= q_40 and emissions < q_70:\n",
    "        color = 'orange'\n",
    "    elif emissions >= q_10 and emissions < q_40:\n",
    "        color = 'green'\n",
    "    elif emissions < q_10:\n",
    "        color = 'lightgray'\n",
    "\n",
    "    # Getting the coordinates needed and applying the marker id they are valid\n",
    "    latitude, longitude = get_coordinates(country_name)\n",
    "\n",
    "    if latitude and longitude:\n",
    "        folium.Marker([latitude, longitude],\n",
    "                      popup=f\"{country_name}: {emissions} kilotonnes\",\n",
    "                      icon=folium.Icon(color=color)).add_to(map)\n",
    "\n",
    "display(map)\n"
   ]
  },
  {
   "cell_type": "markdown",
   "metadata": {},
   "source": [
    "# Time series Prediction"
   ]
  },
  {
   "cell_type": "markdown",
   "metadata": {},
   "source": [
    "Now, let's use time series prediction to forecast future CO2 emissions. We will use Prophet, a forecasting tool specialized in time series data, to analyze the trend in total annual emissions and project this trend into the future. \n",
    "This prediction allows us to visualize potential future emissions trends and assess if the upward trajectory is likely to continue."
   ]
  },
  {
   "cell_type": "code",
   "execution_count": null,
   "metadata": {},
   "outputs": [
    {
     "name": "stderr",
     "output_type": "stream",
     "text": [
      "C:\\Users\\nephr\\AppData\\Local\\Temp\\ipykernel_3060\\4281932724.py:3: FutureWarning:\n",
      "\n",
      "'Y' is deprecated and will be removed in a future version, please use 'YE' instead.\n",
      "\n",
      "13:15:33 - cmdstanpy - INFO - Chain [1] start processing\n",
      "13:15:33 - cmdstanpy - INFO - Chain [1] done processing\n",
      "c:\\Users\\nephr\\AppData\\Local\\Programs\\Python\\Python311\\Lib\\site-packages\\prophet\\forecaster.py:1854: FutureWarning:\n",
      "\n",
      "'Y' is deprecated and will be removed in a future version, please use 'YE' instead.\n",
      "\n",
      "C:\\Users\\nephr\\AppData\\Local\\Temp\\ipykernel_3060\\4281932724.py:26: FutureWarning:\n",
      "\n",
      "'Y' is deprecated and will be removed in a future version, please use 'YE' instead.\n",
      "\n",
      "C:\\Users\\nephr\\AppData\\Local\\Temp\\ipykernel_3060\\4281932724.py:27: FutureWarning:\n",
      "\n",
      "'Y' is deprecated and will be removed in a future version, please use 'YE' instead.\n",
      "\n"
     ]
    },
    {
     "data": {
      "image/png": "[encoded data removed]",
      "text/plain": [
       "<Figure size 1200x600 with 1 Axes>"
      ]
     },
     "metadata": {},
     "output_type": "display_data"
    },
    {
     "name": "stdout",
     "output_type": "stream",
     "text": [
      "      Year  Predicted Emissions\n",
      "2021-12-31         4.989667e+08\n",
      "2022-12-31         5.023290e+08\n",
      "2023-12-31         5.061555e+08\n",
      "2024-12-31         5.050354e+08\n",
      "2025-12-31         5.079261e+08\n",
      "2026-12-31         5.112883e+08\n",
      "2027-12-31         5.151149e+08\n",
      "2028-12-31         5.139947e+08\n",
      "2029-12-31         5.168854e+08\n",
      "2030-12-31         5.202477e+08\n"
     ]
    }
   ],
   "source": [
    "# Renaming the columns as requested by Prophet, as it requires ds as the date column, y as the value\n",
    "total_emissions_by_year.columns = ['ds', 'y']\n",
    "total_emissions_by_year['ds'] = pd.date_range(start=\"2000-01-01\", periods=21, freq=\"Y\")\n",
    "\n",
    "# Initialize and configure the Prophet model\n",
    "model = Prophet()  # Reduce sensitivity to changepoints\n",
    "model.fit(total_emissions_by_year)  # Fit the model to the data\n",
    "\n",
    "# Create a dataframe for future predictions\n",
    "future = model.make_future_dataframe(periods=10, freq='Y')\n",
    "forecast = model.predict(future) \n",
    "\n",
    "# Plot the predictions\n",
    "fig, ax = plt.subplots(figsize=(12, 6))\n",
    "model.plot(forecast, ax=ax)\n",
    "ax.scatter(forecast['ds'], forecast['yhat'], color='red', label='Predictions', s=20)\n",
    "plt.title('CO2 Emissions Prediction with Adjusted Prophet')\n",
    "plt.xlabel('Year')\n",
    "plt.ylabel('Total Emissions')\n",
    "plt.legend()\n",
    "plt.grid(True)\n",
    "ax.set_xticks(pd.date_range(start='2000-01-01', end=future['ds'].max(), freq='5Y'))\n",
    "ax.set_xticklabels([date.year for date in pd.date_range(start='2000-01-01', end=future['ds'].max(), freq='5Y')])\n",
    "\n",
    "plt.show()\n",
    "\n",
    "# Output future predictions as text\n",
    "future_predictions = forecast[forecast['ds'].dt.year >= 2021][['ds', 'yhat']]\n",
    "future_predictions.columns = ['Year', 'Predicted Emissions']\n",
    "print(future_predictions.to_string(index=False))"
   ]
  },
  {
   "cell_type": "markdown",
   "metadata": {},
   "source": [
    "In this graph, the black dots represent the observed data points for \n",
    "total CO2 emissions over time (provided by the dataset), while the blue \n",
    "line represents the forecasted trend generated by the Prophet model. The \n",
    "red dots correspond to the predicted values for each future year, \n",
    "providing an annual point-by-point projection. \n",
    "The shaded blue area around the forecast line illustrates the \n",
    "uncertainty interval, indicating the range within which future emissions \n",
    "are expected to fall with a certain confidence level.\n",
    "\n",
    "From the graph, we observe a steady upward trend in CO₂ emissions from \n",
    "2000 through 2020, followed by a predicted continuation of this trend in \n",
    "the next 10 years.  The rise in emission in 2030, according to the \n",
    "forecast, indicates a 8.83% rise compared to 2020, and a 30.70% rise \n",
    "compared to 2000. This forecast highlights the potential for continued \n",
    "growth in global emissions and the worsening of climate catastrophies \n",
    "unless significant interventions occur."
   ]
  },
  {
   "cell_type": "markdown",
   "metadata": {},
   "source": [
    "# 5. Multivariate Analysis"
   ]
  },
  {
   "cell_type": "markdown",
   "metadata": {},
   "source": [
    "In this section, we will perform a multivariate analysis to examine the relationship between CO2 emissions and GDP. By merging the emissions and GDP datasets on both country and year, we create a dataset that contains for each year for each country, the total emissions and its GDP. This approach enables us to analyze how economic activity (represented by GDP) correlates with environmental impact (represented by emissions), both on a global scale and in individual countries."
   ]
  },
  {
   "cell_type": "code",
   "execution_count": null,
   "metadata": {},
   "outputs": [],
   "source": [
    "df_emissions_total = df_emissions_long.groupby(['Country Name', 'Year'])['Emissions'].sum().reset_index()"
   ]
  },
  {
   "cell_type": "code",
   "execution_count": null,
   "metadata": {},
   "outputs": [
    {
     "name": "stdout",
     "output_type": "stream",
     "text": [
      "     Country Name       Year     Emissions\n",
      "0     Afghanistan 2000-01-01  2.613449e+05\n",
      "1     Afghanistan 2001-01-01  2.403983e+05\n",
      "2     Afghanistan 2002-01-01  2.906577e+05\n",
      "3     Afghanistan 2003-01-01  3.001765e+05\n",
      "4     Afghanistan 2004-01-01  2.988644e+05\n",
      "...           ...        ...           ...\n",
      "4762     Zimbabwe 2016-01-01  1.286006e+06\n",
      "4763     Zimbabwe 2017-01-01  1.290779e+06\n",
      "4764     Zimbabwe 2018-01-01  1.298609e+06\n",
      "4765     Zimbabwe 2019-01-01  1.296947e+06\n",
      "4766     Zimbabwe 2020-01-01  1.272170e+06\n",
      "\n",
      "[4767 rows x 3 columns]\n"
     ]
    }
   ],
   "source": [
    "print(df_emissions_total)"
   ]
  },
  {
   "cell_type": "code",
   "execution_count": null,
   "metadata": {},
   "outputs": [
    {
     "name": "stdout",
     "output_type": "stream",
     "text": [
      "  Country Name  Year     Emissions           GDP\n",
      "0  Afghanistan  2000  261344.93160  2.512522e+09\n",
      "1  Afghanistan  2001  240398.34135  2.461666e+09\n",
      "2  Afghanistan  2002  290657.74980  4.128821e+09\n",
      "3  Afghanistan  2003  300176.53540  4.583644e+09\n",
      "4  Afghanistan  2004  298864.41650  5.285466e+09\n"
     ]
    }
   ],
   "source": [
    "# Now we make an inner join between the datasets, based on the countries and year, filtering the values present in both datasets, \n",
    "# and as such creating a new dataset.\n",
    "# From this dataset we will calculate the correlation between Emissions and GDP, both in general and for each specific country\n",
    "\n",
    "df_emissions_gdp_long = pd.merge(df_emissions_total, df_gdp_long, how='inner', left_on=['Country Name', 'Year'], right_on=['Country Name', 'Year'])\n",
    "df_emissions_gdp_long['Year'] = df_emissions_gdp_long['Year'].dt.year\n",
    "\n",
    "print(df_emissions_gdp_long.head())\n",
    "\n",
    "# df_emissions_gdp_long.to_csv('emissions_gdp.csv', index=False)"
   ]
  },
  {
   "cell_type": "markdown",
   "metadata": {},
   "source": [
    "We also check that there are no NaN values for this dataset"
   ]
  },
  {
   "cell_type": "code",
   "execution_count": null,
   "metadata": {},
   "outputs": [
    {
     "name": "stdout",
     "output_type": "stream",
     "text": [
      "Country Name    False\n",
      "Year            False\n",
      "Emissions       False\n",
      "GDP             False\n",
      "dtype: bool\n"
     ]
    }
   ],
   "source": [
    "print(df_emissions_gdp_long.isna().any())"
   ]
  },
  {
   "cell_type": "markdown",
   "metadata": {},
   "source": [
    "First, we calculate the overall correlation between emissions and GDP across all countries to gain insight into the general trend. Then, we calculate the correlation for each country separately, allowing us to observe variations and identify countries where economic growth is more closely or less closely associated with emissions. The results, presented in a summary table, will help us explore whether countries with higher GDPs tend to produce more emissions or if other factors might influence this relationship."
   ]
  },
  {
   "cell_type": "code",
   "execution_count": null,
   "metadata": {},
   "outputs": [
    {
     "name": "stdout",
     "output_type": "stream",
     "text": [
      "       Country Name  Correlation\n",
      "0       Afghanistan     0.952920\n",
      "1           Albania     0.087364\n",
      "2           Algeria     0.753458\n",
      "3    American Samoa     0.706161\n",
      "4           Andorra    -0.016344\n",
      "..              ...          ...\n",
      "169         Uruguay     0.613019\n",
      "170      Uzbekistan     0.859113\n",
      "171         Vanuatu     0.641591\n",
      "172          Zambia     0.884213\n",
      "173        Zimbabwe     0.580614\n",
      "\n",
      "[174 rows x 2 columns]\n"
     ]
    }
   ],
   "source": [
    "# Group by \"Country Name\" and calculate the correlation between \"Emissions\" and \"GDP\" for each country\n",
    "correlations = {}\n",
    "\n",
    "for country, data in df_emissions_gdp_long.groupby(\"Country Name\"):\n",
    "    if len(data) > 1:  # Calculate the correlation only if there are at least 2 years of data\n",
    "        correlation = data[\"Emissions\"].corr(data[\"GDP\"])\n",
    "        correlations[country] = correlation\n",
    "\n",
    "# Convert the dictionary to a DataFrame for better visualization of the results\n",
    "correlations_df = pd.DataFrame(list(correlations.items()), columns=[\"Country Name\", \"Correlation\"])\n",
    "print(correlations_df)\n"
   ]
  },
  {
   "cell_type": "code",
   "execution_count": null,
   "metadata": {},
   "outputs": [
    {
     "name": "stdout",
     "output_type": "stream",
     "text": [
      "Correlation between GDP and Emissions: 0.733492688345309, p-value: 0.0\n",
      "Correlation between Year and Emissions: 0.019468360479715844, p-value: 0.27814662007907975\n"
     ]
    }
   ],
   "source": [
    "\n",
    "# Calculation of the p-value between GDP and Emissions\n",
    "corr_gdp_emissions, p_value_gdp_emissions = stats.pearsonr(df_emissions_gdp_long['GDP'], df_emissions_gdp_long['Emissions'])\n",
    "\n",
    "print(f\"Correlation between GDP and Emissions: {corr_gdp_emissions}, p-value: {p_value_gdp_emissions}\")"
   ]
  },
  {
   "cell_type": "markdown",
   "metadata": {},
   "source": [
    "The results presented a correlation value of over 0.7, indicating an overall strong correlation between the two variables.  However, while this was true for most countries, but some had minor  or even negative correlation, indicating that even other factors may influence this relationship.\n",
    "\n",
    "The p-value equals to zero indicates that the observed correlation is statistically significant, and it is highly unlikely to be random.\n"
   ]
  }
 ],
 "metadata": {
  "kernelspec": {
   "display_name": "Python 3",
   "language": "python",
   "name": "python3"
  },
  "language_info": {
   "codemirror_mode": {
    "name": "ipython",
    "version": 3
   },
   "file_extension": ".py",
   "mimetype": "text/x-python",
   "name": "python",
   "nbconvert_exporter": "python",
   "pygments_lexer": "ipython3",
   "version": "3.11.2"
  }
 },
 "nbformat": 4,
 "nbformat_minor": 2
}
